{
 "cells": [
  {
   "cell_type": "code",
   "execution_count": 1,
   "id": "9fe3ca86",
   "metadata": {},
   "outputs": [
    {
     "name": "stdout",
     "output_type": "stream",
     "text": [
      "README.md                    lined_up.txt\r\n",
      "abe_simple_naive_bayes.ipynb new_dedup.txt\r\n",
      "\u001b[31mconlleval.pl\u001b[m\u001b[m                 newfile.txt\r\n",
      "exploreNewa.ipynb            tmp.txt\r\n",
      "\u001b[34mfor_ml\u001b[m\u001b[m                       tmp.txt~\r\n",
      "good_length.txt              tmp1.txt\r\n",
      "just_ec.conll                tmp1.txt~\r\n",
      "ki.txt                       total_true_emb\r\n",
      "ki_true.txt\r\n"
     ]
    }
   ],
   "source": [
    "!ls"
   ]
  },
  {
   "cell_type": "code",
   "execution_count": 2,
   "id": "4d74a06c",
   "metadata": {},
   "outputs": [],
   "source": [
    "# read and prepare data by adding sentence beginning and ending tags\n",
    "infilename = \"just_ec.conll\"\n",
    "labeled_tokens = []\n",
    "labeled_tokens.append((\"<S>\", \"O\")) #beginning of sentence marker\n",
    "for line in open(infilename):\n",
    "    try:\n",
    "        tok, lab, _ = line.split(\"\\t\")\n",
    "        labeled_tokens.append((tok, lab))\n",
    "    except ValueError:\n",
    "        labeled_tokens.append((\"</S>\", \"O\")) # end of sentence marker\n",
    "        labeled_tokens.append((\"<S>\", \"O\")) # beginning of sentence marker\n"
   ]
  },
  {
   "cell_type": "code",
   "execution_count": 3,
   "id": "ea546daf",
   "metadata": {},
   "outputs": [
    {
     "data": {
      "text/plain": [
       "[(0, ('(ल्याटिन', 'I-EC')),\n",
       " (1, ('भायः', 'I-EC')),\n",
       " (2, ('नोभेमःगुं)', 'I-EC')),\n",
       " (3, ('धका', 'I-EC')),\n",
       " (4, ('धागु', 'O')),\n",
       " (5, ('खः', 'O')),\n",
       " (6, ('</S>', 'O')),\n",
       " (7, ('<S>', 'O')),\n",
       " (8, ('मुस्मांतय् ', 'B-EC')),\n",
       " (9, ('बाहुल्यता', 'I-EC')),\n",
       " (10, ('दुगु', 'I-EC')),\n",
       " (11, ('नेपालगञ्जय्', 'I-EC')),\n",
       " (12, ('‘मुस्लिम', 'I-EC')),\n",
       " (13, ('विरोधी', 'I-EC')),\n",
       " (14, ('सरकार', 'I-EC')),\n",
       " (15, ('मूर्दावाद', 'I-EC')),\n",
       " (16, ('!’', 'I-EC')),\n",
       " (17, ('धकाः', 'I-EC')),\n",
       " (18, ('च्वयातःगु', 'O')),\n",
       " (19, ('ब्यानर', 'O'))]"
      ]
     },
     "execution_count": 3,
     "metadata": {},
     "output_type": "execute_result"
    }
   ],
   "source": [
    "# find a good place to split \n",
    "list(enumerate(labeled_tokens[3990:4010]))"
   ]
  },
  {
   "cell_type": "code",
   "execution_count": 4,
   "id": "2e8ad690",
   "metadata": {},
   "outputs": [
    {
     "data": {
      "text/plain": [
       "('</S>', 'O')"
      ]
     },
     "execution_count": 4,
     "metadata": {},
     "output_type": "execute_result"
    }
   ],
   "source": [
    "labeled_tokens[3996] # end of a sentence"
   ]
  },
  {
   "cell_type": "code",
   "execution_count": 5,
   "id": "9551eea0",
   "metadata": {},
   "outputs": [],
   "source": [
    "train, test = labeled_tokens[:3997], labeled_tokens[3997:]"
   ]
  },
  {
   "cell_type": "code",
   "execution_count": 6,
   "id": "ac963a05",
   "metadata": {},
   "outputs": [
    {
     "name": "stdout",
     "output_type": "stream",
     "text": [
      "[('</S>', 'O')]\n",
      "('<S>', 'O')\n"
     ]
    }
   ],
   "source": [
    "#check\n",
    "print(train[-1:])\n",
    "print(test[0])"
   ]
  },
  {
   "cell_type": "code",
   "execution_count": 7,
   "id": "3a7f35cb",
   "metadata": {},
   "outputs": [],
   "source": [
    "import nltk"
   ]
  },
  {
   "cell_type": "code",
   "execution_count": 8,
   "id": "c51dbb0f",
   "metadata": {},
   "outputs": [],
   "source": [
    "# cf: https://www.nltk.org/book/ch06.html"
   ]
  },
  {
   "cell_type": "code",
   "execution_count": 9,
   "id": "e80003eb",
   "metadata": {},
   "outputs": [],
   "source": [
    "def featfn_just_word(tok):\n",
    "    \"\"\"just get the word as a feature\"\"\"\n",
    "    return {\"word\": tok}    "
   ]
  },
  {
   "cell_type": "code",
   "execution_count": 10,
   "id": "5d3e5602",
   "metadata": {},
   "outputs": [
    {
     "data": {
      "text/plain": [
       "(3997, 711)"
      ]
     },
     "execution_count": 10,
     "metadata": {},
     "output_type": "execute_result"
    }
   ],
   "source": [
    "trainfeat = [({\"word\": tok}, lab) for (tok, lab) in train]\n",
    "testfeat  = [({\"word\": tok}, lab) for (tok, lab) in test]\n",
    "len(trainfeat), len(testfeat)"
   ]
  },
  {
   "cell_type": "code",
   "execution_count": 11,
   "id": "129bb115",
   "metadata": {},
   "outputs": [],
   "source": [
    "classifier = nltk.NaiveBayesClassifier.train(trainfeat)"
   ]
  },
  {
   "cell_type": "code",
   "execution_count": 12,
   "id": "a4ccbce6",
   "metadata": {},
   "outputs": [
    {
     "data": {
      "text/plain": [
       "{'word': '<S>'}"
      ]
     },
     "execution_count": 12,
     "metadata": {},
     "output_type": "execute_result"
    }
   ],
   "source": [
    "featfn_just_word('<S>')"
   ]
  },
  {
   "cell_type": "code",
   "execution_count": 13,
   "id": "0ea60802",
   "metadata": {},
   "outputs": [
    {
     "data": {
      "text/plain": [
       "'O'"
      ]
     },
     "execution_count": 13,
     "metadata": {},
     "output_type": "execute_result"
    }
   ],
   "source": [
    "classifier.classify(featfn_just_word('<S>'))"
   ]
  },
  {
   "cell_type": "code",
   "execution_count": 14,
   "id": "f17cee8b",
   "metadata": {},
   "outputs": [
    {
     "data": {
      "text/plain": [
       "'I-EC'"
      ]
     },
     "execution_count": 14,
     "metadata": {},
     "output_type": "execute_result"
    }
   ],
   "source": [
    "classifier.classify(featfn_just_word('छगू'))"
   ]
  },
  {
   "cell_type": "code",
   "execution_count": 15,
   "id": "13bc4c2a",
   "metadata": {},
   "outputs": [],
   "source": [
    "# prediction/inference\n",
    "train_pred = list(map(classifier.classify, [tok for tok, lab in trainfeat]))\n",
    "test_pred = list(map(classifier.classify, [tok for tok, lab in testfeat]))"
   ]
  },
  {
   "cell_type": "code",
   "execution_count": 16,
   "id": "52b7dd37",
   "metadata": {},
   "outputs": [],
   "source": [
    "import subprocess\n",
    "import sys"
   ]
  },
  {
   "cell_type": "code",
   "execution_count": 17,
   "id": "a186509e",
   "metadata": {},
   "outputs": [],
   "source": [
    "train_toks, train_true = zip(*train)\n",
    "test_toks, test_true = zip(*test)"
   ]
  },
  {
   "cell_type": "code",
   "execution_count": 18,
   "id": "7bc377a6",
   "metadata": {},
   "outputs": [
    {
     "data": {
      "text/plain": [
       "(('<S>', 'थः ', 'नं', 'छम्ह', 'शक्तिशाली'),\n",
       " ('O', 'B-EC', 'I-EC', 'I-EC', 'I-EC'),\n",
       " ['O', 'O', 'O', 'I-EC', 'I-EC'])"
      ]
     },
     "execution_count": 18,
     "metadata": {},
     "output_type": "execute_result"
    }
   ],
   "source": [
    "train_toks[0:5], train_true[0:5], train_pred[0:5]"
   ]
  },
  {
   "cell_type": "code",
   "execution_count": 19,
   "id": "562cc5af",
   "metadata": {},
   "outputs": [
    {
     "data": {
      "text/plain": [
       "[('<S>', 'O', 'O'),\n",
       " ('थः ', 'B-EC', 'O'),\n",
       " ('नं', 'I-EC', 'O'),\n",
       " ('छम्ह', 'I-EC', 'I-EC'),\n",
       " ('शक्तिशाली', 'I-EC', 'I-EC')]"
      ]
     },
     "execution_count": 19,
     "metadata": {},
     "output_type": "execute_result"
    }
   ],
   "source": [
    "list(zip(train_toks[0:5], train_true[0:5], train_pred[0:5]))"
   ]
  },
  {
   "cell_type": "code",
   "execution_count": 20,
   "id": "ddd58d3a",
   "metadata": {
    "scrolled": true
   },
   "outputs": [
    {
     "name": "stdout",
     "output_type": "stream",
     "text": [
      "<S> O O\n",
      "थः  B-EC O\n",
      "नं I-EC O\n",
      "छम्ह I-EC I-EC\n",
      "शक्तिशाली I-EC I-EC\n"
     ]
    }
   ],
   "source": [
    "for tok, true, pred in zip(train_toks[0:5], train_true[0:5], train_pred[0:5]):\n",
    "    print(tok, true, pred)"
   ]
  },
  {
   "cell_type": "code",
   "execution_count": 21,
   "id": "e64afc46",
   "metadata": {},
   "outputs": [
    {
     "name": "stdout",
     "output_type": "stream",
     "text": [
      "processed 3997 tokens with 168 phrases; found: 572 phrases; correct: 19.\n",
      "accuracy:  84.14%; precision:   3.32%; recall:  11.31%; FB1:   5.14\n",
      "               EC: precision:   3.32%; recall:  11.31%; FB1:   5.14  572\n",
      "\n"
     ]
    }
   ],
   "source": [
    "# 头疼\n",
    "p1 = subprocess.Popen([\"cat\"], stdout=subprocess.PIPE, stdin=subprocess.PIPE)\n",
    "p2 = subprocess.Popen([\"./conlleval.pl\", \"-d\", \"\\t\"], stdin=p1.stdout, stdout=subprocess.PIPE)\n",
    "for tok, true, pred in zip(train_toks, train_true, train_pred):\n",
    "    #print(tok, true, pred, file=p1.stdin, sep=\"\\t\")\n",
    "    p1.stdin.write((\"\\t\".join([tok, true, pred])+\"\\n\").encode(\"utf-8\"))\n",
    "p1.stdout.close()  # Allow p1 to receive a SIGPIPE if p2 exits.\n",
    "p1.stdin.close() # close the input.\n",
    "output = p2.communicate()[0]\n",
    "print(output.decode(\"utf-8\") )\n"
   ]
  },
  {
   "cell_type": "code",
   "execution_count": 22,
   "id": "d88758c0",
   "metadata": {},
   "outputs": [],
   "source": [
    "import re\n",
    "def evaluate(toks, trues, preds):\n",
    "    \"\"\"returns num_tokens, num_phrases, num_found, num_correct, accuracy, precision, recall, fb1\"\"\"\n",
    "    p1 = subprocess.Popen([\"cat\"], stdout=subprocess.PIPE, stdin=subprocess.PIPE)\n",
    "    p2 = subprocess.Popen([\"./conlleval.pl\", \"-d\", \"\\t\"], stdin=p1.stdout, stdout=subprocess.PIPE)\n",
    "    for tok, true, pred in zip(toks, trues, preds):\n",
    "        #print(tok, true, pred, file=p1.stdin, sep=\"\\t\")\n",
    "        p1.stdin.write((\"\\t\".join([tok, true, pred])+\"\\n\").encode(\"utf-8\"))\n",
    "    p1.stdout.close()  # Allow p1 to receive a SIGPIPE if p2 exits.\n",
    "    p1.stdin.close() # close the input.\n",
    "    output = p2.communicate()[0].decode(\"utf-8\")\n",
    "    print(output)\n",
    "    pattern = re.compile(r\"^processed (\\d+) tokens with (\\d+) phrases; found (\\d) phrases; correct: (\\d)\\.\\n*accuracy: (\\d*\\.\\d*)%; precision: +(\\d*\\.*\\d*); +recall: +(\\d*\\.\\d*); *FB1 *(\\d*\\.\\d*)\", \n",
    "                         re.MULTILINE)\n",
    "    pattern = re.compile(r\"processed (\\d+) tokens with (\\d+) phrases; *found: (\\d*) phrases; *correct: (\\d+).\\naccuracy: *(\\d*\\.\\d*)%; *precision: *(\\d*\\.\\d*)%; *recall: +(\\d*\\.\\d*)%; *FB1: *(\\d*\\.\\d*)\", \n",
    "                         re.MULTILINE)\n",
    "    match = re.search(pattern, output)\n",
    "    return match.groups()\n"
   ]
  },
  {
   "cell_type": "code",
   "execution_count": 23,
   "id": "67b385e7",
   "metadata": {},
   "outputs": [
    {
     "name": "stdout",
     "output_type": "stream",
     "text": [
      "processed 3997 tokens with 168 phrases; found: 572 phrases; correct: 19.\n",
      "accuracy:  84.14%; precision:   3.32%; recall:  11.31%; FB1:   5.14\n",
      "               EC: precision:   3.32%; recall:  11.31%; FB1:   5.14  572\n",
      "\n"
     ]
    }
   ],
   "source": [
    "m = evaluate(train_toks, train_true, train_pred)"
   ]
  },
  {
   "cell_type": "code",
   "execution_count": 24,
   "id": "a1fff9e4",
   "metadata": {},
   "outputs": [
    {
     "data": {
      "text/plain": [
       "('3997', '168', '572', '19', '84.14', '3.32', '11.31', '5.14')"
      ]
     },
     "execution_count": 24,
     "metadata": {},
     "output_type": "execute_result"
    }
   ],
   "source": [
    "m"
   ]
  },
  {
   "cell_type": "code",
   "execution_count": 25,
   "id": "5e9b50c2",
   "metadata": {},
   "outputs": [
    {
     "name": "stdout",
     "output_type": "stream",
     "text": [
      "processed 711 tokens with 33 phrases; found: 126 phrases; correct: 0.\n",
      "accuracy:  52.88%; precision:   0.00%; recall:   0.00%; FB1:   0.00\n",
      "               EC: precision:   0.00%; recall:   0.00%; FB1:   0.00  126\n",
      "\n"
     ]
    },
    {
     "data": {
      "text/plain": [
       "('711', '33', '126', '0', '52.88', '0.00', '0.00', '0.00')"
      ]
     },
     "execution_count": 25,
     "metadata": {},
     "output_type": "execute_result"
    }
   ],
   "source": [
    "evaluate(test_toks, test_true, test_pred)"
   ]
  },
  {
   "cell_type": "markdown",
   "id": "4769e5f4",
   "metadata": {},
   "source": [
    "i.e., very bad performance"
   ]
  }
 ],
 "metadata": {
  "kernelspec": {
   "display_name": "Python 3 (ipykernel)",
   "language": "python",
   "name": "python3"
  },
  "language_info": {
   "codemirror_mode": {
    "name": "ipython",
    "version": 3
   },
   "file_extension": ".py",
   "mimetype": "text/x-python",
   "name": "python",
   "nbconvert_exporter": "python",
   "pygments_lexer": "ipython3",
   "version": "3.8.11"
  }
 },
 "nbformat": 4,
 "nbformat_minor": 5
}
