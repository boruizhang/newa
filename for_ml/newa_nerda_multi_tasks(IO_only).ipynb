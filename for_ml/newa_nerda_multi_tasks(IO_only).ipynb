{
  "nbformat": 4,
  "nbformat_minor": 0,
  "metadata": {
    "colab": {
      "name": "newa_nerda_multi-tasks(IO_only).ipynb",
      "provenance": [],
      "collapsed_sections": []
    },
    "kernelspec": {
      "name": "python3",
      "display_name": "Python 3"
    },
    "language_info": {
      "name": "python"
    },
    "accelerator": "GPU"
  },
  "cells": [
    {
      "cell_type": "markdown",
      "metadata": {
        "id": "4OGLJVDRJZRx"
      },
      "source": [
        "4 Labels I, O, I-V, O-V"
      ]
    },
    {
      "cell_type": "code",
      "metadata": {
        "id": "q47fTE12Mdr4",
        "colab": {
          "base_uri": "https://localhost:8080/"
        },
        "outputId": "883d1eee-e34e-445d-e101-bcfb2d6c3617"
      },
      "source": [
        "pip install NERDA"
      ],
      "execution_count": 1,
      "outputs": [
        {
          "output_type": "stream",
          "name": "stdout",
          "text": [
            "Collecting NERDA\n",
            "  Downloading NERDA-1.0.0-py3-none-any.whl (23 kB)\n",
            "Requirement already satisfied: torch in /usr/local/lib/python3.7/dist-packages (from NERDA) (1.9.0+cu111)\n",
            "Collecting transformers\n",
            "  Downloading transformers-4.12.3-py3-none-any.whl (3.1 MB)\n",
            "\u001b[K     |████████████████████████████████| 3.1 MB 6.0 MB/s \n",
            "\u001b[?25hCollecting pyconll\n",
            "  Downloading pyconll-3.1.0-py3-none-any.whl (26 kB)\n",
            "Requirement already satisfied: sklearn in /usr/local/lib/python3.7/dist-packages (from NERDA) (0.0)\n",
            "Requirement already satisfied: nltk in /usr/local/lib/python3.7/dist-packages (from NERDA) (3.2.5)\n",
            "Requirement already satisfied: pandas in /usr/local/lib/python3.7/dist-packages (from NERDA) (1.1.5)\n",
            "Collecting progressbar\n",
            "  Downloading progressbar-2.5.tar.gz (10 kB)\n",
            "Requirement already satisfied: six in /usr/local/lib/python3.7/dist-packages (from nltk->NERDA) (1.15.0)\n",
            "Requirement already satisfied: numpy>=1.15.4 in /usr/local/lib/python3.7/dist-packages (from pandas->NERDA) (1.19.5)\n",
            "Requirement already satisfied: pytz>=2017.2 in /usr/local/lib/python3.7/dist-packages (from pandas->NERDA) (2018.9)\n",
            "Requirement already satisfied: python-dateutil>=2.7.3 in /usr/local/lib/python3.7/dist-packages (from pandas->NERDA) (2.8.2)\n",
            "Requirement already satisfied: scikit-learn in /usr/local/lib/python3.7/dist-packages (from sklearn->NERDA) (0.22.2.post1)\n",
            "Requirement already satisfied: scipy>=0.17.0 in /usr/local/lib/python3.7/dist-packages (from scikit-learn->sklearn->NERDA) (1.4.1)\n",
            "Requirement already satisfied: joblib>=0.11 in /usr/local/lib/python3.7/dist-packages (from scikit-learn->sklearn->NERDA) (1.0.1)\n",
            "Requirement already satisfied: typing-extensions in /usr/local/lib/python3.7/dist-packages (from torch->NERDA) (3.7.4.3)\n",
            "Requirement already satisfied: requests in /usr/local/lib/python3.7/dist-packages (from transformers->NERDA) (2.23.0)\n",
            "Collecting pyyaml>=5.1\n",
            "  Downloading PyYAML-6.0-cp37-cp37m-manylinux_2_5_x86_64.manylinux1_x86_64.manylinux_2_12_x86_64.manylinux2010_x86_64.whl (596 kB)\n",
            "\u001b[K     |████████████████████████████████| 596 kB 44.5 MB/s \n",
            "\u001b[?25hCollecting tokenizers<0.11,>=0.10.1\n",
            "  Downloading tokenizers-0.10.3-cp37-cp37m-manylinux_2_5_x86_64.manylinux1_x86_64.manylinux_2_12_x86_64.manylinux2010_x86_64.whl (3.3 MB)\n",
            "\u001b[K     |████████████████████████████████| 3.3 MB 38.8 MB/s \n",
            "\u001b[?25hRequirement already satisfied: regex!=2019.12.17 in /usr/local/lib/python3.7/dist-packages (from transformers->NERDA) (2019.12.20)\n",
            "Collecting huggingface-hub<1.0,>=0.1.0\n",
            "  Downloading huggingface_hub-0.1.0-py3-none-any.whl (59 kB)\n",
            "\u001b[K     |████████████████████████████████| 59 kB 6.7 MB/s \n",
            "\u001b[?25hRequirement already satisfied: importlib-metadata in /usr/local/lib/python3.7/dist-packages (from transformers->NERDA) (4.8.1)\n",
            "Collecting sacremoses\n",
            "  Downloading sacremoses-0.0.46-py3-none-any.whl (895 kB)\n",
            "\u001b[K     |████████████████████████████████| 895 kB 41.5 MB/s \n",
            "\u001b[?25hRequirement already satisfied: tqdm>=4.27 in /usr/local/lib/python3.7/dist-packages (from transformers->NERDA) (4.62.3)\n",
            "Requirement already satisfied: filelock in /usr/local/lib/python3.7/dist-packages (from transformers->NERDA) (3.3.0)\n",
            "Requirement already satisfied: packaging>=20.0 in /usr/local/lib/python3.7/dist-packages (from transformers->NERDA) (21.0)\n",
            "Requirement already satisfied: pyparsing>=2.0.2 in /usr/local/lib/python3.7/dist-packages (from packaging>=20.0->transformers->NERDA) (2.4.7)\n",
            "Requirement already satisfied: zipp>=0.5 in /usr/local/lib/python3.7/dist-packages (from importlib-metadata->transformers->NERDA) (3.6.0)\n",
            "Requirement already satisfied: certifi>=2017.4.17 in /usr/local/lib/python3.7/dist-packages (from requests->transformers->NERDA) (2021.5.30)\n",
            "Requirement already satisfied: urllib3!=1.25.0,!=1.25.1,<1.26,>=1.21.1 in /usr/local/lib/python3.7/dist-packages (from requests->transformers->NERDA) (1.24.3)\n",
            "Requirement already satisfied: chardet<4,>=3.0.2 in /usr/local/lib/python3.7/dist-packages (from requests->transformers->NERDA) (3.0.4)\n",
            "Requirement already satisfied: idna<3,>=2.5 in /usr/local/lib/python3.7/dist-packages (from requests->transformers->NERDA) (2.10)\n",
            "Requirement already satisfied: click in /usr/local/lib/python3.7/dist-packages (from sacremoses->transformers->NERDA) (7.1.2)\n",
            "Building wheels for collected packages: progressbar\n",
            "  Building wheel for progressbar (setup.py) ... \u001b[?25l\u001b[?25hdone\n",
            "  Created wheel for progressbar: filename=progressbar-2.5-py3-none-any.whl size=12082 sha256=bd7185e60dc9f36074199b6dd1afa21c9e97eecab2d5c0394fc7492f70825363\n",
            "  Stored in directory: /root/.cache/pip/wheels/f0/fd/1f/3e35ed57e94cd8ced38dd46771f1f0f94f65fec548659ed855\n",
            "Successfully built progressbar\n",
            "Installing collected packages: pyyaml, tokenizers, sacremoses, huggingface-hub, transformers, pyconll, progressbar, NERDA\n",
            "  Attempting uninstall: pyyaml\n",
            "    Found existing installation: PyYAML 3.13\n",
            "    Uninstalling PyYAML-3.13:\n",
            "      Successfully uninstalled PyYAML-3.13\n",
            "Successfully installed NERDA-1.0.0 huggingface-hub-0.1.0 progressbar-2.5 pyconll-3.1.0 pyyaml-6.0 sacremoses-0.0.46 tokenizers-0.10.3 transformers-4.12.3\n"
          ]
        }
      ]
    },
    {
      "cell_type": "code",
      "metadata": {
        "id": "Ekchwg5vr-yI"
      },
      "source": [
        "from collections import defaultdict\n",
        "import itertools\n",
        "# import WhitespaceTokenizer() method from nltk\n",
        "from nltk.tokenize import WhitespaceTokenizer\n",
        "# Create a reference variable for Class WhitespaceTokenizer\n",
        "tk = WhitespaceTokenizer()\n",
        "\n",
        "d = defaultdict(list)\n",
        "d['sentences'] = []\n",
        "d['tags'] = []\n",
        "t = defaultdict(list)\n",
        "t['sentences'] = []\n",
        "t['tags'] = []\n",
        "test = defaultdict(list)\n",
        "test['sentences'] = []\n",
        "test['tags'] = []\n"
      ],
      "execution_count": 2,
      "outputs": []
    },
    {
      "cell_type": "code",
      "metadata": {
        "id": "YwxBPJELsEQ4"
      },
      "source": [
        "def nerda_format(data):\n",
        "  ner = defaultdict(list)\n",
        "  for line1,line2 in itertools.zip_longest(*[data]*2):\n",
        "    sents = []\n",
        "    tags = []\n",
        "    tokens = iter(tk.tokenize(line1))\n",
        "    current_tag = \"O\"\n",
        "    for token in tokens:\n",
        "      suffix = \"\"\n",
        "      if token in line2:\n",
        "        suffix = \"-V\" \n",
        "                # Good: even if the verb is complex (aka spaced out),suffix can still apply to the entire phrase\n",
        "                # Bad: false positive -V may occur, if one word that has multiple meanings occurring more than one time in the same sentence \n",
        "      try:\n",
        "        if token == \"[\":\n",
        "          current_tag = \"I\"\n",
        "          tags.append(current_tag+suffix)\n",
        "          sents.append(next(tokens))\n",
        "        elif token == \"]\":\n",
        "          current_tag = \"O\"\n",
        "        else:\n",
        "          tags.append(current_tag+suffix)\n",
        "          sents.append(token)\n",
        "      except StopIteration:\n",
        "        pass\n",
        "    ner['sentences'].append(sents)\n",
        "    ner['tags'].append(tags)\n",
        "  return ner"
      ],
      "execution_count": 3,
      "outputs": []
    },
    {
      "cell_type": "code",
      "metadata": {
        "id": "w1z5K5x7sGu8"
      },
      "source": [
        "with open('dev.txt') as data:\n",
        "    d = nerda_format(data)\n",
        "    #d['sentences'] = ner['sentences']\n",
        "    #d['tags'] = ner['tags']\n",
        "\n",
        "with open('train.txt') as data:\n",
        "    t = nerda_format(data)\n",
        "  #  t['sentences'] = ner['sentences']\n",
        "  #  t['tags'] = ner['tags']\n",
        "\n",
        "with open('test.txt') as data:\n",
        "    test = nerda_format(data)\n",
        "  #  test['sentences'] = ner['sentences']\n",
        "  #  test['tags'] = ner['tags']\n",
        "\n",
        "#print(len(d['sentences']))\n",
        "#print (d['sentences'][1])\n",
        "#print (d['tags'][1])"
      ],
      "execution_count": 5,
      "outputs": []
    },
    {
      "cell_type": "code",
      "metadata": {
        "id": "hP37OlC_1aPA"
      },
      "source": [
        "d_total_O = 0\n",
        "t_total_O = 0\n",
        "test_total_O = 0\n",
        "\n",
        "d_total_I = 0\n",
        "t_total_I = 0\n",
        "test_total_I = 0\n",
        "\n",
        "d_total_B = 0\n",
        "t_total_B = 0\n",
        "test_total_B = 0\n",
        "\n",
        "d_total_BV = 0\n",
        "t_total_BV = 0\n",
        "test_total_BV = 0\n",
        "\n",
        "d_total_OV = 0\n",
        "t_total_OV = 0\n",
        "test_total_OV = 0\n",
        "\n",
        "d_total_IV = 0\n",
        "t_total_IV = 0\n",
        "test_total_IV = 0\n",
        "\n",
        "\n",
        "for elem in d['tags']:\n",
        "  d_total_O += elem.count('O')\n",
        "  d_total_I += elem.count('I')\n",
        "  d_total_B += elem.count('B')\n",
        "  d_total_IV += elem.count('I-V')\n",
        "  d_total_BV += elem.count('B-V')\n",
        "  d_total_OV += elem.count('O-V')\n",
        "\n",
        "for elem in t['tags']:\n",
        "  t_total_O += elem.count('O')\n",
        "  t_total_I += elem.count('I')\n",
        "  t_total_B += elem.count('B')\n",
        "  t_total_IV += elem.count('I-V')\n",
        "  t_total_BV += elem.count('B-V')\n",
        "  t_total_OV += elem.count('O-V')\n",
        "\n",
        "for elem in test['tags']:\n",
        "  test_total_O += elem.count('O')\n",
        "  test_total_I += elem.count('I')\n",
        "  test_total_B += elem.count('B')\n",
        "  test_total_IV += elem.count('I-V')\n",
        "  test_total_BV += elem.count('B-V')\n",
        "  test_total_OV += elem.count('O-V')\n",
        "\n"
      ],
      "execution_count": 6,
      "outputs": []
    },
    {
      "cell_type": "code",
      "metadata": {
        "colab": {
          "base_uri": "https://localhost:8080/"
        },
        "id": "Jv75QRWz4Fjy",
        "outputId": "0188bb2f-fd37-4993-c41a-591783397496"
      },
      "source": [
        "print ('I' + '=' + str(d_total_I + t_total_I + test_total_I))\n",
        "print ('O' + '=' + str(d_total_O + t_total_O + test_total_O))\n",
        "print ('B' + '=' + str(d_total_B + t_total_B + test_total_B))\n",
        "print ('IV' + '=' + str(d_total_IV + t_total_IV + test_total_IV))\n",
        "print ('OV' + '=' + str(d_total_OV + t_total_OV + test_total_OV))\n",
        "print ('BV' + '=' + str(d_total_BV + t_total_BV + test_total_BV))"
      ],
      "execution_count": 7,
      "outputs": [
        {
          "output_type": "stream",
          "name": "stdout",
          "text": [
            "I=2340\n",
            "O=1618\n",
            "B=0\n",
            "IV=200\n",
            "OV=315\n",
            "BV=0\n"
          ]
        }
      ]
    },
    {
      "cell_type": "code",
      "metadata": {
        "id": "D-t5Vpc9MmsB"
      },
      "source": [
        "import NERDA\n",
        "training = t\n",
        "validation = d"
      ],
      "execution_count": 8,
      "outputs": []
    },
    {
      "cell_type": "code",
      "metadata": {
        "colab": {
          "base_uri": "https://localhost:8080/"
        },
        "id": "v8sAUm7342HY",
        "outputId": "6e96bb9a-d851-4797-d867-e00b4a9bddba"
      },
      "source": [
        "print(training.get('sentences')[0])"
      ],
      "execution_count": 9,
      "outputs": [
        {
          "output_type": "stream",
          "name": "stdout",
          "text": [
            "['थः', 'नं', 'छम्ह', 'शक्तिशाली', 'खः', 'धयागु', 'आत्मविश्वास', 'ज्वनाः', 'न्ह्याःवःगु', 'खनेदु']\n"
          ]
        }
      ]
    },
    {
      "cell_type": "code",
      "metadata": {
        "id": "a8LjV-nhODpY"
      },
      "source": [
        "tag_scheme = [\n",
        "'I',\n",
        "'I-V',\n",
        "'O-V'\n",
        "]"
      ],
      "execution_count": 10,
      "outputs": []
    },
    {
      "cell_type": "code",
      "metadata": {
        "colab": {
          "base_uri": "https://localhost:8080/"
        },
        "id": "buEv3oyKOtNO",
        "outputId": "8552fed8-9906-432c-e8a9-8d8b1bb5a66d"
      },
      "source": [
        "from NERDA.models import NERDA\n",
        "model = NERDA(\n",
        "dataset_training = training,\n",
        "dataset_validation = validation,\n",
        "tag_scheme = tag_scheme, \n",
        "tag_outside = 'O',\n",
        "transformer = 'bert-base-multilingual-cased',\n",
        "hyperparameters = {'epochs' : 11,\n",
        "                  'warmup_steps' : 10,\n",
        "                  'train_batch_size': 5,\n",
        "                  'learning_rate': 0.0001})"
      ],
      "execution_count": 17,
      "outputs": [
        {
          "output_type": "stream",
          "name": "stdout",
          "text": [
            "Device automatically set to: cuda\n"
          ]
        },
        {
          "output_type": "stream",
          "name": "stderr",
          "text": [
            "Some weights of the model checkpoint at bert-base-multilingual-cased were not used when initializing BertModel: ['cls.predictions.transform.LayerNorm.bias', 'cls.predictions.decoder.weight', 'cls.seq_relationship.weight', 'cls.seq_relationship.bias', 'cls.predictions.transform.dense.bias', 'cls.predictions.transform.LayerNorm.weight', 'cls.predictions.bias', 'cls.predictions.transform.dense.weight']\n",
            "- This IS expected if you are initializing BertModel from the checkpoint of a model trained on another task or with another architecture (e.g. initializing a BertForSequenceClassification model from a BertForPreTraining model).\n",
            "- This IS NOT expected if you are initializing BertModel from the checkpoint of a model that you expect to be exactly identical (initializing a BertForSequenceClassification model from a BertForSequenceClassification model).\n"
          ]
        }
      ]
    },
    {
      "cell_type": "code",
      "metadata": {
        "colab": {
          "base_uri": "https://localhost:8080/",
          "height": 1000
        },
        "id": "pEIuVpRPbBeZ",
        "outputId": "7c0cd790-8838-4246-9b86-b15dc20a8014"
      },
      "source": [
        "model.train()"
      ],
      "execution_count": 18,
      "outputs": [
        {
          "output_type": "stream",
          "name": "stdout",
          "text": [
            "\n",
            " Epoch 1 / 11\n"
          ]
        },
        {
          "output_type": "stream",
          "name": "stderr",
          "text": [
            "\r  0%|          | 0/31 [00:00<?, ?it/s]/usr/local/lib/python3.7/dist-packages/NERDA/preprocessing.py:80: UserWarning: Sentence #6 length 261 exceeds max_len 128 and has been truncated\n",
            "  warnings.warn(msg)\n",
            "/usr/local/lib/python3.7/dist-packages/NERDA/preprocessing.py:80: UserWarning: Sentence #14 length 152 exceeds max_len 128 and has been truncated\n",
            "  warnings.warn(msg)\n",
            " 23%|██▎       | 7/31 [00:02<00:07,  3.09it/s]/usr/local/lib/python3.7/dist-packages/NERDA/preprocessing.py:80: UserWarning: Sentence #48 length 150 exceeds max_len 128 and has been truncated\n",
            "  warnings.warn(msg)\n",
            "/usr/local/lib/python3.7/dist-packages/NERDA/preprocessing.py:80: UserWarning: Sentence #49 length 130 exceeds max_len 128 and has been truncated\n",
            "  warnings.warn(msg)\n",
            " 26%|██▌       | 8/31 [00:02<00:07,  3.12it/s]/usr/local/lib/python3.7/dist-packages/NERDA/preprocessing.py:80: UserWarning: Sentence #50 length 174 exceeds max_len 128 and has been truncated\n",
            "  warnings.warn(msg)\n",
            "/usr/local/lib/python3.7/dist-packages/NERDA/preprocessing.py:80: UserWarning: Sentence #53 length 233 exceeds max_len 128 and has been truncated\n",
            "  warnings.warn(msg)\n",
            "/usr/local/lib/python3.7/dist-packages/NERDA/preprocessing.py:80: UserWarning: Sentence #54 length 149 exceeds max_len 128 and has been truncated\n",
            "  warnings.warn(msg)\n",
            " 35%|███▌      | 11/31 [00:03<00:06,  3.19it/s]/usr/local/lib/python3.7/dist-packages/NERDA/preprocessing.py:80: UserWarning: Sentence #68 length 132 exceeds max_len 128 and has been truncated\n",
            "  warnings.warn(msg)\n",
            " 42%|████▏     | 13/31 [00:04<00:05,  3.22it/s]/usr/local/lib/python3.7/dist-packages/NERDA/preprocessing.py:80: UserWarning: Sentence #77 length 171 exceeds max_len 128 and has been truncated\n",
            "  warnings.warn(msg)\n",
            " 48%|████▊     | 15/31 [00:04<00:04,  3.24it/s]/usr/local/lib/python3.7/dist-packages/NERDA/preprocessing.py:80: UserWarning: Sentence #87 length 128 exceeds max_len 128 and has been truncated\n",
            "  warnings.warn(msg)\n",
            " 61%|██████▏   | 19/31 [00:06<00:03,  3.24it/s]/usr/local/lib/python3.7/dist-packages/NERDA/preprocessing.py:80: UserWarning: Sentence #107 length 127 exceeds max_len 128 and has been truncated\n",
            "  warnings.warn(msg)\n",
            "100%|██████████| 31/31 [00:09<00:00,  3.16it/s]\n",
            "  0%|          | 0/6 [00:00<?, ?it/s]/usr/local/lib/python3.7/dist-packages/NERDA/preprocessing.py:80: UserWarning: Sentence #6 length 327 exceeds max_len 128 and has been truncated\n",
            "  warnings.warn(msg)\n",
            "/usr/local/lib/python3.7/dist-packages/NERDA/preprocessing.py:80: UserWarning: Sentence #16 length 132 exceeds max_len 128 and has been truncated\n",
            "  warnings.warn(msg)\n",
            "100%|██████████| 6/6 [00:00<00:00,  7.85it/s]\n"
          ]
        },
        {
          "output_type": "stream",
          "name": "stdout",
          "text": [
            "Train Loss = 1.0122878753369855 Valid Loss = 0.957363098859787\n",
            "\n",
            " Epoch 2 / 11\n"
          ]
        },
        {
          "output_type": "stream",
          "name": "stderr",
          "text": [
            "\r  0%|          | 0/31 [00:00<?, ?it/s]/usr/local/lib/python3.7/dist-packages/NERDA/preprocessing.py:80: UserWarning: Sentence #6 length 261 exceeds max_len 128 and has been truncated\n",
            "  warnings.warn(msg)\n",
            "/usr/local/lib/python3.7/dist-packages/NERDA/preprocessing.py:80: UserWarning: Sentence #14 length 152 exceeds max_len 128 and has been truncated\n",
            "  warnings.warn(msg)\n",
            " 23%|██▎       | 7/31 [00:02<00:07,  3.20it/s]/usr/local/lib/python3.7/dist-packages/NERDA/preprocessing.py:80: UserWarning: Sentence #48 length 150 exceeds max_len 128 and has been truncated\n",
            "  warnings.warn(msg)\n",
            "/usr/local/lib/python3.7/dist-packages/NERDA/preprocessing.py:80: UserWarning: Sentence #49 length 130 exceeds max_len 128 and has been truncated\n",
            "  warnings.warn(msg)\n",
            " 26%|██▌       | 8/31 [00:02<00:07,  3.23it/s]/usr/local/lib/python3.7/dist-packages/NERDA/preprocessing.py:80: UserWarning: Sentence #50 length 174 exceeds max_len 128 and has been truncated\n",
            "  warnings.warn(msg)\n",
            "/usr/local/lib/python3.7/dist-packages/NERDA/preprocessing.py:80: UserWarning: Sentence #53 length 233 exceeds max_len 128 and has been truncated\n",
            "  warnings.warn(msg)\n",
            "/usr/local/lib/python3.7/dist-packages/NERDA/preprocessing.py:80: UserWarning: Sentence #54 length 149 exceeds max_len 128 and has been truncated\n",
            "  warnings.warn(msg)\n",
            " 35%|███▌      | 11/31 [00:03<00:06,  3.25it/s]/usr/local/lib/python3.7/dist-packages/NERDA/preprocessing.py:80: UserWarning: Sentence #68 length 132 exceeds max_len 128 and has been truncated\n",
            "  warnings.warn(msg)\n",
            " 42%|████▏     | 13/31 [00:04<00:05,  3.25it/s]/usr/local/lib/python3.7/dist-packages/NERDA/preprocessing.py:80: UserWarning: Sentence #77 length 171 exceeds max_len 128 and has been truncated\n",
            "  warnings.warn(msg)\n",
            " 48%|████▊     | 15/31 [00:04<00:04,  3.23it/s]/usr/local/lib/python3.7/dist-packages/NERDA/preprocessing.py:80: UserWarning: Sentence #87 length 128 exceeds max_len 128 and has been truncated\n",
            "  warnings.warn(msg)\n",
            " 61%|██████▏   | 19/31 [00:05<00:03,  3.22it/s]/usr/local/lib/python3.7/dist-packages/NERDA/preprocessing.py:80: UserWarning: Sentence #107 length 127 exceeds max_len 128 and has been truncated\n",
            "  warnings.warn(msg)\n",
            "100%|██████████| 31/31 [00:09<00:00,  3.20it/s]\n",
            "  0%|          | 0/6 [00:00<?, ?it/s]/usr/local/lib/python3.7/dist-packages/NERDA/preprocessing.py:80: UserWarning: Sentence #6 length 327 exceeds max_len 128 and has been truncated\n",
            "  warnings.warn(msg)\n",
            "/usr/local/lib/python3.7/dist-packages/NERDA/preprocessing.py:80: UserWarning: Sentence #16 length 132 exceeds max_len 128 and has been truncated\n",
            "  warnings.warn(msg)\n",
            "100%|██████████| 6/6 [00:00<00:00,  7.81it/s]\n"
          ]
        },
        {
          "output_type": "stream",
          "name": "stdout",
          "text": [
            "Train Loss = 0.7714221842827336 Valid Loss = 0.9877205590407053\n",
            "\n",
            " Epoch 3 / 11\n"
          ]
        },
        {
          "output_type": "stream",
          "name": "stderr",
          "text": [
            "\r  0%|          | 0/31 [00:00<?, ?it/s]/usr/local/lib/python3.7/dist-packages/NERDA/preprocessing.py:80: UserWarning: Sentence #6 length 261 exceeds max_len 128 and has been truncated\n",
            "  warnings.warn(msg)\n",
            "/usr/local/lib/python3.7/dist-packages/NERDA/preprocessing.py:80: UserWarning: Sentence #14 length 152 exceeds max_len 128 and has been truncated\n",
            "  warnings.warn(msg)\n",
            " 23%|██▎       | 7/31 [00:02<00:07,  3.21it/s]/usr/local/lib/python3.7/dist-packages/NERDA/preprocessing.py:80: UserWarning: Sentence #48 length 150 exceeds max_len 128 and has been truncated\n",
            "  warnings.warn(msg)\n",
            "/usr/local/lib/python3.7/dist-packages/NERDA/preprocessing.py:80: UserWarning: Sentence #49 length 130 exceeds max_len 128 and has been truncated\n",
            "  warnings.warn(msg)\n",
            " 26%|██▌       | 8/31 [00:02<00:07,  3.21it/s]/usr/local/lib/python3.7/dist-packages/NERDA/preprocessing.py:80: UserWarning: Sentence #50 length 174 exceeds max_len 128 and has been truncated\n",
            "  warnings.warn(msg)\n",
            "/usr/local/lib/python3.7/dist-packages/NERDA/preprocessing.py:80: UserWarning: Sentence #53 length 233 exceeds max_len 128 and has been truncated\n",
            "  warnings.warn(msg)\n",
            "/usr/local/lib/python3.7/dist-packages/NERDA/preprocessing.py:80: UserWarning: Sentence #54 length 149 exceeds max_len 128 and has been truncated\n",
            "  warnings.warn(msg)\n",
            " 35%|███▌      | 11/31 [00:03<00:06,  3.24it/s]/usr/local/lib/python3.7/dist-packages/NERDA/preprocessing.py:80: UserWarning: Sentence #68 length 132 exceeds max_len 128 and has been truncated\n",
            "  warnings.warn(msg)\n",
            " 42%|████▏     | 13/31 [00:04<00:05,  3.24it/s]/usr/local/lib/python3.7/dist-packages/NERDA/preprocessing.py:80: UserWarning: Sentence #77 length 171 exceeds max_len 128 and has been truncated\n",
            "  warnings.warn(msg)\n",
            " 48%|████▊     | 15/31 [00:04<00:04,  3.24it/s]/usr/local/lib/python3.7/dist-packages/NERDA/preprocessing.py:80: UserWarning: Sentence #87 length 128 exceeds max_len 128 and has been truncated\n",
            "  warnings.warn(msg)\n",
            " 61%|██████▏   | 19/31 [00:05<00:03,  3.24it/s]/usr/local/lib/python3.7/dist-packages/NERDA/preprocessing.py:80: UserWarning: Sentence #107 length 127 exceeds max_len 128 and has been truncated\n",
            "  warnings.warn(msg)\n",
            "100%|██████████| 31/31 [00:09<00:00,  3.20it/s]\n",
            "  0%|          | 0/6 [00:00<?, ?it/s]/usr/local/lib/python3.7/dist-packages/NERDA/preprocessing.py:80: UserWarning: Sentence #6 length 327 exceeds max_len 128 and has been truncated\n",
            "  warnings.warn(msg)\n",
            "/usr/local/lib/python3.7/dist-packages/NERDA/preprocessing.py:80: UserWarning: Sentence #16 length 132 exceeds max_len 128 and has been truncated\n",
            "  warnings.warn(msg)\n",
            "100%|██████████| 6/6 [00:00<00:00,  7.82it/s]\n"
          ]
        },
        {
          "output_type": "stream",
          "name": "stdout",
          "text": [
            "Train Loss = 0.6164319534455577 Valid Loss = 0.9296784003575643\n",
            "\n",
            " Epoch 4 / 11\n"
          ]
        },
        {
          "output_type": "stream",
          "name": "stderr",
          "text": [
            "\r  0%|          | 0/31 [00:00<?, ?it/s]/usr/local/lib/python3.7/dist-packages/NERDA/preprocessing.py:80: UserWarning: Sentence #6 length 261 exceeds max_len 128 and has been truncated\n",
            "  warnings.warn(msg)\n",
            "/usr/local/lib/python3.7/dist-packages/NERDA/preprocessing.py:80: UserWarning: Sentence #14 length 152 exceeds max_len 128 and has been truncated\n",
            "  warnings.warn(msg)\n",
            " 23%|██▎       | 7/31 [00:02<00:07,  3.19it/s]/usr/local/lib/python3.7/dist-packages/NERDA/preprocessing.py:80: UserWarning: Sentence #48 length 150 exceeds max_len 128 and has been truncated\n",
            "  warnings.warn(msg)\n",
            "/usr/local/lib/python3.7/dist-packages/NERDA/preprocessing.py:80: UserWarning: Sentence #49 length 130 exceeds max_len 128 and has been truncated\n",
            "  warnings.warn(msg)\n",
            " 26%|██▌       | 8/31 [00:02<00:07,  3.20it/s]/usr/local/lib/python3.7/dist-packages/NERDA/preprocessing.py:80: UserWarning: Sentence #50 length 174 exceeds max_len 128 and has been truncated\n",
            "  warnings.warn(msg)\n",
            "/usr/local/lib/python3.7/dist-packages/NERDA/preprocessing.py:80: UserWarning: Sentence #53 length 233 exceeds max_len 128 and has been truncated\n",
            "  warnings.warn(msg)\n",
            "/usr/local/lib/python3.7/dist-packages/NERDA/preprocessing.py:80: UserWarning: Sentence #54 length 149 exceeds max_len 128 and has been truncated\n",
            "  warnings.warn(msg)\n",
            " 35%|███▌      | 11/31 [00:03<00:06,  3.22it/s]/usr/local/lib/python3.7/dist-packages/NERDA/preprocessing.py:80: UserWarning: Sentence #68 length 132 exceeds max_len 128 and has been truncated\n",
            "  warnings.warn(msg)\n",
            " 42%|████▏     | 13/31 [00:04<00:05,  3.22it/s]/usr/local/lib/python3.7/dist-packages/NERDA/preprocessing.py:80: UserWarning: Sentence #77 length 171 exceeds max_len 128 and has been truncated\n",
            "  warnings.warn(msg)\n",
            " 48%|████▊     | 15/31 [00:04<00:04,  3.22it/s]/usr/local/lib/python3.7/dist-packages/NERDA/preprocessing.py:80: UserWarning: Sentence #87 length 128 exceeds max_len 128 and has been truncated\n",
            "  warnings.warn(msg)\n",
            " 61%|██████▏   | 19/31 [00:05<00:03,  3.20it/s]/usr/local/lib/python3.7/dist-packages/NERDA/preprocessing.py:80: UserWarning: Sentence #107 length 127 exceeds max_len 128 and has been truncated\n",
            "  warnings.warn(msg)\n",
            "100%|██████████| 31/31 [00:09<00:00,  3.18it/s]\n",
            "  0%|          | 0/6 [00:00<?, ?it/s]/usr/local/lib/python3.7/dist-packages/NERDA/preprocessing.py:80: UserWarning: Sentence #6 length 327 exceeds max_len 128 and has been truncated\n",
            "  warnings.warn(msg)\n",
            "/usr/local/lib/python3.7/dist-packages/NERDA/preprocessing.py:80: UserWarning: Sentence #16 length 132 exceeds max_len 128 and has been truncated\n",
            "  warnings.warn(msg)\n",
            "100%|██████████| 6/6 [00:00<00:00,  7.61it/s]\n"
          ]
        },
        {
          "output_type": "stream",
          "name": "stdout",
          "text": [
            "Train Loss = 0.5383518487215042 Valid Loss = 0.8488126198450724\n",
            "\n",
            " Epoch 5 / 11\n"
          ]
        },
        {
          "output_type": "stream",
          "name": "stderr",
          "text": [
            "\r  0%|          | 0/31 [00:00<?, ?it/s]/usr/local/lib/python3.7/dist-packages/NERDA/preprocessing.py:80: UserWarning: Sentence #6 length 261 exceeds max_len 128 and has been truncated\n",
            "  warnings.warn(msg)\n",
            "/usr/local/lib/python3.7/dist-packages/NERDA/preprocessing.py:80: UserWarning: Sentence #14 length 152 exceeds max_len 128 and has been truncated\n",
            "  warnings.warn(msg)\n",
            " 23%|██▎       | 7/31 [00:02<00:07,  3.20it/s]/usr/local/lib/python3.7/dist-packages/NERDA/preprocessing.py:80: UserWarning: Sentence #48 length 150 exceeds max_len 128 and has been truncated\n",
            "  warnings.warn(msg)\n",
            "/usr/local/lib/python3.7/dist-packages/NERDA/preprocessing.py:80: UserWarning: Sentence #49 length 130 exceeds max_len 128 and has been truncated\n",
            "  warnings.warn(msg)\n",
            " 26%|██▌       | 8/31 [00:02<00:07,  3.20it/s]/usr/local/lib/python3.7/dist-packages/NERDA/preprocessing.py:80: UserWarning: Sentence #50 length 174 exceeds max_len 128 and has been truncated\n",
            "  warnings.warn(msg)\n",
            "/usr/local/lib/python3.7/dist-packages/NERDA/preprocessing.py:80: UserWarning: Sentence #53 length 233 exceeds max_len 128 and has been truncated\n",
            "  warnings.warn(msg)\n",
            "/usr/local/lib/python3.7/dist-packages/NERDA/preprocessing.py:80: UserWarning: Sentence #54 length 149 exceeds max_len 128 and has been truncated\n",
            "  warnings.warn(msg)\n",
            " 35%|███▌      | 11/31 [00:03<00:06,  3.21it/s]/usr/local/lib/python3.7/dist-packages/NERDA/preprocessing.py:80: UserWarning: Sentence #68 length 132 exceeds max_len 128 and has been truncated\n",
            "  warnings.warn(msg)\n",
            " 42%|████▏     | 13/31 [00:04<00:05,  3.20it/s]/usr/local/lib/python3.7/dist-packages/NERDA/preprocessing.py:80: UserWarning: Sentence #77 length 171 exceeds max_len 128 and has been truncated\n",
            "  warnings.warn(msg)\n",
            " 48%|████▊     | 15/31 [00:04<00:04,  3.20it/s]/usr/local/lib/python3.7/dist-packages/NERDA/preprocessing.py:80: UserWarning: Sentence #87 length 128 exceeds max_len 128 and has been truncated\n",
            "  warnings.warn(msg)\n",
            " 61%|██████▏   | 19/31 [00:06<00:03,  3.21it/s]/usr/local/lib/python3.7/dist-packages/NERDA/preprocessing.py:80: UserWarning: Sentence #107 length 127 exceeds max_len 128 and has been truncated\n",
            "  warnings.warn(msg)\n",
            "100%|██████████| 31/31 [00:09<00:00,  3.18it/s]\n",
            "  0%|          | 0/6 [00:00<?, ?it/s]/usr/local/lib/python3.7/dist-packages/NERDA/preprocessing.py:80: UserWarning: Sentence #6 length 327 exceeds max_len 128 and has been truncated\n",
            "  warnings.warn(msg)\n",
            "/usr/local/lib/python3.7/dist-packages/NERDA/preprocessing.py:80: UserWarning: Sentence #16 length 132 exceeds max_len 128 and has been truncated\n",
            "  warnings.warn(msg)\n",
            "100%|██████████| 6/6 [00:00<00:00,  7.62it/s]\n"
          ]
        },
        {
          "output_type": "stream",
          "name": "stdout",
          "text": [
            "Train Loss = 0.5545749125942108 Valid Loss = 0.9242486308018366\n",
            "\n",
            " Epoch 6 / 11\n"
          ]
        },
        {
          "output_type": "stream",
          "name": "stderr",
          "text": [
            "\r  0%|          | 0/31 [00:00<?, ?it/s]/usr/local/lib/python3.7/dist-packages/NERDA/preprocessing.py:80: UserWarning: Sentence #6 length 261 exceeds max_len 128 and has been truncated\n",
            "  warnings.warn(msg)\n",
            "/usr/local/lib/python3.7/dist-packages/NERDA/preprocessing.py:80: UserWarning: Sentence #14 length 152 exceeds max_len 128 and has been truncated\n",
            "  warnings.warn(msg)\n",
            " 23%|██▎       | 7/31 [00:02<00:07,  3.17it/s]/usr/local/lib/python3.7/dist-packages/NERDA/preprocessing.py:80: UserWarning: Sentence #48 length 150 exceeds max_len 128 and has been truncated\n",
            "  warnings.warn(msg)\n",
            "/usr/local/lib/python3.7/dist-packages/NERDA/preprocessing.py:80: UserWarning: Sentence #49 length 130 exceeds max_len 128 and has been truncated\n",
            "  warnings.warn(msg)\n",
            " 26%|██▌       | 8/31 [00:02<00:07,  3.19it/s]/usr/local/lib/python3.7/dist-packages/NERDA/preprocessing.py:80: UserWarning: Sentence #50 length 174 exceeds max_len 128 and has been truncated\n",
            "  warnings.warn(msg)\n",
            "/usr/local/lib/python3.7/dist-packages/NERDA/preprocessing.py:80: UserWarning: Sentence #53 length 233 exceeds max_len 128 and has been truncated\n",
            "  warnings.warn(msg)\n",
            "/usr/local/lib/python3.7/dist-packages/NERDA/preprocessing.py:80: UserWarning: Sentence #54 length 149 exceeds max_len 128 and has been truncated\n",
            "  warnings.warn(msg)\n",
            " 35%|███▌      | 11/31 [00:03<00:06,  3.21it/s]/usr/local/lib/python3.7/dist-packages/NERDA/preprocessing.py:80: UserWarning: Sentence #68 length 132 exceeds max_len 128 and has been truncated\n",
            "  warnings.warn(msg)\n",
            " 42%|████▏     | 13/31 [00:04<00:05,  3.19it/s]/usr/local/lib/python3.7/dist-packages/NERDA/preprocessing.py:80: UserWarning: Sentence #77 length 171 exceeds max_len 128 and has been truncated\n",
            "  warnings.warn(msg)\n",
            " 48%|████▊     | 15/31 [00:04<00:04,  3.21it/s]/usr/local/lib/python3.7/dist-packages/NERDA/preprocessing.py:80: UserWarning: Sentence #87 length 128 exceeds max_len 128 and has been truncated\n",
            "  warnings.warn(msg)\n",
            " 61%|██████▏   | 19/31 [00:06<00:03,  3.22it/s]/usr/local/lib/python3.7/dist-packages/NERDA/preprocessing.py:80: UserWarning: Sentence #107 length 127 exceeds max_len 128 and has been truncated\n",
            "  warnings.warn(msg)\n",
            "100%|██████████| 31/31 [00:09<00:00,  3.18it/s]\n",
            "  0%|          | 0/6 [00:00<?, ?it/s]/usr/local/lib/python3.7/dist-packages/NERDA/preprocessing.py:80: UserWarning: Sentence #6 length 327 exceeds max_len 128 and has been truncated\n",
            "  warnings.warn(msg)\n",
            "/usr/local/lib/python3.7/dist-packages/NERDA/preprocessing.py:80: UserWarning: Sentence #16 length 132 exceeds max_len 128 and has been truncated\n",
            "  warnings.warn(msg)\n",
            "100%|██████████| 6/6 [00:00<00:00,  7.79it/s]\n"
          ]
        },
        {
          "output_type": "stream",
          "name": "stdout",
          "text": [
            "Train Loss = 0.43598915348129885 Valid Loss = 0.8779244720935822\n",
            "\n",
            " Epoch 7 / 11\n"
          ]
        },
        {
          "output_type": "stream",
          "name": "stderr",
          "text": [
            "\r  0%|          | 0/31 [00:00<?, ?it/s]/usr/local/lib/python3.7/dist-packages/NERDA/preprocessing.py:80: UserWarning: Sentence #6 length 261 exceeds max_len 128 and has been truncated\n",
            "  warnings.warn(msg)\n",
            "/usr/local/lib/python3.7/dist-packages/NERDA/preprocessing.py:80: UserWarning: Sentence #14 length 152 exceeds max_len 128 and has been truncated\n",
            "  warnings.warn(msg)\n",
            " 23%|██▎       | 7/31 [00:02<00:07,  3.16it/s]/usr/local/lib/python3.7/dist-packages/NERDA/preprocessing.py:80: UserWarning: Sentence #48 length 150 exceeds max_len 128 and has been truncated\n",
            "  warnings.warn(msg)\n",
            "/usr/local/lib/python3.7/dist-packages/NERDA/preprocessing.py:80: UserWarning: Sentence #49 length 130 exceeds max_len 128 and has been truncated\n",
            "  warnings.warn(msg)\n",
            " 26%|██▌       | 8/31 [00:02<00:07,  3.19it/s]/usr/local/lib/python3.7/dist-packages/NERDA/preprocessing.py:80: UserWarning: Sentence #50 length 174 exceeds max_len 128 and has been truncated\n",
            "  warnings.warn(msg)\n",
            "/usr/local/lib/python3.7/dist-packages/NERDA/preprocessing.py:80: UserWarning: Sentence #53 length 233 exceeds max_len 128 and has been truncated\n",
            "  warnings.warn(msg)\n",
            "/usr/local/lib/python3.7/dist-packages/NERDA/preprocessing.py:80: UserWarning: Sentence #54 length 149 exceeds max_len 128 and has been truncated\n",
            "  warnings.warn(msg)\n",
            " 35%|███▌      | 11/31 [00:03<00:06,  3.21it/s]/usr/local/lib/python3.7/dist-packages/NERDA/preprocessing.py:80: UserWarning: Sentence #68 length 132 exceeds max_len 128 and has been truncated\n",
            "  warnings.warn(msg)\n",
            " 42%|████▏     | 13/31 [00:04<00:05,  3.22it/s]/usr/local/lib/python3.7/dist-packages/NERDA/preprocessing.py:80: UserWarning: Sentence #77 length 171 exceeds max_len 128 and has been truncated\n",
            "  warnings.warn(msg)\n",
            " 48%|████▊     | 15/31 [00:04<00:04,  3.22it/s]/usr/local/lib/python3.7/dist-packages/NERDA/preprocessing.py:80: UserWarning: Sentence #87 length 128 exceeds max_len 128 and has been truncated\n",
            "  warnings.warn(msg)\n",
            " 61%|██████▏   | 19/31 [00:06<00:03,  3.22it/s]/usr/local/lib/python3.7/dist-packages/NERDA/preprocessing.py:80: UserWarning: Sentence #107 length 127 exceeds max_len 128 and has been truncated\n",
            "  warnings.warn(msg)\n",
            "100%|██████████| 31/31 [00:09<00:00,  3.17it/s]\n",
            "  0%|          | 0/6 [00:00<?, ?it/s]/usr/local/lib/python3.7/dist-packages/NERDA/preprocessing.py:80: UserWarning: Sentence #6 length 327 exceeds max_len 128 and has been truncated\n",
            "  warnings.warn(msg)\n",
            "/usr/local/lib/python3.7/dist-packages/NERDA/preprocessing.py:80: UserWarning: Sentence #16 length 132 exceeds max_len 128 and has been truncated\n",
            "  warnings.warn(msg)\n",
            "100%|██████████| 6/6 [00:00<00:00,  7.49it/s]\n"
          ]
        },
        {
          "output_type": "stream",
          "name": "stdout",
          "text": [
            "Train Loss = 0.33980589960851976 Valid Loss = 0.9573410327235857\n",
            "\n",
            " Epoch 8 / 11\n"
          ]
        },
        {
          "output_type": "stream",
          "name": "stderr",
          "text": [
            "\r  0%|          | 0/31 [00:00<?, ?it/s]/usr/local/lib/python3.7/dist-packages/NERDA/preprocessing.py:80: UserWarning: Sentence #6 length 261 exceeds max_len 128 and has been truncated\n",
            "  warnings.warn(msg)\n",
            "/usr/local/lib/python3.7/dist-packages/NERDA/preprocessing.py:80: UserWarning: Sentence #14 length 152 exceeds max_len 128 and has been truncated\n",
            "  warnings.warn(msg)\n",
            " 23%|██▎       | 7/31 [00:02<00:07,  3.18it/s]/usr/local/lib/python3.7/dist-packages/NERDA/preprocessing.py:80: UserWarning: Sentence #48 length 150 exceeds max_len 128 and has been truncated\n",
            "  warnings.warn(msg)\n",
            "/usr/local/lib/python3.7/dist-packages/NERDA/preprocessing.py:80: UserWarning: Sentence #49 length 130 exceeds max_len 128 and has been truncated\n",
            "  warnings.warn(msg)\n",
            " 26%|██▌       | 8/31 [00:02<00:07,  3.19it/s]/usr/local/lib/python3.7/dist-packages/NERDA/preprocessing.py:80: UserWarning: Sentence #50 length 174 exceeds max_len 128 and has been truncated\n",
            "  warnings.warn(msg)\n",
            "/usr/local/lib/python3.7/dist-packages/NERDA/preprocessing.py:80: UserWarning: Sentence #53 length 233 exceeds max_len 128 and has been truncated\n",
            "  warnings.warn(msg)\n",
            "/usr/local/lib/python3.7/dist-packages/NERDA/preprocessing.py:80: UserWarning: Sentence #54 length 149 exceeds max_len 128 and has been truncated\n",
            "  warnings.warn(msg)\n",
            " 35%|███▌      | 11/31 [00:03<00:06,  3.21it/s]/usr/local/lib/python3.7/dist-packages/NERDA/preprocessing.py:80: UserWarning: Sentence #68 length 132 exceeds max_len 128 and has been truncated\n",
            "  warnings.warn(msg)\n",
            " 42%|████▏     | 13/31 [00:04<00:05,  3.21it/s]/usr/local/lib/python3.7/dist-packages/NERDA/preprocessing.py:80: UserWarning: Sentence #77 length 171 exceeds max_len 128 and has been truncated\n",
            "  warnings.warn(msg)\n",
            " 48%|████▊     | 15/31 [00:04<00:04,  3.21it/s]/usr/local/lib/python3.7/dist-packages/NERDA/preprocessing.py:80: UserWarning: Sentence #87 length 128 exceeds max_len 128 and has been truncated\n",
            "  warnings.warn(msg)\n",
            " 61%|██████▏   | 19/31 [00:06<00:03,  3.21it/s]/usr/local/lib/python3.7/dist-packages/NERDA/preprocessing.py:80: UserWarning: Sentence #107 length 127 exceeds max_len 128 and has been truncated\n",
            "  warnings.warn(msg)\n",
            "100%|██████████| 31/31 [00:09<00:00,  3.17it/s]\n",
            "  0%|          | 0/6 [00:00<?, ?it/s]/usr/local/lib/python3.7/dist-packages/NERDA/preprocessing.py:80: UserWarning: Sentence #6 length 327 exceeds max_len 128 and has been truncated\n",
            "  warnings.warn(msg)\n",
            "/usr/local/lib/python3.7/dist-packages/NERDA/preprocessing.py:80: UserWarning: Sentence #16 length 132 exceeds max_len 128 and has been truncated\n",
            "  warnings.warn(msg)\n",
            "100%|██████████| 6/6 [00:00<00:00,  7.68it/s]\n"
          ]
        },
        {
          "output_type": "stream",
          "name": "stdout",
          "text": [
            "Train Loss = 0.30076053690525795 Valid Loss = 0.9724539667367935\n",
            "\n",
            " Epoch 9 / 11\n"
          ]
        },
        {
          "output_type": "stream",
          "name": "stderr",
          "text": [
            "\r  0%|          | 0/31 [00:00<?, ?it/s]/usr/local/lib/python3.7/dist-packages/NERDA/preprocessing.py:80: UserWarning: Sentence #6 length 261 exceeds max_len 128 and has been truncated\n",
            "  warnings.warn(msg)\n",
            "/usr/local/lib/python3.7/dist-packages/NERDA/preprocessing.py:80: UserWarning: Sentence #14 length 152 exceeds max_len 128 and has been truncated\n",
            "  warnings.warn(msg)\n",
            " 23%|██▎       | 7/31 [00:02<00:07,  3.17it/s]/usr/local/lib/python3.7/dist-packages/NERDA/preprocessing.py:80: UserWarning: Sentence #48 length 150 exceeds max_len 128 and has been truncated\n",
            "  warnings.warn(msg)\n",
            "/usr/local/lib/python3.7/dist-packages/NERDA/preprocessing.py:80: UserWarning: Sentence #49 length 130 exceeds max_len 128 and has been truncated\n",
            "  warnings.warn(msg)\n",
            " 26%|██▌       | 8/31 [00:02<00:07,  3.18it/s]/usr/local/lib/python3.7/dist-packages/NERDA/preprocessing.py:80: UserWarning: Sentence #50 length 174 exceeds max_len 128 and has been truncated\n",
            "  warnings.warn(msg)\n",
            "/usr/local/lib/python3.7/dist-packages/NERDA/preprocessing.py:80: UserWarning: Sentence #53 length 233 exceeds max_len 128 and has been truncated\n",
            "  warnings.warn(msg)\n",
            "/usr/local/lib/python3.7/dist-packages/NERDA/preprocessing.py:80: UserWarning: Sentence #54 length 149 exceeds max_len 128 and has been truncated\n",
            "  warnings.warn(msg)\n",
            " 35%|███▌      | 11/31 [00:03<00:06,  3.21it/s]/usr/local/lib/python3.7/dist-packages/NERDA/preprocessing.py:80: UserWarning: Sentence #68 length 132 exceeds max_len 128 and has been truncated\n",
            "  warnings.warn(msg)\n",
            " 42%|████▏     | 13/31 [00:04<00:05,  3.19it/s]/usr/local/lib/python3.7/dist-packages/NERDA/preprocessing.py:80: UserWarning: Sentence #77 length 171 exceeds max_len 128 and has been truncated\n",
            "  warnings.warn(msg)\n",
            " 48%|████▊     | 15/31 [00:04<00:05,  3.20it/s]/usr/local/lib/python3.7/dist-packages/NERDA/preprocessing.py:80: UserWarning: Sentence #87 length 128 exceeds max_len 128 and has been truncated\n",
            "  warnings.warn(msg)\n",
            " 61%|██████▏   | 19/31 [00:06<00:03,  3.21it/s]/usr/local/lib/python3.7/dist-packages/NERDA/preprocessing.py:80: UserWarning: Sentence #107 length 127 exceeds max_len 128 and has been truncated\n",
            "  warnings.warn(msg)\n",
            "100%|██████████| 31/31 [00:09<00:00,  3.17it/s]\n",
            "  0%|          | 0/6 [00:00<?, ?it/s]/usr/local/lib/python3.7/dist-packages/NERDA/preprocessing.py:80: UserWarning: Sentence #6 length 327 exceeds max_len 128 and has been truncated\n",
            "  warnings.warn(msg)\n",
            "/usr/local/lib/python3.7/dist-packages/NERDA/preprocessing.py:80: UserWarning: Sentence #16 length 132 exceeds max_len 128 and has been truncated\n",
            "  warnings.warn(msg)\n",
            "100%|██████████| 6/6 [00:00<00:00,  7.68it/s]\n"
          ]
        },
        {
          "output_type": "stream",
          "name": "stdout",
          "text": [
            "Train Loss = 0.25781431818200695 Valid Loss = 0.8545503318309784\n",
            "\n",
            " Epoch 10 / 11\n"
          ]
        },
        {
          "output_type": "stream",
          "name": "stderr",
          "text": [
            "\r  0%|          | 0/31 [00:00<?, ?it/s]/usr/local/lib/python3.7/dist-packages/NERDA/preprocessing.py:80: UserWarning: Sentence #6 length 261 exceeds max_len 128 and has been truncated\n",
            "  warnings.warn(msg)\n",
            "/usr/local/lib/python3.7/dist-packages/NERDA/preprocessing.py:80: UserWarning: Sentence #14 length 152 exceeds max_len 128 and has been truncated\n",
            "  warnings.warn(msg)\n",
            " 23%|██▎       | 7/31 [00:02<00:07,  3.17it/s]/usr/local/lib/python3.7/dist-packages/NERDA/preprocessing.py:80: UserWarning: Sentence #48 length 150 exceeds max_len 128 and has been truncated\n",
            "  warnings.warn(msg)\n",
            "/usr/local/lib/python3.7/dist-packages/NERDA/preprocessing.py:80: UserWarning: Sentence #49 length 130 exceeds max_len 128 and has been truncated\n",
            "  warnings.warn(msg)\n",
            " 26%|██▌       | 8/31 [00:02<00:07,  3.16it/s]/usr/local/lib/python3.7/dist-packages/NERDA/preprocessing.py:80: UserWarning: Sentence #50 length 174 exceeds max_len 128 and has been truncated\n",
            "  warnings.warn(msg)\n",
            "/usr/local/lib/python3.7/dist-packages/NERDA/preprocessing.py:80: UserWarning: Sentence #53 length 233 exceeds max_len 128 and has been truncated\n",
            "  warnings.warn(msg)\n",
            "/usr/local/lib/python3.7/dist-packages/NERDA/preprocessing.py:80: UserWarning: Sentence #54 length 149 exceeds max_len 128 and has been truncated\n",
            "  warnings.warn(msg)\n",
            " 35%|███▌      | 11/31 [00:03<00:06,  3.19it/s]/usr/local/lib/python3.7/dist-packages/NERDA/preprocessing.py:80: UserWarning: Sentence #68 length 132 exceeds max_len 128 and has been truncated\n",
            "  warnings.warn(msg)\n",
            " 42%|████▏     | 13/31 [00:04<00:05,  3.21it/s]/usr/local/lib/python3.7/dist-packages/NERDA/preprocessing.py:80: UserWarning: Sentence #77 length 171 exceeds max_len 128 and has been truncated\n",
            "  warnings.warn(msg)\n",
            " 48%|████▊     | 15/31 [00:04<00:04,  3.20it/s]/usr/local/lib/python3.7/dist-packages/NERDA/preprocessing.py:80: UserWarning: Sentence #87 length 128 exceeds max_len 128 and has been truncated\n",
            "  warnings.warn(msg)\n",
            " 61%|██████▏   | 19/31 [00:06<00:03,  3.21it/s]/usr/local/lib/python3.7/dist-packages/NERDA/preprocessing.py:80: UserWarning: Sentence #107 length 127 exceeds max_len 128 and has been truncated\n",
            "  warnings.warn(msg)\n",
            "100%|██████████| 31/31 [00:09<00:00,  3.16it/s]\n",
            "  0%|          | 0/6 [00:00<?, ?it/s]/usr/local/lib/python3.7/dist-packages/NERDA/preprocessing.py:80: UserWarning: Sentence #6 length 327 exceeds max_len 128 and has been truncated\n",
            "  warnings.warn(msg)\n",
            "/usr/local/lib/python3.7/dist-packages/NERDA/preprocessing.py:80: UserWarning: Sentence #16 length 132 exceeds max_len 128 and has been truncated\n",
            "  warnings.warn(msg)\n",
            "100%|██████████| 6/6 [00:00<00:00,  7.61it/s]\n"
          ]
        },
        {
          "output_type": "stream",
          "name": "stdout",
          "text": [
            "Train Loss = 0.20480469409977237 Valid Loss = 0.7716607476274172\n",
            "\n",
            " Epoch 11 / 11\n"
          ]
        },
        {
          "output_type": "stream",
          "name": "stderr",
          "text": [
            "\r  0%|          | 0/31 [00:00<?, ?it/s]/usr/local/lib/python3.7/dist-packages/NERDA/preprocessing.py:80: UserWarning: Sentence #6 length 261 exceeds max_len 128 and has been truncated\n",
            "  warnings.warn(msg)\n",
            "/usr/local/lib/python3.7/dist-packages/NERDA/preprocessing.py:80: UserWarning: Sentence #14 length 152 exceeds max_len 128 and has been truncated\n",
            "  warnings.warn(msg)\n",
            " 23%|██▎       | 7/31 [00:02<00:07,  3.18it/s]/usr/local/lib/python3.7/dist-packages/NERDA/preprocessing.py:80: UserWarning: Sentence #48 length 150 exceeds max_len 128 and has been truncated\n",
            "  warnings.warn(msg)\n",
            "/usr/local/lib/python3.7/dist-packages/NERDA/preprocessing.py:80: UserWarning: Sentence #49 length 130 exceeds max_len 128 and has been truncated\n",
            "  warnings.warn(msg)\n",
            " 26%|██▌       | 8/31 [00:02<00:07,  3.18it/s]/usr/local/lib/python3.7/dist-packages/NERDA/preprocessing.py:80: UserWarning: Sentence #50 length 174 exceeds max_len 128 and has been truncated\n",
            "  warnings.warn(msg)\n",
            "/usr/local/lib/python3.7/dist-packages/NERDA/preprocessing.py:80: UserWarning: Sentence #53 length 233 exceeds max_len 128 and has been truncated\n",
            "  warnings.warn(msg)\n",
            "/usr/local/lib/python3.7/dist-packages/NERDA/preprocessing.py:80: UserWarning: Sentence #54 length 149 exceeds max_len 128 and has been truncated\n",
            "  warnings.warn(msg)\n",
            " 35%|███▌      | 11/31 [00:03<00:06,  3.18it/s]/usr/local/lib/python3.7/dist-packages/NERDA/preprocessing.py:80: UserWarning: Sentence #68 length 132 exceeds max_len 128 and has been truncated\n",
            "  warnings.warn(msg)\n",
            " 42%|████▏     | 13/31 [00:04<00:05,  3.21it/s]/usr/local/lib/python3.7/dist-packages/NERDA/preprocessing.py:80: UserWarning: Sentence #77 length 171 exceeds max_len 128 and has been truncated\n",
            "  warnings.warn(msg)\n",
            " 48%|████▊     | 15/31 [00:04<00:04,  3.21it/s]/usr/local/lib/python3.7/dist-packages/NERDA/preprocessing.py:80: UserWarning: Sentence #87 length 128 exceeds max_len 128 and has been truncated\n",
            "  warnings.warn(msg)\n",
            " 61%|██████▏   | 19/31 [00:06<00:03,  3.21it/s]/usr/local/lib/python3.7/dist-packages/NERDA/preprocessing.py:80: UserWarning: Sentence #107 length 127 exceeds max_len 128 and has been truncated\n",
            "  warnings.warn(msg)\n",
            "100%|██████████| 31/31 [00:09<00:00,  3.17it/s]\n",
            "  0%|          | 0/6 [00:00<?, ?it/s]/usr/local/lib/python3.7/dist-packages/NERDA/preprocessing.py:80: UserWarning: Sentence #6 length 327 exceeds max_len 128 and has been truncated\n",
            "  warnings.warn(msg)\n",
            "/usr/local/lib/python3.7/dist-packages/NERDA/preprocessing.py:80: UserWarning: Sentence #16 length 132 exceeds max_len 128 and has been truncated\n",
            "  warnings.warn(msg)\n",
            "100%|██████████| 6/6 [00:00<00:00,  7.76it/s]"
          ]
        },
        {
          "output_type": "stream",
          "name": "stdout",
          "text": [
            "Train Loss = 0.1946938506537868 Valid Loss = 0.8445955614248911\n"
          ]
        },
        {
          "output_type": "stream",
          "name": "stderr",
          "text": [
            "\n"
          ]
        },
        {
          "output_type": "execute_result",
          "data": {
            "application/vnd.google.colaboratory.intrinsic+json": {
              "type": "string"
            },
            "text/plain": [
              "'Model trained successfully'"
            ]
          },
          "metadata": {},
          "execution_count": 18
        }
      ]
    },
    {
      "cell_type": "code",
      "metadata": {
        "colab": {
          "base_uri": "https://localhost:8080/",
          "height": 204
        },
        "id": "AH93eHbCcda6",
        "outputId": "1373a6d9-10c1-4cb4-f1f6-3d8bc32d5b8c"
      },
      "source": [
        "model.evaluate_performance(test)"
      ],
      "execution_count": 19,
      "outputs": [
        {
          "output_type": "execute_result",
          "data": {
            "text/html": [
              "<div>\n",
              "<style scoped>\n",
              "    .dataframe tbody tr th:only-of-type {\n",
              "        vertical-align: middle;\n",
              "    }\n",
              "\n",
              "    .dataframe tbody tr th {\n",
              "        vertical-align: top;\n",
              "    }\n",
              "\n",
              "    .dataframe thead th {\n",
              "        text-align: right;\n",
              "    }\n",
              "</style>\n",
              "<table border=\"1\" class=\"dataframe\">\n",
              "  <thead>\n",
              "    <tr style=\"text-align: right;\">\n",
              "      <th></th>\n",
              "      <th>Level</th>\n",
              "      <th>F1-Score</th>\n",
              "      <th>Precision</th>\n",
              "      <th>Recall</th>\n",
              "    </tr>\n",
              "  </thead>\n",
              "  <tbody>\n",
              "    <tr>\n",
              "      <th>0</th>\n",
              "      <td>I</td>\n",
              "      <td>0.929078</td>\n",
              "      <td>0.885135</td>\n",
              "      <td>0.977612</td>\n",
              "    </tr>\n",
              "    <tr>\n",
              "      <th>1</th>\n",
              "      <td>I-V</td>\n",
              "      <td>0.620690</td>\n",
              "      <td>0.692308</td>\n",
              "      <td>0.562500</td>\n",
              "    </tr>\n",
              "    <tr>\n",
              "      <th>2</th>\n",
              "      <td>O-V</td>\n",
              "      <td>0.476190</td>\n",
              "      <td>0.384615</td>\n",
              "      <td>0.625000</td>\n",
              "    </tr>\n",
              "    <tr>\n",
              "      <th>0</th>\n",
              "      <td>AVG_MICRO</td>\n",
              "      <td>0.849858</td>\n",
              "      <td>NaN</td>\n",
              "      <td>NaN</td>\n",
              "    </tr>\n",
              "    <tr>\n",
              "      <th>0</th>\n",
              "      <td>AVG_MICRO</td>\n",
              "      <td>0.675319</td>\n",
              "      <td>NaN</td>\n",
              "      <td>NaN</td>\n",
              "    </tr>\n",
              "  </tbody>\n",
              "</table>\n",
              "</div>"
            ],
            "text/plain": [
              "       Level  F1-Score  Precision    Recall\n",
              "0          I  0.929078   0.885135  0.977612\n",
              "1        I-V  0.620690   0.692308  0.562500\n",
              "2        O-V  0.476190   0.384615  0.625000\n",
              "0  AVG_MICRO  0.849858        NaN       NaN\n",
              "0  AVG_MICRO  0.675319        NaN       NaN"
            ]
          },
          "metadata": {},
          "execution_count": 19
        }
      ]
    },
    {
      "cell_type": "code",
      "metadata": {
        "colab": {
          "base_uri": "https://localhost:8080/"
        },
        "id": "07SWyztJOYmb",
        "outputId": "f9c6c971-4aad-4c53-b2f4-7c83cbe995ad"
      },
      "source": [
        "#text= [['अझ', 'वृहद', 'कथं', 'धायेगु', 'खःसा', 'थ्व', 'विज्ञान', 'ब्रह्माण्ड', 'गथे', 'सनाच्वंगु', 'दु', 'धका', 'स्वयेत','याइगु', 'प्रकृतिया', 'साधारण', 'एनालाइसिस', 'ख']]\n",
        "print(model.predict([test['sentences'][1]]))\n",
        "print(test['tags'][1])"
      ],
      "execution_count": 20,
      "outputs": [
        {
          "output_type": "stream",
          "name": "stdout",
          "text": [
            "[['I', 'I', 'I', 'I-V', 'I', 'I', 'I', 'I', 'I', 'I-V', 'I', 'I', 'O-V', 'O', 'O', 'O', 'O', 'O', 'O', 'O', 'O', 'O', 'O']]\n",
            "['I', 'I', 'I', 'I', 'I', 'I-V', 'I', 'I', 'I-V', 'I-V', 'I', 'I', 'O-V', 'O', 'O', 'O', 'O', 'O', 'O', 'O', 'O-V', 'O-V', 'O']\n"
          ]
        }
      ]
    },
    {
      "cell_type": "code",
      "metadata": {
        "colab": {
          "base_uri": "https://localhost:8080/"
        },
        "id": "YFMw-ow35a7i",
        "outputId": "2cb9fec1-1d15-46fe-e1ad-130b79747e26"
      },
      "source": [
        "## Getting the confusion matrices for every test sentence\n",
        "\n",
        "from sklearn.metrics import confusion_matrix\n",
        "y_true = test['tags']\n",
        "for n in range (len(test['tags'])):\n",
        "  y_pred = []\n",
        "  y_pred = model.predict([test['sentences'][n]])[0]\n",
        "  #print(y_true[n])\n",
        "  #print(y_pred)\n",
        "  print(confusion_matrix(y_true[n], y_pred, labels=[\"I\", \"O\",\"I-V\",\"O-V\"]))"
      ],
      "execution_count": 21,
      "outputs": [
        {
          "output_type": "stream",
          "name": "stdout",
          "text": [
            "[[ 3  0  1  0]\n",
            " [ 7 13  0  0]\n",
            " [ 1  0  0  0]\n",
            " [ 0  0  1  0]]\n",
            "[[8 0 1 0]\n",
            " [0 8 0 0]\n",
            " [2 0 1 0]\n",
            " [0 2 0 1]]\n",
            "[[7 0 0 0]\n",
            " [0 0 0 1]\n",
            " [2 0 0 0]\n",
            " [0 0 0 1]]\n",
            "[[9 0 0 0]\n",
            " [0 7 0 3]\n",
            " [0 0 2 0]\n",
            " [0 1 0 0]]\n",
            "[[14  0  0  0]\n",
            " [ 0 12  0  2]\n",
            " [ 0  0  1  0]\n",
            " [ 0  2  0  0]]\n",
            "[[5 0 0 0]\n",
            " [3 0 0 1]\n",
            " [1 0 0 0]\n",
            " [0 0 0 1]]\n",
            "[[6 0 0 0]\n",
            " [0 5 0 2]\n",
            " [0 0 1 0]\n",
            " [0 0 0 2]]\n",
            "[[10  0  0  0]\n",
            " [ 0  0  0  1]\n",
            " [ 0  0  1  0]\n",
            " [ 0  0  0  1]]\n",
            "[[14  0  0  0]\n",
            " [ 0  3  0  1]\n",
            " [ 1  0  0  0]\n",
            " [ 0  0  0  2]]\n",
            "[[10  0  0  0]\n",
            " [ 0  0  0  1]\n",
            " [ 0  0  0  0]\n",
            " [ 0  0  0  1]]\n",
            "[[15  0  1  0]\n",
            " [ 0  0  0  1]\n",
            " [ 0  0  0  0]\n",
            " [ 0  0  0  1]]\n",
            "[[21  0  0  0]\n",
            " [ 0  0  0  0]\n",
            " [ 0  0  2  0]\n",
            " [ 0  0  0  0]]\n",
            "[[9 0 0 0]\n",
            " [0 2 0 3]\n",
            " [0 0 1 0]\n",
            " [0 0 0 0]]\n"
          ]
        }
      ]
    },
    {
      "cell_type": "code",
      "metadata": {
        "colab": {
          "base_uri": "https://localhost:8080/"
        },
        "id": "-eBbvVucJ8Dv",
        "outputId": "a30d4ab3-86f2-4da8-ad2e-0d07eca538b5"
      },
      "source": [
        "# Sum up the 6by6 confusion matrix result in every test sentence\n",
        "import numpy as np\n",
        "from sklearn.metrics import confusion_matrix\n",
        "y_true = test['tags']\n",
        "d = np.zeros((4,4))\n",
        "for n in range (len(test['tags'])):\n",
        "  y_pred = []\n",
        "  y_pred = model.predict([test['sentences'][n]])[0]\n",
        "  #print(y_true[n])\n",
        "  #print(y_pred)\n",
        "  d += confusion_matrix(y_true[n], y_pred, labels=[\"I\", \"O\",\"I-V\",\"O-V\"])\n",
        "print(d)"
      ],
      "execution_count": 22,
      "outputs": [
        {
          "output_type": "stream",
          "name": "stdout",
          "text": [
            "[[131.   0.   3.   0.]\n",
            " [ 10.  50.   0.  16.]\n",
            " [  7.   0.   9.   0.]\n",
            " [  0.   5.   1.  10.]]\n"
          ]
        }
      ]
    }
  ]
}