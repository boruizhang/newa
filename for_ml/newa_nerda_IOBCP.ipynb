{
  "nbformat": 4,
  "nbformat_minor": 0,
  "metadata": {
    "colab": {
      "name": "newa_nerda_IOBCP.ipynb",
      "provenance": [],
      "collapsed_sections": []
    },
    "kernelspec": {
      "name": "python3",
      "display_name": "Python 3"
    },
    "language_info": {
      "name": "python"
    },
    "accelerator": "GPU"
  },
  "cells": [
    {
      "cell_type": "markdown",
      "metadata": {
        "id": "qy71dBRrJjqR"
      },
      "source": [
        "3 Labels I, O, B (for CPs)"
      ]
    },
    {
      "cell_type": "code",
      "metadata": {
        "id": "q47fTE12Mdr4",
        "colab": {
          "base_uri": "https://localhost:8080/"
        },
        "outputId": "5ec0cd8e-6d1d-4a79-fe0f-361b865b37b0"
      },
      "source": [
        "pip install NERDA"
      ],
      "execution_count": 2,
      "outputs": [
        {
          "output_type": "stream",
          "name": "stdout",
          "text": [
            "Requirement already satisfied: NERDA in /usr/local/lib/python3.7/dist-packages (1.0.0)\n",
            "Requirement already satisfied: sklearn in /usr/local/lib/python3.7/dist-packages (from NERDA) (0.0)\n",
            "Requirement already satisfied: pandas in /usr/local/lib/python3.7/dist-packages (from NERDA) (1.1.5)\n",
            "Requirement already satisfied: progressbar in /usr/local/lib/python3.7/dist-packages (from NERDA) (2.5)\n",
            "Requirement already satisfied: nltk in /usr/local/lib/python3.7/dist-packages (from NERDA) (3.2.5)\n",
            "Requirement already satisfied: pyconll in /usr/local/lib/python3.7/dist-packages (from NERDA) (3.1.0)\n",
            "Requirement already satisfied: torch in /usr/local/lib/python3.7/dist-packages (from NERDA) (1.9.0+cu111)\n",
            "Requirement already satisfied: transformers in /usr/local/lib/python3.7/dist-packages (from NERDA) (4.12.3)\n",
            "Requirement already satisfied: six in /usr/local/lib/python3.7/dist-packages (from nltk->NERDA) (1.15.0)\n",
            "Requirement already satisfied: numpy>=1.15.4 in /usr/local/lib/python3.7/dist-packages (from pandas->NERDA) (1.19.5)\n",
            "Requirement already satisfied: python-dateutil>=2.7.3 in /usr/local/lib/python3.7/dist-packages (from pandas->NERDA) (2.8.2)\n",
            "Requirement already satisfied: pytz>=2017.2 in /usr/local/lib/python3.7/dist-packages (from pandas->NERDA) (2018.9)\n",
            "Requirement already satisfied: scikit-learn in /usr/local/lib/python3.7/dist-packages (from sklearn->NERDA) (0.22.2.post1)\n",
            "Requirement already satisfied: scipy>=0.17.0 in /usr/local/lib/python3.7/dist-packages (from scikit-learn->sklearn->NERDA) (1.4.1)\n",
            "Requirement already satisfied: joblib>=0.11 in /usr/local/lib/python3.7/dist-packages (from scikit-learn->sklearn->NERDA) (1.0.1)\n",
            "Requirement already satisfied: typing-extensions in /usr/local/lib/python3.7/dist-packages (from torch->NERDA) (3.7.4.3)\n",
            "Requirement already satisfied: filelock in /usr/local/lib/python3.7/dist-packages (from transformers->NERDA) (3.3.0)\n",
            "Requirement already satisfied: huggingface-hub<1.0,>=0.1.0 in /usr/local/lib/python3.7/dist-packages (from transformers->NERDA) (0.1.0)\n",
            "Requirement already satisfied: regex!=2019.12.17 in /usr/local/lib/python3.7/dist-packages (from transformers->NERDA) (2019.12.20)\n",
            "Requirement already satisfied: requests in /usr/local/lib/python3.7/dist-packages (from transformers->NERDA) (2.23.0)\n",
            "Requirement already satisfied: tokenizers<0.11,>=0.10.1 in /usr/local/lib/python3.7/dist-packages (from transformers->NERDA) (0.10.3)\n",
            "Requirement already satisfied: sacremoses in /usr/local/lib/python3.7/dist-packages (from transformers->NERDA) (0.0.46)\n",
            "Requirement already satisfied: tqdm>=4.27 in /usr/local/lib/python3.7/dist-packages (from transformers->NERDA) (4.62.3)\n",
            "Requirement already satisfied: importlib-metadata in /usr/local/lib/python3.7/dist-packages (from transformers->NERDA) (4.8.1)\n",
            "Requirement already satisfied: pyyaml>=5.1 in /usr/local/lib/python3.7/dist-packages (from transformers->NERDA) (6.0)\n",
            "Requirement already satisfied: packaging>=20.0 in /usr/local/lib/python3.7/dist-packages (from transformers->NERDA) (21.0)\n",
            "Requirement already satisfied: pyparsing>=2.0.2 in /usr/local/lib/python3.7/dist-packages (from packaging>=20.0->transformers->NERDA) (2.4.7)\n",
            "Requirement already satisfied: zipp>=0.5 in /usr/local/lib/python3.7/dist-packages (from importlib-metadata->transformers->NERDA) (3.6.0)\n",
            "Requirement already satisfied: urllib3!=1.25.0,!=1.25.1,<1.26,>=1.21.1 in /usr/local/lib/python3.7/dist-packages (from requests->transformers->NERDA) (1.24.3)\n",
            "Requirement already satisfied: certifi>=2017.4.17 in /usr/local/lib/python3.7/dist-packages (from requests->transformers->NERDA) (2021.5.30)\n",
            "Requirement already satisfied: idna<3,>=2.5 in /usr/local/lib/python3.7/dist-packages (from requests->transformers->NERDA) (2.10)\n",
            "Requirement already satisfied: chardet<4,>=3.0.2 in /usr/local/lib/python3.7/dist-packages (from requests->transformers->NERDA) (3.0.4)\n",
            "Requirement already satisfied: click in /usr/local/lib/python3.7/dist-packages (from sacremoses->transformers->NERDA) (7.1.2)\n"
          ]
        }
      ]
    },
    {
      "cell_type": "code",
      "metadata": {
        "id": "Ekchwg5vr-yI"
      },
      "source": [
        "from collections import defaultdict\n",
        "import itertools\n",
        "# import WhitespaceTokenizer() method from nltk\n",
        "from nltk.tokenize import WhitespaceTokenizer\n",
        "# Create a reference variable for Class WhitespaceTokenizer\n",
        "tk = WhitespaceTokenizer()\n",
        "\n",
        "d = defaultdict(list)\n",
        "d['sentences'] = []\n",
        "d['tags'] = []\n",
        "t = defaultdict(list)\n",
        "t['sentences'] = []\n",
        "t['tags'] = []\n",
        "test = defaultdict(list)\n",
        "test['sentences'] = []\n",
        "test['tags'] = []\n"
      ],
      "execution_count": 3,
      "outputs": []
    },
    {
      "cell_type": "code",
      "metadata": {
        "id": "YwxBPJELsEQ4"
      },
      "source": [
        "def nerda_format(data):\n",
        "  ner = defaultdict(list)\n",
        "  for line1,line2 in itertools.zip_longest(*[data]*2):\n",
        "    sents = []\n",
        "    tags = []\n",
        "    tokens = iter(tk.tokenize(line1))\n",
        "    current_tag = \"O\"\n",
        "    for token in tokens:\n",
        "      try:\n",
        "        if token == \"[\":\n",
        "          current_tag = \"I\"\n",
        "          tags.append(\"B\")\n",
        "          sents.append(next(tokens))\n",
        "        elif token == \"]\":\n",
        "          current_tag = \"O\"\n",
        "        else:\n",
        "          tags.append(current_tag)\n",
        "          sents.append(token)\n",
        "      except StopIteration:\n",
        "        pass\n",
        "    ner['sentences'].append(sents)\n",
        "    ner['tags'].append(tags)\n",
        "  return ner"
      ],
      "execution_count": 4,
      "outputs": []
    },
    {
      "cell_type": "code",
      "metadata": {
        "id": "w1z5K5x7sGu8"
      },
      "source": [
        "with open('dev.txt') as data:\n",
        "    d = nerda_format(data)\n",
        "    #d['sentences'] = ner['sentences']\n",
        "    #d['tags'] = ner['tags']\n",
        "\n",
        "with open('train.txt') as data:\n",
        "    t = nerda_format(data)\n",
        "  #  t['sentences'] = ner['sentences']\n",
        "  #  t['tags'] = ner['tags']\n",
        "\n",
        "with open('test.txt') as data:\n",
        "    test = nerda_format(data)\n",
        "  #  test['sentences'] = ner['sentences']\n",
        "  #  test['tags'] = ner['tags']\n",
        "\n",
        "#print(len(d['sentences']))\n",
        "#print (d['sentences'][1])\n",
        "#print (d['tags'][1])"
      ],
      "execution_count": 6,
      "outputs": []
    },
    {
      "cell_type": "code",
      "metadata": {
        "id": "hP37OlC_1aPA"
      },
      "source": [
        "d_total_O = 0\n",
        "t_total_O = 0\n",
        "test_total_O = 0\n",
        "\n",
        "d_total_I = 0\n",
        "t_total_I = 0\n",
        "test_total_I = 0\n",
        "\n",
        "d_total_B = 0\n",
        "t_total_B = 0\n",
        "test_total_B = 0\n",
        "\n",
        "d_total_BV = 0\n",
        "t_total_BV = 0\n",
        "test_total_BV = 0\n",
        "\n",
        "d_total_OV = 0\n",
        "t_total_OV = 0\n",
        "test_total_OV = 0\n",
        "\n",
        "d_total_IV = 0\n",
        "t_total_IV = 0\n",
        "test_total_IV = 0\n",
        "\n",
        "\n",
        "for elem in d['tags']:\n",
        "  d_total_O += elem.count('O')\n",
        "  d_total_I += elem.count('I')\n",
        "  d_total_B += elem.count('B')\n",
        "  d_total_IV += elem.count('I-V')\n",
        "  d_total_BV += elem.count('B-V')\n",
        "  d_total_OV += elem.count('O-V')\n",
        "\n",
        "for elem in t['tags']:\n",
        "  t_total_O += elem.count('O')\n",
        "  t_total_I += elem.count('I')\n",
        "  t_total_B += elem.count('B')\n",
        "  t_total_IV += elem.count('I-V')\n",
        "  t_total_BV += elem.count('B-V')\n",
        "  t_total_OV += elem.count('O-V')\n",
        "\n",
        "for elem in test['tags']:\n",
        "  test_total_O += elem.count('O')\n",
        "  test_total_I += elem.count('I')\n",
        "  test_total_B += elem.count('B')\n",
        "  test_total_IV += elem.count('I-V')\n",
        "  test_total_BV += elem.count('B-V')\n",
        "  test_total_OV += elem.count('O-V')\n",
        "\n"
      ],
      "execution_count": 9,
      "outputs": []
    },
    {
      "cell_type": "code",
      "metadata": {
        "colab": {
          "base_uri": "https://localhost:8080/"
        },
        "id": "Jv75QRWz4Fjy",
        "outputId": "c822690e-2b74-473e-842c-37e5b0c137b3"
      },
      "source": [
        "print ('I' + '=' + str(d_total_I + t_total_I + test_total_I))\n",
        "print ('O' + '=' + str(d_total_O + t_total_O + test_total_O))\n",
        "print ('B' + '=' + str(d_total_B + t_total_B + test_total_B))\n",
        "print ('IV' + '=' + str(d_total_IV + t_total_IV + test_total_IV))\n",
        "print ('OV' + '=' + str(d_total_OV + t_total_OV + test_total_OV))\n",
        "print ('BV' + '=' + str(d_total_BV + t_total_BV + test_total_BV))"
      ],
      "execution_count": 10,
      "outputs": [
        {
          "output_type": "stream",
          "name": "stdout",
          "text": [
            "I=2332\n",
            "O=1933\n",
            "B=208\n",
            "IV=0\n",
            "OV=0\n",
            "BV=0\n"
          ]
        }
      ]
    },
    {
      "cell_type": "code",
      "metadata": {
        "id": "D-t5Vpc9MmsB"
      },
      "source": [
        "import NERDA\n",
        "training = t\n",
        "validation = d"
      ],
      "execution_count": 11,
      "outputs": []
    },
    {
      "cell_type": "code",
      "metadata": {
        "colab": {
          "base_uri": "https://localhost:8080/"
        },
        "id": "v8sAUm7342HY",
        "outputId": "4229b87d-8ee3-4e82-9136-745b11639154"
      },
      "source": [
        "print(training.get('sentences')[0])"
      ],
      "execution_count": 12,
      "outputs": [
        {
          "output_type": "stream",
          "name": "stdout",
          "text": [
            "['थः', 'नं', 'छम्ह', 'शक्तिशाली', 'खः', 'धयागु', 'आत्मविश्वास', 'ज्वनाः', 'न्ह्याःवःगु', 'खनेदु']\n"
          ]
        }
      ]
    },
    {
      "cell_type": "code",
      "metadata": {
        "id": "a8LjV-nhODpY"
      },
      "source": [
        "tag_scheme = [\n",
        "'I',\n",
        "'B'\n",
        "]"
      ],
      "execution_count": 16,
      "outputs": []
    },
    {
      "cell_type": "code",
      "metadata": {
        "colab": {
          "base_uri": "https://localhost:8080/"
        },
        "id": "buEv3oyKOtNO",
        "outputId": "c924ae2a-06ab-43cd-d428-454dccbbb92a"
      },
      "source": [
        "from NERDA.models import NERDA\n",
        "model = NERDA(\n",
        "dataset_training = training,\n",
        "dataset_validation = validation,\n",
        "tag_scheme = tag_scheme, \n",
        "tag_outside = 'O',\n",
        "transformer = 'bert-base-multilingual-cased',\n",
        "hyperparameters = {'epochs' : 11,\n",
        "                  'warmup_steps' : 10,\n",
        "                  'train_batch_size': 7,\n",
        "                  'learning_rate': 0.0001})"
      ],
      "execution_count": 17,
      "outputs": [
        {
          "output_type": "stream",
          "name": "stdout",
          "text": [
            "Device automatically set to: cuda\n"
          ]
        },
        {
          "output_type": "stream",
          "name": "stderr",
          "text": [
            "Some weights of the model checkpoint at bert-base-multilingual-cased were not used when initializing BertModel: ['cls.predictions.decoder.weight', 'cls.predictions.transform.LayerNorm.bias', 'cls.predictions.transform.dense.bias', 'cls.predictions.transform.LayerNorm.weight', 'cls.predictions.transform.dense.weight', 'cls.predictions.bias', 'cls.seq_relationship.bias', 'cls.seq_relationship.weight']\n",
            "- This IS expected if you are initializing BertModel from the checkpoint of a model trained on another task or with another architecture (e.g. initializing a BertForSequenceClassification model from a BertForPreTraining model).\n",
            "- This IS NOT expected if you are initializing BertModel from the checkpoint of a model that you expect to be exactly identical (initializing a BertForSequenceClassification model from a BertForSequenceClassification model).\n"
          ]
        }
      ]
    },
    {
      "cell_type": "code",
      "metadata": {
        "colab": {
          "base_uri": "https://localhost:8080/",
          "height": 1000
        },
        "id": "pEIuVpRPbBeZ",
        "outputId": "455332d5-8c7a-4530-bc7a-ab8eda2bfa4d"
      },
      "source": [
        "model.train()"
      ],
      "execution_count": 18,
      "outputs": [
        {
          "output_type": "stream",
          "name": "stdout",
          "text": [
            "\n",
            " Epoch 1 / 11\n"
          ]
        },
        {
          "output_type": "stream",
          "name": "stderr",
          "text": [
            "\r  0%|          | 0/22 [00:00<?, ?it/s]/usr/local/lib/python3.7/dist-packages/NERDA/preprocessing.py:80: UserWarning: Sentence #6 length 261 exceeds max_len 128 and has been truncated\n",
            "  warnings.warn(msg)\n",
            "/usr/local/lib/python3.7/dist-packages/NERDA/preprocessing.py:80: UserWarning: Sentence #14 length 152 exceeds max_len 128 and has been truncated\n",
            "  warnings.warn(msg)\n",
            " 18%|█▊        | 4/22 [00:02<00:08,  2.17it/s]/usr/local/lib/python3.7/dist-packages/NERDA/preprocessing.py:80: UserWarning: Sentence #48 length 150 exceeds max_len 128 and has been truncated\n",
            "  warnings.warn(msg)\n",
            " 23%|██▎       | 5/22 [00:02<00:07,  2.28it/s]/usr/local/lib/python3.7/dist-packages/NERDA/preprocessing.py:80: UserWarning: Sentence #49 length 130 exceeds max_len 128 and has been truncated\n",
            "  warnings.warn(msg)\n",
            "/usr/local/lib/python3.7/dist-packages/NERDA/preprocessing.py:80: UserWarning: Sentence #50 length 174 exceeds max_len 128 and has been truncated\n",
            "  warnings.warn(msg)\n",
            "/usr/local/lib/python3.7/dist-packages/NERDA/preprocessing.py:80: UserWarning: Sentence #53 length 233 exceeds max_len 128 and has been truncated\n",
            "  warnings.warn(msg)\n",
            "/usr/local/lib/python3.7/dist-packages/NERDA/preprocessing.py:80: UserWarning: Sentence #54 length 149 exceeds max_len 128 and has been truncated\n",
            "  warnings.warn(msg)\n",
            " 32%|███▏      | 7/22 [00:03<00:06,  2.36it/s]/usr/local/lib/python3.7/dist-packages/NERDA/preprocessing.py:80: UserWarning: Sentence #68 length 132 exceeds max_len 128 and has been truncated\n",
            "  warnings.warn(msg)\n",
            " 41%|████      | 9/22 [00:04<00:05,  2.40it/s]/usr/local/lib/python3.7/dist-packages/NERDA/preprocessing.py:80: UserWarning: Sentence #77 length 171 exceeds max_len 128 and has been truncated\n",
            "  warnings.warn(msg)\n",
            " 45%|████▌     | 10/22 [00:04<00:04,  2.41it/s]/usr/local/lib/python3.7/dist-packages/NERDA/preprocessing.py:80: UserWarning: Sentence #87 length 128 exceeds max_len 128 and has been truncated\n",
            "  warnings.warn(msg)\n",
            " 59%|█████▉    | 13/22 [00:05<00:03,  2.42it/s]/usr/local/lib/python3.7/dist-packages/NERDA/preprocessing.py:80: UserWarning: Sentence #107 length 127 exceeds max_len 128 and has been truncated\n",
            "  warnings.warn(msg)\n",
            "100%|██████████| 22/22 [00:09<00:00,  2.33it/s]\n",
            "  0%|          | 0/6 [00:00<?, ?it/s]/usr/local/lib/python3.7/dist-packages/NERDA/preprocessing.py:80: UserWarning: Sentence #6 length 327 exceeds max_len 128 and has been truncated\n",
            "  warnings.warn(msg)\n",
            "/usr/local/lib/python3.7/dist-packages/NERDA/preprocessing.py:80: UserWarning: Sentence #16 length 132 exceeds max_len 128 and has been truncated\n",
            "  warnings.warn(msg)\n",
            "100%|██████████| 6/6 [00:00<00:00,  6.80it/s]\n"
          ]
        },
        {
          "output_type": "stream",
          "name": "stdout",
          "text": [
            "Train Loss = 0.8050700182264502 Valid Loss = 0.8130082090695699\n",
            "\n",
            " Epoch 2 / 11\n"
          ]
        },
        {
          "output_type": "stream",
          "name": "stderr",
          "text": [
            "\r  0%|          | 0/22 [00:00<?, ?it/s]/usr/local/lib/python3.7/dist-packages/NERDA/preprocessing.py:80: UserWarning: Sentence #6 length 261 exceeds max_len 128 and has been truncated\n",
            "  warnings.warn(msg)\n",
            "/usr/local/lib/python3.7/dist-packages/NERDA/preprocessing.py:80: UserWarning: Sentence #14 length 152 exceeds max_len 128 and has been truncated\n",
            "  warnings.warn(msg)\n",
            " 18%|█▊        | 4/22 [00:01<00:07,  2.33it/s]/usr/local/lib/python3.7/dist-packages/NERDA/preprocessing.py:80: UserWarning: Sentence #48 length 150 exceeds max_len 128 and has been truncated\n",
            "  warnings.warn(msg)\n",
            " 23%|██▎       | 5/22 [00:02<00:07,  2.37it/s]/usr/local/lib/python3.7/dist-packages/NERDA/preprocessing.py:80: UserWarning: Sentence #49 length 130 exceeds max_len 128 and has been truncated\n",
            "  warnings.warn(msg)\n",
            "/usr/local/lib/python3.7/dist-packages/NERDA/preprocessing.py:80: UserWarning: Sentence #50 length 174 exceeds max_len 128 and has been truncated\n",
            "  warnings.warn(msg)\n",
            "/usr/local/lib/python3.7/dist-packages/NERDA/preprocessing.py:80: UserWarning: Sentence #53 length 233 exceeds max_len 128 and has been truncated\n",
            "  warnings.warn(msg)\n",
            "/usr/local/lib/python3.7/dist-packages/NERDA/preprocessing.py:80: UserWarning: Sentence #54 length 149 exceeds max_len 128 and has been truncated\n",
            "  warnings.warn(msg)\n",
            " 32%|███▏      | 7/22 [00:03<00:06,  2.42it/s]/usr/local/lib/python3.7/dist-packages/NERDA/preprocessing.py:80: UserWarning: Sentence #68 length 132 exceeds max_len 128 and has been truncated\n",
            "  warnings.warn(msg)\n",
            " 41%|████      | 9/22 [00:03<00:05,  2.41it/s]/usr/local/lib/python3.7/dist-packages/NERDA/preprocessing.py:80: UserWarning: Sentence #77 length 171 exceeds max_len 128 and has been truncated\n",
            "  warnings.warn(msg)\n",
            " 45%|████▌     | 10/22 [00:04<00:04,  2.41it/s]/usr/local/lib/python3.7/dist-packages/NERDA/preprocessing.py:80: UserWarning: Sentence #87 length 128 exceeds max_len 128 and has been truncated\n",
            "  warnings.warn(msg)\n",
            " 59%|█████▉    | 13/22 [00:05<00:03,  2.39it/s]/usr/local/lib/python3.7/dist-packages/NERDA/preprocessing.py:80: UserWarning: Sentence #107 length 127 exceeds max_len 128 and has been truncated\n",
            "  warnings.warn(msg)\n",
            "100%|██████████| 22/22 [00:09<00:00,  2.37it/s]\n",
            "  0%|          | 0/6 [00:00<?, ?it/s]/usr/local/lib/python3.7/dist-packages/NERDA/preprocessing.py:80: UserWarning: Sentence #6 length 327 exceeds max_len 128 and has been truncated\n",
            "  warnings.warn(msg)\n",
            "/usr/local/lib/python3.7/dist-packages/NERDA/preprocessing.py:80: UserWarning: Sentence #16 length 132 exceeds max_len 128 and has been truncated\n",
            "  warnings.warn(msg)\n",
            "100%|██████████| 6/6 [00:00<00:00,  7.07it/s]\n"
          ]
        },
        {
          "output_type": "stream",
          "name": "stdout",
          "text": [
            "Train Loss = 0.5945599417794835 Valid Loss = 0.7258584847052892\n",
            "\n",
            " Epoch 3 / 11\n"
          ]
        },
        {
          "output_type": "stream",
          "name": "stderr",
          "text": [
            "\r  0%|          | 0/22 [00:00<?, ?it/s]/usr/local/lib/python3.7/dist-packages/NERDA/preprocessing.py:80: UserWarning: Sentence #6 length 261 exceeds max_len 128 and has been truncated\n",
            "  warnings.warn(msg)\n",
            "/usr/local/lib/python3.7/dist-packages/NERDA/preprocessing.py:80: UserWarning: Sentence #14 length 152 exceeds max_len 128 and has been truncated\n",
            "  warnings.warn(msg)\n",
            " 18%|█▊        | 4/22 [00:01<00:07,  2.33it/s]/usr/local/lib/python3.7/dist-packages/NERDA/preprocessing.py:80: UserWarning: Sentence #48 length 150 exceeds max_len 128 and has been truncated\n",
            "  warnings.warn(msg)\n",
            " 23%|██▎       | 5/22 [00:02<00:07,  2.37it/s]/usr/local/lib/python3.7/dist-packages/NERDA/preprocessing.py:80: UserWarning: Sentence #49 length 130 exceeds max_len 128 and has been truncated\n",
            "  warnings.warn(msg)\n",
            "/usr/local/lib/python3.7/dist-packages/NERDA/preprocessing.py:80: UserWarning: Sentence #50 length 174 exceeds max_len 128 and has been truncated\n",
            "  warnings.warn(msg)\n",
            "/usr/local/lib/python3.7/dist-packages/NERDA/preprocessing.py:80: UserWarning: Sentence #53 length 233 exceeds max_len 128 and has been truncated\n",
            "  warnings.warn(msg)\n",
            "/usr/local/lib/python3.7/dist-packages/NERDA/preprocessing.py:80: UserWarning: Sentence #54 length 149 exceeds max_len 128 and has been truncated\n",
            "  warnings.warn(msg)\n",
            " 32%|███▏      | 7/22 [00:03<00:06,  2.39it/s]/usr/local/lib/python3.7/dist-packages/NERDA/preprocessing.py:80: UserWarning: Sentence #68 length 132 exceeds max_len 128 and has been truncated\n",
            "  warnings.warn(msg)\n",
            " 41%|████      | 9/22 [00:03<00:05,  2.39it/s]/usr/local/lib/python3.7/dist-packages/NERDA/preprocessing.py:80: UserWarning: Sentence #77 length 171 exceeds max_len 128 and has been truncated\n",
            "  warnings.warn(msg)\n",
            " 45%|████▌     | 10/22 [00:04<00:05,  2.39it/s]/usr/local/lib/python3.7/dist-packages/NERDA/preprocessing.py:80: UserWarning: Sentence #87 length 128 exceeds max_len 128 and has been truncated\n",
            "  warnings.warn(msg)\n",
            " 59%|█████▉    | 13/22 [00:05<00:03,  2.39it/s]/usr/local/lib/python3.7/dist-packages/NERDA/preprocessing.py:80: UserWarning: Sentence #107 length 127 exceeds max_len 128 and has been truncated\n",
            "  warnings.warn(msg)\n",
            "100%|██████████| 22/22 [00:09<00:00,  2.36it/s]\n",
            "  0%|          | 0/6 [00:00<?, ?it/s]/usr/local/lib/python3.7/dist-packages/NERDA/preprocessing.py:80: UserWarning: Sentence #6 length 327 exceeds max_len 128 and has been truncated\n",
            "  warnings.warn(msg)\n",
            "/usr/local/lib/python3.7/dist-packages/NERDA/preprocessing.py:80: UserWarning: Sentence #16 length 132 exceeds max_len 128 and has been truncated\n",
            "  warnings.warn(msg)\n",
            "100%|██████████| 6/6 [00:00<00:00,  7.13it/s]\n"
          ]
        },
        {
          "output_type": "stream",
          "name": "stdout",
          "text": [
            "Train Loss = 0.3990059732036157 Valid Loss = 0.668763334552447\n",
            "\n",
            " Epoch 4 / 11\n"
          ]
        },
        {
          "output_type": "stream",
          "name": "stderr",
          "text": [
            "\r  0%|          | 0/22 [00:00<?, ?it/s]/usr/local/lib/python3.7/dist-packages/NERDA/preprocessing.py:80: UserWarning: Sentence #6 length 261 exceeds max_len 128 and has been truncated\n",
            "  warnings.warn(msg)\n",
            "/usr/local/lib/python3.7/dist-packages/NERDA/preprocessing.py:80: UserWarning: Sentence #14 length 152 exceeds max_len 128 and has been truncated\n",
            "  warnings.warn(msg)\n",
            " 18%|█▊        | 4/22 [00:01<00:07,  2.33it/s]/usr/local/lib/python3.7/dist-packages/NERDA/preprocessing.py:80: UserWarning: Sentence #48 length 150 exceeds max_len 128 and has been truncated\n",
            "  warnings.warn(msg)\n",
            " 23%|██▎       | 5/22 [00:02<00:07,  2.36it/s]/usr/local/lib/python3.7/dist-packages/NERDA/preprocessing.py:80: UserWarning: Sentence #49 length 130 exceeds max_len 128 and has been truncated\n",
            "  warnings.warn(msg)\n",
            "/usr/local/lib/python3.7/dist-packages/NERDA/preprocessing.py:80: UserWarning: Sentence #50 length 174 exceeds max_len 128 and has been truncated\n",
            "  warnings.warn(msg)\n",
            "/usr/local/lib/python3.7/dist-packages/NERDA/preprocessing.py:80: UserWarning: Sentence #53 length 233 exceeds max_len 128 and has been truncated\n",
            "  warnings.warn(msg)\n",
            "/usr/local/lib/python3.7/dist-packages/NERDA/preprocessing.py:80: UserWarning: Sentence #54 length 149 exceeds max_len 128 and has been truncated\n",
            "  warnings.warn(msg)\n",
            " 32%|███▏      | 7/22 [00:03<00:06,  2.39it/s]/usr/local/lib/python3.7/dist-packages/NERDA/preprocessing.py:80: UserWarning: Sentence #68 length 132 exceeds max_len 128 and has been truncated\n",
            "  warnings.warn(msg)\n",
            " 41%|████      | 9/22 [00:03<00:05,  2.40it/s]/usr/local/lib/python3.7/dist-packages/NERDA/preprocessing.py:80: UserWarning: Sentence #77 length 171 exceeds max_len 128 and has been truncated\n",
            "  warnings.warn(msg)\n",
            " 45%|████▌     | 10/22 [00:04<00:04,  2.40it/s]/usr/local/lib/python3.7/dist-packages/NERDA/preprocessing.py:80: UserWarning: Sentence #87 length 128 exceeds max_len 128 and has been truncated\n",
            "  warnings.warn(msg)\n",
            " 59%|█████▉    | 13/22 [00:05<00:03,  2.40it/s]/usr/local/lib/python3.7/dist-packages/NERDA/preprocessing.py:80: UserWarning: Sentence #107 length 127 exceeds max_len 128 and has been truncated\n",
            "  warnings.warn(msg)\n",
            "100%|██████████| 22/22 [00:09<00:00,  2.37it/s]\n",
            "  0%|          | 0/6 [00:00<?, ?it/s]/usr/local/lib/python3.7/dist-packages/NERDA/preprocessing.py:80: UserWarning: Sentence #6 length 327 exceeds max_len 128 and has been truncated\n",
            "  warnings.warn(msg)\n",
            "/usr/local/lib/python3.7/dist-packages/NERDA/preprocessing.py:80: UserWarning: Sentence #16 length 132 exceeds max_len 128 and has been truncated\n",
            "  warnings.warn(msg)\n",
            "100%|██████████| 6/6 [00:00<00:00,  6.88it/s]\n"
          ]
        },
        {
          "output_type": "stream",
          "name": "stdout",
          "text": [
            "Train Loss = 0.3258139611306516 Valid Loss = 0.8245727693041166\n",
            "\n",
            " Epoch 5 / 11\n"
          ]
        },
        {
          "output_type": "stream",
          "name": "stderr",
          "text": [
            "\r  0%|          | 0/22 [00:00<?, ?it/s]/usr/local/lib/python3.7/dist-packages/NERDA/preprocessing.py:80: UserWarning: Sentence #6 length 261 exceeds max_len 128 and has been truncated\n",
            "  warnings.warn(msg)\n",
            "/usr/local/lib/python3.7/dist-packages/NERDA/preprocessing.py:80: UserWarning: Sentence #14 length 152 exceeds max_len 128 and has been truncated\n",
            "  warnings.warn(msg)\n",
            " 18%|█▊        | 4/22 [00:01<00:07,  2.32it/s]/usr/local/lib/python3.7/dist-packages/NERDA/preprocessing.py:80: UserWarning: Sentence #48 length 150 exceeds max_len 128 and has been truncated\n",
            "  warnings.warn(msg)\n",
            " 23%|██▎       | 5/22 [00:02<00:07,  2.35it/s]/usr/local/lib/python3.7/dist-packages/NERDA/preprocessing.py:80: UserWarning: Sentence #49 length 130 exceeds max_len 128 and has been truncated\n",
            "  warnings.warn(msg)\n",
            "/usr/local/lib/python3.7/dist-packages/NERDA/preprocessing.py:80: UserWarning: Sentence #50 length 174 exceeds max_len 128 and has been truncated\n",
            "  warnings.warn(msg)\n",
            "/usr/local/lib/python3.7/dist-packages/NERDA/preprocessing.py:80: UserWarning: Sentence #53 length 233 exceeds max_len 128 and has been truncated\n",
            "  warnings.warn(msg)\n",
            "/usr/local/lib/python3.7/dist-packages/NERDA/preprocessing.py:80: UserWarning: Sentence #54 length 149 exceeds max_len 128 and has been truncated\n",
            "  warnings.warn(msg)\n",
            " 32%|███▏      | 7/22 [00:03<00:06,  2.38it/s]/usr/local/lib/python3.7/dist-packages/NERDA/preprocessing.py:80: UserWarning: Sentence #68 length 132 exceeds max_len 128 and has been truncated\n",
            "  warnings.warn(msg)\n",
            " 41%|████      | 9/22 [00:03<00:05,  2.39it/s]/usr/local/lib/python3.7/dist-packages/NERDA/preprocessing.py:80: UserWarning: Sentence #77 length 171 exceeds max_len 128 and has been truncated\n",
            "  warnings.warn(msg)\n",
            " 45%|████▌     | 10/22 [00:04<00:05,  2.39it/s]/usr/local/lib/python3.7/dist-packages/NERDA/preprocessing.py:80: UserWarning: Sentence #87 length 128 exceeds max_len 128 and has been truncated\n",
            "  warnings.warn(msg)\n",
            " 59%|█████▉    | 13/22 [00:05<00:03,  2.42it/s]/usr/local/lib/python3.7/dist-packages/NERDA/preprocessing.py:80: UserWarning: Sentence #107 length 127 exceeds max_len 128 and has been truncated\n",
            "  warnings.warn(msg)\n",
            "100%|██████████| 22/22 [00:09<00:00,  2.37it/s]\n",
            "  0%|          | 0/6 [00:00<?, ?it/s]/usr/local/lib/python3.7/dist-packages/NERDA/preprocessing.py:80: UserWarning: Sentence #6 length 327 exceeds max_len 128 and has been truncated\n",
            "  warnings.warn(msg)\n",
            "/usr/local/lib/python3.7/dist-packages/NERDA/preprocessing.py:80: UserWarning: Sentence #16 length 132 exceeds max_len 128 and has been truncated\n",
            "  warnings.warn(msg)\n",
            "100%|██████████| 6/6 [00:00<00:00,  6.94it/s]\n"
          ]
        },
        {
          "output_type": "stream",
          "name": "stdout",
          "text": [
            "Train Loss = 0.31048125570470636 Valid Loss = 0.8032127867142359\n",
            "\n",
            " Epoch 6 / 11\n"
          ]
        },
        {
          "output_type": "stream",
          "name": "stderr",
          "text": [
            "\r  0%|          | 0/22 [00:00<?, ?it/s]/usr/local/lib/python3.7/dist-packages/NERDA/preprocessing.py:80: UserWarning: Sentence #6 length 261 exceeds max_len 128 and has been truncated\n",
            "  warnings.warn(msg)\n",
            "/usr/local/lib/python3.7/dist-packages/NERDA/preprocessing.py:80: UserWarning: Sentence #14 length 152 exceeds max_len 128 and has been truncated\n",
            "  warnings.warn(msg)\n",
            " 18%|█▊        | 4/22 [00:01<00:07,  2.35it/s]/usr/local/lib/python3.7/dist-packages/NERDA/preprocessing.py:80: UserWarning: Sentence #48 length 150 exceeds max_len 128 and has been truncated\n",
            "  warnings.warn(msg)\n",
            " 23%|██▎       | 5/22 [00:02<00:07,  2.38it/s]/usr/local/lib/python3.7/dist-packages/NERDA/preprocessing.py:80: UserWarning: Sentence #49 length 130 exceeds max_len 128 and has been truncated\n",
            "  warnings.warn(msg)\n",
            "/usr/local/lib/python3.7/dist-packages/NERDA/preprocessing.py:80: UserWarning: Sentence #50 length 174 exceeds max_len 128 and has been truncated\n",
            "  warnings.warn(msg)\n",
            "/usr/local/lib/python3.7/dist-packages/NERDA/preprocessing.py:80: UserWarning: Sentence #53 length 233 exceeds max_len 128 and has been truncated\n",
            "  warnings.warn(msg)\n",
            "/usr/local/lib/python3.7/dist-packages/NERDA/preprocessing.py:80: UserWarning: Sentence #54 length 149 exceeds max_len 128 and has been truncated\n",
            "  warnings.warn(msg)\n",
            " 32%|███▏      | 7/22 [00:02<00:06,  2.40it/s]/usr/local/lib/python3.7/dist-packages/NERDA/preprocessing.py:80: UserWarning: Sentence #68 length 132 exceeds max_len 128 and has been truncated\n",
            "  warnings.warn(msg)\n",
            " 41%|████      | 9/22 [00:03<00:05,  2.40it/s]/usr/local/lib/python3.7/dist-packages/NERDA/preprocessing.py:80: UserWarning: Sentence #77 length 171 exceeds max_len 128 and has been truncated\n",
            "  warnings.warn(msg)\n",
            " 45%|████▌     | 10/22 [00:04<00:05,  2.39it/s]/usr/local/lib/python3.7/dist-packages/NERDA/preprocessing.py:80: UserWarning: Sentence #87 length 128 exceeds max_len 128 and has been truncated\n",
            "  warnings.warn(msg)\n",
            " 59%|█████▉    | 13/22 [00:05<00:03,  2.41it/s]/usr/local/lib/python3.7/dist-packages/NERDA/preprocessing.py:80: UserWarning: Sentence #107 length 127 exceeds max_len 128 and has been truncated\n",
            "  warnings.warn(msg)\n",
            "100%|██████████| 22/22 [00:09<00:00,  2.38it/s]\n",
            "  0%|          | 0/6 [00:00<?, ?it/s]/usr/local/lib/python3.7/dist-packages/NERDA/preprocessing.py:80: UserWarning: Sentence #6 length 327 exceeds max_len 128 and has been truncated\n",
            "  warnings.warn(msg)\n",
            "/usr/local/lib/python3.7/dist-packages/NERDA/preprocessing.py:80: UserWarning: Sentence #16 length 132 exceeds max_len 128 and has been truncated\n",
            "  warnings.warn(msg)\n",
            "100%|██████████| 6/6 [00:00<00:00,  7.09it/s]\n"
          ]
        },
        {
          "output_type": "stream",
          "name": "stdout",
          "text": [
            "Train Loss = 0.2540077864277092 Valid Loss = 0.6811148400108019\n",
            "\n",
            " Epoch 7 / 11\n"
          ]
        },
        {
          "output_type": "stream",
          "name": "stderr",
          "text": [
            "\r  0%|          | 0/22 [00:00<?, ?it/s]/usr/local/lib/python3.7/dist-packages/NERDA/preprocessing.py:80: UserWarning: Sentence #6 length 261 exceeds max_len 128 and has been truncated\n",
            "  warnings.warn(msg)\n",
            "/usr/local/lib/python3.7/dist-packages/NERDA/preprocessing.py:80: UserWarning: Sentence #14 length 152 exceeds max_len 128 and has been truncated\n",
            "  warnings.warn(msg)\n",
            " 18%|█▊        | 4/22 [00:01<00:07,  2.36it/s]/usr/local/lib/python3.7/dist-packages/NERDA/preprocessing.py:80: UserWarning: Sentence #48 length 150 exceeds max_len 128 and has been truncated\n",
            "  warnings.warn(msg)\n",
            " 23%|██▎       | 5/22 [00:02<00:07,  2.39it/s]/usr/local/lib/python3.7/dist-packages/NERDA/preprocessing.py:80: UserWarning: Sentence #49 length 130 exceeds max_len 128 and has been truncated\n",
            "  warnings.warn(msg)\n",
            "/usr/local/lib/python3.7/dist-packages/NERDA/preprocessing.py:80: UserWarning: Sentence #50 length 174 exceeds max_len 128 and has been truncated\n",
            "  warnings.warn(msg)\n",
            "/usr/local/lib/python3.7/dist-packages/NERDA/preprocessing.py:80: UserWarning: Sentence #53 length 233 exceeds max_len 128 and has been truncated\n",
            "  warnings.warn(msg)\n",
            "/usr/local/lib/python3.7/dist-packages/NERDA/preprocessing.py:80: UserWarning: Sentence #54 length 149 exceeds max_len 128 and has been truncated\n",
            "  warnings.warn(msg)\n",
            " 32%|███▏      | 7/22 [00:02<00:06,  2.39it/s]/usr/local/lib/python3.7/dist-packages/NERDA/preprocessing.py:80: UserWarning: Sentence #68 length 132 exceeds max_len 128 and has been truncated\n",
            "  warnings.warn(msg)\n",
            " 41%|████      | 9/22 [00:03<00:05,  2.39it/s]/usr/local/lib/python3.7/dist-packages/NERDA/preprocessing.py:80: UserWarning: Sentence #77 length 171 exceeds max_len 128 and has been truncated\n",
            "  warnings.warn(msg)\n",
            " 45%|████▌     | 10/22 [00:04<00:04,  2.41it/s]/usr/local/lib/python3.7/dist-packages/NERDA/preprocessing.py:80: UserWarning: Sentence #87 length 128 exceeds max_len 128 and has been truncated\n",
            "  warnings.warn(msg)\n",
            " 59%|█████▉    | 13/22 [00:05<00:03,  2.43it/s]/usr/local/lib/python3.7/dist-packages/NERDA/preprocessing.py:80: UserWarning: Sentence #107 length 127 exceeds max_len 128 and has been truncated\n",
            "  warnings.warn(msg)\n",
            "100%|██████████| 22/22 [00:09<00:00,  2.38it/s]\n",
            "  0%|          | 0/6 [00:00<?, ?it/s]/usr/local/lib/python3.7/dist-packages/NERDA/preprocessing.py:80: UserWarning: Sentence #6 length 327 exceeds max_len 128 and has been truncated\n",
            "  warnings.warn(msg)\n",
            "/usr/local/lib/python3.7/dist-packages/NERDA/preprocessing.py:80: UserWarning: Sentence #16 length 132 exceeds max_len 128 and has been truncated\n",
            "  warnings.warn(msg)\n",
            "100%|██████████| 6/6 [00:00<00:00,  6.87it/s]\n"
          ]
        },
        {
          "output_type": "stream",
          "name": "stdout",
          "text": [
            "Train Loss = 0.20253105156800963 Valid Loss = 0.8402234862248102\n",
            "\n",
            " Epoch 8 / 11\n"
          ]
        },
        {
          "output_type": "stream",
          "name": "stderr",
          "text": [
            "\r  0%|          | 0/22 [00:00<?, ?it/s]/usr/local/lib/python3.7/dist-packages/NERDA/preprocessing.py:80: UserWarning: Sentence #6 length 261 exceeds max_len 128 and has been truncated\n",
            "  warnings.warn(msg)\n",
            "/usr/local/lib/python3.7/dist-packages/NERDA/preprocessing.py:80: UserWarning: Sentence #14 length 152 exceeds max_len 128 and has been truncated\n",
            "  warnings.warn(msg)\n",
            " 18%|█▊        | 4/22 [00:01<00:07,  2.32it/s]/usr/local/lib/python3.7/dist-packages/NERDA/preprocessing.py:80: UserWarning: Sentence #48 length 150 exceeds max_len 128 and has been truncated\n",
            "  warnings.warn(msg)\n",
            " 23%|██▎       | 5/22 [00:02<00:07,  2.35it/s]/usr/local/lib/python3.7/dist-packages/NERDA/preprocessing.py:80: UserWarning: Sentence #49 length 130 exceeds max_len 128 and has been truncated\n",
            "  warnings.warn(msg)\n",
            "/usr/local/lib/python3.7/dist-packages/NERDA/preprocessing.py:80: UserWarning: Sentence #50 length 174 exceeds max_len 128 and has been truncated\n",
            "  warnings.warn(msg)\n",
            "/usr/local/lib/python3.7/dist-packages/NERDA/preprocessing.py:80: UserWarning: Sentence #53 length 233 exceeds max_len 128 and has been truncated\n",
            "  warnings.warn(msg)\n",
            "/usr/local/lib/python3.7/dist-packages/NERDA/preprocessing.py:80: UserWarning: Sentence #54 length 149 exceeds max_len 128 and has been truncated\n",
            "  warnings.warn(msg)\n",
            " 32%|███▏      | 7/22 [00:03<00:06,  2.41it/s]/usr/local/lib/python3.7/dist-packages/NERDA/preprocessing.py:80: UserWarning: Sentence #68 length 132 exceeds max_len 128 and has been truncated\n",
            "  warnings.warn(msg)\n",
            " 41%|████      | 9/22 [00:03<00:05,  2.41it/s]/usr/local/lib/python3.7/dist-packages/NERDA/preprocessing.py:80: UserWarning: Sentence #77 length 171 exceeds max_len 128 and has been truncated\n",
            "  warnings.warn(msg)\n",
            " 45%|████▌     | 10/22 [00:04<00:05,  2.39it/s]/usr/local/lib/python3.7/dist-packages/NERDA/preprocessing.py:80: UserWarning: Sentence #87 length 128 exceeds max_len 128 and has been truncated\n",
            "  warnings.warn(msg)\n",
            " 59%|█████▉    | 13/22 [00:05<00:03,  2.41it/s]/usr/local/lib/python3.7/dist-packages/NERDA/preprocessing.py:80: UserWarning: Sentence #107 length 127 exceeds max_len 128 and has been truncated\n",
            "  warnings.warn(msg)\n",
            "100%|██████████| 22/22 [00:09<00:00,  2.37it/s]\n",
            "  0%|          | 0/6 [00:00<?, ?it/s]/usr/local/lib/python3.7/dist-packages/NERDA/preprocessing.py:80: UserWarning: Sentence #6 length 327 exceeds max_len 128 and has been truncated\n",
            "  warnings.warn(msg)\n",
            "/usr/local/lib/python3.7/dist-packages/NERDA/preprocessing.py:80: UserWarning: Sentence #16 length 132 exceeds max_len 128 and has been truncated\n",
            "  warnings.warn(msg)\n",
            "100%|██████████| 6/6 [00:00<00:00,  6.85it/s]\n"
          ]
        },
        {
          "output_type": "stream",
          "name": "stdout",
          "text": [
            "Train Loss = 0.16718467138707638 Valid Loss = 0.8898962090412775\n",
            "\n",
            " Epoch 9 / 11\n"
          ]
        },
        {
          "output_type": "stream",
          "name": "stderr",
          "text": [
            "\r  0%|          | 0/22 [00:00<?, ?it/s]/usr/local/lib/python3.7/dist-packages/NERDA/preprocessing.py:80: UserWarning: Sentence #6 length 261 exceeds max_len 128 and has been truncated\n",
            "  warnings.warn(msg)\n",
            "/usr/local/lib/python3.7/dist-packages/NERDA/preprocessing.py:80: UserWarning: Sentence #14 length 152 exceeds max_len 128 and has been truncated\n",
            "  warnings.warn(msg)\n",
            " 18%|█▊        | 4/22 [00:01<00:07,  2.34it/s]/usr/local/lib/python3.7/dist-packages/NERDA/preprocessing.py:80: UserWarning: Sentence #48 length 150 exceeds max_len 128 and has been truncated\n",
            "  warnings.warn(msg)\n",
            " 23%|██▎       | 5/22 [00:02<00:07,  2.38it/s]/usr/local/lib/python3.7/dist-packages/NERDA/preprocessing.py:80: UserWarning: Sentence #49 length 130 exceeds max_len 128 and has been truncated\n",
            "  warnings.warn(msg)\n",
            "/usr/local/lib/python3.7/dist-packages/NERDA/preprocessing.py:80: UserWarning: Sentence #50 length 174 exceeds max_len 128 and has been truncated\n",
            "  warnings.warn(msg)\n",
            "/usr/local/lib/python3.7/dist-packages/NERDA/preprocessing.py:80: UserWarning: Sentence #53 length 233 exceeds max_len 128 and has been truncated\n",
            "  warnings.warn(msg)\n",
            "/usr/local/lib/python3.7/dist-packages/NERDA/preprocessing.py:80: UserWarning: Sentence #54 length 149 exceeds max_len 128 and has been truncated\n",
            "  warnings.warn(msg)\n",
            " 32%|███▏      | 7/22 [00:02<00:06,  2.39it/s]/usr/local/lib/python3.7/dist-packages/NERDA/preprocessing.py:80: UserWarning: Sentence #68 length 132 exceeds max_len 128 and has been truncated\n",
            "  warnings.warn(msg)\n",
            " 41%|████      | 9/22 [00:03<00:05,  2.40it/s]/usr/local/lib/python3.7/dist-packages/NERDA/preprocessing.py:80: UserWarning: Sentence #77 length 171 exceeds max_len 128 and has been truncated\n",
            "  warnings.warn(msg)\n",
            " 45%|████▌     | 10/22 [00:04<00:04,  2.41it/s]/usr/local/lib/python3.7/dist-packages/NERDA/preprocessing.py:80: UserWarning: Sentence #87 length 128 exceeds max_len 128 and has been truncated\n",
            "  warnings.warn(msg)\n",
            " 59%|█████▉    | 13/22 [00:05<00:03,  2.42it/s]/usr/local/lib/python3.7/dist-packages/NERDA/preprocessing.py:80: UserWarning: Sentence #107 length 127 exceeds max_len 128 and has been truncated\n",
            "  warnings.warn(msg)\n",
            "100%|██████████| 22/22 [00:09<00:00,  2.38it/s]\n",
            "  0%|          | 0/6 [00:00<?, ?it/s]/usr/local/lib/python3.7/dist-packages/NERDA/preprocessing.py:80: UserWarning: Sentence #6 length 327 exceeds max_len 128 and has been truncated\n",
            "  warnings.warn(msg)\n",
            "/usr/local/lib/python3.7/dist-packages/NERDA/preprocessing.py:80: UserWarning: Sentence #16 length 132 exceeds max_len 128 and has been truncated\n",
            "  warnings.warn(msg)\n",
            "100%|██████████| 6/6 [00:00<00:00,  7.18it/s]\n"
          ]
        },
        {
          "output_type": "stream",
          "name": "stdout",
          "text": [
            "Train Loss = 0.14985252273353664 Valid Loss = 0.7287302911281586\n",
            "\n",
            " Epoch 10 / 11\n"
          ]
        },
        {
          "output_type": "stream",
          "name": "stderr",
          "text": [
            "\r  0%|          | 0/22 [00:00<?, ?it/s]/usr/local/lib/python3.7/dist-packages/NERDA/preprocessing.py:80: UserWarning: Sentence #6 length 261 exceeds max_len 128 and has been truncated\n",
            "  warnings.warn(msg)\n",
            "/usr/local/lib/python3.7/dist-packages/NERDA/preprocessing.py:80: UserWarning: Sentence #14 length 152 exceeds max_len 128 and has been truncated\n",
            "  warnings.warn(msg)\n",
            " 18%|█▊        | 4/22 [00:01<00:07,  2.34it/s]/usr/local/lib/python3.7/dist-packages/NERDA/preprocessing.py:80: UserWarning: Sentence #48 length 150 exceeds max_len 128 and has been truncated\n",
            "  warnings.warn(msg)\n",
            " 23%|██▎       | 5/22 [00:02<00:07,  2.36it/s]/usr/local/lib/python3.7/dist-packages/NERDA/preprocessing.py:80: UserWarning: Sentence #49 length 130 exceeds max_len 128 and has been truncated\n",
            "  warnings.warn(msg)\n",
            "/usr/local/lib/python3.7/dist-packages/NERDA/preprocessing.py:80: UserWarning: Sentence #50 length 174 exceeds max_len 128 and has been truncated\n",
            "  warnings.warn(msg)\n",
            "/usr/local/lib/python3.7/dist-packages/NERDA/preprocessing.py:80: UserWarning: Sentence #53 length 233 exceeds max_len 128 and has been truncated\n",
            "  warnings.warn(msg)\n",
            "/usr/local/lib/python3.7/dist-packages/NERDA/preprocessing.py:80: UserWarning: Sentence #54 length 149 exceeds max_len 128 and has been truncated\n",
            "  warnings.warn(msg)\n",
            " 32%|███▏      | 7/22 [00:03<00:06,  2.39it/s]/usr/local/lib/python3.7/dist-packages/NERDA/preprocessing.py:80: UserWarning: Sentence #68 length 132 exceeds max_len 128 and has been truncated\n",
            "  warnings.warn(msg)\n",
            " 41%|████      | 9/22 [00:03<00:05,  2.40it/s]/usr/local/lib/python3.7/dist-packages/NERDA/preprocessing.py:80: UserWarning: Sentence #77 length 171 exceeds max_len 128 and has been truncated\n",
            "  warnings.warn(msg)\n",
            " 45%|████▌     | 10/22 [00:04<00:05,  2.40it/s]/usr/local/lib/python3.7/dist-packages/NERDA/preprocessing.py:80: UserWarning: Sentence #87 length 128 exceeds max_len 128 and has been truncated\n",
            "  warnings.warn(msg)\n",
            " 59%|█████▉    | 13/22 [00:05<00:03,  2.42it/s]/usr/local/lib/python3.7/dist-packages/NERDA/preprocessing.py:80: UserWarning: Sentence #107 length 127 exceeds max_len 128 and has been truncated\n",
            "  warnings.warn(msg)\n",
            "100%|██████████| 22/22 [00:09<00:00,  2.37it/s]\n",
            "  0%|          | 0/6 [00:00<?, ?it/s]/usr/local/lib/python3.7/dist-packages/NERDA/preprocessing.py:80: UserWarning: Sentence #6 length 327 exceeds max_len 128 and has been truncated\n",
            "  warnings.warn(msg)\n",
            "/usr/local/lib/python3.7/dist-packages/NERDA/preprocessing.py:80: UserWarning: Sentence #16 length 132 exceeds max_len 128 and has been truncated\n",
            "  warnings.warn(msg)\n",
            "100%|██████████| 6/6 [00:00<00:00,  6.89it/s]\n"
          ]
        },
        {
          "output_type": "stream",
          "name": "stdout",
          "text": [
            "Train Loss = 0.09586563655598597 Valid Loss = 0.8260315482815107\n",
            "\n",
            " Epoch 11 / 11\n"
          ]
        },
        {
          "output_type": "stream",
          "name": "stderr",
          "text": [
            "\r  0%|          | 0/22 [00:00<?, ?it/s]/usr/local/lib/python3.7/dist-packages/NERDA/preprocessing.py:80: UserWarning: Sentence #6 length 261 exceeds max_len 128 and has been truncated\n",
            "  warnings.warn(msg)\n",
            "/usr/local/lib/python3.7/dist-packages/NERDA/preprocessing.py:80: UserWarning: Sentence #14 length 152 exceeds max_len 128 and has been truncated\n",
            "  warnings.warn(msg)\n",
            " 18%|█▊        | 4/22 [00:01<00:07,  2.33it/s]/usr/local/lib/python3.7/dist-packages/NERDA/preprocessing.py:80: UserWarning: Sentence #48 length 150 exceeds max_len 128 and has been truncated\n",
            "  warnings.warn(msg)\n",
            " 23%|██▎       | 5/22 [00:02<00:07,  2.37it/s]/usr/local/lib/python3.7/dist-packages/NERDA/preprocessing.py:80: UserWarning: Sentence #49 length 130 exceeds max_len 128 and has been truncated\n",
            "  warnings.warn(msg)\n",
            "/usr/local/lib/python3.7/dist-packages/NERDA/preprocessing.py:80: UserWarning: Sentence #50 length 174 exceeds max_len 128 and has been truncated\n",
            "  warnings.warn(msg)\n",
            "/usr/local/lib/python3.7/dist-packages/NERDA/preprocessing.py:80: UserWarning: Sentence #53 length 233 exceeds max_len 128 and has been truncated\n",
            "  warnings.warn(msg)\n",
            "/usr/local/lib/python3.7/dist-packages/NERDA/preprocessing.py:80: UserWarning: Sentence #54 length 149 exceeds max_len 128 and has been truncated\n",
            "  warnings.warn(msg)\n",
            " 32%|███▏      | 7/22 [00:02<00:06,  2.40it/s]/usr/local/lib/python3.7/dist-packages/NERDA/preprocessing.py:80: UserWarning: Sentence #68 length 132 exceeds max_len 128 and has been truncated\n",
            "  warnings.warn(msg)\n",
            " 41%|████      | 9/22 [00:03<00:05,  2.40it/s]/usr/local/lib/python3.7/dist-packages/NERDA/preprocessing.py:80: UserWarning: Sentence #77 length 171 exceeds max_len 128 and has been truncated\n",
            "  warnings.warn(msg)\n",
            " 45%|████▌     | 10/22 [00:04<00:05,  2.40it/s]/usr/local/lib/python3.7/dist-packages/NERDA/preprocessing.py:80: UserWarning: Sentence #87 length 128 exceeds max_len 128 and has been truncated\n",
            "  warnings.warn(msg)\n",
            " 59%|█████▉    | 13/22 [00:05<00:03,  2.41it/s]/usr/local/lib/python3.7/dist-packages/NERDA/preprocessing.py:80: UserWarning: Sentence #107 length 127 exceeds max_len 128 and has been truncated\n",
            "  warnings.warn(msg)\n",
            "100%|██████████| 22/22 [00:09<00:00,  2.38it/s]\n",
            "  0%|          | 0/6 [00:00<?, ?it/s]/usr/local/lib/python3.7/dist-packages/NERDA/preprocessing.py:80: UserWarning: Sentence #6 length 327 exceeds max_len 128 and has been truncated\n",
            "  warnings.warn(msg)\n",
            "/usr/local/lib/python3.7/dist-packages/NERDA/preprocessing.py:80: UserWarning: Sentence #16 length 132 exceeds max_len 128 and has been truncated\n",
            "  warnings.warn(msg)\n",
            "100%|██████████| 6/6 [00:00<00:00,  7.07it/s]"
          ]
        },
        {
          "output_type": "stream",
          "name": "stdout",
          "text": [
            "Train Loss = 0.08854061856188557 Valid Loss = 0.8240685611963272\n"
          ]
        },
        {
          "output_type": "stream",
          "name": "stderr",
          "text": [
            "\n"
          ]
        },
        {
          "output_type": "execute_result",
          "data": {
            "application/vnd.google.colaboratory.intrinsic+json": {
              "type": "string"
            },
            "text/plain": [
              "'Model trained successfully'"
            ]
          },
          "metadata": {},
          "execution_count": 18
        }
      ]
    },
    {
      "cell_type": "code",
      "metadata": {
        "colab": {
          "base_uri": "https://localhost:8080/",
          "height": 173
        },
        "id": "AH93eHbCcda6",
        "outputId": "6f2e12fa-f4c9-4ed9-efb0-c93757887d4a"
      },
      "source": [
        "model.evaluate_performance(test)"
      ],
      "execution_count": 19,
      "outputs": [
        {
          "output_type": "execute_result",
          "data": {
            "text/html": [
              "<div>\n",
              "<style scoped>\n",
              "    .dataframe tbody tr th:only-of-type {\n",
              "        vertical-align: middle;\n",
              "    }\n",
              "\n",
              "    .dataframe tbody tr th {\n",
              "        vertical-align: top;\n",
              "    }\n",
              "\n",
              "    .dataframe thead th {\n",
              "        text-align: right;\n",
              "    }\n",
              "</style>\n",
              "<table border=\"1\" class=\"dataframe\">\n",
              "  <thead>\n",
              "    <tr style=\"text-align: right;\">\n",
              "      <th></th>\n",
              "      <th>Level</th>\n",
              "      <th>F1-Score</th>\n",
              "      <th>Precision</th>\n",
              "      <th>Recall</th>\n",
              "    </tr>\n",
              "  </thead>\n",
              "  <tbody>\n",
              "    <tr>\n",
              "      <th>0</th>\n",
              "      <td>I</td>\n",
              "      <td>0.964286</td>\n",
              "      <td>0.944056</td>\n",
              "      <td>0.985401</td>\n",
              "    </tr>\n",
              "    <tr>\n",
              "      <th>1</th>\n",
              "      <td>B</td>\n",
              "      <td>0.857143</td>\n",
              "      <td>0.800000</td>\n",
              "      <td>0.923077</td>\n",
              "    </tr>\n",
              "    <tr>\n",
              "      <th>0</th>\n",
              "      <td>AVG_MICRO</td>\n",
              "      <td>0.954545</td>\n",
              "      <td>NaN</td>\n",
              "      <td>NaN</td>\n",
              "    </tr>\n",
              "    <tr>\n",
              "      <th>0</th>\n",
              "      <td>AVG_MICRO</td>\n",
              "      <td>0.910714</td>\n",
              "      <td>NaN</td>\n",
              "      <td>NaN</td>\n",
              "    </tr>\n",
              "  </tbody>\n",
              "</table>\n",
              "</div>"
            ],
            "text/plain": [
              "       Level  F1-Score  Precision    Recall\n",
              "0          I  0.964286   0.944056  0.985401\n",
              "1          B  0.857143   0.800000  0.923077\n",
              "0  AVG_MICRO  0.954545        NaN       NaN\n",
              "0  AVG_MICRO  0.910714        NaN       NaN"
            ]
          },
          "metadata": {},
          "execution_count": 19
        }
      ]
    },
    {
      "cell_type": "code",
      "metadata": {
        "colab": {
          "base_uri": "https://localhost:8080/"
        },
        "id": "07SWyztJOYmb",
        "outputId": "8b544684-852d-4851-a03a-3ef88dde3b8c"
      },
      "source": [
        "#text= [['अझ', 'वृहद', 'कथं', 'धायेगु', 'खःसा', 'थ्व', 'विज्ञान', 'ब्रह्माण्ड', 'गथे', 'सनाच्वंगु', 'दु', 'धका', 'स्वयेत','याइगु', 'प्रकृतिया', 'साधारण', 'एनालाइसिस', 'ख']]\n",
        "print(model.predict([test['sentences'][1]]))\n",
        "print(test['tags'][1])"
      ],
      "execution_count": 20,
      "outputs": [
        {
          "output_type": "stream",
          "name": "stdout",
          "text": [
            "[['B', 'B', 'I', 'I', 'I', 'I', 'I', 'I', 'I', 'I', 'I', 'I', 'O', 'O', 'O', 'O', 'O', 'O', 'O', 'O', 'O', 'O', 'O']]\n",
            "['B', 'I', 'I', 'I', 'I', 'I', 'I', 'I', 'I', 'I', 'I', 'I', 'O', 'O', 'O', 'O', 'O', 'O', 'O', 'O', 'O', 'O', 'O']\n"
          ]
        }
      ]
    },
    {
      "cell_type": "code",
      "metadata": {
        "colab": {
          "base_uri": "https://localhost:8080/"
        },
        "id": "YFMw-ow35a7i",
        "outputId": "6b7b8524-e099-4d33-e46f-47557e85354c"
      },
      "source": [
        "## Getting the confusion matrices for every test sentence\n",
        "\n",
        "from sklearn.metrics import confusion_matrix\n",
        "y_true = test['tags']\n",
        "for n in range (len(test['tags'])):\n",
        "  y_pred = []\n",
        "  y_pred = model.predict([test['sentences'][n]])[0]\n",
        "  #print(y_true[n])\n",
        "  #print(y_pred)\n",
        "  print(confusion_matrix(y_true[n], y_pred, labels=[\"I\", \"B\", \"O\"]))"
      ],
      "execution_count": 21,
      "outputs": [
        {
          "output_type": "stream",
          "name": "stdout",
          "text": [
            "[[ 4  0  0]\n",
            " [ 0  1  0]\n",
            " [ 5  0 16]]\n",
            "[[10  1  0]\n",
            " [ 0  1  0]\n",
            " [ 0  0 11]]\n",
            "[[8 0 0]\n",
            " [0 1 0]\n",
            " [0 0 2]]\n",
            "[[10  0  0]\n",
            " [ 0  1  0]\n",
            " [ 0  0 11]]\n",
            "[[14  0  0]\n",
            " [ 0  1  0]\n",
            " [ 0  0 16]]\n",
            "[[5 0 0]\n",
            " [1 0 0]\n",
            " [2 1 2]]\n",
            "[[6 0 0]\n",
            " [0 1 0]\n",
            " [0 0 9]]\n",
            "[[10  0  0]\n",
            " [ 0  1  0]\n",
            " [ 0  0  2]]\n",
            "[[14  0  0]\n",
            " [ 0  1  0]\n",
            " [ 0  0  6]]\n",
            "[[9 0 0]\n",
            " [0 1 0]\n",
            " [0 0 2]]\n",
            "[[14  1  0]\n",
            " [ 0  1  0]\n",
            " [ 0  0  2]]\n",
            "[[22  0  0]\n",
            " [ 0  1  0]\n",
            " [ 0  0  0]]\n",
            "[[9 0 0]\n",
            " [0 1 0]\n",
            " [0 0 5]]\n"
          ]
        }
      ]
    },
    {
      "cell_type": "code",
      "metadata": {
        "colab": {
          "base_uri": "https://localhost:8080/"
        },
        "id": "-eBbvVucJ8Dv",
        "outputId": "bb14d0f1-c86e-4d52-d4b7-e86efad8d97b"
      },
      "source": [
        "# Sum up the 6by6 confusion matrix result in every test sentence\n",
        "import numpy as np\n",
        "from sklearn.metrics import confusion_matrix\n",
        "y_true = test['tags']\n",
        "d = np.zeros((3,3))\n",
        "for n in range (len(test['tags'])):\n",
        "  y_pred = []\n",
        "  y_pred = model.predict([test['sentences'][n]])[0]\n",
        "  #print(y_true[n])\n",
        "  #print(y_pred)\n",
        "  d += confusion_matrix(y_true[n], y_pred, labels=[\"I\", \"B\", \"O\"])\n",
        "print(d)"
      ],
      "execution_count": 23,
      "outputs": [
        {
          "output_type": "stream",
          "name": "stdout",
          "text": [
            "[[135.   2.   0.]\n",
            " [  1.  12.   0.]\n",
            " [  7.   1.  84.]]\n"
          ]
        }
      ]
    }
  ]
}