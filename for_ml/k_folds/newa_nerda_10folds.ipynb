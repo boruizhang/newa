{
  "nbformat": 4,
  "nbformat_minor": 0,
  "metadata": {
    "colab": {
      "name": "newa_nerda_10folds.ipynb",
      "provenance": [],
      "collapsed_sections": []
    },
    "kernelspec": {
      "name": "python3",
      "display_name": "Python 3"
    },
    "language_info": {
      "name": "python"
    },
    "accelerator": "GPU"
  },
  "cells": [
    {
      "cell_type": "markdown",
      "metadata": {
        "id": "qy71dBRrJjqR"
      },
      "source": [
        "3 Labels I, O, B (for CPs)"
      ]
    },
    {
      "cell_type": "code",
      "metadata": {
        "id": "q47fTE12Mdr4",
        "colab": {
          "base_uri": "https://localhost:8080/"
        },
        "outputId": "b972d72f-c702-44fe-abb9-5d1858bd108c"
      },
      "source": [
        "pip install NERDA"
      ],
      "execution_count": null,
      "outputs": [
        {
          "output_type": "stream",
          "name": "stdout",
          "text": [
            "Collecting NERDA\n",
            "  Downloading NERDA-1.0.0-py3-none-any.whl (23 kB)\n",
            "Collecting pyconll\n",
            "  Downloading pyconll-3.1.0-py3-none-any.whl (26 kB)\n",
            "Requirement already satisfied: sklearn in /usr/local/lib/python3.7/dist-packages (from NERDA) (0.0)\n",
            "Collecting progressbar\n",
            "  Downloading progressbar-2.5.tar.gz (10 kB)\n",
            "Requirement already satisfied: pandas in /usr/local/lib/python3.7/dist-packages (from NERDA) (1.3.5)\n",
            "Collecting transformers\n",
            "  Downloading transformers-4.18.0-py3-none-any.whl (4.0 MB)\n",
            "\u001b[K     |████████████████████████████████| 4.0 MB 26.1 MB/s \n",
            "\u001b[?25hRequirement already satisfied: nltk in /usr/local/lib/python3.7/dist-packages (from NERDA) (3.2.5)\n",
            "Requirement already satisfied: torch in /usr/local/lib/python3.7/dist-packages (from NERDA) (1.10.0+cu111)\n",
            "Requirement already satisfied: six in /usr/local/lib/python3.7/dist-packages (from nltk->NERDA) (1.15.0)\n",
            "Requirement already satisfied: numpy>=1.17.3 in /usr/local/lib/python3.7/dist-packages (from pandas->NERDA) (1.21.6)\n",
            "Requirement already satisfied: python-dateutil>=2.7.3 in /usr/local/lib/python3.7/dist-packages (from pandas->NERDA) (2.8.2)\n",
            "Requirement already satisfied: pytz>=2017.3 in /usr/local/lib/python3.7/dist-packages (from pandas->NERDA) (2022.1)\n",
            "Requirement already satisfied: scikit-learn in /usr/local/lib/python3.7/dist-packages (from sklearn->NERDA) (1.0.2)\n",
            "Requirement already satisfied: joblib>=0.11 in /usr/local/lib/python3.7/dist-packages (from scikit-learn->sklearn->NERDA) (1.1.0)\n",
            "Requirement already satisfied: scipy>=1.1.0 in /usr/local/lib/python3.7/dist-packages (from scikit-learn->sklearn->NERDA) (1.4.1)\n",
            "Requirement already satisfied: threadpoolctl>=2.0.0 in /usr/local/lib/python3.7/dist-packages (from scikit-learn->sklearn->NERDA) (3.1.0)\n",
            "Requirement already satisfied: typing-extensions in /usr/local/lib/python3.7/dist-packages (from torch->NERDA) (4.1.1)\n",
            "Requirement already satisfied: filelock in /usr/local/lib/python3.7/dist-packages (from transformers->NERDA) (3.6.0)\n",
            "Requirement already satisfied: packaging>=20.0 in /usr/local/lib/python3.7/dist-packages (from transformers->NERDA) (21.3)\n",
            "Collecting tokenizers!=0.11.3,<0.13,>=0.11.1\n",
            "  Downloading tokenizers-0.12.1-cp37-cp37m-manylinux_2_12_x86_64.manylinux2010_x86_64.whl (6.6 MB)\n",
            "\u001b[K     |████████████████████████████████| 6.6 MB 35.4 MB/s \n",
            "\u001b[?25hRequirement already satisfied: tqdm>=4.27 in /usr/local/lib/python3.7/dist-packages (from transformers->NERDA) (4.64.0)\n",
            "Requirement already satisfied: importlib-metadata in /usr/local/lib/python3.7/dist-packages (from transformers->NERDA) (4.11.3)\n",
            "Requirement already satisfied: requests in /usr/local/lib/python3.7/dist-packages (from transformers->NERDA) (2.23.0)\n",
            "Collecting huggingface-hub<1.0,>=0.1.0\n",
            "  Downloading huggingface_hub-0.5.1-py3-none-any.whl (77 kB)\n",
            "\u001b[K     |████████████████████████████████| 77 kB 7.2 MB/s \n",
            "\u001b[?25hCollecting pyyaml>=5.1\n",
            "  Downloading PyYAML-6.0-cp37-cp37m-manylinux_2_5_x86_64.manylinux1_x86_64.manylinux_2_12_x86_64.manylinux2010_x86_64.whl (596 kB)\n",
            "\u001b[K     |████████████████████████████████| 596 kB 63.8 MB/s \n",
            "\u001b[?25hCollecting sacremoses\n",
            "  Downloading sacremoses-0.0.49-py3-none-any.whl (895 kB)\n",
            "\u001b[K     |████████████████████████████████| 895 kB 59.2 MB/s \n",
            "\u001b[?25hRequirement already satisfied: regex!=2019.12.17 in /usr/local/lib/python3.7/dist-packages (from transformers->NERDA) (2019.12.20)\n",
            "Requirement already satisfied: pyparsing!=3.0.5,>=2.0.2 in /usr/local/lib/python3.7/dist-packages (from packaging>=20.0->transformers->NERDA) (3.0.8)\n",
            "Requirement already satisfied: zipp>=0.5 in /usr/local/lib/python3.7/dist-packages (from importlib-metadata->transformers->NERDA) (3.8.0)\n",
            "Requirement already satisfied: certifi>=2017.4.17 in /usr/local/lib/python3.7/dist-packages (from requests->transformers->NERDA) (2021.10.8)\n",
            "Requirement already satisfied: idna<3,>=2.5 in /usr/local/lib/python3.7/dist-packages (from requests->transformers->NERDA) (2.10)\n",
            "Requirement already satisfied: urllib3!=1.25.0,!=1.25.1,<1.26,>=1.21.1 in /usr/local/lib/python3.7/dist-packages (from requests->transformers->NERDA) (1.24.3)\n",
            "Requirement already satisfied: chardet<4,>=3.0.2 in /usr/local/lib/python3.7/dist-packages (from requests->transformers->NERDA) (3.0.4)\n",
            "Requirement already satisfied: click in /usr/local/lib/python3.7/dist-packages (from sacremoses->transformers->NERDA) (7.1.2)\n",
            "Building wheels for collected packages: progressbar\n",
            "  Building wheel for progressbar (setup.py) ... \u001b[?25l\u001b[?25hdone\n",
            "  Created wheel for progressbar: filename=progressbar-2.5-py3-none-any.whl size=12082 sha256=c8da53cadda28af3e1a56deaad5bcf4d984e13e4b4a5a62c09a197edf5e9c5af\n",
            "  Stored in directory: /root/.cache/pip/wheels/f0/fd/1f/3e35ed57e94cd8ced38dd46771f1f0f94f65fec548659ed855\n",
            "Successfully built progressbar\n",
            "Installing collected packages: pyyaml, tokenizers, sacremoses, huggingface-hub, transformers, pyconll, progressbar, NERDA\n",
            "  Attempting uninstall: pyyaml\n",
            "    Found existing installation: PyYAML 3.13\n",
            "    Uninstalling PyYAML-3.13:\n",
            "      Successfully uninstalled PyYAML-3.13\n",
            "Successfully installed NERDA-1.0.0 huggingface-hub-0.5.1 progressbar-2.5 pyconll-3.1.0 pyyaml-6.0 sacremoses-0.0.49 tokenizers-0.12.1 transformers-4.18.0\n"
          ]
        }
      ]
    },
    {
      "cell_type": "code",
      "source": [
        "from google.colab import drive\n",
        "drive.mount('/content/drive')"
      ],
      "metadata": {
        "id": "cRoe7QIU-s76"
      },
      "execution_count": null,
      "outputs": []
    },
    {
      "cell_type": "code",
      "metadata": {
        "id": "Ekchwg5vr-yI"
      },
      "source": [
        "from collections import defaultdict\n",
        "import itertools\n",
        "# import WhitespaceTokenizer() method from nltk\n",
        "from nltk.tokenize import WhitespaceTokenizer\n",
        "# Create a reference variable for Class WhitespaceTokenizer\n",
        "tk = WhitespaceTokenizer()\n"
      ],
      "execution_count": null,
      "outputs": []
    },
    {
      "cell_type": "code",
      "metadata": {
        "id": "YwxBPJELsEQ4"
      },
      "source": [
        "# data annotation\n",
        "def nerda_format(data):\n",
        "  ner = defaultdict(list)\n",
        "  for line1,line2 in itertools.zip_longest(*[data]*2):\n",
        "    sents = []\n",
        "    tags = []\n",
        "    tokens = iter(tk.tokenize(line1))\n",
        "    current_tag = \"O\"\n",
        "    for token in tokens:\n",
        "      try:\n",
        "        if token == \"[\":\n",
        "          current_tag = \"I\"\n",
        "          tags.append(\"B\")\n",
        "          sents.append(next(tokens))\n",
        "        elif token == \"]\":\n",
        "          current_tag = \"O\"\n",
        "        else:\n",
        "          tags.append(current_tag)\n",
        "          sents.append(token)\n",
        "      except StopIteration:\n",
        "        pass\n",
        "    ner['sentences'].append(sents)\n",
        "    ner['tags'].append(tags)\n",
        "  return ner"
      ],
      "execution_count": null,
      "outputs": []
    },
    {
      "cell_type": "code",
      "source": [
        "#converting annotated data to np.arrary\n",
        "import numpy as np\n",
        "from sklearn.model_selection import KFold\n",
        "from collections import defaultdict\n",
        "\n",
        "with open('all.txt') as data:\n",
        "  all = nerda_format(data)\n",
        "\n",
        "with open('dev.txt') as data:\n",
        "  dev = nerda_format(data)\n",
        "\n",
        "\n",
        "all_flat = list(zip(all['sentences'], all['tags']))\n",
        "\n",
        "#print(all_flat)\n",
        "\n",
        "all_flat = np.array(all_flat, dtype=object)\n",
        "print(all_flat)\n",
        "#print(dev_flat)\n",
        "print(all_flat.shape)\n",
        "\n",
        "\n"
      ],
      "metadata": {
        "id": "ocH_TtUpNLQ1"
      },
      "execution_count": null,
      "outputs": []
    },
    {
      "cell_type": "code",
      "source": [
        "#convert np.array to defaultdict\n",
        "def array2dict(arr):\n",
        "  dict = defaultdict(list)\n",
        "  for row in arr:\n",
        "    tok, lab = tuple(list(col) for col in row)\n",
        "    dict['sentences'].append(tok)\n",
        "    dict['tags'].append(lab)\n",
        "  return dict"
      ],
      "metadata": {
        "id": "dq38yTMwGZd5"
      },
      "execution_count": null,
      "outputs": []
    },
    {
      "cell_type": "code",
      "source": [
        "#scheme\n",
        "from NERDA.models import NERDA\n",
        "\n",
        "tag_scheme = [\n",
        "'I',\n",
        "'B'\n",
        "]\n"
      ],
      "metadata": {
        "id": "Vm5WCl7lVDKg"
      },
      "execution_count": null,
      "outputs": []
    },
    {
      "cell_type": "code",
      "source": [
        "#setup number of folds(splits)\n",
        "kf = KFold(n_splits=10)\n",
        "split = 1\n",
        "for train_index, test_index in kf.split(all_flat):\n",
        "  X_train, X_test = all_flat[train_index], all_flat[test_index]\n",
        "  training = array2dict(X_train)\n",
        "  testing = array2dict(X_test)\n",
        "  \n",
        "  model = NERDA(\n",
        "  dataset_training = training,\n",
        "  dataset_validation = dev,\n",
        "  tag_scheme = tag_scheme, \n",
        "  tag_outside = 'O',\n",
        "  transformer = 'bert-base-multilingual-cased',\n",
        "  hyperparameters = {'epochs' : 11,\n",
        "                  'warmup_steps' : 10,\n",
        "                  'train_batch_size': 7,\n",
        "                  'learning_rate': 0.0001})\n",
        "  model.train()\n",
        "  df = model.evaluate_performance(testing)\n",
        "  df.to_csv('out_%s.csv' % str(split), encoding='utf-8', index=False)\n",
        "  #print(\"Split %d: \" % split, \"TRAIN:\", training, \"\\tTEST:\", testing)\n",
        "  split += 1\n",
        "\n"
      ],
      "metadata": {
        "colab": {
          "base_uri": "https://localhost:8080/"
        },
        "id": "rXvlD-cGFjfv",
        "outputId": "483f1bf7-3613-4616-e015-c3daf7d48858"
      },
      "execution_count": 43,
      "outputs": [
        {
          "output_type": "stream",
          "name": "stdout",
          "text": [
            "Device automatically set to: cuda\n"
          ]
        },
        {
          "output_type": "stream",
          "name": "stderr",
          "text": [
            "Some weights of the model checkpoint at bert-base-multilingual-cased were not used when initializing BertModel: ['cls.predictions.bias', 'cls.predictions.transform.LayerNorm.bias', 'cls.predictions.transform.LayerNorm.weight', 'cls.seq_relationship.weight', 'cls.seq_relationship.bias', 'cls.predictions.decoder.weight', 'cls.predictions.transform.dense.bias', 'cls.predictions.transform.dense.weight']\n",
            "- This IS expected if you are initializing BertModel from the checkpoint of a model trained on another task or with another architecture (e.g. initializing a BertForSequenceClassification model from a BertForPreTraining model).\n",
            "- This IS NOT expected if you are initializing BertModel from the checkpoint of a model that you expect to be exactly identical (initializing a BertForSequenceClassification model from a BertForSequenceClassification model).\n",
            "/usr/local/lib/python3.7/dist-packages/transformers/optimization.py:309: FutureWarning: This implementation of AdamW is deprecated and will be removed in a future version. Use the PyTorch implementation torch.optim.AdamW instead, or set `no_deprecation_warning=True` to disable this warning\n",
            "  FutureWarning,\n"
          ]
        },
        {
          "output_type": "stream",
          "name": "stdout",
          "text": [
            "\n",
            " Epoch 1 / 11\n"
          ]
        },
        {
          "output_type": "stream",
          "name": "stderr",
          "text": [
            "  9%|▉         | 2/22 [00:00<00:05,  3.48it/s]/usr/local/lib/python3.7/dist-packages/NERDA/preprocessing.py:80: UserWarning: Sentence #31 length 150 exceeds max_len 128 and has been truncated\n",
            "  warnings.warn(msg)\n",
            "/usr/local/lib/python3.7/dist-packages/NERDA/preprocessing.py:80: UserWarning: Sentence #32 length 130 exceeds max_len 128 and has been truncated\n",
            "  warnings.warn(msg)\n",
            "/usr/local/lib/python3.7/dist-packages/NERDA/preprocessing.py:80: UserWarning: Sentence #33 length 174 exceeds max_len 128 and has been truncated\n",
            "  warnings.warn(msg)\n",
            " 14%|█▎        | 3/22 [00:00<00:04,  3.96it/s]/usr/local/lib/python3.7/dist-packages/NERDA/preprocessing.py:80: UserWarning: Sentence #36 length 233 exceeds max_len 128 and has been truncated\n",
            "  warnings.warn(msg)\n",
            "/usr/local/lib/python3.7/dist-packages/NERDA/preprocessing.py:80: UserWarning: Sentence #37 length 149 exceeds max_len 128 and has been truncated\n",
            "  warnings.warn(msg)\n",
            " 23%|██▎       | 5/22 [00:01<00:03,  4.36it/s]/usr/local/lib/python3.7/dist-packages/NERDA/preprocessing.py:80: UserWarning: Sentence #51 length 132 exceeds max_len 128 and has been truncated\n",
            "  warnings.warn(msg)\n",
            " 27%|██▋       | 6/22 [00:01<00:03,  4.49it/s]/usr/local/lib/python3.7/dist-packages/NERDA/preprocessing.py:80: UserWarning: Sentence #60 length 171 exceeds max_len 128 and has been truncated\n",
            "  warnings.warn(msg)\n",
            " 36%|███▋      | 8/22 [00:01<00:03,  4.61it/s]/usr/local/lib/python3.7/dist-packages/NERDA/preprocessing.py:80: UserWarning: Sentence #70 length 128 exceeds max_len 128 and has been truncated\n",
            "  warnings.warn(msg)\n",
            " 45%|████▌     | 10/22 [00:02<00:02,  4.66it/s]/usr/local/lib/python3.7/dist-packages/NERDA/preprocessing.py:80: UserWarning: Sentence #90 length 127 exceeds max_len 128 and has been truncated\n",
            "  warnings.warn(msg)\n",
            "100%|██████████| 22/22 [00:04<00:00,  4.52it/s]\n",
            "  0%|          | 0/6 [00:00<?, ?it/s]/usr/local/lib/python3.7/dist-packages/NERDA/preprocessing.py:80: UserWarning: Sentence #6 length 327 exceeds max_len 128 and has been truncated\n",
            "  warnings.warn(msg)\n",
            "/usr/local/lib/python3.7/dist-packages/NERDA/preprocessing.py:80: UserWarning: Sentence #16 length 132 exceeds max_len 128 and has been truncated\n",
            "  warnings.warn(msg)\n",
            "100%|██████████| 6/6 [00:00<00:00, 11.33it/s]\n"
          ]
        },
        {
          "output_type": "stream",
          "name": "stdout",
          "text": [
            "Train Loss = 0.8557198156010021 Valid Loss = 0.9258134166399637\n",
            "\n",
            " Epoch 2 / 11\n"
          ]
        },
        {
          "output_type": "stream",
          "name": "stderr",
          "text": [
            "  9%|▉         | 2/22 [00:00<00:04,  4.01it/s]/usr/local/lib/python3.7/dist-packages/NERDA/preprocessing.py:80: UserWarning: Sentence #31 length 150 exceeds max_len 128 and has been truncated\n",
            "  warnings.warn(msg)\n",
            "/usr/local/lib/python3.7/dist-packages/NERDA/preprocessing.py:80: UserWarning: Sentence #32 length 130 exceeds max_len 128 and has been truncated\n",
            "  warnings.warn(msg)\n",
            "/usr/local/lib/python3.7/dist-packages/NERDA/preprocessing.py:80: UserWarning: Sentence #33 length 174 exceeds max_len 128 and has been truncated\n",
            "  warnings.warn(msg)\n",
            " 14%|█▎        | 3/22 [00:00<00:04,  4.23it/s]/usr/local/lib/python3.7/dist-packages/NERDA/preprocessing.py:80: UserWarning: Sentence #36 length 233 exceeds max_len 128 and has been truncated\n",
            "  warnings.warn(msg)\n",
            "/usr/local/lib/python3.7/dist-packages/NERDA/preprocessing.py:80: UserWarning: Sentence #37 length 149 exceeds max_len 128 and has been truncated\n",
            "  warnings.warn(msg)\n",
            " 23%|██▎       | 5/22 [00:01<00:03,  4.51it/s]/usr/local/lib/python3.7/dist-packages/NERDA/preprocessing.py:80: UserWarning: Sentence #51 length 132 exceeds max_len 128 and has been truncated\n",
            "  warnings.warn(msg)\n",
            " 27%|██▋       | 6/22 [00:01<00:03,  4.55it/s]/usr/local/lib/python3.7/dist-packages/NERDA/preprocessing.py:80: UserWarning: Sentence #60 length 171 exceeds max_len 128 and has been truncated\n",
            "  warnings.warn(msg)\n",
            " 36%|███▋      | 8/22 [00:01<00:03,  4.61it/s]/usr/local/lib/python3.7/dist-packages/NERDA/preprocessing.py:80: UserWarning: Sentence #70 length 128 exceeds max_len 128 and has been truncated\n",
            "  warnings.warn(msg)\n",
            " 45%|████▌     | 10/22 [00:02<00:02,  4.68it/s]/usr/local/lib/python3.7/dist-packages/NERDA/preprocessing.py:80: UserWarning: Sentence #90 length 127 exceeds max_len 128 and has been truncated\n",
            "  warnings.warn(msg)\n",
            "100%|██████████| 22/22 [00:04<00:00,  4.62it/s]\n",
            "  0%|          | 0/6 [00:00<?, ?it/s]/usr/local/lib/python3.7/dist-packages/NERDA/preprocessing.py:80: UserWarning: Sentence #6 length 327 exceeds max_len 128 and has been truncated\n",
            "  warnings.warn(msg)\n",
            "/usr/local/lib/python3.7/dist-packages/NERDA/preprocessing.py:80: UserWarning: Sentence #16 length 132 exceeds max_len 128 and has been truncated\n",
            "  warnings.warn(msg)\n",
            "100%|██████████| 6/6 [00:00<00:00, 10.95it/s]\n"
          ]
        },
        {
          "output_type": "stream",
          "name": "stdout",
          "text": [
            "Train Loss = 0.678128795190291 Valid Loss = 0.8076708763837814\n",
            "\n",
            " Epoch 3 / 11\n"
          ]
        },
        {
          "output_type": "stream",
          "name": "stderr",
          "text": [
            "  9%|▉         | 2/22 [00:00<00:05,  3.92it/s]/usr/local/lib/python3.7/dist-packages/NERDA/preprocessing.py:80: UserWarning: Sentence #31 length 150 exceeds max_len 128 and has been truncated\n",
            "  warnings.warn(msg)\n",
            "/usr/local/lib/python3.7/dist-packages/NERDA/preprocessing.py:80: UserWarning: Sentence #32 length 130 exceeds max_len 128 and has been truncated\n",
            "  warnings.warn(msg)\n",
            "/usr/local/lib/python3.7/dist-packages/NERDA/preprocessing.py:80: UserWarning: Sentence #33 length 174 exceeds max_len 128 and has been truncated\n",
            "  warnings.warn(msg)\n",
            " 14%|█▎        | 3/22 [00:00<00:04,  4.18it/s]/usr/local/lib/python3.7/dist-packages/NERDA/preprocessing.py:80: UserWarning: Sentence #36 length 233 exceeds max_len 128 and has been truncated\n",
            "  warnings.warn(msg)\n",
            "/usr/local/lib/python3.7/dist-packages/NERDA/preprocessing.py:80: UserWarning: Sentence #37 length 149 exceeds max_len 128 and has been truncated\n",
            "  warnings.warn(msg)\n",
            " 23%|██▎       | 5/22 [00:01<00:04,  4.20it/s]/usr/local/lib/python3.7/dist-packages/NERDA/preprocessing.py:80: UserWarning: Sentence #51 length 132 exceeds max_len 128 and has been truncated\n",
            "  warnings.warn(msg)\n",
            " 27%|██▋       | 6/22 [00:01<00:03,  4.35it/s]/usr/local/lib/python3.7/dist-packages/NERDA/preprocessing.py:80: UserWarning: Sentence #60 length 171 exceeds max_len 128 and has been truncated\n",
            "  warnings.warn(msg)\n",
            " 36%|███▋      | 8/22 [00:01<00:03,  4.26it/s]/usr/local/lib/python3.7/dist-packages/NERDA/preprocessing.py:80: UserWarning: Sentence #70 length 128 exceeds max_len 128 and has been truncated\n",
            "  warnings.warn(msg)\n",
            " 45%|████▌     | 10/22 [00:02<00:02,  4.49it/s]/usr/local/lib/python3.7/dist-packages/NERDA/preprocessing.py:80: UserWarning: Sentence #90 length 127 exceeds max_len 128 and has been truncated\n",
            "  warnings.warn(msg)\n",
            "100%|██████████| 22/22 [00:04<00:00,  4.48it/s]\n",
            "  0%|          | 0/6 [00:00<?, ?it/s]/usr/local/lib/python3.7/dist-packages/NERDA/preprocessing.py:80: UserWarning: Sentence #6 length 327 exceeds max_len 128 and has been truncated\n",
            "  warnings.warn(msg)\n",
            "/usr/local/lib/python3.7/dist-packages/NERDA/preprocessing.py:80: UserWarning: Sentence #16 length 132 exceeds max_len 128 and has been truncated\n",
            "  warnings.warn(msg)\n",
            "100%|██████████| 6/6 [00:00<00:00, 11.32it/s]\n"
          ]
        },
        {
          "output_type": "stream",
          "name": "stdout",
          "text": [
            "Train Loss = 0.5210545452480967 Valid Loss = 0.7171065931518873\n",
            "\n",
            " Epoch 4 / 11\n"
          ]
        },
        {
          "output_type": "stream",
          "name": "stderr",
          "text": [
            "  9%|▉         | 2/22 [00:00<00:05,  3.99it/s]/usr/local/lib/python3.7/dist-packages/NERDA/preprocessing.py:80: UserWarning: Sentence #31 length 150 exceeds max_len 128 and has been truncated\n",
            "  warnings.warn(msg)\n",
            "/usr/local/lib/python3.7/dist-packages/NERDA/preprocessing.py:80: UserWarning: Sentence #32 length 130 exceeds max_len 128 and has been truncated\n",
            "  warnings.warn(msg)\n",
            "/usr/local/lib/python3.7/dist-packages/NERDA/preprocessing.py:80: UserWarning: Sentence #33 length 174 exceeds max_len 128 and has been truncated\n",
            "  warnings.warn(msg)\n",
            " 14%|█▎        | 3/22 [00:00<00:04,  4.22it/s]/usr/local/lib/python3.7/dist-packages/NERDA/preprocessing.py:80: UserWarning: Sentence #36 length 233 exceeds max_len 128 and has been truncated\n",
            "  warnings.warn(msg)\n",
            "/usr/local/lib/python3.7/dist-packages/NERDA/preprocessing.py:80: UserWarning: Sentence #37 length 149 exceeds max_len 128 and has been truncated\n",
            "  warnings.warn(msg)\n",
            " 23%|██▎       | 5/22 [00:01<00:03,  4.48it/s]/usr/local/lib/python3.7/dist-packages/NERDA/preprocessing.py:80: UserWarning: Sentence #51 length 132 exceeds max_len 128 and has been truncated\n",
            "  warnings.warn(msg)\n",
            " 27%|██▋       | 6/22 [00:01<00:03,  4.54it/s]/usr/local/lib/python3.7/dist-packages/NERDA/preprocessing.py:80: UserWarning: Sentence #60 length 171 exceeds max_len 128 and has been truncated\n",
            "  warnings.warn(msg)\n",
            " 36%|███▋      | 8/22 [00:01<00:03,  4.50it/s]/usr/local/lib/python3.7/dist-packages/NERDA/preprocessing.py:80: UserWarning: Sentence #70 length 128 exceeds max_len 128 and has been truncated\n",
            "  warnings.warn(msg)\n",
            " 45%|████▌     | 10/22 [00:02<00:02,  4.32it/s]/usr/local/lib/python3.7/dist-packages/NERDA/preprocessing.py:80: UserWarning: Sentence #90 length 127 exceeds max_len 128 and has been truncated\n",
            "  warnings.warn(msg)\n",
            "100%|██████████| 22/22 [00:05<00:00,  4.05it/s]\n",
            "  0%|          | 0/6 [00:00<?, ?it/s]/usr/local/lib/python3.7/dist-packages/NERDA/preprocessing.py:80: UserWarning: Sentence #6 length 327 exceeds max_len 128 and has been truncated\n",
            "  warnings.warn(msg)\n",
            "/usr/local/lib/python3.7/dist-packages/NERDA/preprocessing.py:80: UserWarning: Sentence #16 length 132 exceeds max_len 128 and has been truncated\n",
            "  warnings.warn(msg)\n",
            "100%|██████████| 6/6 [00:01<00:00,  4.06it/s]\n"
          ]
        },
        {
          "output_type": "stream",
          "name": "stdout",
          "text": [
            "Train Loss = 0.32695737066255376 Valid Loss = 1.0586560666561127\n",
            "\n",
            " Epoch 5 / 11\n"
          ]
        },
        {
          "output_type": "stream",
          "name": "stderr",
          "text": [
            "  9%|▉         | 2/22 [00:00<00:07,  2.70it/s]/usr/local/lib/python3.7/dist-packages/NERDA/preprocessing.py:80: UserWarning: Sentence #31 length 150 exceeds max_len 128 and has been truncated\n",
            "  warnings.warn(msg)\n",
            "/usr/local/lib/python3.7/dist-packages/NERDA/preprocessing.py:80: UserWarning: Sentence #32 length 130 exceeds max_len 128 and has been truncated\n",
            "  warnings.warn(msg)\n",
            "/usr/local/lib/python3.7/dist-packages/NERDA/preprocessing.py:80: UserWarning: Sentence #33 length 174 exceeds max_len 128 and has been truncated\n",
            "  warnings.warn(msg)\n",
            " 14%|█▎        | 3/22 [00:01<00:05,  3.35it/s]/usr/local/lib/python3.7/dist-packages/NERDA/preprocessing.py:80: UserWarning: Sentence #36 length 233 exceeds max_len 128 and has been truncated\n",
            "  warnings.warn(msg)\n",
            "/usr/local/lib/python3.7/dist-packages/NERDA/preprocessing.py:80: UserWarning: Sentence #37 length 149 exceeds max_len 128 and has been truncated\n",
            "  warnings.warn(msg)\n",
            " 23%|██▎       | 5/22 [00:01<00:04,  3.95it/s]/usr/local/lib/python3.7/dist-packages/NERDA/preprocessing.py:80: UserWarning: Sentence #51 length 132 exceeds max_len 128 and has been truncated\n",
            "  warnings.warn(msg)\n",
            " 27%|██▋       | 6/22 [00:01<00:03,  4.17it/s]/usr/local/lib/python3.7/dist-packages/NERDA/preprocessing.py:80: UserWarning: Sentence #60 length 171 exceeds max_len 128 and has been truncated\n",
            "  warnings.warn(msg)\n",
            " 36%|███▋      | 8/22 [00:02<00:03,  4.42it/s]/usr/local/lib/python3.7/dist-packages/NERDA/preprocessing.py:80: UserWarning: Sentence #70 length 128 exceeds max_len 128 and has been truncated\n",
            "  warnings.warn(msg)\n",
            " 45%|████▌     | 10/22 [00:02<00:02,  4.47it/s]/usr/local/lib/python3.7/dist-packages/NERDA/preprocessing.py:80: UserWarning: Sentence #90 length 127 exceeds max_len 128 and has been truncated\n",
            "  warnings.warn(msg)\n",
            "100%|██████████| 22/22 [00:05<00:00,  4.10it/s]\n",
            "  0%|          | 0/6 [00:00<?, ?it/s]/usr/local/lib/python3.7/dist-packages/NERDA/preprocessing.py:80: UserWarning: Sentence #6 length 327 exceeds max_len 128 and has been truncated\n",
            "  warnings.warn(msg)\n",
            "/usr/local/lib/python3.7/dist-packages/NERDA/preprocessing.py:80: UserWarning: Sentence #16 length 132 exceeds max_len 128 and has been truncated\n",
            "  warnings.warn(msg)\n",
            "100%|██████████| 6/6 [00:00<00:00, 11.42it/s]\n"
          ]
        },
        {
          "output_type": "stream",
          "name": "stdout",
          "text": [
            "Train Loss = 0.26337272369048814 Valid Loss = 1.0084745263059933\n",
            "\n",
            " Epoch 6 / 11\n"
          ]
        },
        {
          "output_type": "stream",
          "name": "stderr",
          "text": [
            "  9%|▉         | 2/22 [00:00<00:05,  3.86it/s]/usr/local/lib/python3.7/dist-packages/NERDA/preprocessing.py:80: UserWarning: Sentence #31 length 150 exceeds max_len 128 and has been truncated\n",
            "  warnings.warn(msg)\n",
            "/usr/local/lib/python3.7/dist-packages/NERDA/preprocessing.py:80: UserWarning: Sentence #32 length 130 exceeds max_len 128 and has been truncated\n",
            "  warnings.warn(msg)\n",
            "/usr/local/lib/python3.7/dist-packages/NERDA/preprocessing.py:80: UserWarning: Sentence #33 length 174 exceeds max_len 128 and has been truncated\n",
            "  warnings.warn(msg)\n",
            " 14%|█▎        | 3/22 [00:00<00:04,  4.20it/s]/usr/local/lib/python3.7/dist-packages/NERDA/preprocessing.py:80: UserWarning: Sentence #36 length 233 exceeds max_len 128 and has been truncated\n",
            "  warnings.warn(msg)\n",
            "/usr/local/lib/python3.7/dist-packages/NERDA/preprocessing.py:80: UserWarning: Sentence #37 length 149 exceeds max_len 128 and has been truncated\n",
            "  warnings.warn(msg)\n",
            " 23%|██▎       | 5/22 [00:01<00:03,  4.34it/s]/usr/local/lib/python3.7/dist-packages/NERDA/preprocessing.py:80: UserWarning: Sentence #51 length 132 exceeds max_len 128 and has been truncated\n",
            "  warnings.warn(msg)\n",
            " 27%|██▋       | 6/22 [00:01<00:03,  4.44it/s]/usr/local/lib/python3.7/dist-packages/NERDA/preprocessing.py:80: UserWarning: Sentence #60 length 171 exceeds max_len 128 and has been truncated\n",
            "  warnings.warn(msg)\n",
            " 36%|███▋      | 8/22 [00:01<00:03,  4.53it/s]/usr/local/lib/python3.7/dist-packages/NERDA/preprocessing.py:80: UserWarning: Sentence #70 length 128 exceeds max_len 128 and has been truncated\n",
            "  warnings.warn(msg)\n",
            " 45%|████▌     | 10/22 [00:02<00:02,  4.46it/s]/usr/local/lib/python3.7/dist-packages/NERDA/preprocessing.py:80: UserWarning: Sentence #90 length 127 exceeds max_len 128 and has been truncated\n",
            "  warnings.warn(msg)\n",
            "100%|██████████| 22/22 [00:04<00:00,  4.48it/s]\n",
            "  0%|          | 0/6 [00:00<?, ?it/s]/usr/local/lib/python3.7/dist-packages/NERDA/preprocessing.py:80: UserWarning: Sentence #6 length 327 exceeds max_len 128 and has been truncated\n",
            "  warnings.warn(msg)\n",
            "/usr/local/lib/python3.7/dist-packages/NERDA/preprocessing.py:80: UserWarning: Sentence #16 length 132 exceeds max_len 128 and has been truncated\n",
            "  warnings.warn(msg)\n",
            "100%|██████████| 6/6 [00:00<00:00, 10.92it/s]\n"
          ]
        },
        {
          "output_type": "stream",
          "name": "stdout",
          "text": [
            "Train Loss = 0.23340177612209861 Valid Loss = 1.0832997485995293\n",
            "\n",
            " Epoch 7 / 11\n"
          ]
        },
        {
          "output_type": "stream",
          "name": "stderr",
          "text": [
            "  9%|▉         | 2/22 [00:00<00:05,  3.90it/s]/usr/local/lib/python3.7/dist-packages/NERDA/preprocessing.py:80: UserWarning: Sentence #31 length 150 exceeds max_len 128 and has been truncated\n",
            "  warnings.warn(msg)\n",
            "/usr/local/lib/python3.7/dist-packages/NERDA/preprocessing.py:80: UserWarning: Sentence #32 length 130 exceeds max_len 128 and has been truncated\n",
            "  warnings.warn(msg)\n",
            "/usr/local/lib/python3.7/dist-packages/NERDA/preprocessing.py:80: UserWarning: Sentence #33 length 174 exceeds max_len 128 and has been truncated\n",
            "  warnings.warn(msg)\n",
            " 14%|█▎        | 3/22 [00:00<00:04,  4.18it/s]/usr/local/lib/python3.7/dist-packages/NERDA/preprocessing.py:80: UserWarning: Sentence #36 length 233 exceeds max_len 128 and has been truncated\n",
            "  warnings.warn(msg)\n",
            "/usr/local/lib/python3.7/dist-packages/NERDA/preprocessing.py:80: UserWarning: Sentence #37 length 149 exceeds max_len 128 and has been truncated\n",
            "  warnings.warn(msg)\n",
            " 23%|██▎       | 5/22 [00:01<00:03,  4.40it/s]/usr/local/lib/python3.7/dist-packages/NERDA/preprocessing.py:80: UserWarning: Sentence #51 length 132 exceeds max_len 128 and has been truncated\n",
            "  warnings.warn(msg)\n",
            " 27%|██▋       | 6/22 [00:01<00:03,  4.47it/s]/usr/local/lib/python3.7/dist-packages/NERDA/preprocessing.py:80: UserWarning: Sentence #60 length 171 exceeds max_len 128 and has been truncated\n",
            "  warnings.warn(msg)\n",
            " 36%|███▋      | 8/22 [00:01<00:03,  4.56it/s]/usr/local/lib/python3.7/dist-packages/NERDA/preprocessing.py:80: UserWarning: Sentence #70 length 128 exceeds max_len 128 and has been truncated\n",
            "  warnings.warn(msg)\n",
            " 45%|████▌     | 10/22 [00:02<00:02,  4.58it/s]/usr/local/lib/python3.7/dist-packages/NERDA/preprocessing.py:80: UserWarning: Sentence #90 length 127 exceeds max_len 128 and has been truncated\n",
            "  warnings.warn(msg)\n",
            "100%|██████████| 22/22 [00:04<00:00,  4.50it/s]\n",
            "  0%|          | 0/6 [00:00<?, ?it/s]/usr/local/lib/python3.7/dist-packages/NERDA/preprocessing.py:80: UserWarning: Sentence #6 length 327 exceeds max_len 128 and has been truncated\n",
            "  warnings.warn(msg)\n",
            "/usr/local/lib/python3.7/dist-packages/NERDA/preprocessing.py:80: UserWarning: Sentence #16 length 132 exceeds max_len 128 and has been truncated\n",
            "  warnings.warn(msg)\n",
            "100%|██████████| 6/6 [00:00<00:00, 10.82it/s]\n"
          ]
        },
        {
          "output_type": "stream",
          "name": "stdout",
          "text": [
            "Train Loss = 0.17386648088524287 Valid Loss = 1.1995844691991806\n",
            "\n",
            " Epoch 8 / 11\n"
          ]
        },
        {
          "output_type": "stream",
          "name": "stderr",
          "text": [
            "  9%|▉         | 2/22 [00:00<00:05,  3.93it/s]/usr/local/lib/python3.7/dist-packages/NERDA/preprocessing.py:80: UserWarning: Sentence #31 length 150 exceeds max_len 128 and has been truncated\n",
            "  warnings.warn(msg)\n",
            "/usr/local/lib/python3.7/dist-packages/NERDA/preprocessing.py:80: UserWarning: Sentence #32 length 130 exceeds max_len 128 and has been truncated\n",
            "  warnings.warn(msg)\n",
            "/usr/local/lib/python3.7/dist-packages/NERDA/preprocessing.py:80: UserWarning: Sentence #33 length 174 exceeds max_len 128 and has been truncated\n",
            "  warnings.warn(msg)\n",
            " 14%|█▎        | 3/22 [00:00<00:04,  4.15it/s]/usr/local/lib/python3.7/dist-packages/NERDA/preprocessing.py:80: UserWarning: Sentence #36 length 233 exceeds max_len 128 and has been truncated\n",
            "  warnings.warn(msg)\n",
            "/usr/local/lib/python3.7/dist-packages/NERDA/preprocessing.py:80: UserWarning: Sentence #37 length 149 exceeds max_len 128 and has been truncated\n",
            "  warnings.warn(msg)\n",
            " 23%|██▎       | 5/22 [00:01<00:03,  4.42it/s]/usr/local/lib/python3.7/dist-packages/NERDA/preprocessing.py:80: UserWarning: Sentence #51 length 132 exceeds max_len 128 and has been truncated\n",
            "  warnings.warn(msg)\n",
            " 27%|██▋       | 6/22 [00:01<00:03,  4.51it/s]/usr/local/lib/python3.7/dist-packages/NERDA/preprocessing.py:80: UserWarning: Sentence #60 length 171 exceeds max_len 128 and has been truncated\n",
            "  warnings.warn(msg)\n",
            " 36%|███▋      | 8/22 [00:01<00:03,  4.57it/s]/usr/local/lib/python3.7/dist-packages/NERDA/preprocessing.py:80: UserWarning: Sentence #70 length 128 exceeds max_len 128 and has been truncated\n",
            "  warnings.warn(msg)\n",
            " 45%|████▌     | 10/22 [00:02<00:02,  4.50it/s]/usr/local/lib/python3.7/dist-packages/NERDA/preprocessing.py:80: UserWarning: Sentence #90 length 127 exceeds max_len 128 and has been truncated\n",
            "  warnings.warn(msg)\n",
            "100%|██████████| 22/22 [00:04<00:00,  4.49it/s]\n",
            "  0%|          | 0/6 [00:00<?, ?it/s]/usr/local/lib/python3.7/dist-packages/NERDA/preprocessing.py:80: UserWarning: Sentence #6 length 327 exceeds max_len 128 and has been truncated\n",
            "  warnings.warn(msg)\n",
            "/usr/local/lib/python3.7/dist-packages/NERDA/preprocessing.py:80: UserWarning: Sentence #16 length 132 exceeds max_len 128 and has been truncated\n",
            "  warnings.warn(msg)\n",
            "100%|██████████| 6/6 [00:00<00:00, 11.00it/s]\n"
          ]
        },
        {
          "output_type": "stream",
          "name": "stdout",
          "text": [
            "Train Loss = 0.14858096321536737 Valid Loss = 1.1869752158721287\n",
            "\n",
            " Epoch 9 / 11\n"
          ]
        },
        {
          "output_type": "stream",
          "name": "stderr",
          "text": [
            "  9%|▉         | 2/22 [00:00<00:05,  3.89it/s]/usr/local/lib/python3.7/dist-packages/NERDA/preprocessing.py:80: UserWarning: Sentence #31 length 150 exceeds max_len 128 and has been truncated\n",
            "  warnings.warn(msg)\n",
            "/usr/local/lib/python3.7/dist-packages/NERDA/preprocessing.py:80: UserWarning: Sentence #32 length 130 exceeds max_len 128 and has been truncated\n",
            "  warnings.warn(msg)\n",
            "/usr/local/lib/python3.7/dist-packages/NERDA/preprocessing.py:80: UserWarning: Sentence #33 length 174 exceeds max_len 128 and has been truncated\n",
            "  warnings.warn(msg)\n",
            " 14%|█▎        | 3/22 [00:00<00:04,  4.17it/s]/usr/local/lib/python3.7/dist-packages/NERDA/preprocessing.py:80: UserWarning: Sentence #36 length 233 exceeds max_len 128 and has been truncated\n",
            "  warnings.warn(msg)\n",
            "/usr/local/lib/python3.7/dist-packages/NERDA/preprocessing.py:80: UserWarning: Sentence #37 length 149 exceeds max_len 128 and has been truncated\n",
            "  warnings.warn(msg)\n",
            " 23%|██▎       | 5/22 [00:01<00:03,  4.36it/s]/usr/local/lib/python3.7/dist-packages/NERDA/preprocessing.py:80: UserWarning: Sentence #51 length 132 exceeds max_len 128 and has been truncated\n",
            "  warnings.warn(msg)\n",
            " 27%|██▋       | 6/22 [00:01<00:03,  4.50it/s]/usr/local/lib/python3.7/dist-packages/NERDA/preprocessing.py:80: UserWarning: Sentence #60 length 171 exceeds max_len 128 and has been truncated\n",
            "  warnings.warn(msg)\n",
            " 36%|███▋      | 8/22 [00:01<00:03,  4.48it/s]/usr/local/lib/python3.7/dist-packages/NERDA/preprocessing.py:80: UserWarning: Sentence #70 length 128 exceeds max_len 128 and has been truncated\n",
            "  warnings.warn(msg)\n",
            " 45%|████▌     | 10/22 [00:02<00:02,  4.52it/s]/usr/local/lib/python3.7/dist-packages/NERDA/preprocessing.py:80: UserWarning: Sentence #90 length 127 exceeds max_len 128 and has been truncated\n",
            "  warnings.warn(msg)\n",
            "100%|██████████| 22/22 [00:05<00:00,  4.31it/s]\n",
            "  0%|          | 0/6 [00:00<?, ?it/s]/usr/local/lib/python3.7/dist-packages/NERDA/preprocessing.py:80: UserWarning: Sentence #6 length 327 exceeds max_len 128 and has been truncated\n",
            "  warnings.warn(msg)\n",
            "/usr/local/lib/python3.7/dist-packages/NERDA/preprocessing.py:80: UserWarning: Sentence #16 length 132 exceeds max_len 128 and has been truncated\n",
            "  warnings.warn(msg)\n",
            "100%|██████████| 6/6 [00:00<00:00,  8.21it/s]\n"
          ]
        },
        {
          "output_type": "stream",
          "name": "stdout",
          "text": [
            "Train Loss = 0.13268863710320808 Valid Loss = 1.168199598789215\n",
            "\n",
            " Epoch 10 / 11\n"
          ]
        },
        {
          "output_type": "stream",
          "name": "stderr",
          "text": [
            "  9%|▉         | 2/22 [00:00<00:06,  3.07it/s]/usr/local/lib/python3.7/dist-packages/NERDA/preprocessing.py:80: UserWarning: Sentence #31 length 150 exceeds max_len 128 and has been truncated\n",
            "  warnings.warn(msg)\n",
            "/usr/local/lib/python3.7/dist-packages/NERDA/preprocessing.py:80: UserWarning: Sentence #32 length 130 exceeds max_len 128 and has been truncated\n",
            "  warnings.warn(msg)\n",
            "/usr/local/lib/python3.7/dist-packages/NERDA/preprocessing.py:80: UserWarning: Sentence #33 length 174 exceeds max_len 128 and has been truncated\n",
            "  warnings.warn(msg)\n",
            " 14%|█▎        | 3/22 [00:00<00:05,  3.59it/s]/usr/local/lib/python3.7/dist-packages/NERDA/preprocessing.py:80: UserWarning: Sentence #36 length 233 exceeds max_len 128 and has been truncated\n",
            "  warnings.warn(msg)\n",
            "/usr/local/lib/python3.7/dist-packages/NERDA/preprocessing.py:80: UserWarning: Sentence #37 length 149 exceeds max_len 128 and has been truncated\n",
            "  warnings.warn(msg)\n",
            " 23%|██▎       | 5/22 [00:01<00:04,  4.11it/s]/usr/local/lib/python3.7/dist-packages/NERDA/preprocessing.py:80: UserWarning: Sentence #51 length 132 exceeds max_len 128 and has been truncated\n",
            "  warnings.warn(msg)\n",
            " 27%|██▋       | 6/22 [00:01<00:03,  4.26it/s]/usr/local/lib/python3.7/dist-packages/NERDA/preprocessing.py:80: UserWarning: Sentence #60 length 171 exceeds max_len 128 and has been truncated\n",
            "  warnings.warn(msg)\n",
            " 36%|███▋      | 8/22 [00:02<00:03,  4.42it/s]/usr/local/lib/python3.7/dist-packages/NERDA/preprocessing.py:80: UserWarning: Sentence #70 length 128 exceeds max_len 128 and has been truncated\n",
            "  warnings.warn(msg)\n",
            " 45%|████▌     | 10/22 [00:02<00:02,  4.48it/s]/usr/local/lib/python3.7/dist-packages/NERDA/preprocessing.py:80: UserWarning: Sentence #90 length 127 exceeds max_len 128 and has been truncated\n",
            "  warnings.warn(msg)\n",
            "100%|██████████| 22/22 [00:05<00:00,  4.31it/s]\n",
            "  0%|          | 0/6 [00:00<?, ?it/s]/usr/local/lib/python3.7/dist-packages/NERDA/preprocessing.py:80: UserWarning: Sentence #6 length 327 exceeds max_len 128 and has been truncated\n",
            "  warnings.warn(msg)\n",
            "/usr/local/lib/python3.7/dist-packages/NERDA/preprocessing.py:80: UserWarning: Sentence #16 length 132 exceeds max_len 128 and has been truncated\n",
            "  warnings.warn(msg)\n",
            "100%|██████████| 6/6 [00:00<00:00, 10.90it/s]\n"
          ]
        },
        {
          "output_type": "stream",
          "name": "stdout",
          "text": [
            "Train Loss = 0.1057147438722578 Valid Loss = 1.123728317519029\n",
            "\n",
            " Epoch 11 / 11\n"
          ]
        },
        {
          "output_type": "stream",
          "name": "stderr",
          "text": [
            "  9%|▉         | 2/22 [00:00<00:05,  3.88it/s]/usr/local/lib/python3.7/dist-packages/NERDA/preprocessing.py:80: UserWarning: Sentence #31 length 150 exceeds max_len 128 and has been truncated\n",
            "  warnings.warn(msg)\n",
            "/usr/local/lib/python3.7/dist-packages/NERDA/preprocessing.py:80: UserWarning: Sentence #32 length 130 exceeds max_len 128 and has been truncated\n",
            "  warnings.warn(msg)\n",
            "/usr/local/lib/python3.7/dist-packages/NERDA/preprocessing.py:80: UserWarning: Sentence #33 length 174 exceeds max_len 128 and has been truncated\n",
            "  warnings.warn(msg)\n",
            " 14%|█▎        | 3/22 [00:00<00:04,  4.10it/s]/usr/local/lib/python3.7/dist-packages/NERDA/preprocessing.py:80: UserWarning: Sentence #36 length 233 exceeds max_len 128 and has been truncated\n",
            "  warnings.warn(msg)\n",
            "/usr/local/lib/python3.7/dist-packages/NERDA/preprocessing.py:80: UserWarning: Sentence #37 length 149 exceeds max_len 128 and has been truncated\n",
            "  warnings.warn(msg)\n",
            " 23%|██▎       | 5/22 [00:01<00:03,  4.36it/s]/usr/local/lib/python3.7/dist-packages/NERDA/preprocessing.py:80: UserWarning: Sentence #51 length 132 exceeds max_len 128 and has been truncated\n",
            "  warnings.warn(msg)\n",
            " 27%|██▋       | 6/22 [00:01<00:03,  4.44it/s]/usr/local/lib/python3.7/dist-packages/NERDA/preprocessing.py:80: UserWarning: Sentence #60 length 171 exceeds max_len 128 and has been truncated\n",
            "  warnings.warn(msg)\n",
            " 36%|███▋      | 8/22 [00:01<00:03,  4.51it/s]/usr/local/lib/python3.7/dist-packages/NERDA/preprocessing.py:80: UserWarning: Sentence #70 length 128 exceeds max_len 128 and has been truncated\n",
            "  warnings.warn(msg)\n",
            " 45%|████▌     | 10/22 [00:02<00:02,  4.53it/s]/usr/local/lib/python3.7/dist-packages/NERDA/preprocessing.py:80: UserWarning: Sentence #90 length 127 exceeds max_len 128 and has been truncated\n",
            "  warnings.warn(msg)\n",
            "100%|██████████| 22/22 [00:04<00:00,  4.44it/s]\n",
            "  0%|          | 0/6 [00:00<?, ?it/s]/usr/local/lib/python3.7/dist-packages/NERDA/preprocessing.py:80: UserWarning: Sentence #6 length 327 exceeds max_len 128 and has been truncated\n",
            "  warnings.warn(msg)\n",
            "/usr/local/lib/python3.7/dist-packages/NERDA/preprocessing.py:80: UserWarning: Sentence #16 length 132 exceeds max_len 128 and has been truncated\n",
            "  warnings.warn(msg)\n",
            "100%|██████████| 6/6 [00:00<00:00, 10.78it/s]"
          ]
        },
        {
          "output_type": "stream",
          "name": "stdout",
          "text": [
            "Train Loss = 0.08138356489044699 Valid Loss = 1.1352061380942662\n"
          ]
        },
        {
          "output_type": "stream",
          "name": "stderr",
          "text": [
            "\n",
            "/usr/local/lib/python3.7/dist-packages/NERDA/preprocessing.py:80: UserWarning: Sentence #6 length 262 exceeds max_len 128 and has been truncated\n",
            "  warnings.warn(msg)\n",
            "/usr/local/lib/python3.7/dist-packages/NERDA/preprocessing.py:80: UserWarning: Sentence #14 length 152 exceeds max_len 128 and has been truncated\n",
            "  warnings.warn(msg)\n",
            "/usr/local/lib/python3.7/dist-packages/NERDA/performance.py:39: UserWarning: length of observed values exceeded lengths of predicted values in 2 cases and were truncated. _Consider_ increasing max_len parameter for your model.\n",
            "  warnings.warn(f'length of observed values exceeded lengths of predicted values in {n_exceeds} cases and were truncated. _Consider_ increasing max_len parameter for your model.')\n",
            "/usr/local/lib/python3.7/dist-packages/NERDA/performance.py:39: UserWarning: length of observed values exceeded lengths of predicted values in 2 cases and were truncated. _Consider_ increasing max_len parameter for your model.\n",
            "  warnings.warn(f'length of observed values exceeded lengths of predicted values in {n_exceeds} cases and were truncated. _Consider_ increasing max_len parameter for your model.')\n",
            "/usr/local/lib/python3.7/dist-packages/NERDA/performance.py:39: UserWarning: length of observed values exceeded lengths of predicted values in 2 cases and were truncated. _Consider_ increasing max_len parameter for your model.\n",
            "  warnings.warn(f'length of observed values exceeded lengths of predicted values in {n_exceeds} cases and were truncated. _Consider_ increasing max_len parameter for your model.')\n"
          ]
        },
        {
          "output_type": "stream",
          "name": "stdout",
          "text": [
            "Device automatically set to: cuda\n"
          ]
        },
        {
          "output_type": "stream",
          "name": "stderr",
          "text": [
            "Some weights of the model checkpoint at bert-base-multilingual-cased were not used when initializing BertModel: ['cls.predictions.bias', 'cls.predictions.transform.LayerNorm.bias', 'cls.predictions.transform.LayerNorm.weight', 'cls.seq_relationship.weight', 'cls.seq_relationship.bias', 'cls.predictions.decoder.weight', 'cls.predictions.transform.dense.bias', 'cls.predictions.transform.dense.weight']\n",
            "- This IS expected if you are initializing BertModel from the checkpoint of a model trained on another task or with another architecture (e.g. initializing a BertForSequenceClassification model from a BertForPreTraining model).\n",
            "- This IS NOT expected if you are initializing BertModel from the checkpoint of a model that you expect to be exactly identical (initializing a BertForSequenceClassification model from a BertForSequenceClassification model).\n",
            "/usr/local/lib/python3.7/dist-packages/transformers/optimization.py:309: FutureWarning: This implementation of AdamW is deprecated and will be removed in a future version. Use the PyTorch implementation torch.optim.AdamW instead, or set `no_deprecation_warning=True` to disable this warning\n",
            "  FutureWarning,\n"
          ]
        },
        {
          "output_type": "stream",
          "name": "stdout",
          "text": [
            "\n",
            " Epoch 1 / 11\n"
          ]
        },
        {
          "output_type": "stream",
          "name": "stderr",
          "text": [
            "\r  0%|          | 0/22 [00:00<?, ?it/s]/usr/local/lib/python3.7/dist-packages/NERDA/preprocessing.py:80: UserWarning: Sentence #6 length 262 exceeds max_len 128 and has been truncated\n",
            "  warnings.warn(msg)\n",
            "/usr/local/lib/python3.7/dist-packages/NERDA/preprocessing.py:80: UserWarning: Sentence #14 length 152 exceeds max_len 128 and has been truncated\n",
            "  warnings.warn(msg)\n",
            "  9%|▉         | 2/22 [00:00<00:05,  3.38it/s]/usr/local/lib/python3.7/dist-packages/NERDA/preprocessing.py:80: UserWarning: Sentence #31 length 150 exceeds max_len 128 and has been truncated\n",
            "  warnings.warn(msg)\n",
            "/usr/local/lib/python3.7/dist-packages/NERDA/preprocessing.py:80: UserWarning: Sentence #32 length 130 exceeds max_len 128 and has been truncated\n",
            "  warnings.warn(msg)\n",
            "/usr/local/lib/python3.7/dist-packages/NERDA/preprocessing.py:80: UserWarning: Sentence #33 length 174 exceeds max_len 128 and has been truncated\n",
            "  warnings.warn(msg)\n",
            " 14%|█▎        | 3/22 [00:00<00:04,  3.83it/s]/usr/local/lib/python3.7/dist-packages/NERDA/preprocessing.py:80: UserWarning: Sentence #36 length 233 exceeds max_len 128 and has been truncated\n",
            "  warnings.warn(msg)\n",
            "/usr/local/lib/python3.7/dist-packages/NERDA/preprocessing.py:80: UserWarning: Sentence #37 length 149 exceeds max_len 128 and has been truncated\n",
            "  warnings.warn(msg)\n",
            " 23%|██▎       | 5/22 [00:01<00:03,  4.28it/s]/usr/local/lib/python3.7/dist-packages/NERDA/preprocessing.py:80: UserWarning: Sentence #51 length 132 exceeds max_len 128 and has been truncated\n",
            "  warnings.warn(msg)\n",
            " 27%|██▋       | 6/22 [00:01<00:03,  4.34it/s]/usr/local/lib/python3.7/dist-packages/NERDA/preprocessing.py:80: UserWarning: Sentence #60 length 171 exceeds max_len 128 and has been truncated\n",
            "  warnings.warn(msg)\n",
            " 36%|███▋      | 8/22 [00:01<00:03,  4.45it/s]/usr/local/lib/python3.7/dist-packages/NERDA/preprocessing.py:80: UserWarning: Sentence #70 length 128 exceeds max_len 128 and has been truncated\n",
            "  warnings.warn(msg)\n",
            " 45%|████▌     | 10/22 [00:02<00:02,  4.53it/s]/usr/local/lib/python3.7/dist-packages/NERDA/preprocessing.py:80: UserWarning: Sentence #90 length 127 exceeds max_len 128 and has been truncated\n",
            "  warnings.warn(msg)\n",
            "100%|██████████| 22/22 [00:04<00:00,  4.40it/s]\n",
            "  0%|          | 0/6 [00:00<?, ?it/s]/usr/local/lib/python3.7/dist-packages/NERDA/preprocessing.py:80: UserWarning: Sentence #6 length 327 exceeds max_len 128 and has been truncated\n",
            "  warnings.warn(msg)\n",
            "/usr/local/lib/python3.7/dist-packages/NERDA/preprocessing.py:80: UserWarning: Sentence #16 length 132 exceeds max_len 128 and has been truncated\n",
            "  warnings.warn(msg)\n",
            "100%|██████████| 6/6 [00:00<00:00, 11.08it/s]\n"
          ]
        },
        {
          "output_type": "stream",
          "name": "stdout",
          "text": [
            "Train Loss = 0.8126232068647038 Valid Loss = 0.9742616713047028\n",
            "\n",
            " Epoch 2 / 11\n"
          ]
        },
        {
          "output_type": "stream",
          "name": "stderr",
          "text": [
            "\r  0%|          | 0/22 [00:00<?, ?it/s]/usr/local/lib/python3.7/dist-packages/NERDA/preprocessing.py:80: UserWarning: Sentence #6 length 262 exceeds max_len 128 and has been truncated\n",
            "  warnings.warn(msg)\n",
            "/usr/local/lib/python3.7/dist-packages/NERDA/preprocessing.py:80: UserWarning: Sentence #14 length 152 exceeds max_len 128 and has been truncated\n",
            "  warnings.warn(msg)\n",
            "  9%|▉         | 2/22 [00:00<00:05,  3.78it/s]/usr/local/lib/python3.7/dist-packages/NERDA/preprocessing.py:80: UserWarning: Sentence #31 length 150 exceeds max_len 128 and has been truncated\n",
            "  warnings.warn(msg)\n",
            "/usr/local/lib/python3.7/dist-packages/NERDA/preprocessing.py:80: UserWarning: Sentence #32 length 130 exceeds max_len 128 and has been truncated\n",
            "  warnings.warn(msg)\n",
            "/usr/local/lib/python3.7/dist-packages/NERDA/preprocessing.py:80: UserWarning: Sentence #33 length 174 exceeds max_len 128 and has been truncated\n",
            "  warnings.warn(msg)\n",
            " 14%|█▎        | 3/22 [00:00<00:04,  4.04it/s]/usr/local/lib/python3.7/dist-packages/NERDA/preprocessing.py:80: UserWarning: Sentence #36 length 233 exceeds max_len 128 and has been truncated\n",
            "  warnings.warn(msg)\n",
            "/usr/local/lib/python3.7/dist-packages/NERDA/preprocessing.py:80: UserWarning: Sentence #37 length 149 exceeds max_len 128 and has been truncated\n",
            "  warnings.warn(msg)\n",
            " 23%|██▎       | 5/22 [00:01<00:03,  4.32it/s]/usr/local/lib/python3.7/dist-packages/NERDA/preprocessing.py:80: UserWarning: Sentence #51 length 132 exceeds max_len 128 and has been truncated\n",
            "  warnings.warn(msg)\n",
            " 27%|██▋       | 6/22 [00:01<00:03,  4.43it/s]/usr/local/lib/python3.7/dist-packages/NERDA/preprocessing.py:80: UserWarning: Sentence #60 length 171 exceeds max_len 128 and has been truncated\n",
            "  warnings.warn(msg)\n",
            " 36%|███▋      | 8/22 [00:01<00:03,  4.48it/s]/usr/local/lib/python3.7/dist-packages/NERDA/preprocessing.py:80: UserWarning: Sentence #70 length 128 exceeds max_len 128 and has been truncated\n",
            "  warnings.warn(msg)\n",
            " 45%|████▌     | 10/22 [00:02<00:02,  4.48it/s]/usr/local/lib/python3.7/dist-packages/NERDA/preprocessing.py:80: UserWarning: Sentence #90 length 127 exceeds max_len 128 and has been truncated\n",
            "  warnings.warn(msg)\n",
            "100%|██████████| 22/22 [00:05<00:00,  4.31it/s]\n",
            "  0%|          | 0/6 [00:00<?, ?it/s]/usr/local/lib/python3.7/dist-packages/NERDA/preprocessing.py:80: UserWarning: Sentence #6 length 327 exceeds max_len 128 and has been truncated\n",
            "  warnings.warn(msg)\n",
            "/usr/local/lib/python3.7/dist-packages/NERDA/preprocessing.py:80: UserWarning: Sentence #16 length 132 exceeds max_len 128 and has been truncated\n",
            "  warnings.warn(msg)\n",
            "100%|██████████| 6/6 [00:00<00:00,  7.27it/s]\n"
          ]
        },
        {
          "output_type": "stream",
          "name": "stdout",
          "text": [
            "Train Loss = 0.5236750797114589 Valid Loss = 0.9162920614083608\n",
            "\n",
            " Epoch 3 / 11\n"
          ]
        },
        {
          "output_type": "stream",
          "name": "stderr",
          "text": [
            "\r  0%|          | 0/22 [00:00<?, ?it/s]/usr/local/lib/python3.7/dist-packages/NERDA/preprocessing.py:80: UserWarning: Sentence #6 length 262 exceeds max_len 128 and has been truncated\n",
            "  warnings.warn(msg)\n",
            "/usr/local/lib/python3.7/dist-packages/NERDA/preprocessing.py:80: UserWarning: Sentence #14 length 152 exceeds max_len 128 and has been truncated\n",
            "  warnings.warn(msg)\n",
            "  9%|▉         | 2/22 [00:00<00:06,  3.19it/s]/usr/local/lib/python3.7/dist-packages/NERDA/preprocessing.py:80: UserWarning: Sentence #31 length 150 exceeds max_len 128 and has been truncated\n",
            "  warnings.warn(msg)\n",
            "/usr/local/lib/python3.7/dist-packages/NERDA/preprocessing.py:80: UserWarning: Sentence #32 length 130 exceeds max_len 128 and has been truncated\n",
            "  warnings.warn(msg)\n",
            "/usr/local/lib/python3.7/dist-packages/NERDA/preprocessing.py:80: UserWarning: Sentence #33 length 174 exceeds max_len 128 and has been truncated\n",
            "  warnings.warn(msg)\n",
            " 14%|█▎        | 3/22 [00:00<00:05,  3.72it/s]/usr/local/lib/python3.7/dist-packages/NERDA/preprocessing.py:80: UserWarning: Sentence #36 length 233 exceeds max_len 128 and has been truncated\n",
            "  warnings.warn(msg)\n",
            "/usr/local/lib/python3.7/dist-packages/NERDA/preprocessing.py:80: UserWarning: Sentence #37 length 149 exceeds max_len 128 and has been truncated\n",
            "  warnings.warn(msg)\n",
            " 23%|██▎       | 5/22 [00:01<00:04,  4.08it/s]/usr/local/lib/python3.7/dist-packages/NERDA/preprocessing.py:80: UserWarning: Sentence #51 length 132 exceeds max_len 128 and has been truncated\n",
            "  warnings.warn(msg)\n",
            " 27%|██▋       | 6/22 [00:01<00:03,  4.23it/s]/usr/local/lib/python3.7/dist-packages/NERDA/preprocessing.py:80: UserWarning: Sentence #60 length 171 exceeds max_len 128 and has been truncated\n",
            "  warnings.warn(msg)\n",
            " 36%|███▋      | 8/22 [00:01<00:03,  4.42it/s]/usr/local/lib/python3.7/dist-packages/NERDA/preprocessing.py:80: UserWarning: Sentence #70 length 128 exceeds max_len 128 and has been truncated\n",
            "  warnings.warn(msg)\n",
            " 45%|████▌     | 10/22 [00:02<00:02,  4.45it/s]/usr/local/lib/python3.7/dist-packages/NERDA/preprocessing.py:80: UserWarning: Sentence #90 length 127 exceeds max_len 128 and has been truncated\n",
            "  warnings.warn(msg)\n",
            "100%|██████████| 22/22 [00:05<00:00,  4.31it/s]\n",
            "  0%|          | 0/6 [00:00<?, ?it/s]/usr/local/lib/python3.7/dist-packages/NERDA/preprocessing.py:80: UserWarning: Sentence #6 length 327 exceeds max_len 128 and has been truncated\n",
            "  warnings.warn(msg)\n",
            "/usr/local/lib/python3.7/dist-packages/NERDA/preprocessing.py:80: UserWarning: Sentence #16 length 132 exceeds max_len 128 and has been truncated\n",
            "  warnings.warn(msg)\n",
            "100%|██████████| 6/6 [00:00<00:00, 10.84it/s]\n"
          ]
        },
        {
          "output_type": "stream",
          "name": "stdout",
          "text": [
            "Train Loss = 0.3747239568355409 Valid Loss = 0.9156371802091599\n",
            "\n",
            " Epoch 4 / 11\n"
          ]
        },
        {
          "output_type": "stream",
          "name": "stderr",
          "text": [
            "\r  0%|          | 0/22 [00:00<?, ?it/s]/usr/local/lib/python3.7/dist-packages/NERDA/preprocessing.py:80: UserWarning: Sentence #6 length 262 exceeds max_len 128 and has been truncated\n",
            "  warnings.warn(msg)\n",
            "/usr/local/lib/python3.7/dist-packages/NERDA/preprocessing.py:80: UserWarning: Sentence #14 length 152 exceeds max_len 128 and has been truncated\n",
            "  warnings.warn(msg)\n",
            "  9%|▉         | 2/22 [00:00<00:05,  3.64it/s]/usr/local/lib/python3.7/dist-packages/NERDA/preprocessing.py:80: UserWarning: Sentence #31 length 150 exceeds max_len 128 and has been truncated\n",
            "  warnings.warn(msg)\n",
            "/usr/local/lib/python3.7/dist-packages/NERDA/preprocessing.py:80: UserWarning: Sentence #32 length 130 exceeds max_len 128 and has been truncated\n",
            "  warnings.warn(msg)\n",
            "/usr/local/lib/python3.7/dist-packages/NERDA/preprocessing.py:80: UserWarning: Sentence #33 length 174 exceeds max_len 128 and has been truncated\n",
            "  warnings.warn(msg)\n",
            " 14%|█▎        | 3/22 [00:00<00:04,  4.02it/s]/usr/local/lib/python3.7/dist-packages/NERDA/preprocessing.py:80: UserWarning: Sentence #36 length 233 exceeds max_len 128 and has been truncated\n",
            "  warnings.warn(msg)\n",
            "/usr/local/lib/python3.7/dist-packages/NERDA/preprocessing.py:80: UserWarning: Sentence #37 length 149 exceeds max_len 128 and has been truncated\n",
            "  warnings.warn(msg)\n",
            " 23%|██▎       | 5/22 [00:01<00:03,  4.30it/s]/usr/local/lib/python3.7/dist-packages/NERDA/preprocessing.py:80: UserWarning: Sentence #51 length 132 exceeds max_len 128 and has been truncated\n",
            "  warnings.warn(msg)\n",
            " 27%|██▋       | 6/22 [00:01<00:03,  4.38it/s]/usr/local/lib/python3.7/dist-packages/NERDA/preprocessing.py:80: UserWarning: Sentence #60 length 171 exceeds max_len 128 and has been truncated\n",
            "  warnings.warn(msg)\n",
            " 36%|███▋      | 8/22 [00:01<00:03,  4.45it/s]/usr/local/lib/python3.7/dist-packages/NERDA/preprocessing.py:80: UserWarning: Sentence #70 length 128 exceeds max_len 128 and has been truncated\n",
            "  warnings.warn(msg)\n",
            " 45%|████▌     | 10/22 [00:02<00:02,  4.47it/s]/usr/local/lib/python3.7/dist-packages/NERDA/preprocessing.py:80: UserWarning: Sentence #90 length 127 exceeds max_len 128 and has been truncated\n",
            "  warnings.warn(msg)\n",
            "100%|██████████| 22/22 [00:05<00:00,  4.39it/s]\n",
            "  0%|          | 0/6 [00:00<?, ?it/s]/usr/local/lib/python3.7/dist-packages/NERDA/preprocessing.py:80: UserWarning: Sentence #6 length 327 exceeds max_len 128 and has been truncated\n",
            "  warnings.warn(msg)\n",
            "/usr/local/lib/python3.7/dist-packages/NERDA/preprocessing.py:80: UserWarning: Sentence #16 length 132 exceeds max_len 128 and has been truncated\n",
            "  warnings.warn(msg)\n",
            "100%|██████████| 6/6 [00:00<00:00, 10.80it/s]\n"
          ]
        },
        {
          "output_type": "stream",
          "name": "stdout",
          "text": [
            "Train Loss = 0.3601971742781726 Valid Loss = 0.7797590518991152\n",
            "\n",
            " Epoch 5 / 11\n"
          ]
        },
        {
          "output_type": "stream",
          "name": "stderr",
          "text": [
            "\r  0%|          | 0/22 [00:00<?, ?it/s]/usr/local/lib/python3.7/dist-packages/NERDA/preprocessing.py:80: UserWarning: Sentence #6 length 262 exceeds max_len 128 and has been truncated\n",
            "  warnings.warn(msg)\n",
            "/usr/local/lib/python3.7/dist-packages/NERDA/preprocessing.py:80: UserWarning: Sentence #14 length 152 exceeds max_len 128 and has been truncated\n",
            "  warnings.warn(msg)\n",
            "  9%|▉         | 2/22 [00:00<00:05,  3.77it/s]/usr/local/lib/python3.7/dist-packages/NERDA/preprocessing.py:80: UserWarning: Sentence #31 length 150 exceeds max_len 128 and has been truncated\n",
            "  warnings.warn(msg)\n",
            "/usr/local/lib/python3.7/dist-packages/NERDA/preprocessing.py:80: UserWarning: Sentence #32 length 130 exceeds max_len 128 and has been truncated\n",
            "  warnings.warn(msg)\n",
            "/usr/local/lib/python3.7/dist-packages/NERDA/preprocessing.py:80: UserWarning: Sentence #33 length 174 exceeds max_len 128 and has been truncated\n",
            "  warnings.warn(msg)\n",
            " 14%|█▎        | 3/22 [00:00<00:04,  4.01it/s]/usr/local/lib/python3.7/dist-packages/NERDA/preprocessing.py:80: UserWarning: Sentence #36 length 233 exceeds max_len 128 and has been truncated\n",
            "  warnings.warn(msg)\n",
            "/usr/local/lib/python3.7/dist-packages/NERDA/preprocessing.py:80: UserWarning: Sentence #37 length 149 exceeds max_len 128 and has been truncated\n",
            "  warnings.warn(msg)\n",
            " 23%|██▎       | 5/22 [00:01<00:03,  4.27it/s]/usr/local/lib/python3.7/dist-packages/NERDA/preprocessing.py:80: UserWarning: Sentence #51 length 132 exceeds max_len 128 and has been truncated\n",
            "  warnings.warn(msg)\n",
            " 27%|██▋       | 6/22 [00:01<00:03,  4.35it/s]/usr/local/lib/python3.7/dist-packages/NERDA/preprocessing.py:80: UserWarning: Sentence #60 length 171 exceeds max_len 128 and has been truncated\n",
            "  warnings.warn(msg)\n",
            " 36%|███▋      | 8/22 [00:01<00:03,  4.46it/s]/usr/local/lib/python3.7/dist-packages/NERDA/preprocessing.py:80: UserWarning: Sentence #70 length 128 exceeds max_len 128 and has been truncated\n",
            "  warnings.warn(msg)\n",
            " 45%|████▌     | 10/22 [00:02<00:02,  4.49it/s]/usr/local/lib/python3.7/dist-packages/NERDA/preprocessing.py:80: UserWarning: Sentence #90 length 127 exceeds max_len 128 and has been truncated\n",
            "  warnings.warn(msg)\n",
            "100%|██████████| 22/22 [00:04<00:00,  4.40it/s]\n",
            "  0%|          | 0/6 [00:00<?, ?it/s]/usr/local/lib/python3.7/dist-packages/NERDA/preprocessing.py:80: UserWarning: Sentence #6 length 327 exceeds max_len 128 and has been truncated\n",
            "  warnings.warn(msg)\n",
            "/usr/local/lib/python3.7/dist-packages/NERDA/preprocessing.py:80: UserWarning: Sentence #16 length 132 exceeds max_len 128 and has been truncated\n",
            "  warnings.warn(msg)\n",
            "100%|██████████| 6/6 [00:00<00:00, 10.73it/s]\n"
          ]
        },
        {
          "output_type": "stream",
          "name": "stdout",
          "text": [
            "Train Loss = 0.3426176448437301 Valid Loss = 0.9120357582966486\n",
            "\n",
            " Epoch 6 / 11\n"
          ]
        },
        {
          "output_type": "stream",
          "name": "stderr",
          "text": [
            "\r  0%|          | 0/22 [00:00<?, ?it/s]/usr/local/lib/python3.7/dist-packages/NERDA/preprocessing.py:80: UserWarning: Sentence #6 length 262 exceeds max_len 128 and has been truncated\n",
            "  warnings.warn(msg)\n",
            "/usr/local/lib/python3.7/dist-packages/NERDA/preprocessing.py:80: UserWarning: Sentence #14 length 152 exceeds max_len 128 and has been truncated\n",
            "  warnings.warn(msg)\n",
            "  9%|▉         | 2/22 [00:00<00:05,  3.68it/s]/usr/local/lib/python3.7/dist-packages/NERDA/preprocessing.py:80: UserWarning: Sentence #31 length 150 exceeds max_len 128 and has been truncated\n",
            "  warnings.warn(msg)\n",
            "/usr/local/lib/python3.7/dist-packages/NERDA/preprocessing.py:80: UserWarning: Sentence #32 length 130 exceeds max_len 128 and has been truncated\n",
            "  warnings.warn(msg)\n",
            "/usr/local/lib/python3.7/dist-packages/NERDA/preprocessing.py:80: UserWarning: Sentence #33 length 174 exceeds max_len 128 and has been truncated\n",
            "  warnings.warn(msg)\n",
            " 14%|█▎        | 3/22 [00:00<00:04,  3.98it/s]/usr/local/lib/python3.7/dist-packages/NERDA/preprocessing.py:80: UserWarning: Sentence #36 length 233 exceeds max_len 128 and has been truncated\n",
            "  warnings.warn(msg)\n",
            "/usr/local/lib/python3.7/dist-packages/NERDA/preprocessing.py:80: UserWarning: Sentence #37 length 149 exceeds max_len 128 and has been truncated\n",
            "  warnings.warn(msg)\n",
            " 23%|██▎       | 5/22 [00:01<00:03,  4.32it/s]/usr/local/lib/python3.7/dist-packages/NERDA/preprocessing.py:80: UserWarning: Sentence #51 length 132 exceeds max_len 128 and has been truncated\n",
            "  warnings.warn(msg)\n",
            " 27%|██▋       | 6/22 [00:01<00:03,  4.38it/s]/usr/local/lib/python3.7/dist-packages/NERDA/preprocessing.py:80: UserWarning: Sentence #60 length 171 exceeds max_len 128 and has been truncated\n",
            "  warnings.warn(msg)\n",
            " 36%|███▋      | 8/22 [00:01<00:03,  4.47it/s]/usr/local/lib/python3.7/dist-packages/NERDA/preprocessing.py:80: UserWarning: Sentence #70 length 128 exceeds max_len 128 and has been truncated\n",
            "  warnings.warn(msg)\n",
            " 45%|████▌     | 10/22 [00:02<00:02,  4.52it/s]/usr/local/lib/python3.7/dist-packages/NERDA/preprocessing.py:80: UserWarning: Sentence #90 length 127 exceeds max_len 128 and has been truncated\n",
            "  warnings.warn(msg)\n",
            "100%|██████████| 22/22 [00:04<00:00,  4.41it/s]\n",
            "  0%|          | 0/6 [00:00<?, ?it/s]/usr/local/lib/python3.7/dist-packages/NERDA/preprocessing.py:80: UserWarning: Sentence #6 length 327 exceeds max_len 128 and has been truncated\n",
            "  warnings.warn(msg)\n",
            "/usr/local/lib/python3.7/dist-packages/NERDA/preprocessing.py:80: UserWarning: Sentence #16 length 132 exceeds max_len 128 and has been truncated\n",
            "  warnings.warn(msg)\n",
            "100%|██████████| 6/6 [00:00<00:00, 10.84it/s]\n"
          ]
        },
        {
          "output_type": "stream",
          "name": "stdout",
          "text": [
            "Train Loss = 0.2573531014336781 Valid Loss = 0.8585090426107248\n",
            "\n",
            " Epoch 7 / 11\n"
          ]
        },
        {
          "output_type": "stream",
          "name": "stderr",
          "text": [
            "\r  0%|          | 0/22 [00:00<?, ?it/s]/usr/local/lib/python3.7/dist-packages/NERDA/preprocessing.py:80: UserWarning: Sentence #6 length 262 exceeds max_len 128 and has been truncated\n",
            "  warnings.warn(msg)\n",
            "/usr/local/lib/python3.7/dist-packages/NERDA/preprocessing.py:80: UserWarning: Sentence #14 length 152 exceeds max_len 128 and has been truncated\n",
            "  warnings.warn(msg)\n",
            "  9%|▉         | 2/22 [00:00<00:05,  3.67it/s]/usr/local/lib/python3.7/dist-packages/NERDA/preprocessing.py:80: UserWarning: Sentence #31 length 150 exceeds max_len 128 and has been truncated\n",
            "  warnings.warn(msg)\n",
            "/usr/local/lib/python3.7/dist-packages/NERDA/preprocessing.py:80: UserWarning: Sentence #32 length 130 exceeds max_len 128 and has been truncated\n",
            "  warnings.warn(msg)\n",
            "/usr/local/lib/python3.7/dist-packages/NERDA/preprocessing.py:80: UserWarning: Sentence #33 length 174 exceeds max_len 128 and has been truncated\n",
            "  warnings.warn(msg)\n",
            " 14%|█▎        | 3/22 [00:00<00:04,  4.02it/s]/usr/local/lib/python3.7/dist-packages/NERDA/preprocessing.py:80: UserWarning: Sentence #36 length 233 exceeds max_len 128 and has been truncated\n",
            "  warnings.warn(msg)\n",
            "/usr/local/lib/python3.7/dist-packages/NERDA/preprocessing.py:80: UserWarning: Sentence #37 length 149 exceeds max_len 128 and has been truncated\n",
            "  warnings.warn(msg)\n",
            " 23%|██▎       | 5/22 [00:01<00:03,  4.30it/s]/usr/local/lib/python3.7/dist-packages/NERDA/preprocessing.py:80: UserWarning: Sentence #51 length 132 exceeds max_len 128 and has been truncated\n",
            "  warnings.warn(msg)\n",
            " 27%|██▋       | 6/22 [00:01<00:03,  4.40it/s]/usr/local/lib/python3.7/dist-packages/NERDA/preprocessing.py:80: UserWarning: Sentence #60 length 171 exceeds max_len 128 and has been truncated\n",
            "  warnings.warn(msg)\n",
            " 36%|███▋      | 8/22 [00:01<00:03,  4.51it/s]/usr/local/lib/python3.7/dist-packages/NERDA/preprocessing.py:80: UserWarning: Sentence #70 length 128 exceeds max_len 128 and has been truncated\n",
            "  warnings.warn(msg)\n",
            " 45%|████▌     | 10/22 [00:02<00:02,  4.54it/s]/usr/local/lib/python3.7/dist-packages/NERDA/preprocessing.py:80: UserWarning: Sentence #90 length 127 exceeds max_len 128 and has been truncated\n",
            "  warnings.warn(msg)\n",
            "100%|██████████| 22/22 [00:04<00:00,  4.43it/s]\n",
            "  0%|          | 0/6 [00:00<?, ?it/s]/usr/local/lib/python3.7/dist-packages/NERDA/preprocessing.py:80: UserWarning: Sentence #6 length 327 exceeds max_len 128 and has been truncated\n",
            "  warnings.warn(msg)\n",
            "/usr/local/lib/python3.7/dist-packages/NERDA/preprocessing.py:80: UserWarning: Sentence #16 length 132 exceeds max_len 128 and has been truncated\n",
            "  warnings.warn(msg)\n",
            "100%|██████████| 6/6 [00:00<00:00, 10.44it/s]\n"
          ]
        },
        {
          "output_type": "stream",
          "name": "stdout",
          "text": [
            "Train Loss = 0.17361142706464638 Valid Loss = 0.8755289254089197\n",
            "\n",
            " Epoch 8 / 11\n"
          ]
        },
        {
          "output_type": "stream",
          "name": "stderr",
          "text": [
            "\r  0%|          | 0/22 [00:00<?, ?it/s]/usr/local/lib/python3.7/dist-packages/NERDA/preprocessing.py:80: UserWarning: Sentence #6 length 262 exceeds max_len 128 and has been truncated\n",
            "  warnings.warn(msg)\n",
            "/usr/local/lib/python3.7/dist-packages/NERDA/preprocessing.py:80: UserWarning: Sentence #14 length 152 exceeds max_len 128 and has been truncated\n",
            "  warnings.warn(msg)\n",
            "  9%|▉         | 2/22 [00:00<00:05,  3.63it/s]/usr/local/lib/python3.7/dist-packages/NERDA/preprocessing.py:80: UserWarning: Sentence #31 length 150 exceeds max_len 128 and has been truncated\n",
            "  warnings.warn(msg)\n",
            "/usr/local/lib/python3.7/dist-packages/NERDA/preprocessing.py:80: UserWarning: Sentence #32 length 130 exceeds max_len 128 and has been truncated\n",
            "  warnings.warn(msg)\n",
            "/usr/local/lib/python3.7/dist-packages/NERDA/preprocessing.py:80: UserWarning: Sentence #33 length 174 exceeds max_len 128 and has been truncated\n",
            "  warnings.warn(msg)\n",
            " 14%|█▎        | 3/22 [00:00<00:04,  3.84it/s]/usr/local/lib/python3.7/dist-packages/NERDA/preprocessing.py:80: UserWarning: Sentence #36 length 233 exceeds max_len 128 and has been truncated\n",
            "  warnings.warn(msg)\n",
            "/usr/local/lib/python3.7/dist-packages/NERDA/preprocessing.py:80: UserWarning: Sentence #37 length 149 exceeds max_len 128 and has been truncated\n",
            "  warnings.warn(msg)\n",
            " 23%|██▎       | 5/22 [00:01<00:04,  3.91it/s]/usr/local/lib/python3.7/dist-packages/NERDA/preprocessing.py:80: UserWarning: Sentence #51 length 132 exceeds max_len 128 and has been truncated\n",
            "  warnings.warn(msg)\n",
            " 27%|██▋       | 6/22 [00:01<00:03,  4.03it/s]/usr/local/lib/python3.7/dist-packages/NERDA/preprocessing.py:80: UserWarning: Sentence #60 length 171 exceeds max_len 128 and has been truncated\n",
            "  warnings.warn(msg)\n",
            " 36%|███▋      | 8/22 [00:01<00:03,  4.26it/s]/usr/local/lib/python3.7/dist-packages/NERDA/preprocessing.py:80: UserWarning: Sentence #70 length 128 exceeds max_len 128 and has been truncated\n",
            "  warnings.warn(msg)\n",
            " 45%|████▌     | 10/22 [00:02<00:02,  4.21it/s]/usr/local/lib/python3.7/dist-packages/NERDA/preprocessing.py:80: UserWarning: Sentence #90 length 127 exceeds max_len 128 and has been truncated\n",
            "  warnings.warn(msg)\n",
            "100%|██████████| 22/22 [00:05<00:00,  4.26it/s]\n",
            "  0%|          | 0/6 [00:00<?, ?it/s]/usr/local/lib/python3.7/dist-packages/NERDA/preprocessing.py:80: UserWarning: Sentence #6 length 327 exceeds max_len 128 and has been truncated\n",
            "  warnings.warn(msg)\n",
            "/usr/local/lib/python3.7/dist-packages/NERDA/preprocessing.py:80: UserWarning: Sentence #16 length 132 exceeds max_len 128 and has been truncated\n",
            "  warnings.warn(msg)\n",
            "100%|██████████| 6/6 [00:00<00:00, 10.69it/s]\n"
          ]
        },
        {
          "output_type": "stream",
          "name": "stdout",
          "text": [
            "Train Loss = 0.1538025327873501 Valid Loss = 1.0042978040874004\n",
            "\n",
            " Epoch 9 / 11\n"
          ]
        },
        {
          "output_type": "stream",
          "name": "stderr",
          "text": [
            "\r  0%|          | 0/22 [00:00<?, ?it/s]/usr/local/lib/python3.7/dist-packages/NERDA/preprocessing.py:80: UserWarning: Sentence #6 length 262 exceeds max_len 128 and has been truncated\n",
            "  warnings.warn(msg)\n",
            "/usr/local/lib/python3.7/dist-packages/NERDA/preprocessing.py:80: UserWarning: Sentence #14 length 152 exceeds max_len 128 and has been truncated\n",
            "  warnings.warn(msg)\n",
            "  9%|▉         | 2/22 [00:00<00:05,  3.79it/s]/usr/local/lib/python3.7/dist-packages/NERDA/preprocessing.py:80: UserWarning: Sentence #31 length 150 exceeds max_len 128 and has been truncated\n",
            "  warnings.warn(msg)\n",
            "/usr/local/lib/python3.7/dist-packages/NERDA/preprocessing.py:80: UserWarning: Sentence #32 length 130 exceeds max_len 128 and has been truncated\n",
            "  warnings.warn(msg)\n",
            "/usr/local/lib/python3.7/dist-packages/NERDA/preprocessing.py:80: UserWarning: Sentence #33 length 174 exceeds max_len 128 and has been truncated\n",
            "  warnings.warn(msg)\n",
            " 14%|█▎        | 3/22 [00:00<00:04,  4.09it/s]/usr/local/lib/python3.7/dist-packages/NERDA/preprocessing.py:80: UserWarning: Sentence #36 length 233 exceeds max_len 128 and has been truncated\n",
            "  warnings.warn(msg)\n",
            "/usr/local/lib/python3.7/dist-packages/NERDA/preprocessing.py:80: UserWarning: Sentence #37 length 149 exceeds max_len 128 and has been truncated\n",
            "  warnings.warn(msg)\n",
            " 23%|██▎       | 5/22 [00:01<00:03,  4.40it/s]/usr/local/lib/python3.7/dist-packages/NERDA/preprocessing.py:80: UserWarning: Sentence #51 length 132 exceeds max_len 128 and has been truncated\n",
            "  warnings.warn(msg)\n",
            " 27%|██▋       | 6/22 [00:01<00:03,  4.46it/s]/usr/local/lib/python3.7/dist-packages/NERDA/preprocessing.py:80: UserWarning: Sentence #60 length 171 exceeds max_len 128 and has been truncated\n",
            "  warnings.warn(msg)\n",
            " 36%|███▋      | 8/22 [00:01<00:03,  4.50it/s]/usr/local/lib/python3.7/dist-packages/NERDA/preprocessing.py:80: UserWarning: Sentence #70 length 128 exceeds max_len 128 and has been truncated\n",
            "  warnings.warn(msg)\n",
            " 45%|████▌     | 10/22 [00:02<00:02,  4.46it/s]/usr/local/lib/python3.7/dist-packages/NERDA/preprocessing.py:80: UserWarning: Sentence #90 length 127 exceeds max_len 128 and has been truncated\n",
            "  warnings.warn(msg)\n",
            "100%|██████████| 22/22 [00:04<00:00,  4.46it/s]\n",
            "  0%|          | 0/6 [00:00<?, ?it/s]/usr/local/lib/python3.7/dist-packages/NERDA/preprocessing.py:80: UserWarning: Sentence #6 length 327 exceeds max_len 128 and has been truncated\n",
            "  warnings.warn(msg)\n",
            "/usr/local/lib/python3.7/dist-packages/NERDA/preprocessing.py:80: UserWarning: Sentence #16 length 132 exceeds max_len 128 and has been truncated\n",
            "  warnings.warn(msg)\n",
            "100%|██████████| 6/6 [00:00<00:00, 10.69it/s]\n"
          ]
        },
        {
          "output_type": "stream",
          "name": "stdout",
          "text": [
            "Train Loss = 0.11316871795464646 Valid Loss = 1.005453210324049\n",
            "\n",
            " Epoch 10 / 11\n"
          ]
        },
        {
          "output_type": "stream",
          "name": "stderr",
          "text": [
            "\r  0%|          | 0/22 [00:00<?, ?it/s]/usr/local/lib/python3.7/dist-packages/NERDA/preprocessing.py:80: UserWarning: Sentence #6 length 262 exceeds max_len 128 and has been truncated\n",
            "  warnings.warn(msg)\n",
            "/usr/local/lib/python3.7/dist-packages/NERDA/preprocessing.py:80: UserWarning: Sentence #14 length 152 exceeds max_len 128 and has been truncated\n",
            "  warnings.warn(msg)\n",
            "  9%|▉         | 2/22 [00:00<00:05,  3.84it/s]/usr/local/lib/python3.7/dist-packages/NERDA/preprocessing.py:80: UserWarning: Sentence #31 length 150 exceeds max_len 128 and has been truncated\n",
            "  warnings.warn(msg)\n",
            "/usr/local/lib/python3.7/dist-packages/NERDA/preprocessing.py:80: UserWarning: Sentence #32 length 130 exceeds max_len 128 and has been truncated\n",
            "  warnings.warn(msg)\n",
            "/usr/local/lib/python3.7/dist-packages/NERDA/preprocessing.py:80: UserWarning: Sentence #33 length 174 exceeds max_len 128 and has been truncated\n",
            "  warnings.warn(msg)\n",
            " 14%|█▎        | 3/22 [00:00<00:04,  4.15it/s]/usr/local/lib/python3.7/dist-packages/NERDA/preprocessing.py:80: UserWarning: Sentence #36 length 233 exceeds max_len 128 and has been truncated\n",
            "  warnings.warn(msg)\n",
            "/usr/local/lib/python3.7/dist-packages/NERDA/preprocessing.py:80: UserWarning: Sentence #37 length 149 exceeds max_len 128 and has been truncated\n",
            "  warnings.warn(msg)\n",
            " 23%|██▎       | 5/22 [00:01<00:03,  4.34it/s]/usr/local/lib/python3.7/dist-packages/NERDA/preprocessing.py:80: UserWarning: Sentence #51 length 132 exceeds max_len 128 and has been truncated\n",
            "  warnings.warn(msg)\n",
            " 27%|██▋       | 6/22 [00:01<00:03,  4.40it/s]/usr/local/lib/python3.7/dist-packages/NERDA/preprocessing.py:80: UserWarning: Sentence #60 length 171 exceeds max_len 128 and has been truncated\n",
            "  warnings.warn(msg)\n",
            " 36%|███▋      | 8/22 [00:01<00:03,  4.45it/s]/usr/local/lib/python3.7/dist-packages/NERDA/preprocessing.py:80: UserWarning: Sentence #70 length 128 exceeds max_len 128 and has been truncated\n",
            "  warnings.warn(msg)\n",
            " 45%|████▌     | 10/22 [00:02<00:02,  4.49it/s]/usr/local/lib/python3.7/dist-packages/NERDA/preprocessing.py:80: UserWarning: Sentence #90 length 127 exceeds max_len 128 and has been truncated\n",
            "  warnings.warn(msg)\n",
            "100%|██████████| 22/22 [00:04<00:00,  4.45it/s]\n",
            "  0%|          | 0/6 [00:00<?, ?it/s]/usr/local/lib/python3.7/dist-packages/NERDA/preprocessing.py:80: UserWarning: Sentence #6 length 327 exceeds max_len 128 and has been truncated\n",
            "  warnings.warn(msg)\n",
            "/usr/local/lib/python3.7/dist-packages/NERDA/preprocessing.py:80: UserWarning: Sentence #16 length 132 exceeds max_len 128 and has been truncated\n",
            "  warnings.warn(msg)\n",
            "100%|██████████| 6/6 [00:00<00:00, 11.14it/s]\n"
          ]
        },
        {
          "output_type": "stream",
          "name": "stdout",
          "text": [
            "Train Loss = 0.09898843671279875 Valid Loss = 1.0758326339224975\n",
            "\n",
            " Epoch 11 / 11\n"
          ]
        },
        {
          "output_type": "stream",
          "name": "stderr",
          "text": [
            "\r  0%|          | 0/22 [00:00<?, ?it/s]/usr/local/lib/python3.7/dist-packages/NERDA/preprocessing.py:80: UserWarning: Sentence #6 length 262 exceeds max_len 128 and has been truncated\n",
            "  warnings.warn(msg)\n",
            "/usr/local/lib/python3.7/dist-packages/NERDA/preprocessing.py:80: UserWarning: Sentence #14 length 152 exceeds max_len 128 and has been truncated\n",
            "  warnings.warn(msg)\n",
            "  9%|▉         | 2/22 [00:00<00:05,  3.70it/s]/usr/local/lib/python3.7/dist-packages/NERDA/preprocessing.py:80: UserWarning: Sentence #31 length 150 exceeds max_len 128 and has been truncated\n",
            "  warnings.warn(msg)\n",
            "/usr/local/lib/python3.7/dist-packages/NERDA/preprocessing.py:80: UserWarning: Sentence #32 length 130 exceeds max_len 128 and has been truncated\n",
            "  warnings.warn(msg)\n",
            "/usr/local/lib/python3.7/dist-packages/NERDA/preprocessing.py:80: UserWarning: Sentence #33 length 174 exceeds max_len 128 and has been truncated\n",
            "  warnings.warn(msg)\n",
            " 14%|█▎        | 3/22 [00:00<00:04,  4.04it/s]/usr/local/lib/python3.7/dist-packages/NERDA/preprocessing.py:80: UserWarning: Sentence #36 length 233 exceeds max_len 128 and has been truncated\n",
            "  warnings.warn(msg)\n",
            "/usr/local/lib/python3.7/dist-packages/NERDA/preprocessing.py:80: UserWarning: Sentence #37 length 149 exceeds max_len 128 and has been truncated\n",
            "  warnings.warn(msg)\n",
            " 23%|██▎       | 5/22 [00:01<00:03,  4.32it/s]/usr/local/lib/python3.7/dist-packages/NERDA/preprocessing.py:80: UserWarning: Sentence #51 length 132 exceeds max_len 128 and has been truncated\n",
            "  warnings.warn(msg)\n",
            " 27%|██▋       | 6/22 [00:01<00:03,  4.36it/s]/usr/local/lib/python3.7/dist-packages/NERDA/preprocessing.py:80: UserWarning: Sentence #60 length 171 exceeds max_len 128 and has been truncated\n",
            "  warnings.warn(msg)\n",
            " 36%|███▋      | 8/22 [00:01<00:03,  4.50it/s]/usr/local/lib/python3.7/dist-packages/NERDA/preprocessing.py:80: UserWarning: Sentence #70 length 128 exceeds max_len 128 and has been truncated\n",
            "  warnings.warn(msg)\n",
            " 45%|████▌     | 10/22 [00:02<00:02,  4.50it/s]/usr/local/lib/python3.7/dist-packages/NERDA/preprocessing.py:80: UserWarning: Sentence #90 length 127 exceeds max_len 128 and has been truncated\n",
            "  warnings.warn(msg)\n",
            "100%|██████████| 22/22 [00:04<00:00,  4.43it/s]\n",
            "  0%|          | 0/6 [00:00<?, ?it/s]/usr/local/lib/python3.7/dist-packages/NERDA/preprocessing.py:80: UserWarning: Sentence #6 length 327 exceeds max_len 128 and has been truncated\n",
            "  warnings.warn(msg)\n",
            "/usr/local/lib/python3.7/dist-packages/NERDA/preprocessing.py:80: UserWarning: Sentence #16 length 132 exceeds max_len 128 and has been truncated\n",
            "  warnings.warn(msg)\n",
            "100%|██████████| 6/6 [00:00<00:00, 11.10it/s]"
          ]
        },
        {
          "output_type": "stream",
          "name": "stdout",
          "text": [
            "Train Loss = 0.08954508035359057 Valid Loss = 1.06379509344697\n"
          ]
        },
        {
          "output_type": "stream",
          "name": "stderr",
          "text": [
            "\n"
          ]
        },
        {
          "output_type": "stream",
          "name": "stdout",
          "text": [
            "Device automatically set to: cuda\n"
          ]
        },
        {
          "output_type": "stream",
          "name": "stderr",
          "text": [
            "Some weights of the model checkpoint at bert-base-multilingual-cased were not used when initializing BertModel: ['cls.predictions.bias', 'cls.predictions.transform.LayerNorm.bias', 'cls.predictions.transform.LayerNorm.weight', 'cls.seq_relationship.weight', 'cls.seq_relationship.bias', 'cls.predictions.decoder.weight', 'cls.predictions.transform.dense.bias', 'cls.predictions.transform.dense.weight']\n",
            "- This IS expected if you are initializing BertModel from the checkpoint of a model trained on another task or with another architecture (e.g. initializing a BertForSequenceClassification model from a BertForPreTraining model).\n",
            "- This IS NOT expected if you are initializing BertModel from the checkpoint of a model that you expect to be exactly identical (initializing a BertForSequenceClassification model from a BertForSequenceClassification model).\n",
            "/usr/local/lib/python3.7/dist-packages/transformers/optimization.py:309: FutureWarning: This implementation of AdamW is deprecated and will be removed in a future version. Use the PyTorch implementation torch.optim.AdamW instead, or set `no_deprecation_warning=True` to disable this warning\n",
            "  FutureWarning,\n"
          ]
        },
        {
          "output_type": "stream",
          "name": "stdout",
          "text": [
            "\n",
            " Epoch 1 / 11\n"
          ]
        },
        {
          "output_type": "stream",
          "name": "stderr",
          "text": [
            "\r  0%|          | 0/22 [00:00<?, ?it/s]/usr/local/lib/python3.7/dist-packages/NERDA/preprocessing.py:80: UserWarning: Sentence #6 length 262 exceeds max_len 128 and has been truncated\n",
            "  warnings.warn(msg)\n",
            "/usr/local/lib/python3.7/dist-packages/NERDA/preprocessing.py:80: UserWarning: Sentence #14 length 152 exceeds max_len 128 and has been truncated\n",
            "  warnings.warn(msg)\n",
            " 14%|█▎        | 3/22 [00:00<00:04,  3.88it/s]/usr/local/lib/python3.7/dist-packages/NERDA/preprocessing.py:80: UserWarning: Sentence #36 length 233 exceeds max_len 128 and has been truncated\n",
            "  warnings.warn(msg)\n",
            "/usr/local/lib/python3.7/dist-packages/NERDA/preprocessing.py:80: UserWarning: Sentence #37 length 149 exceeds max_len 128 and has been truncated\n",
            "  warnings.warn(msg)\n",
            " 23%|██▎       | 5/22 [00:01<00:03,  4.31it/s]/usr/local/lib/python3.7/dist-packages/NERDA/preprocessing.py:80: UserWarning: Sentence #51 length 132 exceeds max_len 128 and has been truncated\n",
            "  warnings.warn(msg)\n",
            " 27%|██▋       | 6/22 [00:01<00:03,  4.37it/s]/usr/local/lib/python3.7/dist-packages/NERDA/preprocessing.py:80: UserWarning: Sentence #60 length 171 exceeds max_len 128 and has been truncated\n",
            "  warnings.warn(msg)\n",
            " 36%|███▋      | 8/22 [00:01<00:03,  4.30it/s]/usr/local/lib/python3.7/dist-packages/NERDA/preprocessing.py:80: UserWarning: Sentence #70 length 128 exceeds max_len 128 and has been truncated\n",
            "  warnings.warn(msg)\n",
            " 45%|████▌     | 10/22 [00:02<00:02,  4.17it/s]/usr/local/lib/python3.7/dist-packages/NERDA/preprocessing.py:80: UserWarning: Sentence #90 length 127 exceeds max_len 128 and has been truncated\n",
            "  warnings.warn(msg)\n",
            "100%|██████████| 22/22 [00:05<00:00,  4.27it/s]\n",
            "  0%|          | 0/6 [00:00<?, ?it/s]/usr/local/lib/python3.7/dist-packages/NERDA/preprocessing.py:80: UserWarning: Sentence #6 length 327 exceeds max_len 128 and has been truncated\n",
            "  warnings.warn(msg)\n",
            "/usr/local/lib/python3.7/dist-packages/NERDA/preprocessing.py:80: UserWarning: Sentence #16 length 132 exceeds max_len 128 and has been truncated\n",
            "  warnings.warn(msg)\n",
            "100%|██████████| 6/6 [00:00<00:00, 10.91it/s]\n"
          ]
        },
        {
          "output_type": "stream",
          "name": "stdout",
          "text": [
            "Train Loss = 0.8782353455370123 Valid Loss = 0.9900792936484019\n",
            "\n",
            " Epoch 2 / 11\n"
          ]
        },
        {
          "output_type": "stream",
          "name": "stderr",
          "text": [
            "\r  0%|          | 0/22 [00:00<?, ?it/s]/usr/local/lib/python3.7/dist-packages/NERDA/preprocessing.py:80: UserWarning: Sentence #6 length 262 exceeds max_len 128 and has been truncated\n",
            "  warnings.warn(msg)\n",
            "/usr/local/lib/python3.7/dist-packages/NERDA/preprocessing.py:80: UserWarning: Sentence #14 length 152 exceeds max_len 128 and has been truncated\n",
            "  warnings.warn(msg)\n",
            " 14%|█▎        | 3/22 [00:00<00:04,  4.15it/s]/usr/local/lib/python3.7/dist-packages/NERDA/preprocessing.py:80: UserWarning: Sentence #36 length 233 exceeds max_len 128 and has been truncated\n",
            "  warnings.warn(msg)\n",
            "/usr/local/lib/python3.7/dist-packages/NERDA/preprocessing.py:80: UserWarning: Sentence #37 length 149 exceeds max_len 128 and has been truncated\n",
            "  warnings.warn(msg)\n",
            " 23%|██▎       | 5/22 [00:01<00:03,  4.34it/s]/usr/local/lib/python3.7/dist-packages/NERDA/preprocessing.py:80: UserWarning: Sentence #51 length 132 exceeds max_len 128 and has been truncated\n",
            "  warnings.warn(msg)\n",
            " 27%|██▋       | 6/22 [00:01<00:03,  4.45it/s]/usr/local/lib/python3.7/dist-packages/NERDA/preprocessing.py:80: UserWarning: Sentence #60 length 171 exceeds max_len 128 and has been truncated\n",
            "  warnings.warn(msg)\n",
            " 36%|███▋      | 8/22 [00:01<00:03,  4.47it/s]/usr/local/lib/python3.7/dist-packages/NERDA/preprocessing.py:80: UserWarning: Sentence #70 length 128 exceeds max_len 128 and has been truncated\n",
            "  warnings.warn(msg)\n",
            " 45%|████▌     | 10/22 [00:02<00:02,  4.47it/s]/usr/local/lib/python3.7/dist-packages/NERDA/preprocessing.py:80: UserWarning: Sentence #90 length 127 exceeds max_len 128 and has been truncated\n",
            "  warnings.warn(msg)\n",
            "100%|██████████| 22/22 [00:04<00:00,  4.46it/s]\n",
            "  0%|          | 0/6 [00:00<?, ?it/s]/usr/local/lib/python3.7/dist-packages/NERDA/preprocessing.py:80: UserWarning: Sentence #6 length 327 exceeds max_len 128 and has been truncated\n",
            "  warnings.warn(msg)\n",
            "/usr/local/lib/python3.7/dist-packages/NERDA/preprocessing.py:80: UserWarning: Sentence #16 length 132 exceeds max_len 128 and has been truncated\n",
            "  warnings.warn(msg)\n",
            "100%|██████████| 6/6 [00:00<00:00, 10.79it/s]\n"
          ]
        },
        {
          "output_type": "stream",
          "name": "stdout",
          "text": [
            "Train Loss = 0.7237582992423665 Valid Loss = 0.7285812149445215\n",
            "\n",
            " Epoch 3 / 11\n"
          ]
        },
        {
          "output_type": "stream",
          "name": "stderr",
          "text": [
            "\r  0%|          | 0/22 [00:00<?, ?it/s]/usr/local/lib/python3.7/dist-packages/NERDA/preprocessing.py:80: UserWarning: Sentence #6 length 262 exceeds max_len 128 and has been truncated\n",
            "  warnings.warn(msg)\n",
            "/usr/local/lib/python3.7/dist-packages/NERDA/preprocessing.py:80: UserWarning: Sentence #14 length 152 exceeds max_len 128 and has been truncated\n",
            "  warnings.warn(msg)\n",
            " 14%|█▎        | 3/22 [00:00<00:04,  4.08it/s]/usr/local/lib/python3.7/dist-packages/NERDA/preprocessing.py:80: UserWarning: Sentence #36 length 233 exceeds max_len 128 and has been truncated\n",
            "  warnings.warn(msg)\n",
            "/usr/local/lib/python3.7/dist-packages/NERDA/preprocessing.py:80: UserWarning: Sentence #37 length 149 exceeds max_len 128 and has been truncated\n",
            "  warnings.warn(msg)\n",
            " 23%|██▎       | 5/22 [00:01<00:03,  4.32it/s]/usr/local/lib/python3.7/dist-packages/NERDA/preprocessing.py:80: UserWarning: Sentence #51 length 132 exceeds max_len 128 and has been truncated\n",
            "  warnings.warn(msg)\n",
            " 27%|██▋       | 6/22 [00:01<00:03,  4.41it/s]/usr/local/lib/python3.7/dist-packages/NERDA/preprocessing.py:80: UserWarning: Sentence #60 length 171 exceeds max_len 128 and has been truncated\n",
            "  warnings.warn(msg)\n",
            " 36%|███▋      | 8/22 [00:01<00:03,  4.50it/s]/usr/local/lib/python3.7/dist-packages/NERDA/preprocessing.py:80: UserWarning: Sentence #70 length 128 exceeds max_len 128 and has been truncated\n",
            "  warnings.warn(msg)\n",
            " 45%|████▌     | 10/22 [00:02<00:02,  4.51it/s]/usr/local/lib/python3.7/dist-packages/NERDA/preprocessing.py:80: UserWarning: Sentence #90 length 127 exceeds max_len 128 and has been truncated\n",
            "  warnings.warn(msg)\n",
            "100%|██████████| 22/22 [00:04<00:00,  4.46it/s]\n",
            "  0%|          | 0/6 [00:00<?, ?it/s]/usr/local/lib/python3.7/dist-packages/NERDA/preprocessing.py:80: UserWarning: Sentence #6 length 327 exceeds max_len 128 and has been truncated\n",
            "  warnings.warn(msg)\n",
            "/usr/local/lib/python3.7/dist-packages/NERDA/preprocessing.py:80: UserWarning: Sentence #16 length 132 exceeds max_len 128 and has been truncated\n",
            "  warnings.warn(msg)\n",
            "100%|██████████| 6/6 [00:00<00:00, 10.52it/s]\n"
          ]
        },
        {
          "output_type": "stream",
          "name": "stdout",
          "text": [
            "Train Loss = 0.5140099268067967 Valid Loss = 0.9957751830418905\n",
            "\n",
            " Epoch 4 / 11\n"
          ]
        },
        {
          "output_type": "stream",
          "name": "stderr",
          "text": [
            "\r  0%|          | 0/22 [00:00<?, ?it/s]/usr/local/lib/python3.7/dist-packages/NERDA/preprocessing.py:80: UserWarning: Sentence #6 length 262 exceeds max_len 128 and has been truncated\n",
            "  warnings.warn(msg)\n",
            "/usr/local/lib/python3.7/dist-packages/NERDA/preprocessing.py:80: UserWarning: Sentence #14 length 152 exceeds max_len 128 and has been truncated\n",
            "  warnings.warn(msg)\n",
            " 14%|█▎        | 3/22 [00:00<00:04,  4.10it/s]/usr/local/lib/python3.7/dist-packages/NERDA/preprocessing.py:80: UserWarning: Sentence #36 length 233 exceeds max_len 128 and has been truncated\n",
            "  warnings.warn(msg)\n",
            "/usr/local/lib/python3.7/dist-packages/NERDA/preprocessing.py:80: UserWarning: Sentence #37 length 149 exceeds max_len 128 and has been truncated\n",
            "  warnings.warn(msg)\n",
            " 23%|██▎       | 5/22 [00:01<00:03,  4.35it/s]/usr/local/lib/python3.7/dist-packages/NERDA/preprocessing.py:80: UserWarning: Sentence #51 length 132 exceeds max_len 128 and has been truncated\n",
            "  warnings.warn(msg)\n",
            " 27%|██▋       | 6/22 [00:01<00:03,  4.43it/s]/usr/local/lib/python3.7/dist-packages/NERDA/preprocessing.py:80: UserWarning: Sentence #60 length 171 exceeds max_len 128 and has been truncated\n",
            "  warnings.warn(msg)\n",
            " 36%|███▋      | 8/22 [00:01<00:03,  4.53it/s]/usr/local/lib/python3.7/dist-packages/NERDA/preprocessing.py:80: UserWarning: Sentence #70 length 128 exceeds max_len 128 and has been truncated\n",
            "  warnings.warn(msg)\n",
            " 45%|████▌     | 10/22 [00:02<00:02,  4.53it/s]/usr/local/lib/python3.7/dist-packages/NERDA/preprocessing.py:80: UserWarning: Sentence #90 length 127 exceeds max_len 128 and has been truncated\n",
            "  warnings.warn(msg)\n",
            "100%|██████████| 22/22 [00:04<00:00,  4.45it/s]\n",
            "  0%|          | 0/6 [00:00<?, ?it/s]/usr/local/lib/python3.7/dist-packages/NERDA/preprocessing.py:80: UserWarning: Sentence #6 length 327 exceeds max_len 128 and has been truncated\n",
            "  warnings.warn(msg)\n",
            "/usr/local/lib/python3.7/dist-packages/NERDA/preprocessing.py:80: UserWarning: Sentence #16 length 132 exceeds max_len 128 and has been truncated\n",
            "  warnings.warn(msg)\n",
            "100%|██████████| 6/6 [00:00<00:00, 10.70it/s]\n"
          ]
        },
        {
          "output_type": "stream",
          "name": "stdout",
          "text": [
            "Train Loss = 0.4476403346793218 Valid Loss = 0.7569335773587227\n",
            "\n",
            " Epoch 5 / 11\n"
          ]
        },
        {
          "output_type": "stream",
          "name": "stderr",
          "text": [
            "\r  0%|          | 0/22 [00:00<?, ?it/s]/usr/local/lib/python3.7/dist-packages/NERDA/preprocessing.py:80: UserWarning: Sentence #6 length 262 exceeds max_len 128 and has been truncated\n",
            "  warnings.warn(msg)\n",
            "/usr/local/lib/python3.7/dist-packages/NERDA/preprocessing.py:80: UserWarning: Sentence #14 length 152 exceeds max_len 128 and has been truncated\n",
            "  warnings.warn(msg)\n",
            " 14%|█▎        | 3/22 [00:00<00:04,  4.00it/s]/usr/local/lib/python3.7/dist-packages/NERDA/preprocessing.py:80: UserWarning: Sentence #36 length 233 exceeds max_len 128 and has been truncated\n",
            "  warnings.warn(msg)\n",
            "/usr/local/lib/python3.7/dist-packages/NERDA/preprocessing.py:80: UserWarning: Sentence #37 length 149 exceeds max_len 128 and has been truncated\n",
            "  warnings.warn(msg)\n",
            " 23%|██▎       | 5/22 [00:01<00:03,  4.34it/s]/usr/local/lib/python3.7/dist-packages/NERDA/preprocessing.py:80: UserWarning: Sentence #51 length 132 exceeds max_len 128 and has been truncated\n",
            "  warnings.warn(msg)\n",
            " 27%|██▋       | 6/22 [00:01<00:03,  4.41it/s]/usr/local/lib/python3.7/dist-packages/NERDA/preprocessing.py:80: UserWarning: Sentence #60 length 171 exceeds max_len 128 and has been truncated\n",
            "  warnings.warn(msg)\n",
            " 36%|███▋      | 8/22 [00:01<00:03,  4.47it/s]/usr/local/lib/python3.7/dist-packages/NERDA/preprocessing.py:80: UserWarning: Sentence #70 length 128 exceeds max_len 128 and has been truncated\n",
            "  warnings.warn(msg)\n",
            " 45%|████▌     | 10/22 [00:02<00:02,  4.52it/s]/usr/local/lib/python3.7/dist-packages/NERDA/preprocessing.py:80: UserWarning: Sentence #90 length 127 exceeds max_len 128 and has been truncated\n",
            "  warnings.warn(msg)\n",
            "100%|██████████| 22/22 [00:04<00:00,  4.41it/s]\n",
            "  0%|          | 0/6 [00:00<?, ?it/s]/usr/local/lib/python3.7/dist-packages/NERDA/preprocessing.py:80: UserWarning: Sentence #6 length 327 exceeds max_len 128 and has been truncated\n",
            "  warnings.warn(msg)\n",
            "/usr/local/lib/python3.7/dist-packages/NERDA/preprocessing.py:80: UserWarning: Sentence #16 length 132 exceeds max_len 128 and has been truncated\n",
            "  warnings.warn(msg)\n",
            "100%|██████████| 6/6 [00:00<00:00, 10.71it/s]\n"
          ]
        },
        {
          "output_type": "stream",
          "name": "stdout",
          "text": [
            "Train Loss = 0.3558063730597496 Valid Loss = 0.8481302907069524\n",
            "\n",
            " Epoch 6 / 11\n"
          ]
        },
        {
          "output_type": "stream",
          "name": "stderr",
          "text": [
            "\r  0%|          | 0/22 [00:00<?, ?it/s]/usr/local/lib/python3.7/dist-packages/NERDA/preprocessing.py:80: UserWarning: Sentence #6 length 262 exceeds max_len 128 and has been truncated\n",
            "  warnings.warn(msg)\n",
            "/usr/local/lib/python3.7/dist-packages/NERDA/preprocessing.py:80: UserWarning: Sentence #14 length 152 exceeds max_len 128 and has been truncated\n",
            "  warnings.warn(msg)\n",
            " 14%|█▎        | 3/22 [00:00<00:04,  3.94it/s]/usr/local/lib/python3.7/dist-packages/NERDA/preprocessing.py:80: UserWarning: Sentence #36 length 233 exceeds max_len 128 and has been truncated\n",
            "  warnings.warn(msg)\n",
            "/usr/local/lib/python3.7/dist-packages/NERDA/preprocessing.py:80: UserWarning: Sentence #37 length 149 exceeds max_len 128 and has been truncated\n",
            "  warnings.warn(msg)\n",
            " 23%|██▎       | 5/22 [00:01<00:03,  4.26it/s]/usr/local/lib/python3.7/dist-packages/NERDA/preprocessing.py:80: UserWarning: Sentence #51 length 132 exceeds max_len 128 and has been truncated\n",
            "  warnings.warn(msg)\n",
            " 27%|██▋       | 6/22 [00:01<00:03,  4.32it/s]/usr/local/lib/python3.7/dist-packages/NERDA/preprocessing.py:80: UserWarning: Sentence #60 length 171 exceeds max_len 128 and has been truncated\n",
            "  warnings.warn(msg)\n",
            " 36%|███▋      | 8/22 [00:01<00:03,  4.44it/s]/usr/local/lib/python3.7/dist-packages/NERDA/preprocessing.py:80: UserWarning: Sentence #70 length 128 exceeds max_len 128 and has been truncated\n",
            "  warnings.warn(msg)\n",
            " 45%|████▌     | 10/22 [00:02<00:02,  4.41it/s]/usr/local/lib/python3.7/dist-packages/NERDA/preprocessing.py:80: UserWarning: Sentence #90 length 127 exceeds max_len 128 and has been truncated\n",
            "  warnings.warn(msg)\n",
            "100%|██████████| 22/22 [00:05<00:00,  4.32it/s]\n",
            "  0%|          | 0/6 [00:00<?, ?it/s]/usr/local/lib/python3.7/dist-packages/NERDA/preprocessing.py:80: UserWarning: Sentence #6 length 327 exceeds max_len 128 and has been truncated\n",
            "  warnings.warn(msg)\n",
            "/usr/local/lib/python3.7/dist-packages/NERDA/preprocessing.py:80: UserWarning: Sentence #16 length 132 exceeds max_len 128 and has been truncated\n",
            "  warnings.warn(msg)\n",
            "100%|██████████| 6/6 [00:00<00:00, 10.25it/s]\n"
          ]
        },
        {
          "output_type": "stream",
          "name": "stdout",
          "text": [
            "Train Loss = 0.3043290793218396 Valid Loss = 0.7294353246688843\n",
            "\n",
            " Epoch 7 / 11\n"
          ]
        },
        {
          "output_type": "stream",
          "name": "stderr",
          "text": [
            "\r  0%|          | 0/22 [00:00<?, ?it/s]/usr/local/lib/python3.7/dist-packages/NERDA/preprocessing.py:80: UserWarning: Sentence #6 length 262 exceeds max_len 128 and has been truncated\n",
            "  warnings.warn(msg)\n",
            "/usr/local/lib/python3.7/dist-packages/NERDA/preprocessing.py:80: UserWarning: Sentence #14 length 152 exceeds max_len 128 and has been truncated\n",
            "  warnings.warn(msg)\n",
            " 14%|█▎        | 3/22 [00:00<00:04,  4.06it/s]/usr/local/lib/python3.7/dist-packages/NERDA/preprocessing.py:80: UserWarning: Sentence #36 length 233 exceeds max_len 128 and has been truncated\n",
            "  warnings.warn(msg)\n",
            "/usr/local/lib/python3.7/dist-packages/NERDA/preprocessing.py:80: UserWarning: Sentence #37 length 149 exceeds max_len 128 and has been truncated\n",
            "  warnings.warn(msg)\n",
            " 23%|██▎       | 5/22 [00:01<00:03,  4.31it/s]/usr/local/lib/python3.7/dist-packages/NERDA/preprocessing.py:80: UserWarning: Sentence #51 length 132 exceeds max_len 128 and has been truncated\n",
            "  warnings.warn(msg)\n",
            " 27%|██▋       | 6/22 [00:01<00:03,  4.38it/s]/usr/local/lib/python3.7/dist-packages/NERDA/preprocessing.py:80: UserWarning: Sentence #60 length 171 exceeds max_len 128 and has been truncated\n",
            "  warnings.warn(msg)\n",
            " 36%|███▋      | 8/22 [00:01<00:03,  4.41it/s]/usr/local/lib/python3.7/dist-packages/NERDA/preprocessing.py:80: UserWarning: Sentence #70 length 128 exceeds max_len 128 and has been truncated\n",
            "  warnings.warn(msg)\n",
            " 45%|████▌     | 10/22 [00:02<00:02,  4.37it/s]/usr/local/lib/python3.7/dist-packages/NERDA/preprocessing.py:80: UserWarning: Sentence #90 length 127 exceeds max_len 128 and has been truncated\n",
            "  warnings.warn(msg)\n",
            "100%|██████████| 22/22 [00:05<00:00,  4.37it/s]\n",
            "  0%|          | 0/6 [00:00<?, ?it/s]/usr/local/lib/python3.7/dist-packages/NERDA/preprocessing.py:80: UserWarning: Sentence #6 length 327 exceeds max_len 128 and has been truncated\n",
            "  warnings.warn(msg)\n",
            "/usr/local/lib/python3.7/dist-packages/NERDA/preprocessing.py:80: UserWarning: Sentence #16 length 132 exceeds max_len 128 and has been truncated\n",
            "  warnings.warn(msg)\n",
            "100%|██████████| 6/6 [00:00<00:00, 10.96it/s]\n"
          ]
        },
        {
          "output_type": "stream",
          "name": "stdout",
          "text": [
            "Train Loss = 0.23144215590913186 Valid Loss = 0.8144671842455864\n",
            "\n",
            " Epoch 8 / 11\n"
          ]
        },
        {
          "output_type": "stream",
          "name": "stderr",
          "text": [
            "\r  0%|          | 0/22 [00:00<?, ?it/s]/usr/local/lib/python3.7/dist-packages/NERDA/preprocessing.py:80: UserWarning: Sentence #6 length 262 exceeds max_len 128 and has been truncated\n",
            "  warnings.warn(msg)\n",
            "/usr/local/lib/python3.7/dist-packages/NERDA/preprocessing.py:80: UserWarning: Sentence #14 length 152 exceeds max_len 128 and has been truncated\n",
            "  warnings.warn(msg)\n",
            " 14%|█▎        | 3/22 [00:00<00:04,  4.03it/s]/usr/local/lib/python3.7/dist-packages/NERDA/preprocessing.py:80: UserWarning: Sentence #36 length 233 exceeds max_len 128 and has been truncated\n",
            "  warnings.warn(msg)\n",
            "/usr/local/lib/python3.7/dist-packages/NERDA/preprocessing.py:80: UserWarning: Sentence #37 length 149 exceeds max_len 128 and has been truncated\n",
            "  warnings.warn(msg)\n",
            " 23%|██▎       | 5/22 [00:01<00:03,  4.28it/s]/usr/local/lib/python3.7/dist-packages/NERDA/preprocessing.py:80: UserWarning: Sentence #51 length 132 exceeds max_len 128 and has been truncated\n",
            "  warnings.warn(msg)\n",
            " 27%|██▋       | 6/22 [00:01<00:03,  4.36it/s]/usr/local/lib/python3.7/dist-packages/NERDA/preprocessing.py:80: UserWarning: Sentence #60 length 171 exceeds max_len 128 and has been truncated\n",
            "  warnings.warn(msg)\n",
            " 36%|███▋      | 8/22 [00:01<00:03,  4.46it/s]/usr/local/lib/python3.7/dist-packages/NERDA/preprocessing.py:80: UserWarning: Sentence #70 length 128 exceeds max_len 128 and has been truncated\n",
            "  warnings.warn(msg)\n",
            " 45%|████▌     | 10/22 [00:02<00:02,  4.46it/s]/usr/local/lib/python3.7/dist-packages/NERDA/preprocessing.py:80: UserWarning: Sentence #90 length 127 exceeds max_len 128 and has been truncated\n",
            "  warnings.warn(msg)\n",
            "100%|██████████| 22/22 [00:04<00:00,  4.41it/s]\n",
            "  0%|          | 0/6 [00:00<?, ?it/s]/usr/local/lib/python3.7/dist-packages/NERDA/preprocessing.py:80: UserWarning: Sentence #6 length 327 exceeds max_len 128 and has been truncated\n",
            "  warnings.warn(msg)\n",
            "/usr/local/lib/python3.7/dist-packages/NERDA/preprocessing.py:80: UserWarning: Sentence #16 length 132 exceeds max_len 128 and has been truncated\n",
            "  warnings.warn(msg)\n",
            "100%|██████████| 6/6 [00:00<00:00, 10.56it/s]\n"
          ]
        },
        {
          "output_type": "stream",
          "name": "stdout",
          "text": [
            "Train Loss = 0.22353278117423708 Valid Loss = 0.8444538687666258\n",
            "\n",
            " Epoch 9 / 11\n"
          ]
        },
        {
          "output_type": "stream",
          "name": "stderr",
          "text": [
            "\r  0%|          | 0/22 [00:00<?, ?it/s]/usr/local/lib/python3.7/dist-packages/NERDA/preprocessing.py:80: UserWarning: Sentence #6 length 262 exceeds max_len 128 and has been truncated\n",
            "  warnings.warn(msg)\n",
            "/usr/local/lib/python3.7/dist-packages/NERDA/preprocessing.py:80: UserWarning: Sentence #14 length 152 exceeds max_len 128 and has been truncated\n",
            "  warnings.warn(msg)\n",
            " 14%|█▎        | 3/22 [00:00<00:04,  4.05it/s]/usr/local/lib/python3.7/dist-packages/NERDA/preprocessing.py:80: UserWarning: Sentence #36 length 233 exceeds max_len 128 and has been truncated\n",
            "  warnings.warn(msg)\n",
            "/usr/local/lib/python3.7/dist-packages/NERDA/preprocessing.py:80: UserWarning: Sentence #37 length 149 exceeds max_len 128 and has been truncated\n",
            "  warnings.warn(msg)\n",
            " 23%|██▎       | 5/22 [00:01<00:03,  4.33it/s]/usr/local/lib/python3.7/dist-packages/NERDA/preprocessing.py:80: UserWarning: Sentence #51 length 132 exceeds max_len 128 and has been truncated\n",
            "  warnings.warn(msg)\n",
            " 27%|██▋       | 6/22 [00:01<00:03,  4.39it/s]/usr/local/lib/python3.7/dist-packages/NERDA/preprocessing.py:80: UserWarning: Sentence #60 length 171 exceeds max_len 128 and has been truncated\n",
            "  warnings.warn(msg)\n",
            " 36%|███▋      | 8/22 [00:01<00:03,  4.49it/s]/usr/local/lib/python3.7/dist-packages/NERDA/preprocessing.py:80: UserWarning: Sentence #70 length 128 exceeds max_len 128 and has been truncated\n",
            "  warnings.warn(msg)\n",
            " 45%|████▌     | 10/22 [00:02<00:02,  4.52it/s]/usr/local/lib/python3.7/dist-packages/NERDA/preprocessing.py:80: UserWarning: Sentence #90 length 127 exceeds max_len 128 and has been truncated\n",
            "  warnings.warn(msg)\n",
            "100%|██████████| 22/22 [00:04<00:00,  4.43it/s]\n",
            "  0%|          | 0/6 [00:00<?, ?it/s]/usr/local/lib/python3.7/dist-packages/NERDA/preprocessing.py:80: UserWarning: Sentence #6 length 327 exceeds max_len 128 and has been truncated\n",
            "  warnings.warn(msg)\n",
            "/usr/local/lib/python3.7/dist-packages/NERDA/preprocessing.py:80: UserWarning: Sentence #16 length 132 exceeds max_len 128 and has been truncated\n",
            "  warnings.warn(msg)\n",
            "100%|██████████| 6/6 [00:00<00:00, 10.71it/s]\n"
          ]
        },
        {
          "output_type": "stream",
          "name": "stdout",
          "text": [
            "Train Loss = 0.20227203772149302 Valid Loss = 0.8369379801054796\n",
            "\n",
            " Epoch 10 / 11\n"
          ]
        },
        {
          "output_type": "stream",
          "name": "stderr",
          "text": [
            "\r  0%|          | 0/22 [00:00<?, ?it/s]/usr/local/lib/python3.7/dist-packages/NERDA/preprocessing.py:80: UserWarning: Sentence #6 length 262 exceeds max_len 128 and has been truncated\n",
            "  warnings.warn(msg)\n",
            "/usr/local/lib/python3.7/dist-packages/NERDA/preprocessing.py:80: UserWarning: Sentence #14 length 152 exceeds max_len 128 and has been truncated\n",
            "  warnings.warn(msg)\n",
            " 14%|█▎        | 3/22 [00:00<00:04,  4.11it/s]/usr/local/lib/python3.7/dist-packages/NERDA/preprocessing.py:80: UserWarning: Sentence #36 length 233 exceeds max_len 128 and has been truncated\n",
            "  warnings.warn(msg)\n",
            "/usr/local/lib/python3.7/dist-packages/NERDA/preprocessing.py:80: UserWarning: Sentence #37 length 149 exceeds max_len 128 and has been truncated\n",
            "  warnings.warn(msg)\n",
            " 23%|██▎       | 5/22 [00:01<00:03,  4.34it/s]/usr/local/lib/python3.7/dist-packages/NERDA/preprocessing.py:80: UserWarning: Sentence #51 length 132 exceeds max_len 128 and has been truncated\n",
            "  warnings.warn(msg)\n",
            " 27%|██▋       | 6/22 [00:01<00:03,  4.40it/s]/usr/local/lib/python3.7/dist-packages/NERDA/preprocessing.py:80: UserWarning: Sentence #60 length 171 exceeds max_len 128 and has been truncated\n",
            "  warnings.warn(msg)\n",
            " 36%|███▋      | 8/22 [00:01<00:03,  4.52it/s]/usr/local/lib/python3.7/dist-packages/NERDA/preprocessing.py:80: UserWarning: Sentence #70 length 128 exceeds max_len 128 and has been truncated\n",
            "  warnings.warn(msg)\n",
            " 45%|████▌     | 10/22 [00:02<00:02,  4.57it/s]/usr/local/lib/python3.7/dist-packages/NERDA/preprocessing.py:80: UserWarning: Sentence #90 length 127 exceeds max_len 128 and has been truncated\n",
            "  warnings.warn(msg)\n",
            "100%|██████████| 22/22 [00:04<00:00,  4.48it/s]\n",
            "  0%|          | 0/6 [00:00<?, ?it/s]/usr/local/lib/python3.7/dist-packages/NERDA/preprocessing.py:80: UserWarning: Sentence #6 length 327 exceeds max_len 128 and has been truncated\n",
            "  warnings.warn(msg)\n",
            "/usr/local/lib/python3.7/dist-packages/NERDA/preprocessing.py:80: UserWarning: Sentence #16 length 132 exceeds max_len 128 and has been truncated\n",
            "  warnings.warn(msg)\n",
            "100%|██████████| 6/6 [00:00<00:00, 11.14it/s]\n"
          ]
        },
        {
          "output_type": "stream",
          "name": "stdout",
          "text": [
            "Train Loss = 0.18077201447026295 Valid Loss = 0.7988363367815813\n",
            "\n",
            " Epoch 11 / 11\n"
          ]
        },
        {
          "output_type": "stream",
          "name": "stderr",
          "text": [
            "\r  0%|          | 0/22 [00:00<?, ?it/s]/usr/local/lib/python3.7/dist-packages/NERDA/preprocessing.py:80: UserWarning: Sentence #6 length 262 exceeds max_len 128 and has been truncated\n",
            "  warnings.warn(msg)\n",
            "/usr/local/lib/python3.7/dist-packages/NERDA/preprocessing.py:80: UserWarning: Sentence #14 length 152 exceeds max_len 128 and has been truncated\n",
            "  warnings.warn(msg)\n",
            " 14%|█▎        | 3/22 [00:00<00:04,  4.12it/s]/usr/local/lib/python3.7/dist-packages/NERDA/preprocessing.py:80: UserWarning: Sentence #36 length 233 exceeds max_len 128 and has been truncated\n",
            "  warnings.warn(msg)\n",
            "/usr/local/lib/python3.7/dist-packages/NERDA/preprocessing.py:80: UserWarning: Sentence #37 length 149 exceeds max_len 128 and has been truncated\n",
            "  warnings.warn(msg)\n",
            " 23%|██▎       | 5/22 [00:01<00:03,  4.36it/s]/usr/local/lib/python3.7/dist-packages/NERDA/preprocessing.py:80: UserWarning: Sentence #51 length 132 exceeds max_len 128 and has been truncated\n",
            "  warnings.warn(msg)\n",
            " 27%|██▋       | 6/22 [00:01<00:03,  4.45it/s]/usr/local/lib/python3.7/dist-packages/NERDA/preprocessing.py:80: UserWarning: Sentence #60 length 171 exceeds max_len 128 and has been truncated\n",
            "  warnings.warn(msg)\n",
            " 36%|███▋      | 8/22 [00:01<00:03,  4.53it/s]/usr/local/lib/python3.7/dist-packages/NERDA/preprocessing.py:80: UserWarning: Sentence #70 length 128 exceeds max_len 128 and has been truncated\n",
            "  warnings.warn(msg)\n",
            " 45%|████▌     | 10/22 [00:02<00:02,  4.52it/s]/usr/local/lib/python3.7/dist-packages/NERDA/preprocessing.py:80: UserWarning: Sentence #90 length 127 exceeds max_len 128 and has been truncated\n",
            "  warnings.warn(msg)\n",
            "100%|██████████| 22/22 [00:04<00:00,  4.46it/s]\n",
            "  0%|          | 0/6 [00:00<?, ?it/s]/usr/local/lib/python3.7/dist-packages/NERDA/preprocessing.py:80: UserWarning: Sentence #6 length 327 exceeds max_len 128 and has been truncated\n",
            "  warnings.warn(msg)\n",
            "/usr/local/lib/python3.7/dist-packages/NERDA/preprocessing.py:80: UserWarning: Sentence #16 length 132 exceeds max_len 128 and has been truncated\n",
            "  warnings.warn(msg)\n",
            "100%|██████████| 6/6 [00:00<00:00, 11.03it/s]"
          ]
        },
        {
          "output_type": "stream",
          "name": "stdout",
          "text": [
            "Train Loss = 0.16196837479417975 Valid Loss = 0.8121234700083733\n"
          ]
        },
        {
          "output_type": "stream",
          "name": "stderr",
          "text": [
            "\n",
            "/usr/local/lib/python3.7/dist-packages/NERDA/preprocessing.py:80: UserWarning: Sentence #14 length 150 exceeds max_len 128 and has been truncated\n",
            "  warnings.warn(msg)\n",
            "/usr/local/lib/python3.7/dist-packages/NERDA/preprocessing.py:80: UserWarning: Sentence #15 length 130 exceeds max_len 128 and has been truncated\n",
            "  warnings.warn(msg)\n",
            "/usr/local/lib/python3.7/dist-packages/NERDA/preprocessing.py:80: UserWarning: Sentence #16 length 174 exceeds max_len 128 and has been truncated\n",
            "  warnings.warn(msg)\n",
            "/usr/local/lib/python3.7/dist-packages/NERDA/performance.py:39: UserWarning: length of observed values exceeded lengths of predicted values in 3 cases and were truncated. _Consider_ increasing max_len parameter for your model.\n",
            "  warnings.warn(f'length of observed values exceeded lengths of predicted values in {n_exceeds} cases and were truncated. _Consider_ increasing max_len parameter for your model.')\n",
            "/usr/local/lib/python3.7/dist-packages/NERDA/performance.py:39: UserWarning: length of observed values exceeded lengths of predicted values in 3 cases and were truncated. _Consider_ increasing max_len parameter for your model.\n",
            "  warnings.warn(f'length of observed values exceeded lengths of predicted values in {n_exceeds} cases and were truncated. _Consider_ increasing max_len parameter for your model.')\n",
            "/usr/local/lib/python3.7/dist-packages/NERDA/performance.py:39: UserWarning: length of observed values exceeded lengths of predicted values in 3 cases and were truncated. _Consider_ increasing max_len parameter for your model.\n",
            "  warnings.warn(f'length of observed values exceeded lengths of predicted values in {n_exceeds} cases and were truncated. _Consider_ increasing max_len parameter for your model.')\n"
          ]
        },
        {
          "output_type": "stream",
          "name": "stdout",
          "text": [
            "Device automatically set to: cuda\n"
          ]
        },
        {
          "output_type": "stream",
          "name": "stderr",
          "text": [
            "Some weights of the model checkpoint at bert-base-multilingual-cased were not used when initializing BertModel: ['cls.predictions.bias', 'cls.predictions.transform.LayerNorm.bias', 'cls.predictions.transform.LayerNorm.weight', 'cls.seq_relationship.weight', 'cls.seq_relationship.bias', 'cls.predictions.decoder.weight', 'cls.predictions.transform.dense.bias', 'cls.predictions.transform.dense.weight']\n",
            "- This IS expected if you are initializing BertModel from the checkpoint of a model trained on another task or with another architecture (e.g. initializing a BertForSequenceClassification model from a BertForPreTraining model).\n",
            "- This IS NOT expected if you are initializing BertModel from the checkpoint of a model that you expect to be exactly identical (initializing a BertForSequenceClassification model from a BertForSequenceClassification model).\n",
            "/usr/local/lib/python3.7/dist-packages/transformers/optimization.py:309: FutureWarning: This implementation of AdamW is deprecated and will be removed in a future version. Use the PyTorch implementation torch.optim.AdamW instead, or set `no_deprecation_warning=True` to disable this warning\n",
            "  FutureWarning,\n"
          ]
        },
        {
          "output_type": "stream",
          "name": "stdout",
          "text": [
            "\n",
            " Epoch 1 / 11\n"
          ]
        },
        {
          "output_type": "stream",
          "name": "stderr",
          "text": [
            "\r  0%|          | 0/22 [00:00<?, ?it/s]/usr/local/lib/python3.7/dist-packages/NERDA/preprocessing.py:80: UserWarning: Sentence #6 length 262 exceeds max_len 128 and has been truncated\n",
            "  warnings.warn(msg)\n",
            "/usr/local/lib/python3.7/dist-packages/NERDA/preprocessing.py:80: UserWarning: Sentence #14 length 152 exceeds max_len 128 and has been truncated\n",
            "  warnings.warn(msg)\n",
            " 18%|█▊        | 4/22 [00:01<00:04,  4.10it/s]/usr/local/lib/python3.7/dist-packages/NERDA/preprocessing.py:80: UserWarning: Sentence #48 length 150 exceeds max_len 128 and has been truncated\n",
            "  warnings.warn(msg)\n",
            " 23%|██▎       | 5/22 [00:01<00:03,  4.28it/s]/usr/local/lib/python3.7/dist-packages/NERDA/preprocessing.py:80: UserWarning: Sentence #49 length 130 exceeds max_len 128 and has been truncated\n",
            "  warnings.warn(msg)\n",
            "/usr/local/lib/python3.7/dist-packages/NERDA/preprocessing.py:80: UserWarning: Sentence #50 length 174 exceeds max_len 128 and has been truncated\n",
            "  warnings.warn(msg)\n",
            "/usr/local/lib/python3.7/dist-packages/NERDA/preprocessing.py:80: UserWarning: Sentence #51 length 132 exceeds max_len 128 and has been truncated\n",
            "  warnings.warn(msg)\n",
            " 27%|██▋       | 6/22 [00:01<00:03,  4.36it/s]/usr/local/lib/python3.7/dist-packages/NERDA/preprocessing.py:80: UserWarning: Sentence #60 length 171 exceeds max_len 128 and has been truncated\n",
            "  warnings.warn(msg)\n",
            " 36%|███▋      | 8/22 [00:01<00:03,  4.51it/s]/usr/local/lib/python3.7/dist-packages/NERDA/preprocessing.py:80: UserWarning: Sentence #70 length 128 exceeds max_len 128 and has been truncated\n",
            "  warnings.warn(msg)\n",
            " 45%|████▌     | 10/22 [00:02<00:02,  4.56it/s]/usr/local/lib/python3.7/dist-packages/NERDA/preprocessing.py:80: UserWarning: Sentence #90 length 127 exceeds max_len 128 and has been truncated\n",
            "  warnings.warn(msg)\n",
            "100%|██████████| 22/22 [00:04<00:00,  4.43it/s]\n",
            "  0%|          | 0/6 [00:00<?, ?it/s]/usr/local/lib/python3.7/dist-packages/NERDA/preprocessing.py:80: UserWarning: Sentence #6 length 327 exceeds max_len 128 and has been truncated\n",
            "  warnings.warn(msg)\n",
            "/usr/local/lib/python3.7/dist-packages/NERDA/preprocessing.py:80: UserWarning: Sentence #16 length 132 exceeds max_len 128 and has been truncated\n",
            "  warnings.warn(msg)\n",
            "100%|██████████| 6/6 [00:00<00:00, 10.85it/s]\n"
          ]
        },
        {
          "output_type": "stream",
          "name": "stdout",
          "text": [
            "Train Loss = 0.8977428728883917 Valid Loss = 0.903408000866572\n",
            "\n",
            " Epoch 2 / 11\n"
          ]
        },
        {
          "output_type": "stream",
          "name": "stderr",
          "text": [
            "\r  0%|          | 0/22 [00:00<?, ?it/s]/usr/local/lib/python3.7/dist-packages/NERDA/preprocessing.py:80: UserWarning: Sentence #6 length 262 exceeds max_len 128 and has been truncated\n",
            "  warnings.warn(msg)\n",
            "/usr/local/lib/python3.7/dist-packages/NERDA/preprocessing.py:80: UserWarning: Sentence #14 length 152 exceeds max_len 128 and has been truncated\n",
            "  warnings.warn(msg)\n",
            " 18%|█▊        | 4/22 [00:00<00:04,  4.30it/s]/usr/local/lib/python3.7/dist-packages/NERDA/preprocessing.py:80: UserWarning: Sentence #48 length 150 exceeds max_len 128 and has been truncated\n",
            "  warnings.warn(msg)\n",
            " 23%|██▎       | 5/22 [00:01<00:03,  4.39it/s]/usr/local/lib/python3.7/dist-packages/NERDA/preprocessing.py:80: UserWarning: Sentence #49 length 130 exceeds max_len 128 and has been truncated\n",
            "  warnings.warn(msg)\n",
            "/usr/local/lib/python3.7/dist-packages/NERDA/preprocessing.py:80: UserWarning: Sentence #50 length 174 exceeds max_len 128 and has been truncated\n",
            "  warnings.warn(msg)\n",
            "/usr/local/lib/python3.7/dist-packages/NERDA/preprocessing.py:80: UserWarning: Sentence #51 length 132 exceeds max_len 128 and has been truncated\n",
            "  warnings.warn(msg)\n",
            " 27%|██▋       | 6/22 [00:01<00:03,  4.40it/s]/usr/local/lib/python3.7/dist-packages/NERDA/preprocessing.py:80: UserWarning: Sentence #60 length 171 exceeds max_len 128 and has been truncated\n",
            "  warnings.warn(msg)\n",
            " 36%|███▋      | 8/22 [00:01<00:03,  4.53it/s]/usr/local/lib/python3.7/dist-packages/NERDA/preprocessing.py:80: UserWarning: Sentence #70 length 128 exceeds max_len 128 and has been truncated\n",
            "  warnings.warn(msg)\n",
            " 45%|████▌     | 10/22 [00:02<00:02,  4.54it/s]/usr/local/lib/python3.7/dist-packages/NERDA/preprocessing.py:80: UserWarning: Sentence #90 length 127 exceeds max_len 128 and has been truncated\n",
            "  warnings.warn(msg)\n",
            "100%|██████████| 22/22 [00:04<00:00,  4.46it/s]\n",
            "  0%|          | 0/6 [00:00<?, ?it/s]/usr/local/lib/python3.7/dist-packages/NERDA/preprocessing.py:80: UserWarning: Sentence #6 length 327 exceeds max_len 128 and has been truncated\n",
            "  warnings.warn(msg)\n",
            "/usr/local/lib/python3.7/dist-packages/NERDA/preprocessing.py:80: UserWarning: Sentence #16 length 132 exceeds max_len 128 and has been truncated\n",
            "  warnings.warn(msg)\n",
            "100%|██████████| 6/6 [00:00<00:00, 10.79it/s]\n"
          ]
        },
        {
          "output_type": "stream",
          "name": "stdout",
          "text": [
            "Train Loss = 0.8540496013381265 Valid Loss = 0.8830214242140452\n",
            "\n",
            " Epoch 3 / 11\n"
          ]
        },
        {
          "output_type": "stream",
          "name": "stderr",
          "text": [
            "\r  0%|          | 0/22 [00:00<?, ?it/s]/usr/local/lib/python3.7/dist-packages/NERDA/preprocessing.py:80: UserWarning: Sentence #6 length 262 exceeds max_len 128 and has been truncated\n",
            "  warnings.warn(msg)\n",
            "/usr/local/lib/python3.7/dist-packages/NERDA/preprocessing.py:80: UserWarning: Sentence #14 length 152 exceeds max_len 128 and has been truncated\n",
            "  warnings.warn(msg)\n",
            " 18%|█▊        | 4/22 [00:00<00:04,  4.25it/s]/usr/local/lib/python3.7/dist-packages/NERDA/preprocessing.py:80: UserWarning: Sentence #48 length 150 exceeds max_len 128 and has been truncated\n",
            "  warnings.warn(msg)\n",
            " 23%|██▎       | 5/22 [00:01<00:03,  4.37it/s]/usr/local/lib/python3.7/dist-packages/NERDA/preprocessing.py:80: UserWarning: Sentence #49 length 130 exceeds max_len 128 and has been truncated\n",
            "  warnings.warn(msg)\n",
            "/usr/local/lib/python3.7/dist-packages/NERDA/preprocessing.py:80: UserWarning: Sentence #50 length 174 exceeds max_len 128 and has been truncated\n",
            "  warnings.warn(msg)\n",
            "/usr/local/lib/python3.7/dist-packages/NERDA/preprocessing.py:80: UserWarning: Sentence #51 length 132 exceeds max_len 128 and has been truncated\n",
            "  warnings.warn(msg)\n",
            " 27%|██▋       | 6/22 [00:01<00:03,  4.44it/s]/usr/local/lib/python3.7/dist-packages/NERDA/preprocessing.py:80: UserWarning: Sentence #60 length 171 exceeds max_len 128 and has been truncated\n",
            "  warnings.warn(msg)\n",
            " 36%|███▋      | 8/22 [00:01<00:03,  4.55it/s]/usr/local/lib/python3.7/dist-packages/NERDA/preprocessing.py:80: UserWarning: Sentence #70 length 128 exceeds max_len 128 and has been truncated\n",
            "  warnings.warn(msg)\n",
            " 45%|████▌     | 10/22 [00:02<00:02,  4.48it/s]/usr/local/lib/python3.7/dist-packages/NERDA/preprocessing.py:80: UserWarning: Sentence #90 length 127 exceeds max_len 128 and has been truncated\n",
            "  warnings.warn(msg)\n",
            "100%|██████████| 22/22 [00:04<00:00,  4.46it/s]\n",
            "  0%|          | 0/6 [00:00<?, ?it/s]/usr/local/lib/python3.7/dist-packages/NERDA/preprocessing.py:80: UserWarning: Sentence #6 length 327 exceeds max_len 128 and has been truncated\n",
            "  warnings.warn(msg)\n",
            "/usr/local/lib/python3.7/dist-packages/NERDA/preprocessing.py:80: UserWarning: Sentence #16 length 132 exceeds max_len 128 and has been truncated\n",
            "  warnings.warn(msg)\n",
            "100%|██████████| 6/6 [00:00<00:00, 10.49it/s]\n"
          ]
        },
        {
          "output_type": "stream",
          "name": "stdout",
          "text": [
            "Train Loss = 0.8435310531746257 Valid Loss = 0.9306036134560903\n",
            "\n",
            " Epoch 4 / 11\n"
          ]
        },
        {
          "output_type": "stream",
          "name": "stderr",
          "text": [
            "\r  0%|          | 0/22 [00:00<?, ?it/s]/usr/local/lib/python3.7/dist-packages/NERDA/preprocessing.py:80: UserWarning: Sentence #6 length 262 exceeds max_len 128 and has been truncated\n",
            "  warnings.warn(msg)\n",
            "/usr/local/lib/python3.7/dist-packages/NERDA/preprocessing.py:80: UserWarning: Sentence #14 length 152 exceeds max_len 128 and has been truncated\n",
            "  warnings.warn(msg)\n",
            " 18%|█▊        | 4/22 [00:01<00:04,  4.20it/s]/usr/local/lib/python3.7/dist-packages/NERDA/preprocessing.py:80: UserWarning: Sentence #48 length 150 exceeds max_len 128 and has been truncated\n",
            "  warnings.warn(msg)\n",
            " 23%|██▎       | 5/22 [00:01<00:03,  4.28it/s]/usr/local/lib/python3.7/dist-packages/NERDA/preprocessing.py:80: UserWarning: Sentence #49 length 130 exceeds max_len 128 and has been truncated\n",
            "  warnings.warn(msg)\n",
            "/usr/local/lib/python3.7/dist-packages/NERDA/preprocessing.py:80: UserWarning: Sentence #50 length 174 exceeds max_len 128 and has been truncated\n",
            "  warnings.warn(msg)\n",
            "/usr/local/lib/python3.7/dist-packages/NERDA/preprocessing.py:80: UserWarning: Sentence #51 length 132 exceeds max_len 128 and has been truncated\n",
            "  warnings.warn(msg)\n",
            " 27%|██▋       | 6/22 [00:01<00:03,  4.37it/s]/usr/local/lib/python3.7/dist-packages/NERDA/preprocessing.py:80: UserWarning: Sentence #60 length 171 exceeds max_len 128 and has been truncated\n",
            "  warnings.warn(msg)\n",
            " 36%|███▋      | 8/22 [00:01<00:03,  4.51it/s]/usr/local/lib/python3.7/dist-packages/NERDA/preprocessing.py:80: UserWarning: Sentence #70 length 128 exceeds max_len 128 and has been truncated\n",
            "  warnings.warn(msg)\n",
            " 45%|████▌     | 10/22 [00:02<00:02,  4.53it/s]/usr/local/lib/python3.7/dist-packages/NERDA/preprocessing.py:80: UserWarning: Sentence #90 length 127 exceeds max_len 128 and has been truncated\n",
            "  warnings.warn(msg)\n",
            "100%|██████████| 22/22 [00:04<00:00,  4.44it/s]\n",
            "  0%|          | 0/6 [00:00<?, ?it/s]/usr/local/lib/python3.7/dist-packages/NERDA/preprocessing.py:80: UserWarning: Sentence #6 length 327 exceeds max_len 128 and has been truncated\n",
            "  warnings.warn(msg)\n",
            "/usr/local/lib/python3.7/dist-packages/NERDA/preprocessing.py:80: UserWarning: Sentence #16 length 132 exceeds max_len 128 and has been truncated\n",
            "  warnings.warn(msg)\n",
            "100%|██████████| 6/6 [00:00<00:00, 10.98it/s]\n"
          ]
        },
        {
          "output_type": "stream",
          "name": "stdout",
          "text": [
            "Train Loss = 0.848877410997044 Valid Loss = 0.9559452136357626\n",
            "\n",
            " Epoch 5 / 11\n"
          ]
        },
        {
          "output_type": "stream",
          "name": "stderr",
          "text": [
            "\r  0%|          | 0/22 [00:00<?, ?it/s]/usr/local/lib/python3.7/dist-packages/NERDA/preprocessing.py:80: UserWarning: Sentence #6 length 262 exceeds max_len 128 and has been truncated\n",
            "  warnings.warn(msg)\n",
            "/usr/local/lib/python3.7/dist-packages/NERDA/preprocessing.py:80: UserWarning: Sentence #14 length 152 exceeds max_len 128 and has been truncated\n",
            "  warnings.warn(msg)\n",
            " 18%|█▊        | 4/22 [00:01<00:04,  4.21it/s]/usr/local/lib/python3.7/dist-packages/NERDA/preprocessing.py:80: UserWarning: Sentence #48 length 150 exceeds max_len 128 and has been truncated\n",
            "  warnings.warn(msg)\n",
            " 23%|██▎       | 5/22 [00:01<00:03,  4.32it/s]/usr/local/lib/python3.7/dist-packages/NERDA/preprocessing.py:80: UserWarning: Sentence #49 length 130 exceeds max_len 128 and has been truncated\n",
            "  warnings.warn(msg)\n",
            "/usr/local/lib/python3.7/dist-packages/NERDA/preprocessing.py:80: UserWarning: Sentence #50 length 174 exceeds max_len 128 and has been truncated\n",
            "  warnings.warn(msg)\n",
            "/usr/local/lib/python3.7/dist-packages/NERDA/preprocessing.py:80: UserWarning: Sentence #51 length 132 exceeds max_len 128 and has been truncated\n",
            "  warnings.warn(msg)\n",
            " 27%|██▋       | 6/22 [00:01<00:03,  4.24it/s]/usr/local/lib/python3.7/dist-packages/NERDA/preprocessing.py:80: UserWarning: Sentence #60 length 171 exceeds max_len 128 and has been truncated\n",
            "  warnings.warn(msg)\n",
            " 36%|███▋      | 8/22 [00:01<00:03,  4.28it/s]/usr/local/lib/python3.7/dist-packages/NERDA/preprocessing.py:80: UserWarning: Sentence #70 length 128 exceeds max_len 128 and has been truncated\n",
            "  warnings.warn(msg)\n",
            " 45%|████▌     | 10/22 [00:02<00:02,  4.08it/s]/usr/local/lib/python3.7/dist-packages/NERDA/preprocessing.py:80: UserWarning: Sentence #90 length 127 exceeds max_len 128 and has been truncated\n",
            "  warnings.warn(msg)\n",
            "100%|██████████| 22/22 [00:05<00:00,  4.28it/s]\n",
            "  0%|          | 0/6 [00:00<?, ?it/s]/usr/local/lib/python3.7/dist-packages/NERDA/preprocessing.py:80: UserWarning: Sentence #6 length 327 exceeds max_len 128 and has been truncated\n",
            "  warnings.warn(msg)\n",
            "/usr/local/lib/python3.7/dist-packages/NERDA/preprocessing.py:80: UserWarning: Sentence #16 length 132 exceeds max_len 128 and has been truncated\n",
            "  warnings.warn(msg)\n",
            "100%|██████████| 6/6 [00:00<00:00, 10.62it/s]\n"
          ]
        },
        {
          "output_type": "stream",
          "name": "stdout",
          "text": [
            "Train Loss = 0.8512579879977487 Valid Loss = 0.9644952416419983\n",
            "\n",
            " Epoch 6 / 11\n"
          ]
        },
        {
          "output_type": "stream",
          "name": "stderr",
          "text": [
            "\r  0%|          | 0/22 [00:00<?, ?it/s]/usr/local/lib/python3.7/dist-packages/NERDA/preprocessing.py:80: UserWarning: Sentence #6 length 262 exceeds max_len 128 and has been truncated\n",
            "  warnings.warn(msg)\n",
            "/usr/local/lib/python3.7/dist-packages/NERDA/preprocessing.py:80: UserWarning: Sentence #14 length 152 exceeds max_len 128 and has been truncated\n",
            "  warnings.warn(msg)\n",
            " 18%|█▊        | 4/22 [00:01<00:04,  4.22it/s]/usr/local/lib/python3.7/dist-packages/NERDA/preprocessing.py:80: UserWarning: Sentence #48 length 150 exceeds max_len 128 and has been truncated\n",
            "  warnings.warn(msg)\n",
            " 23%|██▎       | 5/22 [00:01<00:03,  4.30it/s]/usr/local/lib/python3.7/dist-packages/NERDA/preprocessing.py:80: UserWarning: Sentence #49 length 130 exceeds max_len 128 and has been truncated\n",
            "  warnings.warn(msg)\n",
            "/usr/local/lib/python3.7/dist-packages/NERDA/preprocessing.py:80: UserWarning: Sentence #50 length 174 exceeds max_len 128 and has been truncated\n",
            "  warnings.warn(msg)\n",
            "/usr/local/lib/python3.7/dist-packages/NERDA/preprocessing.py:80: UserWarning: Sentence #51 length 132 exceeds max_len 128 and has been truncated\n",
            "  warnings.warn(msg)\n",
            " 27%|██▋       | 6/22 [00:01<00:03,  4.40it/s]/usr/local/lib/python3.7/dist-packages/NERDA/preprocessing.py:80: UserWarning: Sentence #60 length 171 exceeds max_len 128 and has been truncated\n",
            "  warnings.warn(msg)\n",
            " 36%|███▋      | 8/22 [00:01<00:03,  4.46it/s]/usr/local/lib/python3.7/dist-packages/NERDA/preprocessing.py:80: UserWarning: Sentence #70 length 128 exceeds max_len 128 and has been truncated\n",
            "  warnings.warn(msg)\n",
            " 45%|████▌     | 10/22 [00:02<00:02,  4.42it/s]/usr/local/lib/python3.7/dist-packages/NERDA/preprocessing.py:80: UserWarning: Sentence #90 length 127 exceeds max_len 128 and has been truncated\n",
            "  warnings.warn(msg)\n",
            "100%|██████████| 22/22 [00:05<00:00,  4.39it/s]\n",
            "  0%|          | 0/6 [00:00<?, ?it/s]/usr/local/lib/python3.7/dist-packages/NERDA/preprocessing.py:80: UserWarning: Sentence #6 length 327 exceeds max_len 128 and has been truncated\n",
            "  warnings.warn(msg)\n",
            "/usr/local/lib/python3.7/dist-packages/NERDA/preprocessing.py:80: UserWarning: Sentence #16 length 132 exceeds max_len 128 and has been truncated\n",
            "  warnings.warn(msg)\n",
            "100%|██████████| 6/6 [00:00<00:00, 10.91it/s]\n"
          ]
        },
        {
          "output_type": "stream",
          "name": "stdout",
          "text": [
            "Train Loss = 0.8609161376953125 Valid Loss = 0.9241689542929331\n",
            "\n",
            " Epoch 7 / 11\n"
          ]
        },
        {
          "output_type": "stream",
          "name": "stderr",
          "text": [
            "\r  0%|          | 0/22 [00:00<?, ?it/s]/usr/local/lib/python3.7/dist-packages/NERDA/preprocessing.py:80: UserWarning: Sentence #6 length 262 exceeds max_len 128 and has been truncated\n",
            "  warnings.warn(msg)\n",
            "/usr/local/lib/python3.7/dist-packages/NERDA/preprocessing.py:80: UserWarning: Sentence #14 length 152 exceeds max_len 128 and has been truncated\n",
            "  warnings.warn(msg)\n",
            " 18%|█▊        | 4/22 [00:01<00:04,  4.15it/s]/usr/local/lib/python3.7/dist-packages/NERDA/preprocessing.py:80: UserWarning: Sentence #48 length 150 exceeds max_len 128 and has been truncated\n",
            "  warnings.warn(msg)\n",
            " 23%|██▎       | 5/22 [00:01<00:04,  4.24it/s]/usr/local/lib/python3.7/dist-packages/NERDA/preprocessing.py:80: UserWarning: Sentence #49 length 130 exceeds max_len 128 and has been truncated\n",
            "  warnings.warn(msg)\n",
            "/usr/local/lib/python3.7/dist-packages/NERDA/preprocessing.py:80: UserWarning: Sentence #50 length 174 exceeds max_len 128 and has been truncated\n",
            "  warnings.warn(msg)\n",
            "/usr/local/lib/python3.7/dist-packages/NERDA/preprocessing.py:80: UserWarning: Sentence #51 length 132 exceeds max_len 128 and has been truncated\n",
            "  warnings.warn(msg)\n",
            " 27%|██▋       | 6/22 [00:01<00:03,  4.26it/s]/usr/local/lib/python3.7/dist-packages/NERDA/preprocessing.py:80: UserWarning: Sentence #60 length 171 exceeds max_len 128 and has been truncated\n",
            "  warnings.warn(msg)\n",
            " 36%|███▋      | 8/22 [00:01<00:03,  4.42it/s]/usr/local/lib/python3.7/dist-packages/NERDA/preprocessing.py:80: UserWarning: Sentence #70 length 128 exceeds max_len 128 and has been truncated\n",
            "  warnings.warn(msg)\n",
            " 45%|████▌     | 10/22 [00:02<00:02,  4.42it/s]/usr/local/lib/python3.7/dist-packages/NERDA/preprocessing.py:80: UserWarning: Sentence #90 length 127 exceeds max_len 128 and has been truncated\n",
            "  warnings.warn(msg)\n",
            "100%|██████████| 22/22 [00:05<00:00,  4.34it/s]\n",
            "  0%|          | 0/6 [00:00<?, ?it/s]/usr/local/lib/python3.7/dist-packages/NERDA/preprocessing.py:80: UserWarning: Sentence #6 length 327 exceeds max_len 128 and has been truncated\n",
            "  warnings.warn(msg)\n",
            "/usr/local/lib/python3.7/dist-packages/NERDA/preprocessing.py:80: UserWarning: Sentence #16 length 132 exceeds max_len 128 and has been truncated\n",
            "  warnings.warn(msg)\n",
            "100%|██████████| 6/6 [00:00<00:00, 10.59it/s]\n"
          ]
        },
        {
          "output_type": "stream",
          "name": "stdout",
          "text": [
            "Train Loss = 0.8609824668277394 Valid Loss = 0.877440482378006\n",
            "\n",
            " Epoch 8 / 11\n"
          ]
        },
        {
          "output_type": "stream",
          "name": "stderr",
          "text": [
            "\r  0%|          | 0/22 [00:00<?, ?it/s]/usr/local/lib/python3.7/dist-packages/NERDA/preprocessing.py:80: UserWarning: Sentence #6 length 262 exceeds max_len 128 and has been truncated\n",
            "  warnings.warn(msg)\n",
            "/usr/local/lib/python3.7/dist-packages/NERDA/preprocessing.py:80: UserWarning: Sentence #14 length 152 exceeds max_len 128 and has been truncated\n",
            "  warnings.warn(msg)\n",
            " 18%|█▊        | 4/22 [00:01<00:04,  4.13it/s]/usr/local/lib/python3.7/dist-packages/NERDA/preprocessing.py:80: UserWarning: Sentence #48 length 150 exceeds max_len 128 and has been truncated\n",
            "  warnings.warn(msg)\n",
            " 23%|██▎       | 5/22 [00:01<00:04,  4.24it/s]/usr/local/lib/python3.7/dist-packages/NERDA/preprocessing.py:80: UserWarning: Sentence #49 length 130 exceeds max_len 128 and has been truncated\n",
            "  warnings.warn(msg)\n",
            "/usr/local/lib/python3.7/dist-packages/NERDA/preprocessing.py:80: UserWarning: Sentence #50 length 174 exceeds max_len 128 and has been truncated\n",
            "  warnings.warn(msg)\n",
            "/usr/local/lib/python3.7/dist-packages/NERDA/preprocessing.py:80: UserWarning: Sentence #51 length 132 exceeds max_len 128 and has been truncated\n",
            "  warnings.warn(msg)\n",
            " 27%|██▋       | 6/22 [00:01<00:03,  4.30it/s]/usr/local/lib/python3.7/dist-packages/NERDA/preprocessing.py:80: UserWarning: Sentence #60 length 171 exceeds max_len 128 and has been truncated\n",
            "  warnings.warn(msg)\n",
            " 36%|███▋      | 8/22 [00:01<00:03,  4.37it/s]/usr/local/lib/python3.7/dist-packages/NERDA/preprocessing.py:80: UserWarning: Sentence #70 length 128 exceeds max_len 128 and has been truncated\n",
            "  warnings.warn(msg)\n",
            " 45%|████▌     | 10/22 [00:02<00:02,  4.32it/s]/usr/local/lib/python3.7/dist-packages/NERDA/preprocessing.py:80: UserWarning: Sentence #90 length 127 exceeds max_len 128 and has been truncated\n",
            "  warnings.warn(msg)\n",
            "100%|██████████| 22/22 [00:05<00:00,  4.35it/s]\n",
            "  0%|          | 0/6 [00:00<?, ?it/s]/usr/local/lib/python3.7/dist-packages/NERDA/preprocessing.py:80: UserWarning: Sentence #6 length 327 exceeds max_len 128 and has been truncated\n",
            "  warnings.warn(msg)\n",
            "/usr/local/lib/python3.7/dist-packages/NERDA/preprocessing.py:80: UserWarning: Sentence #16 length 132 exceeds max_len 128 and has been truncated\n",
            "  warnings.warn(msg)\n",
            "100%|██████████| 6/6 [00:00<00:00, 10.93it/s]\n"
          ]
        },
        {
          "output_type": "stream",
          "name": "stdout",
          "text": [
            "Train Loss = 0.8481267230077223 Valid Loss = 0.8716858824094137\n",
            "\n",
            " Epoch 9 / 11\n"
          ]
        },
        {
          "output_type": "stream",
          "name": "stderr",
          "text": [
            "\r  0%|          | 0/22 [00:00<?, ?it/s]/usr/local/lib/python3.7/dist-packages/NERDA/preprocessing.py:80: UserWarning: Sentence #6 length 262 exceeds max_len 128 and has been truncated\n",
            "  warnings.warn(msg)\n",
            "/usr/local/lib/python3.7/dist-packages/NERDA/preprocessing.py:80: UserWarning: Sentence #14 length 152 exceeds max_len 128 and has been truncated\n",
            "  warnings.warn(msg)\n",
            " 18%|█▊        | 4/22 [00:00<00:04,  4.25it/s]/usr/local/lib/python3.7/dist-packages/NERDA/preprocessing.py:80: UserWarning: Sentence #48 length 150 exceeds max_len 128 and has been truncated\n",
            "  warnings.warn(msg)\n",
            " 23%|██▎       | 5/22 [00:01<00:03,  4.30it/s]/usr/local/lib/python3.7/dist-packages/NERDA/preprocessing.py:80: UserWarning: Sentence #49 length 130 exceeds max_len 128 and has been truncated\n",
            "  warnings.warn(msg)\n",
            "/usr/local/lib/python3.7/dist-packages/NERDA/preprocessing.py:80: UserWarning: Sentence #50 length 174 exceeds max_len 128 and has been truncated\n",
            "  warnings.warn(msg)\n",
            "/usr/local/lib/python3.7/dist-packages/NERDA/preprocessing.py:80: UserWarning: Sentence #51 length 132 exceeds max_len 128 and has been truncated\n",
            "  warnings.warn(msg)\n",
            " 27%|██▋       | 6/22 [00:01<00:03,  4.31it/s]/usr/local/lib/python3.7/dist-packages/NERDA/preprocessing.py:80: UserWarning: Sentence #60 length 171 exceeds max_len 128 and has been truncated\n",
            "  warnings.warn(msg)\n",
            " 36%|███▋      | 8/22 [00:01<00:03,  4.44it/s]/usr/local/lib/python3.7/dist-packages/NERDA/preprocessing.py:80: UserWarning: Sentence #70 length 128 exceeds max_len 128 and has been truncated\n",
            "  warnings.warn(msg)\n",
            " 45%|████▌     | 10/22 [00:02<00:02,  4.47it/s]/usr/local/lib/python3.7/dist-packages/NERDA/preprocessing.py:80: UserWarning: Sentence #90 length 127 exceeds max_len 128 and has been truncated\n",
            "  warnings.warn(msg)\n",
            "100%|██████████| 22/22 [00:04<00:00,  4.40it/s]\n",
            "  0%|          | 0/6 [00:00<?, ?it/s]/usr/local/lib/python3.7/dist-packages/NERDA/preprocessing.py:80: UserWarning: Sentence #6 length 327 exceeds max_len 128 and has been truncated\n",
            "  warnings.warn(msg)\n",
            "/usr/local/lib/python3.7/dist-packages/NERDA/preprocessing.py:80: UserWarning: Sentence #16 length 132 exceeds max_len 128 and has been truncated\n",
            "  warnings.warn(msg)\n",
            "100%|██████████| 6/6 [00:00<00:00, 10.60it/s]\n"
          ]
        },
        {
          "output_type": "stream",
          "name": "stdout",
          "text": [
            "Train Loss = 0.8413381928747351 Valid Loss = 0.8733159005641937\n",
            "\n",
            " Epoch 10 / 11\n"
          ]
        },
        {
          "output_type": "stream",
          "name": "stderr",
          "text": [
            "\r  0%|          | 0/22 [00:00<?, ?it/s]/usr/local/lib/python3.7/dist-packages/NERDA/preprocessing.py:80: UserWarning: Sentence #6 length 262 exceeds max_len 128 and has been truncated\n",
            "  warnings.warn(msg)\n",
            "/usr/local/lib/python3.7/dist-packages/NERDA/preprocessing.py:80: UserWarning: Sentence #14 length 152 exceeds max_len 128 and has been truncated\n",
            "  warnings.warn(msg)\n",
            " 18%|█▊        | 4/22 [00:01<00:04,  4.22it/s]/usr/local/lib/python3.7/dist-packages/NERDA/preprocessing.py:80: UserWarning: Sentence #48 length 150 exceeds max_len 128 and has been truncated\n",
            "  warnings.warn(msg)\n",
            " 23%|██▎       | 5/22 [00:01<00:03,  4.31it/s]/usr/local/lib/python3.7/dist-packages/NERDA/preprocessing.py:80: UserWarning: Sentence #49 length 130 exceeds max_len 128 and has been truncated\n",
            "  warnings.warn(msg)\n",
            "/usr/local/lib/python3.7/dist-packages/NERDA/preprocessing.py:80: UserWarning: Sentence #50 length 174 exceeds max_len 128 and has been truncated\n",
            "  warnings.warn(msg)\n",
            "/usr/local/lib/python3.7/dist-packages/NERDA/preprocessing.py:80: UserWarning: Sentence #51 length 132 exceeds max_len 128 and has been truncated\n",
            "  warnings.warn(msg)\n",
            " 27%|██▋       | 6/22 [00:01<00:03,  4.39it/s]/usr/local/lib/python3.7/dist-packages/NERDA/preprocessing.py:80: UserWarning: Sentence #60 length 171 exceeds max_len 128 and has been truncated\n",
            "  warnings.warn(msg)\n",
            " 36%|███▋      | 8/22 [00:01<00:03,  4.50it/s]/usr/local/lib/python3.7/dist-packages/NERDA/preprocessing.py:80: UserWarning: Sentence #70 length 128 exceeds max_len 128 and has been truncated\n",
            "  warnings.warn(msg)\n",
            " 45%|████▌     | 10/22 [00:02<00:02,  4.53it/s]/usr/local/lib/python3.7/dist-packages/NERDA/preprocessing.py:80: UserWarning: Sentence #90 length 127 exceeds max_len 128 and has been truncated\n",
            "  warnings.warn(msg)\n",
            "100%|██████████| 22/22 [00:05<00:00,  4.30it/s]\n",
            "  0%|          | 0/6 [00:00<?, ?it/s]/usr/local/lib/python3.7/dist-packages/NERDA/preprocessing.py:80: UserWarning: Sentence #6 length 327 exceeds max_len 128 and has been truncated\n",
            "  warnings.warn(msg)\n",
            "/usr/local/lib/python3.7/dist-packages/NERDA/preprocessing.py:80: UserWarning: Sentence #16 length 132 exceeds max_len 128 and has been truncated\n",
            "  warnings.warn(msg)\n",
            "100%|██████████| 6/6 [00:00<00:00,  8.20it/s]\n"
          ]
        },
        {
          "output_type": "stream",
          "name": "stdout",
          "text": [
            "Train Loss = 0.8407984728162939 Valid Loss = 0.8699310123920441\n",
            "\n",
            " Epoch 11 / 11\n"
          ]
        },
        {
          "output_type": "stream",
          "name": "stderr",
          "text": [
            "\r  0%|          | 0/22 [00:00<?, ?it/s]/usr/local/lib/python3.7/dist-packages/NERDA/preprocessing.py:80: UserWarning: Sentence #6 length 262 exceeds max_len 128 and has been truncated\n",
            "  warnings.warn(msg)\n",
            "/usr/local/lib/python3.7/dist-packages/NERDA/preprocessing.py:80: UserWarning: Sentence #14 length 152 exceeds max_len 128 and has been truncated\n",
            "  warnings.warn(msg)\n",
            " 18%|█▊        | 4/22 [00:01<00:04,  3.86it/s]/usr/local/lib/python3.7/dist-packages/NERDA/preprocessing.py:80: UserWarning: Sentence #48 length 150 exceeds max_len 128 and has been truncated\n",
            "  warnings.warn(msg)\n",
            " 23%|██▎       | 5/22 [00:01<00:04,  4.08it/s]/usr/local/lib/python3.7/dist-packages/NERDA/preprocessing.py:80: UserWarning: Sentence #49 length 130 exceeds max_len 128 and has been truncated\n",
            "  warnings.warn(msg)\n",
            "/usr/local/lib/python3.7/dist-packages/NERDA/preprocessing.py:80: UserWarning: Sentence #50 length 174 exceeds max_len 128 and has been truncated\n",
            "  warnings.warn(msg)\n",
            "/usr/local/lib/python3.7/dist-packages/NERDA/preprocessing.py:80: UserWarning: Sentence #51 length 132 exceeds max_len 128 and has been truncated\n",
            "  warnings.warn(msg)\n",
            " 27%|██▋       | 6/22 [00:01<00:03,  4.16it/s]/usr/local/lib/python3.7/dist-packages/NERDA/preprocessing.py:80: UserWarning: Sentence #60 length 171 exceeds max_len 128 and has been truncated\n",
            "  warnings.warn(msg)\n",
            " 36%|███▋      | 8/22 [00:02<00:03,  4.38it/s]/usr/local/lib/python3.7/dist-packages/NERDA/preprocessing.py:80: UserWarning: Sentence #70 length 128 exceeds max_len 128 and has been truncated\n",
            "  warnings.warn(msg)\n",
            " 45%|████▌     | 10/22 [00:02<00:02,  4.48it/s]/usr/local/lib/python3.7/dist-packages/NERDA/preprocessing.py:80: UserWarning: Sentence #90 length 127 exceeds max_len 128 and has been truncated\n",
            "  warnings.warn(msg)\n",
            "100%|██████████| 22/22 [00:05<00:00,  4.32it/s]\n",
            "  0%|          | 0/6 [00:00<?, ?it/s]/usr/local/lib/python3.7/dist-packages/NERDA/preprocessing.py:80: UserWarning: Sentence #6 length 327 exceeds max_len 128 and has been truncated\n",
            "  warnings.warn(msg)\n",
            "/usr/local/lib/python3.7/dist-packages/NERDA/preprocessing.py:80: UserWarning: Sentence #16 length 132 exceeds max_len 128 and has been truncated\n",
            "  warnings.warn(msg)\n",
            "100%|██████████| 6/6 [00:00<00:00, 10.82it/s]"
          ]
        },
        {
          "output_type": "stream",
          "name": "stdout",
          "text": [
            "Train Loss = 0.8373530371622606 Valid Loss = 0.8701489369074503\n"
          ]
        },
        {
          "output_type": "stream",
          "name": "stderr",
          "text": [
            "\n",
            "/usr/local/lib/python3.7/dist-packages/NERDA/preprocessing.py:80: UserWarning: Sentence #2 length 233 exceeds max_len 128 and has been truncated\n",
            "  warnings.warn(msg)\n",
            "/usr/local/lib/python3.7/dist-packages/NERDA/preprocessing.py:80: UserWarning: Sentence #3 length 149 exceeds max_len 128 and has been truncated\n",
            "  warnings.warn(msg)\n",
            "/usr/local/lib/python3.7/dist-packages/NERDA/performance.py:39: UserWarning: length of observed values exceeded lengths of predicted values in 2 cases and were truncated. _Consider_ increasing max_len parameter for your model.\n",
            "  warnings.warn(f'length of observed values exceeded lengths of predicted values in {n_exceeds} cases and were truncated. _Consider_ increasing max_len parameter for your model.')\n",
            "/usr/local/lib/python3.7/dist-packages/sklearn/metrics/_classification.py:1318: UndefinedMetricWarning: Precision and F-score are ill-defined and being set to 0.0 in labels with no predicted samples. Use `zero_division` parameter to control this behavior.\n",
            "  _warn_prf(average, modifier, msg_start, len(result))\n",
            "/usr/local/lib/python3.7/dist-packages/NERDA/performance.py:39: UserWarning: length of observed values exceeded lengths of predicted values in 2 cases and were truncated. _Consider_ increasing max_len parameter for your model.\n",
            "  warnings.warn(f'length of observed values exceeded lengths of predicted values in {n_exceeds} cases and were truncated. _Consider_ increasing max_len parameter for your model.')\n",
            "/usr/local/lib/python3.7/dist-packages/NERDA/performance.py:39: UserWarning: length of observed values exceeded lengths of predicted values in 2 cases and were truncated. _Consider_ increasing max_len parameter for your model.\n",
            "  warnings.warn(f'length of observed values exceeded lengths of predicted values in {n_exceeds} cases and were truncated. _Consider_ increasing max_len parameter for your model.')\n",
            "/usr/local/lib/python3.7/dist-packages/sklearn/metrics/_classification.py:1318: UndefinedMetricWarning: Precision and F-score are ill-defined and being set to 0.0 in labels with no predicted samples. Use `zero_division` parameter to control this behavior.\n",
            "  _warn_prf(average, modifier, msg_start, len(result))\n"
          ]
        },
        {
          "output_type": "stream",
          "name": "stdout",
          "text": [
            "Device automatically set to: cuda\n"
          ]
        },
        {
          "output_type": "stream",
          "name": "stderr",
          "text": [
            "Some weights of the model checkpoint at bert-base-multilingual-cased were not used when initializing BertModel: ['cls.predictions.bias', 'cls.predictions.transform.LayerNorm.bias', 'cls.predictions.transform.LayerNorm.weight', 'cls.seq_relationship.weight', 'cls.seq_relationship.bias', 'cls.predictions.decoder.weight', 'cls.predictions.transform.dense.bias', 'cls.predictions.transform.dense.weight']\n",
            "- This IS expected if you are initializing BertModel from the checkpoint of a model trained on another task or with another architecture (e.g. initializing a BertForSequenceClassification model from a BertForPreTraining model).\n",
            "- This IS NOT expected if you are initializing BertModel from the checkpoint of a model that you expect to be exactly identical (initializing a BertForSequenceClassification model from a BertForSequenceClassification model).\n",
            "/usr/local/lib/python3.7/dist-packages/transformers/optimization.py:309: FutureWarning: This implementation of AdamW is deprecated and will be removed in a future version. Use the PyTorch implementation torch.optim.AdamW instead, or set `no_deprecation_warning=True` to disable this warning\n",
            "  FutureWarning,\n"
          ]
        },
        {
          "output_type": "stream",
          "name": "stdout",
          "text": [
            "\n",
            " Epoch 1 / 11\n"
          ]
        },
        {
          "output_type": "stream",
          "name": "stderr",
          "text": [
            "\r  0%|          | 0/22 [00:00<?, ?it/s]/usr/local/lib/python3.7/dist-packages/NERDA/preprocessing.py:80: UserWarning: Sentence #6 length 262 exceeds max_len 128 and has been truncated\n",
            "  warnings.warn(msg)\n",
            "/usr/local/lib/python3.7/dist-packages/NERDA/preprocessing.py:80: UserWarning: Sentence #14 length 152 exceeds max_len 128 and has been truncated\n",
            "  warnings.warn(msg)\n",
            " 18%|█▊        | 4/22 [00:01<00:04,  4.18it/s]/usr/local/lib/python3.7/dist-packages/NERDA/preprocessing.py:80: UserWarning: Sentence #48 length 150 exceeds max_len 128 and has been truncated\n",
            "  warnings.warn(msg)\n",
            " 23%|██▎       | 5/22 [00:01<00:03,  4.34it/s]/usr/local/lib/python3.7/dist-packages/NERDA/preprocessing.py:80: UserWarning: Sentence #49 length 130 exceeds max_len 128 and has been truncated\n",
            "  warnings.warn(msg)\n",
            "/usr/local/lib/python3.7/dist-packages/NERDA/preprocessing.py:80: UserWarning: Sentence #50 length 174 exceeds max_len 128 and has been truncated\n",
            "  warnings.warn(msg)\n",
            "/usr/local/lib/python3.7/dist-packages/NERDA/preprocessing.py:80: UserWarning: Sentence #53 length 233 exceeds max_len 128 and has been truncated\n",
            "  warnings.warn(msg)\n",
            "/usr/local/lib/python3.7/dist-packages/NERDA/preprocessing.py:80: UserWarning: Sentence #54 length 149 exceeds max_len 128 and has been truncated\n",
            "  warnings.warn(msg)\n",
            " 36%|███▋      | 8/22 [00:01<00:03,  4.54it/s]/usr/local/lib/python3.7/dist-packages/NERDA/preprocessing.py:80: UserWarning: Sentence #70 length 128 exceeds max_len 128 and has been truncated\n",
            "  warnings.warn(msg)\n",
            " 45%|████▌     | 10/22 [00:02<00:02,  4.57it/s]/usr/local/lib/python3.7/dist-packages/NERDA/preprocessing.py:80: UserWarning: Sentence #90 length 127 exceeds max_len 128 and has been truncated\n",
            "  warnings.warn(msg)\n",
            "100%|██████████| 22/22 [00:04<00:00,  4.44it/s]\n",
            "  0%|          | 0/6 [00:00<?, ?it/s]/usr/local/lib/python3.7/dist-packages/NERDA/preprocessing.py:80: UserWarning: Sentence #6 length 327 exceeds max_len 128 and has been truncated\n",
            "  warnings.warn(msg)\n",
            "/usr/local/lib/python3.7/dist-packages/NERDA/preprocessing.py:80: UserWarning: Sentence #16 length 132 exceeds max_len 128 and has been truncated\n",
            "  warnings.warn(msg)\n",
            "100%|██████████| 6/6 [00:00<00:00, 10.52it/s]\n"
          ]
        },
        {
          "output_type": "stream",
          "name": "stdout",
          "text": [
            "Train Loss = 0.9098831848664717 Valid Loss = 0.7974990705649058\n",
            "\n",
            " Epoch 2 / 11\n"
          ]
        },
        {
          "output_type": "stream",
          "name": "stderr",
          "text": [
            "\r  0%|          | 0/22 [00:00<?, ?it/s]/usr/local/lib/python3.7/dist-packages/NERDA/preprocessing.py:80: UserWarning: Sentence #6 length 262 exceeds max_len 128 and has been truncated\n",
            "  warnings.warn(msg)\n",
            "/usr/local/lib/python3.7/dist-packages/NERDA/preprocessing.py:80: UserWarning: Sentence #14 length 152 exceeds max_len 128 and has been truncated\n",
            "  warnings.warn(msg)\n",
            " 18%|█▊        | 4/22 [00:01<00:04,  4.24it/s]/usr/local/lib/python3.7/dist-packages/NERDA/preprocessing.py:80: UserWarning: Sentence #48 length 150 exceeds max_len 128 and has been truncated\n",
            "  warnings.warn(msg)\n",
            " 23%|██▎       | 5/22 [00:01<00:03,  4.38it/s]/usr/local/lib/python3.7/dist-packages/NERDA/preprocessing.py:80: UserWarning: Sentence #49 length 130 exceeds max_len 128 and has been truncated\n",
            "  warnings.warn(msg)\n",
            "/usr/local/lib/python3.7/dist-packages/NERDA/preprocessing.py:80: UserWarning: Sentence #50 length 174 exceeds max_len 128 and has been truncated\n",
            "  warnings.warn(msg)\n",
            "/usr/local/lib/python3.7/dist-packages/NERDA/preprocessing.py:80: UserWarning: Sentence #53 length 233 exceeds max_len 128 and has been truncated\n",
            "  warnings.warn(msg)\n",
            "/usr/local/lib/python3.7/dist-packages/NERDA/preprocessing.py:80: UserWarning: Sentence #54 length 149 exceeds max_len 128 and has been truncated\n",
            "  warnings.warn(msg)\n",
            " 36%|███▋      | 8/22 [00:01<00:03,  4.55it/s]/usr/local/lib/python3.7/dist-packages/NERDA/preprocessing.py:80: UserWarning: Sentence #70 length 128 exceeds max_len 128 and has been truncated\n",
            "  warnings.warn(msg)\n",
            " 45%|████▌     | 10/22 [00:02<00:02,  4.55it/s]/usr/local/lib/python3.7/dist-packages/NERDA/preprocessing.py:80: UserWarning: Sentence #90 length 127 exceeds max_len 128 and has been truncated\n",
            "  warnings.warn(msg)\n",
            "100%|██████████| 22/22 [00:04<00:00,  4.48it/s]\n",
            "  0%|          | 0/6 [00:00<?, ?it/s]/usr/local/lib/python3.7/dist-packages/NERDA/preprocessing.py:80: UserWarning: Sentence #6 length 327 exceeds max_len 128 and has been truncated\n",
            "  warnings.warn(msg)\n",
            "/usr/local/lib/python3.7/dist-packages/NERDA/preprocessing.py:80: UserWarning: Sentence #16 length 132 exceeds max_len 128 and has been truncated\n",
            "  warnings.warn(msg)\n",
            "100%|██████████| 6/6 [00:00<00:00, 11.03it/s]\n"
          ]
        },
        {
          "output_type": "stream",
          "name": "stdout",
          "text": [
            "Train Loss = 0.733046680688858 Valid Loss = 0.8089163104693095\n",
            "\n",
            " Epoch 3 / 11\n"
          ]
        },
        {
          "output_type": "stream",
          "name": "stderr",
          "text": [
            "\r  0%|          | 0/22 [00:00<?, ?it/s]/usr/local/lib/python3.7/dist-packages/NERDA/preprocessing.py:80: UserWarning: Sentence #6 length 262 exceeds max_len 128 and has been truncated\n",
            "  warnings.warn(msg)\n",
            "/usr/local/lib/python3.7/dist-packages/NERDA/preprocessing.py:80: UserWarning: Sentence #14 length 152 exceeds max_len 128 and has been truncated\n",
            "  warnings.warn(msg)\n",
            " 18%|█▊        | 4/22 [00:00<00:04,  4.27it/s]/usr/local/lib/python3.7/dist-packages/NERDA/preprocessing.py:80: UserWarning: Sentence #48 length 150 exceeds max_len 128 and has been truncated\n",
            "  warnings.warn(msg)\n",
            " 23%|██▎       | 5/22 [00:01<00:03,  4.36it/s]/usr/local/lib/python3.7/dist-packages/NERDA/preprocessing.py:80: UserWarning: Sentence #49 length 130 exceeds max_len 128 and has been truncated\n",
            "  warnings.warn(msg)\n",
            "/usr/local/lib/python3.7/dist-packages/NERDA/preprocessing.py:80: UserWarning: Sentence #50 length 174 exceeds max_len 128 and has been truncated\n",
            "  warnings.warn(msg)\n",
            "/usr/local/lib/python3.7/dist-packages/NERDA/preprocessing.py:80: UserWarning: Sentence #53 length 233 exceeds max_len 128 and has been truncated\n",
            "  warnings.warn(msg)\n",
            "/usr/local/lib/python3.7/dist-packages/NERDA/preprocessing.py:80: UserWarning: Sentence #54 length 149 exceeds max_len 128 and has been truncated\n",
            "  warnings.warn(msg)\n",
            " 36%|███▋      | 8/22 [00:01<00:03,  4.57it/s]/usr/local/lib/python3.7/dist-packages/NERDA/preprocessing.py:80: UserWarning: Sentence #70 length 128 exceeds max_len 128 and has been truncated\n",
            "  warnings.warn(msg)\n",
            " 45%|████▌     | 10/22 [00:02<00:02,  4.55it/s]/usr/local/lib/python3.7/dist-packages/NERDA/preprocessing.py:80: UserWarning: Sentence #90 length 127 exceeds max_len 128 and has been truncated\n",
            "  warnings.warn(msg)\n",
            "100%|██████████| 22/22 [00:04<00:00,  4.45it/s]\n",
            "  0%|          | 0/6 [00:00<?, ?it/s]/usr/local/lib/python3.7/dist-packages/NERDA/preprocessing.py:80: UserWarning: Sentence #6 length 327 exceeds max_len 128 and has been truncated\n",
            "  warnings.warn(msg)\n",
            "/usr/local/lib/python3.7/dist-packages/NERDA/preprocessing.py:80: UserWarning: Sentence #16 length 132 exceeds max_len 128 and has been truncated\n",
            "  warnings.warn(msg)\n",
            "100%|██████████| 6/6 [00:00<00:00,  8.59it/s]\n"
          ]
        },
        {
          "output_type": "stream",
          "name": "stdout",
          "text": [
            "Train Loss = 0.6294900856234811 Valid Loss = 0.9379187077283859\n",
            "\n",
            " Epoch 4 / 11\n"
          ]
        },
        {
          "output_type": "stream",
          "name": "stderr",
          "text": [
            "\r  0%|          | 0/22 [00:00<?, ?it/s]/usr/local/lib/python3.7/dist-packages/NERDA/preprocessing.py:80: UserWarning: Sentence #6 length 262 exceeds max_len 128 and has been truncated\n",
            "  warnings.warn(msg)\n",
            "/usr/local/lib/python3.7/dist-packages/NERDA/preprocessing.py:80: UserWarning: Sentence #14 length 152 exceeds max_len 128 and has been truncated\n",
            "  warnings.warn(msg)\n",
            " 18%|█▊        | 4/22 [00:01<00:04,  3.83it/s]/usr/local/lib/python3.7/dist-packages/NERDA/preprocessing.py:80: UserWarning: Sentence #48 length 150 exceeds max_len 128 and has been truncated\n",
            "  warnings.warn(msg)\n",
            " 23%|██▎       | 5/22 [00:01<00:04,  3.93it/s]/usr/local/lib/python3.7/dist-packages/NERDA/preprocessing.py:80: UserWarning: Sentence #49 length 130 exceeds max_len 128 and has been truncated\n",
            "  warnings.warn(msg)\n",
            "/usr/local/lib/python3.7/dist-packages/NERDA/preprocessing.py:80: UserWarning: Sentence #50 length 174 exceeds max_len 128 and has been truncated\n",
            "  warnings.warn(msg)\n",
            "/usr/local/lib/python3.7/dist-packages/NERDA/preprocessing.py:80: UserWarning: Sentence #53 length 233 exceeds max_len 128 and has been truncated\n",
            "  warnings.warn(msg)\n",
            "/usr/local/lib/python3.7/dist-packages/NERDA/preprocessing.py:80: UserWarning: Sentence #54 length 149 exceeds max_len 128 and has been truncated\n",
            "  warnings.warn(msg)\n",
            " 36%|███▋      | 8/22 [00:02<00:03,  4.19it/s]/usr/local/lib/python3.7/dist-packages/NERDA/preprocessing.py:80: UserWarning: Sentence #70 length 128 exceeds max_len 128 and has been truncated\n",
            "  warnings.warn(msg)\n",
            " 45%|████▌     | 10/22 [00:02<00:02,  4.35it/s]/usr/local/lib/python3.7/dist-packages/NERDA/preprocessing.py:80: UserWarning: Sentence #90 length 127 exceeds max_len 128 and has been truncated\n",
            "  warnings.warn(msg)\n",
            "100%|██████████| 22/22 [00:05<00:00,  4.26it/s]\n",
            "  0%|          | 0/6 [00:00<?, ?it/s]/usr/local/lib/python3.7/dist-packages/NERDA/preprocessing.py:80: UserWarning: Sentence #6 length 327 exceeds max_len 128 and has been truncated\n",
            "  warnings.warn(msg)\n",
            "/usr/local/lib/python3.7/dist-packages/NERDA/preprocessing.py:80: UserWarning: Sentence #16 length 132 exceeds max_len 128 and has been truncated\n",
            "  warnings.warn(msg)\n",
            "100%|██████████| 6/6 [00:00<00:00, 11.08it/s]\n"
          ]
        },
        {
          "output_type": "stream",
          "name": "stdout",
          "text": [
            "Train Loss = 0.5340094336054542 Valid Loss = 0.915994589527448\n",
            "\n",
            " Epoch 5 / 11\n"
          ]
        },
        {
          "output_type": "stream",
          "name": "stderr",
          "text": [
            "\r  0%|          | 0/22 [00:00<?, ?it/s]/usr/local/lib/python3.7/dist-packages/NERDA/preprocessing.py:80: UserWarning: Sentence #6 length 262 exceeds max_len 128 and has been truncated\n",
            "  warnings.warn(msg)\n",
            "/usr/local/lib/python3.7/dist-packages/NERDA/preprocessing.py:80: UserWarning: Sentence #14 length 152 exceeds max_len 128 and has been truncated\n",
            "  warnings.warn(msg)\n",
            " 18%|█▊        | 4/22 [00:00<00:04,  4.25it/s]/usr/local/lib/python3.7/dist-packages/NERDA/preprocessing.py:80: UserWarning: Sentence #48 length 150 exceeds max_len 128 and has been truncated\n",
            "  warnings.warn(msg)\n",
            " 23%|██▎       | 5/22 [00:01<00:03,  4.35it/s]/usr/local/lib/python3.7/dist-packages/NERDA/preprocessing.py:80: UserWarning: Sentence #49 length 130 exceeds max_len 128 and has been truncated\n",
            "  warnings.warn(msg)\n",
            "/usr/local/lib/python3.7/dist-packages/NERDA/preprocessing.py:80: UserWarning: Sentence #50 length 174 exceeds max_len 128 and has been truncated\n",
            "  warnings.warn(msg)\n",
            "/usr/local/lib/python3.7/dist-packages/NERDA/preprocessing.py:80: UserWarning: Sentence #53 length 233 exceeds max_len 128 and has been truncated\n",
            "  warnings.warn(msg)\n",
            "/usr/local/lib/python3.7/dist-packages/NERDA/preprocessing.py:80: UserWarning: Sentence #54 length 149 exceeds max_len 128 and has been truncated\n",
            "  warnings.warn(msg)\n",
            " 36%|███▋      | 8/22 [00:01<00:03,  4.50it/s]/usr/local/lib/python3.7/dist-packages/NERDA/preprocessing.py:80: UserWarning: Sentence #70 length 128 exceeds max_len 128 and has been truncated\n",
            "  warnings.warn(msg)\n",
            " 45%|████▌     | 10/22 [00:02<00:02,  4.49it/s]/usr/local/lib/python3.7/dist-packages/NERDA/preprocessing.py:80: UserWarning: Sentence #90 length 127 exceeds max_len 128 and has been truncated\n",
            "  warnings.warn(msg)\n",
            "100%|██████████| 22/22 [00:04<00:00,  4.41it/s]\n",
            "  0%|          | 0/6 [00:00<?, ?it/s]/usr/local/lib/python3.7/dist-packages/NERDA/preprocessing.py:80: UserWarning: Sentence #6 length 327 exceeds max_len 128 and has been truncated\n",
            "  warnings.warn(msg)\n",
            "/usr/local/lib/python3.7/dist-packages/NERDA/preprocessing.py:80: UserWarning: Sentence #16 length 132 exceeds max_len 128 and has been truncated\n",
            "  warnings.warn(msg)\n",
            "100%|██████████| 6/6 [00:00<00:00, 10.69it/s]\n"
          ]
        },
        {
          "output_type": "stream",
          "name": "stdout",
          "text": [
            "Train Loss = 0.40448708493601193 Valid Loss = 1.0186711847782135\n",
            "\n",
            " Epoch 6 / 11\n"
          ]
        },
        {
          "output_type": "stream",
          "name": "stderr",
          "text": [
            "\r  0%|          | 0/22 [00:00<?, ?it/s]/usr/local/lib/python3.7/dist-packages/NERDA/preprocessing.py:80: UserWarning: Sentence #6 length 262 exceeds max_len 128 and has been truncated\n",
            "  warnings.warn(msg)\n",
            "/usr/local/lib/python3.7/dist-packages/NERDA/preprocessing.py:80: UserWarning: Sentence #14 length 152 exceeds max_len 128 and has been truncated\n",
            "  warnings.warn(msg)\n",
            " 18%|█▊        | 4/22 [00:01<00:04,  4.19it/s]/usr/local/lib/python3.7/dist-packages/NERDA/preprocessing.py:80: UserWarning: Sentence #48 length 150 exceeds max_len 128 and has been truncated\n",
            "  warnings.warn(msg)\n",
            " 23%|██▎       | 5/22 [00:01<00:03,  4.30it/s]/usr/local/lib/python3.7/dist-packages/NERDA/preprocessing.py:80: UserWarning: Sentence #49 length 130 exceeds max_len 128 and has been truncated\n",
            "  warnings.warn(msg)\n",
            "/usr/local/lib/python3.7/dist-packages/NERDA/preprocessing.py:80: UserWarning: Sentence #50 length 174 exceeds max_len 128 and has been truncated\n",
            "  warnings.warn(msg)\n",
            "/usr/local/lib/python3.7/dist-packages/NERDA/preprocessing.py:80: UserWarning: Sentence #53 length 233 exceeds max_len 128 and has been truncated\n",
            "  warnings.warn(msg)\n",
            "/usr/local/lib/python3.7/dist-packages/NERDA/preprocessing.py:80: UserWarning: Sentence #54 length 149 exceeds max_len 128 and has been truncated\n",
            "  warnings.warn(msg)\n",
            " 36%|███▋      | 8/22 [00:01<00:03,  4.44it/s]/usr/local/lib/python3.7/dist-packages/NERDA/preprocessing.py:80: UserWarning: Sentence #70 length 128 exceeds max_len 128 and has been truncated\n",
            "  warnings.warn(msg)\n",
            " 45%|████▌     | 10/22 [00:02<00:02,  4.43it/s]/usr/local/lib/python3.7/dist-packages/NERDA/preprocessing.py:80: UserWarning: Sentence #90 length 127 exceeds max_len 128 and has been truncated\n",
            "  warnings.warn(msg)\n",
            "100%|██████████| 22/22 [00:05<00:00,  4.38it/s]\n",
            "  0%|          | 0/6 [00:00<?, ?it/s]/usr/local/lib/python3.7/dist-packages/NERDA/preprocessing.py:80: UserWarning: Sentence #6 length 327 exceeds max_len 128 and has been truncated\n",
            "  warnings.warn(msg)\n",
            "/usr/local/lib/python3.7/dist-packages/NERDA/preprocessing.py:80: UserWarning: Sentence #16 length 132 exceeds max_len 128 and has been truncated\n",
            "  warnings.warn(msg)\n",
            "100%|██████████| 6/6 [00:00<00:00, 10.31it/s]\n"
          ]
        },
        {
          "output_type": "stream",
          "name": "stdout",
          "text": [
            "Train Loss = 0.35094223950396886 Valid Loss = 0.9656766603390375\n",
            "\n",
            " Epoch 7 / 11\n"
          ]
        },
        {
          "output_type": "stream",
          "name": "stderr",
          "text": [
            "\r  0%|          | 0/22 [00:00<?, ?it/s]/usr/local/lib/python3.7/dist-packages/NERDA/preprocessing.py:80: UserWarning: Sentence #6 length 262 exceeds max_len 128 and has been truncated\n",
            "  warnings.warn(msg)\n",
            "/usr/local/lib/python3.7/dist-packages/NERDA/preprocessing.py:80: UserWarning: Sentence #14 length 152 exceeds max_len 128 and has been truncated\n",
            "  warnings.warn(msg)\n",
            " 18%|█▊        | 4/22 [00:00<00:04,  4.26it/s]/usr/local/lib/python3.7/dist-packages/NERDA/preprocessing.py:80: UserWarning: Sentence #48 length 150 exceeds max_len 128 and has been truncated\n",
            "  warnings.warn(msg)\n",
            " 23%|██▎       | 5/22 [00:01<00:03,  4.29it/s]/usr/local/lib/python3.7/dist-packages/NERDA/preprocessing.py:80: UserWarning: Sentence #49 length 130 exceeds max_len 128 and has been truncated\n",
            "  warnings.warn(msg)\n",
            "/usr/local/lib/python3.7/dist-packages/NERDA/preprocessing.py:80: UserWarning: Sentence #50 length 174 exceeds max_len 128 and has been truncated\n",
            "  warnings.warn(msg)\n",
            "/usr/local/lib/python3.7/dist-packages/NERDA/preprocessing.py:80: UserWarning: Sentence #53 length 233 exceeds max_len 128 and has been truncated\n",
            "  warnings.warn(msg)\n",
            "/usr/local/lib/python3.7/dist-packages/NERDA/preprocessing.py:80: UserWarning: Sentence #54 length 149 exceeds max_len 128 and has been truncated\n",
            "  warnings.warn(msg)\n",
            " 36%|███▋      | 8/22 [00:01<00:03,  4.45it/s]/usr/local/lib/python3.7/dist-packages/NERDA/preprocessing.py:80: UserWarning: Sentence #70 length 128 exceeds max_len 128 and has been truncated\n",
            "  warnings.warn(msg)\n",
            " 45%|████▌     | 10/22 [00:02<00:02,  4.47it/s]/usr/local/lib/python3.7/dist-packages/NERDA/preprocessing.py:80: UserWarning: Sentence #90 length 127 exceeds max_len 128 and has been truncated\n",
            "  warnings.warn(msg)\n",
            "100%|██████████| 22/22 [00:05<00:00,  4.40it/s]\n",
            "  0%|          | 0/6 [00:00<?, ?it/s]/usr/local/lib/python3.7/dist-packages/NERDA/preprocessing.py:80: UserWarning: Sentence #6 length 327 exceeds max_len 128 and has been truncated\n",
            "  warnings.warn(msg)\n",
            "/usr/local/lib/python3.7/dist-packages/NERDA/preprocessing.py:80: UserWarning: Sentence #16 length 132 exceeds max_len 128 and has been truncated\n",
            "  warnings.warn(msg)\n",
            "100%|██████████| 6/6 [00:00<00:00, 10.71it/s]\n"
          ]
        },
        {
          "output_type": "stream",
          "name": "stdout",
          "text": [
            "Train Loss = 0.33383376439186657 Valid Loss = 0.8896326720714569\n",
            "\n",
            " Epoch 8 / 11\n"
          ]
        },
        {
          "output_type": "stream",
          "name": "stderr",
          "text": [
            "\r  0%|          | 0/22 [00:00<?, ?it/s]/usr/local/lib/python3.7/dist-packages/NERDA/preprocessing.py:80: UserWarning: Sentence #6 length 262 exceeds max_len 128 and has been truncated\n",
            "  warnings.warn(msg)\n",
            "/usr/local/lib/python3.7/dist-packages/NERDA/preprocessing.py:80: UserWarning: Sentence #14 length 152 exceeds max_len 128 and has been truncated\n",
            "  warnings.warn(msg)\n",
            " 18%|█▊        | 4/22 [00:00<00:04,  4.25it/s]/usr/local/lib/python3.7/dist-packages/NERDA/preprocessing.py:80: UserWarning: Sentence #48 length 150 exceeds max_len 128 and has been truncated\n",
            "  warnings.warn(msg)\n",
            " 23%|██▎       | 5/22 [00:01<00:03,  4.32it/s]/usr/local/lib/python3.7/dist-packages/NERDA/preprocessing.py:80: UserWarning: Sentence #49 length 130 exceeds max_len 128 and has been truncated\n",
            "  warnings.warn(msg)\n",
            "/usr/local/lib/python3.7/dist-packages/NERDA/preprocessing.py:80: UserWarning: Sentence #50 length 174 exceeds max_len 128 and has been truncated\n",
            "  warnings.warn(msg)\n",
            "/usr/local/lib/python3.7/dist-packages/NERDA/preprocessing.py:80: UserWarning: Sentence #53 length 233 exceeds max_len 128 and has been truncated\n",
            "  warnings.warn(msg)\n",
            "/usr/local/lib/python3.7/dist-packages/NERDA/preprocessing.py:80: UserWarning: Sentence #54 length 149 exceeds max_len 128 and has been truncated\n",
            "  warnings.warn(msg)\n",
            " 36%|███▋      | 8/22 [00:01<00:03,  4.46it/s]/usr/local/lib/python3.7/dist-packages/NERDA/preprocessing.py:80: UserWarning: Sentence #70 length 128 exceeds max_len 128 and has been truncated\n",
            "  warnings.warn(msg)\n",
            " 45%|████▌     | 10/22 [00:02<00:02,  4.45it/s]/usr/local/lib/python3.7/dist-packages/NERDA/preprocessing.py:80: UserWarning: Sentence #90 length 127 exceeds max_len 128 and has been truncated\n",
            "  warnings.warn(msg)\n",
            "100%|██████████| 22/22 [00:04<00:00,  4.42it/s]\n",
            "  0%|          | 0/6 [00:00<?, ?it/s]/usr/local/lib/python3.7/dist-packages/NERDA/preprocessing.py:80: UserWarning: Sentence #6 length 327 exceeds max_len 128 and has been truncated\n",
            "  warnings.warn(msg)\n",
            "/usr/local/lib/python3.7/dist-packages/NERDA/preprocessing.py:80: UserWarning: Sentence #16 length 132 exceeds max_len 128 and has been truncated\n",
            "  warnings.warn(msg)\n",
            "100%|██████████| 6/6 [00:00<00:00, 10.85it/s]\n"
          ]
        },
        {
          "output_type": "stream",
          "name": "stdout",
          "text": [
            "Train Loss = 0.24698157168247484 Valid Loss = 0.9524911567568779\n",
            "\n",
            " Epoch 9 / 11\n"
          ]
        },
        {
          "output_type": "stream",
          "name": "stderr",
          "text": [
            "\r  0%|          | 0/22 [00:00<?, ?it/s]/usr/local/lib/python3.7/dist-packages/NERDA/preprocessing.py:80: UserWarning: Sentence #6 length 262 exceeds max_len 128 and has been truncated\n",
            "  warnings.warn(msg)\n",
            "/usr/local/lib/python3.7/dist-packages/NERDA/preprocessing.py:80: UserWarning: Sentence #14 length 152 exceeds max_len 128 and has been truncated\n",
            "  warnings.warn(msg)\n",
            " 18%|█▊        | 4/22 [00:01<00:04,  4.23it/s]/usr/local/lib/python3.7/dist-packages/NERDA/preprocessing.py:80: UserWarning: Sentence #48 length 150 exceeds max_len 128 and has been truncated\n",
            "  warnings.warn(msg)\n",
            " 23%|██▎       | 5/22 [00:01<00:03,  4.30it/s]/usr/local/lib/python3.7/dist-packages/NERDA/preprocessing.py:80: UserWarning: Sentence #49 length 130 exceeds max_len 128 and has been truncated\n",
            "  warnings.warn(msg)\n",
            "/usr/local/lib/python3.7/dist-packages/NERDA/preprocessing.py:80: UserWarning: Sentence #50 length 174 exceeds max_len 128 and has been truncated\n",
            "  warnings.warn(msg)\n",
            "/usr/local/lib/python3.7/dist-packages/NERDA/preprocessing.py:80: UserWarning: Sentence #53 length 233 exceeds max_len 128 and has been truncated\n",
            "  warnings.warn(msg)\n",
            "/usr/local/lib/python3.7/dist-packages/NERDA/preprocessing.py:80: UserWarning: Sentence #54 length 149 exceeds max_len 128 and has been truncated\n",
            "  warnings.warn(msg)\n",
            " 36%|███▋      | 8/22 [00:01<00:03,  4.27it/s]/usr/local/lib/python3.7/dist-packages/NERDA/preprocessing.py:80: UserWarning: Sentence #70 length 128 exceeds max_len 128 and has been truncated\n",
            "  warnings.warn(msg)\n",
            " 45%|████▌     | 10/22 [00:02<00:02,  4.38it/s]/usr/local/lib/python3.7/dist-packages/NERDA/preprocessing.py:80: UserWarning: Sentence #90 length 127 exceeds max_len 128 and has been truncated\n",
            "  warnings.warn(msg)\n",
            "100%|██████████| 22/22 [00:05<00:00,  4.29it/s]\n",
            "  0%|          | 0/6 [00:00<?, ?it/s]/usr/local/lib/python3.7/dist-packages/NERDA/preprocessing.py:80: UserWarning: Sentence #6 length 327 exceeds max_len 128 and has been truncated\n",
            "  warnings.warn(msg)\n",
            "/usr/local/lib/python3.7/dist-packages/NERDA/preprocessing.py:80: UserWarning: Sentence #16 length 132 exceeds max_len 128 and has been truncated\n",
            "  warnings.warn(msg)\n",
            "100%|██████████| 6/6 [00:00<00:00, 10.26it/s]\n"
          ]
        },
        {
          "output_type": "stream",
          "name": "stdout",
          "text": [
            "Train Loss = 0.24373021010648122 Valid Loss = 0.8062842960158983\n",
            "\n",
            " Epoch 10 / 11\n"
          ]
        },
        {
          "output_type": "stream",
          "name": "stderr",
          "text": [
            "\r  0%|          | 0/22 [00:00<?, ?it/s]/usr/local/lib/python3.7/dist-packages/NERDA/preprocessing.py:80: UserWarning: Sentence #6 length 262 exceeds max_len 128 and has been truncated\n",
            "  warnings.warn(msg)\n",
            "/usr/local/lib/python3.7/dist-packages/NERDA/preprocessing.py:80: UserWarning: Sentence #14 length 152 exceeds max_len 128 and has been truncated\n",
            "  warnings.warn(msg)\n",
            " 18%|█▊        | 4/22 [00:01<00:04,  4.22it/s]/usr/local/lib/python3.7/dist-packages/NERDA/preprocessing.py:80: UserWarning: Sentence #48 length 150 exceeds max_len 128 and has been truncated\n",
            "  warnings.warn(msg)\n",
            " 23%|██▎       | 5/22 [00:01<00:03,  4.29it/s]/usr/local/lib/python3.7/dist-packages/NERDA/preprocessing.py:80: UserWarning: Sentence #49 length 130 exceeds max_len 128 and has been truncated\n",
            "  warnings.warn(msg)\n",
            "/usr/local/lib/python3.7/dist-packages/NERDA/preprocessing.py:80: UserWarning: Sentence #50 length 174 exceeds max_len 128 and has been truncated\n",
            "  warnings.warn(msg)\n",
            "/usr/local/lib/python3.7/dist-packages/NERDA/preprocessing.py:80: UserWarning: Sentence #53 length 233 exceeds max_len 128 and has been truncated\n",
            "  warnings.warn(msg)\n",
            "/usr/local/lib/python3.7/dist-packages/NERDA/preprocessing.py:80: UserWarning: Sentence #54 length 149 exceeds max_len 128 and has been truncated\n",
            "  warnings.warn(msg)\n",
            " 36%|███▋      | 8/22 [00:01<00:03,  4.40it/s]/usr/local/lib/python3.7/dist-packages/NERDA/preprocessing.py:80: UserWarning: Sentence #70 length 128 exceeds max_len 128 and has been truncated\n",
            "  warnings.warn(msg)\n",
            " 45%|████▌     | 10/22 [00:02<00:02,  4.44it/s]/usr/local/lib/python3.7/dist-packages/NERDA/preprocessing.py:80: UserWarning: Sentence #90 length 127 exceeds max_len 128 and has been truncated\n",
            "  warnings.warn(msg)\n",
            "100%|██████████| 22/22 [00:04<00:00,  4.41it/s]\n",
            "  0%|          | 0/6 [00:00<?, ?it/s]/usr/local/lib/python3.7/dist-packages/NERDA/preprocessing.py:80: UserWarning: Sentence #6 length 327 exceeds max_len 128 and has been truncated\n",
            "  warnings.warn(msg)\n",
            "/usr/local/lib/python3.7/dist-packages/NERDA/preprocessing.py:80: UserWarning: Sentence #16 length 132 exceeds max_len 128 and has been truncated\n",
            "  warnings.warn(msg)\n",
            "100%|██████████| 6/6 [00:00<00:00, 10.92it/s]\n"
          ]
        },
        {
          "output_type": "stream",
          "name": "stdout",
          "text": [
            "Train Loss = 0.22662150978364728 Valid Loss = 0.826911690334479\n",
            "\n",
            " Epoch 11 / 11\n"
          ]
        },
        {
          "output_type": "stream",
          "name": "stderr",
          "text": [
            "\r  0%|          | 0/22 [00:00<?, ?it/s]/usr/local/lib/python3.7/dist-packages/NERDA/preprocessing.py:80: UserWarning: Sentence #6 length 262 exceeds max_len 128 and has been truncated\n",
            "  warnings.warn(msg)\n",
            "/usr/local/lib/python3.7/dist-packages/NERDA/preprocessing.py:80: UserWarning: Sentence #14 length 152 exceeds max_len 128 and has been truncated\n",
            "  warnings.warn(msg)\n",
            " 18%|█▊        | 4/22 [00:00<00:04,  4.23it/s]/usr/local/lib/python3.7/dist-packages/NERDA/preprocessing.py:80: UserWarning: Sentence #48 length 150 exceeds max_len 128 and has been truncated\n",
            "  warnings.warn(msg)\n",
            " 23%|██▎       | 5/22 [00:01<00:03,  4.32it/s]/usr/local/lib/python3.7/dist-packages/NERDA/preprocessing.py:80: UserWarning: Sentence #49 length 130 exceeds max_len 128 and has been truncated\n",
            "  warnings.warn(msg)\n",
            "/usr/local/lib/python3.7/dist-packages/NERDA/preprocessing.py:80: UserWarning: Sentence #50 length 174 exceeds max_len 128 and has been truncated\n",
            "  warnings.warn(msg)\n",
            "/usr/local/lib/python3.7/dist-packages/NERDA/preprocessing.py:80: UserWarning: Sentence #53 length 233 exceeds max_len 128 and has been truncated\n",
            "  warnings.warn(msg)\n",
            "/usr/local/lib/python3.7/dist-packages/NERDA/preprocessing.py:80: UserWarning: Sentence #54 length 149 exceeds max_len 128 and has been truncated\n",
            "  warnings.warn(msg)\n",
            " 36%|███▋      | 8/22 [00:01<00:03,  4.51it/s]/usr/local/lib/python3.7/dist-packages/NERDA/preprocessing.py:80: UserWarning: Sentence #70 length 128 exceeds max_len 128 and has been truncated\n",
            "  warnings.warn(msg)\n",
            " 45%|████▌     | 10/22 [00:02<00:02,  4.52it/s]/usr/local/lib/python3.7/dist-packages/NERDA/preprocessing.py:80: UserWarning: Sentence #90 length 127 exceeds max_len 128 and has been truncated\n",
            "  warnings.warn(msg)\n",
            "100%|██████████| 22/22 [00:04<00:00,  4.44it/s]\n",
            "  0%|          | 0/6 [00:00<?, ?it/s]/usr/local/lib/python3.7/dist-packages/NERDA/preprocessing.py:80: UserWarning: Sentence #6 length 327 exceeds max_len 128 and has been truncated\n",
            "  warnings.warn(msg)\n",
            "/usr/local/lib/python3.7/dist-packages/NERDA/preprocessing.py:80: UserWarning: Sentence #16 length 132 exceeds max_len 128 and has been truncated\n",
            "  warnings.warn(msg)\n",
            "100%|██████████| 6/6 [00:00<00:00, 10.52it/s]"
          ]
        },
        {
          "output_type": "stream",
          "name": "stdout",
          "text": [
            "Train Loss = 0.1944753878157247 Valid Loss = 0.8101915990312895\n"
          ]
        },
        {
          "output_type": "stream",
          "name": "stderr",
          "text": [
            "\n",
            "/usr/local/lib/python3.7/dist-packages/NERDA/preprocessing.py:80: UserWarning: Sentence #0 length 132 exceeds max_len 128 and has been truncated\n",
            "  warnings.warn(msg)\n",
            "/usr/local/lib/python3.7/dist-packages/NERDA/preprocessing.py:80: UserWarning: Sentence #9 length 171 exceeds max_len 128 and has been truncated\n",
            "  warnings.warn(msg)\n",
            "/usr/local/lib/python3.7/dist-packages/NERDA/performance.py:39: UserWarning: length of observed values exceeded lengths of predicted values in 2 cases and were truncated. _Consider_ increasing max_len parameter for your model.\n",
            "  warnings.warn(f'length of observed values exceeded lengths of predicted values in {n_exceeds} cases and were truncated. _Consider_ increasing max_len parameter for your model.')\n",
            "/usr/local/lib/python3.7/dist-packages/NERDA/performance.py:39: UserWarning: length of observed values exceeded lengths of predicted values in 2 cases and were truncated. _Consider_ increasing max_len parameter for your model.\n",
            "  warnings.warn(f'length of observed values exceeded lengths of predicted values in {n_exceeds} cases and were truncated. _Consider_ increasing max_len parameter for your model.')\n",
            "/usr/local/lib/python3.7/dist-packages/NERDA/performance.py:39: UserWarning: length of observed values exceeded lengths of predicted values in 2 cases and were truncated. _Consider_ increasing max_len parameter for your model.\n",
            "  warnings.warn(f'length of observed values exceeded lengths of predicted values in {n_exceeds} cases and were truncated. _Consider_ increasing max_len parameter for your model.')\n"
          ]
        },
        {
          "output_type": "stream",
          "name": "stdout",
          "text": [
            "Device automatically set to: cuda\n"
          ]
        },
        {
          "output_type": "stream",
          "name": "stderr",
          "text": [
            "Some weights of the model checkpoint at bert-base-multilingual-cased were not used when initializing BertModel: ['cls.predictions.bias', 'cls.predictions.transform.LayerNorm.bias', 'cls.predictions.transform.LayerNorm.weight', 'cls.seq_relationship.weight', 'cls.seq_relationship.bias', 'cls.predictions.decoder.weight', 'cls.predictions.transform.dense.bias', 'cls.predictions.transform.dense.weight']\n",
            "- This IS expected if you are initializing BertModel from the checkpoint of a model trained on another task or with another architecture (e.g. initializing a BertForSequenceClassification model from a BertForPreTraining model).\n",
            "- This IS NOT expected if you are initializing BertModel from the checkpoint of a model that you expect to be exactly identical (initializing a BertForSequenceClassification model from a BertForSequenceClassification model).\n",
            "/usr/local/lib/python3.7/dist-packages/transformers/optimization.py:309: FutureWarning: This implementation of AdamW is deprecated and will be removed in a future version. Use the PyTorch implementation torch.optim.AdamW instead, or set `no_deprecation_warning=True` to disable this warning\n",
            "  FutureWarning,\n"
          ]
        },
        {
          "output_type": "stream",
          "name": "stdout",
          "text": [
            "\n",
            " Epoch 1 / 11\n"
          ]
        },
        {
          "output_type": "stream",
          "name": "stderr",
          "text": [
            "\r  0%|          | 0/22 [00:00<?, ?it/s]/usr/local/lib/python3.7/dist-packages/NERDA/preprocessing.py:80: UserWarning: Sentence #6 length 262 exceeds max_len 128 and has been truncated\n",
            "  warnings.warn(msg)\n",
            "/usr/local/lib/python3.7/dist-packages/NERDA/preprocessing.py:80: UserWarning: Sentence #14 length 152 exceeds max_len 128 and has been truncated\n",
            "  warnings.warn(msg)\n",
            " 18%|█▊        | 4/22 [00:01<00:04,  4.18it/s]/usr/local/lib/python3.7/dist-packages/NERDA/preprocessing.py:80: UserWarning: Sentence #48 length 150 exceeds max_len 128 and has been truncated\n",
            "  warnings.warn(msg)\n",
            " 23%|██▎       | 5/22 [00:01<00:03,  4.36it/s]/usr/local/lib/python3.7/dist-packages/NERDA/preprocessing.py:80: UserWarning: Sentence #49 length 130 exceeds max_len 128 and has been truncated\n",
            "  warnings.warn(msg)\n",
            "/usr/local/lib/python3.7/dist-packages/NERDA/preprocessing.py:80: UserWarning: Sentence #50 length 174 exceeds max_len 128 and has been truncated\n",
            "  warnings.warn(msg)\n",
            "/usr/local/lib/python3.7/dist-packages/NERDA/preprocessing.py:80: UserWarning: Sentence #53 length 233 exceeds max_len 128 and has been truncated\n",
            "  warnings.warn(msg)\n",
            "/usr/local/lib/python3.7/dist-packages/NERDA/preprocessing.py:80: UserWarning: Sentence #54 length 149 exceeds max_len 128 and has been truncated\n",
            "  warnings.warn(msg)\n",
            " 32%|███▏      | 7/22 [00:01<00:03,  4.43it/s]/usr/local/lib/python3.7/dist-packages/NERDA/preprocessing.py:80: UserWarning: Sentence #68 length 132 exceeds max_len 128 and has been truncated\n",
            "  warnings.warn(msg)\n",
            " 41%|████      | 9/22 [00:02<00:02,  4.53it/s]/usr/local/lib/python3.7/dist-packages/NERDA/preprocessing.py:80: UserWarning: Sentence #77 length 171 exceeds max_len 128 and has been truncated\n",
            "  warnings.warn(msg)\n",
            " 45%|████▌     | 10/22 [00:02<00:02,  4.59it/s]/usr/local/lib/python3.7/dist-packages/NERDA/preprocessing.py:80: UserWarning: Sentence #90 length 127 exceeds max_len 128 and has been truncated\n",
            "  warnings.warn(msg)\n",
            "100%|██████████| 22/22 [00:04<00:00,  4.44it/s]\n",
            "  0%|          | 0/6 [00:00<?, ?it/s]/usr/local/lib/python3.7/dist-packages/NERDA/preprocessing.py:80: UserWarning: Sentence #6 length 327 exceeds max_len 128 and has been truncated\n",
            "  warnings.warn(msg)\n",
            "/usr/local/lib/python3.7/dist-packages/NERDA/preprocessing.py:80: UserWarning: Sentence #16 length 132 exceeds max_len 128 and has been truncated\n",
            "  warnings.warn(msg)\n",
            "100%|██████████| 6/6 [00:00<00:00, 10.64it/s]\n"
          ]
        },
        {
          "output_type": "stream",
          "name": "stdout",
          "text": [
            "Train Loss = 0.8581888160922311 Valid Loss = 0.836290180683136\n",
            "\n",
            " Epoch 2 / 11\n"
          ]
        },
        {
          "output_type": "stream",
          "name": "stderr",
          "text": [
            "\r  0%|          | 0/22 [00:00<?, ?it/s]/usr/local/lib/python3.7/dist-packages/NERDA/preprocessing.py:80: UserWarning: Sentence #6 length 262 exceeds max_len 128 and has been truncated\n",
            "  warnings.warn(msg)\n",
            "/usr/local/lib/python3.7/dist-packages/NERDA/preprocessing.py:80: UserWarning: Sentence #14 length 152 exceeds max_len 128 and has been truncated\n",
            "  warnings.warn(msg)\n",
            " 18%|█▊        | 4/22 [00:01<00:04,  4.23it/s]/usr/local/lib/python3.7/dist-packages/NERDA/preprocessing.py:80: UserWarning: Sentence #48 length 150 exceeds max_len 128 and has been truncated\n",
            "  warnings.warn(msg)\n",
            " 23%|██▎       | 5/22 [00:01<00:03,  4.29it/s]/usr/local/lib/python3.7/dist-packages/NERDA/preprocessing.py:80: UserWarning: Sentence #49 length 130 exceeds max_len 128 and has been truncated\n",
            "  warnings.warn(msg)\n",
            "/usr/local/lib/python3.7/dist-packages/NERDA/preprocessing.py:80: UserWarning: Sentence #50 length 174 exceeds max_len 128 and has been truncated\n",
            "  warnings.warn(msg)\n",
            "/usr/local/lib/python3.7/dist-packages/NERDA/preprocessing.py:80: UserWarning: Sentence #53 length 233 exceeds max_len 128 and has been truncated\n",
            "  warnings.warn(msg)\n",
            "/usr/local/lib/python3.7/dist-packages/NERDA/preprocessing.py:80: UserWarning: Sentence #54 length 149 exceeds max_len 128 and has been truncated\n",
            "  warnings.warn(msg)\n",
            " 32%|███▏      | 7/22 [00:01<00:03,  4.43it/s]/usr/local/lib/python3.7/dist-packages/NERDA/preprocessing.py:80: UserWarning: Sentence #68 length 132 exceeds max_len 128 and has been truncated\n",
            "  warnings.warn(msg)\n",
            " 41%|████      | 9/22 [00:02<00:02,  4.55it/s]/usr/local/lib/python3.7/dist-packages/NERDA/preprocessing.py:80: UserWarning: Sentence #77 length 171 exceeds max_len 128 and has been truncated\n",
            "  warnings.warn(msg)\n",
            " 45%|████▌     | 10/22 [00:02<00:02,  4.53it/s]/usr/local/lib/python3.7/dist-packages/NERDA/preprocessing.py:80: UserWarning: Sentence #90 length 127 exceeds max_len 128 and has been truncated\n",
            "  warnings.warn(msg)\n",
            "100%|██████████| 22/22 [00:05<00:00,  4.27it/s]\n",
            "  0%|          | 0/6 [00:00<?, ?it/s]/usr/local/lib/python3.7/dist-packages/NERDA/preprocessing.py:80: UserWarning: Sentence #6 length 327 exceeds max_len 128 and has been truncated\n",
            "  warnings.warn(msg)\n",
            "/usr/local/lib/python3.7/dist-packages/NERDA/preprocessing.py:80: UserWarning: Sentence #16 length 132 exceeds max_len 128 and has been truncated\n",
            "  warnings.warn(msg)\n",
            "100%|██████████| 6/6 [00:00<00:00,  8.53it/s]\n"
          ]
        },
        {
          "output_type": "stream",
          "name": "stdout",
          "text": [
            "Train Loss = 0.6417881751602347 Valid Loss = 0.8826040873924891\n",
            "\n",
            " Epoch 3 / 11\n"
          ]
        },
        {
          "output_type": "stream",
          "name": "stderr",
          "text": [
            "\r  0%|          | 0/22 [00:00<?, ?it/s]/usr/local/lib/python3.7/dist-packages/NERDA/preprocessing.py:80: UserWarning: Sentence #6 length 262 exceeds max_len 128 and has been truncated\n",
            "  warnings.warn(msg)\n",
            "/usr/local/lib/python3.7/dist-packages/NERDA/preprocessing.py:80: UserWarning: Sentence #14 length 152 exceeds max_len 128 and has been truncated\n",
            "  warnings.warn(msg)\n",
            " 18%|█▊        | 4/22 [00:00<00:04,  4.26it/s]/usr/local/lib/python3.7/dist-packages/NERDA/preprocessing.py:80: UserWarning: Sentence #48 length 150 exceeds max_len 128 and has been truncated\n",
            "  warnings.warn(msg)\n",
            " 23%|██▎       | 5/22 [00:01<00:03,  4.34it/s]/usr/local/lib/python3.7/dist-packages/NERDA/preprocessing.py:80: UserWarning: Sentence #49 length 130 exceeds max_len 128 and has been truncated\n",
            "  warnings.warn(msg)\n",
            "/usr/local/lib/python3.7/dist-packages/NERDA/preprocessing.py:80: UserWarning: Sentence #50 length 174 exceeds max_len 128 and has been truncated\n",
            "  warnings.warn(msg)\n",
            "/usr/local/lib/python3.7/dist-packages/NERDA/preprocessing.py:80: UserWarning: Sentence #53 length 233 exceeds max_len 128 and has been truncated\n",
            "  warnings.warn(msg)\n",
            "/usr/local/lib/python3.7/dist-packages/NERDA/preprocessing.py:80: UserWarning: Sentence #54 length 149 exceeds max_len 128 and has been truncated\n",
            "  warnings.warn(msg)\n",
            " 32%|███▏      | 7/22 [00:01<00:03,  4.45it/s]/usr/local/lib/python3.7/dist-packages/NERDA/preprocessing.py:80: UserWarning: Sentence #68 length 132 exceeds max_len 128 and has been truncated\n",
            "  warnings.warn(msg)\n",
            " 41%|████      | 9/22 [00:02<00:02,  4.48it/s]/usr/local/lib/python3.7/dist-packages/NERDA/preprocessing.py:80: UserWarning: Sentence #77 length 171 exceeds max_len 128 and has been truncated\n",
            "  warnings.warn(msg)\n",
            " 45%|████▌     | 10/22 [00:02<00:02,  4.53it/s]/usr/local/lib/python3.7/dist-packages/NERDA/preprocessing.py:80: UserWarning: Sentence #90 length 127 exceeds max_len 128 and has been truncated\n",
            "  warnings.warn(msg)\n",
            "100%|██████████| 22/22 [00:04<00:00,  4.46it/s]\n",
            "  0%|          | 0/6 [00:00<?, ?it/s]/usr/local/lib/python3.7/dist-packages/NERDA/preprocessing.py:80: UserWarning: Sentence #6 length 327 exceeds max_len 128 and has been truncated\n",
            "  warnings.warn(msg)\n",
            "/usr/local/lib/python3.7/dist-packages/NERDA/preprocessing.py:80: UserWarning: Sentence #16 length 132 exceeds max_len 128 and has been truncated\n",
            "  warnings.warn(msg)\n",
            "100%|██████████| 6/6 [00:00<00:00, 10.76it/s]\n"
          ]
        },
        {
          "output_type": "stream",
          "name": "stdout",
          "text": [
            "Train Loss = 0.46506578102707863 Valid Loss = 1.0511104613542557\n",
            "\n",
            " Epoch 4 / 11\n"
          ]
        },
        {
          "output_type": "stream",
          "name": "stderr",
          "text": [
            "\r  0%|          | 0/22 [00:00<?, ?it/s]/usr/local/lib/python3.7/dist-packages/NERDA/preprocessing.py:80: UserWarning: Sentence #6 length 262 exceeds max_len 128 and has been truncated\n",
            "  warnings.warn(msg)\n",
            "/usr/local/lib/python3.7/dist-packages/NERDA/preprocessing.py:80: UserWarning: Sentence #14 length 152 exceeds max_len 128 and has been truncated\n",
            "  warnings.warn(msg)\n",
            " 18%|█▊        | 4/22 [00:00<00:04,  4.27it/s]/usr/local/lib/python3.7/dist-packages/NERDA/preprocessing.py:80: UserWarning: Sentence #48 length 150 exceeds max_len 128 and has been truncated\n",
            "  warnings.warn(msg)\n",
            " 23%|██▎       | 5/22 [00:01<00:03,  4.35it/s]/usr/local/lib/python3.7/dist-packages/NERDA/preprocessing.py:80: UserWarning: Sentence #49 length 130 exceeds max_len 128 and has been truncated\n",
            "  warnings.warn(msg)\n",
            "/usr/local/lib/python3.7/dist-packages/NERDA/preprocessing.py:80: UserWarning: Sentence #50 length 174 exceeds max_len 128 and has been truncated\n",
            "  warnings.warn(msg)\n",
            "/usr/local/lib/python3.7/dist-packages/NERDA/preprocessing.py:80: UserWarning: Sentence #53 length 233 exceeds max_len 128 and has been truncated\n",
            "  warnings.warn(msg)\n",
            "/usr/local/lib/python3.7/dist-packages/NERDA/preprocessing.py:80: UserWarning: Sentence #54 length 149 exceeds max_len 128 and has been truncated\n",
            "  warnings.warn(msg)\n",
            " 32%|███▏      | 7/22 [00:01<00:03,  4.48it/s]/usr/local/lib/python3.7/dist-packages/NERDA/preprocessing.py:80: UserWarning: Sentence #68 length 132 exceeds max_len 128 and has been truncated\n",
            "  warnings.warn(msg)\n",
            " 41%|████      | 9/22 [00:02<00:02,  4.49it/s]/usr/local/lib/python3.7/dist-packages/NERDA/preprocessing.py:80: UserWarning: Sentence #77 length 171 exceeds max_len 128 and has been truncated\n",
            "  warnings.warn(msg)\n",
            " 45%|████▌     | 10/22 [00:02<00:02,  4.49it/s]/usr/local/lib/python3.7/dist-packages/NERDA/preprocessing.py:80: UserWarning: Sentence #90 length 127 exceeds max_len 128 and has been truncated\n",
            "  warnings.warn(msg)\n",
            "100%|██████████| 22/22 [00:04<00:00,  4.43it/s]\n",
            "  0%|          | 0/6 [00:00<?, ?it/s]/usr/local/lib/python3.7/dist-packages/NERDA/preprocessing.py:80: UserWarning: Sentence #6 length 327 exceeds max_len 128 and has been truncated\n",
            "  warnings.warn(msg)\n",
            "/usr/local/lib/python3.7/dist-packages/NERDA/preprocessing.py:80: UserWarning: Sentence #16 length 132 exceeds max_len 128 and has been truncated\n",
            "  warnings.warn(msg)\n",
            "100%|██████████| 6/6 [00:00<00:00, 10.81it/s]\n"
          ]
        },
        {
          "output_type": "stream",
          "name": "stdout",
          "text": [
            "Train Loss = 0.3540175956758586 Valid Loss = 0.8186853900551796\n",
            "\n",
            " Epoch 5 / 11\n"
          ]
        },
        {
          "output_type": "stream",
          "name": "stderr",
          "text": [
            "\r  0%|          | 0/22 [00:00<?, ?it/s]/usr/local/lib/python3.7/dist-packages/NERDA/preprocessing.py:80: UserWarning: Sentence #6 length 262 exceeds max_len 128 and has been truncated\n",
            "  warnings.warn(msg)\n",
            "/usr/local/lib/python3.7/dist-packages/NERDA/preprocessing.py:80: UserWarning: Sentence #14 length 152 exceeds max_len 128 and has been truncated\n",
            "  warnings.warn(msg)\n",
            " 18%|█▊        | 4/22 [00:00<00:04,  4.26it/s]/usr/local/lib/python3.7/dist-packages/NERDA/preprocessing.py:80: UserWarning: Sentence #48 length 150 exceeds max_len 128 and has been truncated\n",
            "  warnings.warn(msg)\n",
            " 23%|██▎       | 5/22 [00:01<00:03,  4.34it/s]/usr/local/lib/python3.7/dist-packages/NERDA/preprocessing.py:80: UserWarning: Sentence #49 length 130 exceeds max_len 128 and has been truncated\n",
            "  warnings.warn(msg)\n",
            "/usr/local/lib/python3.7/dist-packages/NERDA/preprocessing.py:80: UserWarning: Sentence #50 length 174 exceeds max_len 128 and has been truncated\n",
            "  warnings.warn(msg)\n",
            "/usr/local/lib/python3.7/dist-packages/NERDA/preprocessing.py:80: UserWarning: Sentence #53 length 233 exceeds max_len 128 and has been truncated\n",
            "  warnings.warn(msg)\n",
            "/usr/local/lib/python3.7/dist-packages/NERDA/preprocessing.py:80: UserWarning: Sentence #54 length 149 exceeds max_len 128 and has been truncated\n",
            "  warnings.warn(msg)\n",
            " 32%|███▏      | 7/22 [00:01<00:03,  4.39it/s]/usr/local/lib/python3.7/dist-packages/NERDA/preprocessing.py:80: UserWarning: Sentence #68 length 132 exceeds max_len 128 and has been truncated\n",
            "  warnings.warn(msg)\n",
            " 41%|████      | 9/22 [00:02<00:02,  4.47it/s]/usr/local/lib/python3.7/dist-packages/NERDA/preprocessing.py:80: UserWarning: Sentence #77 length 171 exceeds max_len 128 and has been truncated\n",
            "  warnings.warn(msg)\n",
            " 45%|████▌     | 10/22 [00:02<00:02,  4.48it/s]/usr/local/lib/python3.7/dist-packages/NERDA/preprocessing.py:80: UserWarning: Sentence #90 length 127 exceeds max_len 128 and has been truncated\n",
            "  warnings.warn(msg)\n",
            "100%|██████████| 22/22 [00:04<00:00,  4.42it/s]\n",
            "  0%|          | 0/6 [00:00<?, ?it/s]/usr/local/lib/python3.7/dist-packages/NERDA/preprocessing.py:80: UserWarning: Sentence #6 length 327 exceeds max_len 128 and has been truncated\n",
            "  warnings.warn(msg)\n",
            "/usr/local/lib/python3.7/dist-packages/NERDA/preprocessing.py:80: UserWarning: Sentence #16 length 132 exceeds max_len 128 and has been truncated\n",
            "  warnings.warn(msg)\n",
            "100%|██████████| 6/6 [00:00<00:00, 10.78it/s]\n"
          ]
        },
        {
          "output_type": "stream",
          "name": "stdout",
          "text": [
            "Train Loss = 0.2880110693248836 Valid Loss = 0.8749814877907435\n",
            "\n",
            " Epoch 6 / 11\n"
          ]
        },
        {
          "output_type": "stream",
          "name": "stderr",
          "text": [
            "\r  0%|          | 0/22 [00:00<?, ?it/s]/usr/local/lib/python3.7/dist-packages/NERDA/preprocessing.py:80: UserWarning: Sentence #6 length 262 exceeds max_len 128 and has been truncated\n",
            "  warnings.warn(msg)\n",
            "/usr/local/lib/python3.7/dist-packages/NERDA/preprocessing.py:80: UserWarning: Sentence #14 length 152 exceeds max_len 128 and has been truncated\n",
            "  warnings.warn(msg)\n",
            " 18%|█▊        | 4/22 [00:00<00:04,  4.25it/s]/usr/local/lib/python3.7/dist-packages/NERDA/preprocessing.py:80: UserWarning: Sentence #48 length 150 exceeds max_len 128 and has been truncated\n",
            "  warnings.warn(msg)\n",
            " 23%|██▎       | 5/22 [00:01<00:03,  4.32it/s]/usr/local/lib/python3.7/dist-packages/NERDA/preprocessing.py:80: UserWarning: Sentence #49 length 130 exceeds max_len 128 and has been truncated\n",
            "  warnings.warn(msg)\n",
            "/usr/local/lib/python3.7/dist-packages/NERDA/preprocessing.py:80: UserWarning: Sentence #50 length 174 exceeds max_len 128 and has been truncated\n",
            "  warnings.warn(msg)\n",
            "/usr/local/lib/python3.7/dist-packages/NERDA/preprocessing.py:80: UserWarning: Sentence #53 length 233 exceeds max_len 128 and has been truncated\n",
            "  warnings.warn(msg)\n",
            "/usr/local/lib/python3.7/dist-packages/NERDA/preprocessing.py:80: UserWarning: Sentence #54 length 149 exceeds max_len 128 and has been truncated\n",
            "  warnings.warn(msg)\n",
            " 32%|███▏      | 7/22 [00:01<00:03,  4.40it/s]/usr/local/lib/python3.7/dist-packages/NERDA/preprocessing.py:80: UserWarning: Sentence #68 length 132 exceeds max_len 128 and has been truncated\n",
            "  warnings.warn(msg)\n",
            " 41%|████      | 9/22 [00:02<00:02,  4.48it/s]/usr/local/lib/python3.7/dist-packages/NERDA/preprocessing.py:80: UserWarning: Sentence #77 length 171 exceeds max_len 128 and has been truncated\n",
            "  warnings.warn(msg)\n",
            " 45%|████▌     | 10/22 [00:02<00:02,  4.47it/s]/usr/local/lib/python3.7/dist-packages/NERDA/preprocessing.py:80: UserWarning: Sentence #90 length 127 exceeds max_len 128 and has been truncated\n",
            "  warnings.warn(msg)\n",
            "100%|██████████| 22/22 [00:04<00:00,  4.41it/s]\n",
            "  0%|          | 0/6 [00:00<?, ?it/s]/usr/local/lib/python3.7/dist-packages/NERDA/preprocessing.py:80: UserWarning: Sentence #6 length 327 exceeds max_len 128 and has been truncated\n",
            "  warnings.warn(msg)\n",
            "/usr/local/lib/python3.7/dist-packages/NERDA/preprocessing.py:80: UserWarning: Sentence #16 length 132 exceeds max_len 128 and has been truncated\n",
            "  warnings.warn(msg)\n",
            "100%|██████████| 6/6 [00:00<00:00, 10.69it/s]\n"
          ]
        },
        {
          "output_type": "stream",
          "name": "stdout",
          "text": [
            "Train Loss = 0.31424296579577704 Valid Loss = 0.9146456196904182\n",
            "\n",
            " Epoch 7 / 11\n"
          ]
        },
        {
          "output_type": "stream",
          "name": "stderr",
          "text": [
            "\r  0%|          | 0/22 [00:00<?, ?it/s]/usr/local/lib/python3.7/dist-packages/NERDA/preprocessing.py:80: UserWarning: Sentence #6 length 262 exceeds max_len 128 and has been truncated\n",
            "  warnings.warn(msg)\n",
            "/usr/local/lib/python3.7/dist-packages/NERDA/preprocessing.py:80: UserWarning: Sentence #14 length 152 exceeds max_len 128 and has been truncated\n",
            "  warnings.warn(msg)\n",
            " 18%|█▊        | 4/22 [00:01<00:04,  4.21it/s]/usr/local/lib/python3.7/dist-packages/NERDA/preprocessing.py:80: UserWarning: Sentence #48 length 150 exceeds max_len 128 and has been truncated\n",
            "  warnings.warn(msg)\n",
            " 23%|██▎       | 5/22 [00:01<00:03,  4.29it/s]/usr/local/lib/python3.7/dist-packages/NERDA/preprocessing.py:80: UserWarning: Sentence #49 length 130 exceeds max_len 128 and has been truncated\n",
            "  warnings.warn(msg)\n",
            "/usr/local/lib/python3.7/dist-packages/NERDA/preprocessing.py:80: UserWarning: Sentence #50 length 174 exceeds max_len 128 and has been truncated\n",
            "  warnings.warn(msg)\n",
            "/usr/local/lib/python3.7/dist-packages/NERDA/preprocessing.py:80: UserWarning: Sentence #53 length 233 exceeds max_len 128 and has been truncated\n",
            "  warnings.warn(msg)\n",
            "/usr/local/lib/python3.7/dist-packages/NERDA/preprocessing.py:80: UserWarning: Sentence #54 length 149 exceeds max_len 128 and has been truncated\n",
            "  warnings.warn(msg)\n",
            " 32%|███▏      | 7/22 [00:01<00:03,  4.39it/s]/usr/local/lib/python3.7/dist-packages/NERDA/preprocessing.py:80: UserWarning: Sentence #68 length 132 exceeds max_len 128 and has been truncated\n",
            "  warnings.warn(msg)\n",
            " 41%|████      | 9/22 [00:02<00:02,  4.41it/s]/usr/local/lib/python3.7/dist-packages/NERDA/preprocessing.py:80: UserWarning: Sentence #77 length 171 exceeds max_len 128 and has been truncated\n",
            "  warnings.warn(msg)\n",
            " 45%|████▌     | 10/22 [00:02<00:02,  4.44it/s]/usr/local/lib/python3.7/dist-packages/NERDA/preprocessing.py:80: UserWarning: Sentence #90 length 127 exceeds max_len 128 and has been truncated\n",
            "  warnings.warn(msg)\n",
            "100%|██████████| 22/22 [00:05<00:00,  4.38it/s]\n",
            "  0%|          | 0/6 [00:00<?, ?it/s]/usr/local/lib/python3.7/dist-packages/NERDA/preprocessing.py:80: UserWarning: Sentence #6 length 327 exceeds max_len 128 and has been truncated\n",
            "  warnings.warn(msg)\n",
            "/usr/local/lib/python3.7/dist-packages/NERDA/preprocessing.py:80: UserWarning: Sentence #16 length 132 exceeds max_len 128 and has been truncated\n",
            "  warnings.warn(msg)\n",
            "100%|██████████| 6/6 [00:00<00:00,  7.57it/s]\n"
          ]
        },
        {
          "output_type": "stream",
          "name": "stdout",
          "text": [
            "Train Loss = 0.23048082341186024 Valid Loss = 0.8074594115217527\n",
            "\n",
            " Epoch 8 / 11\n"
          ]
        },
        {
          "output_type": "stream",
          "name": "stderr",
          "text": [
            "\r  0%|          | 0/22 [00:00<?, ?it/s]/usr/local/lib/python3.7/dist-packages/NERDA/preprocessing.py:80: UserWarning: Sentence #6 length 262 exceeds max_len 128 and has been truncated\n",
            "  warnings.warn(msg)\n",
            "/usr/local/lib/python3.7/dist-packages/NERDA/preprocessing.py:80: UserWarning: Sentence #14 length 152 exceeds max_len 128 and has been truncated\n",
            "  warnings.warn(msg)\n",
            " 18%|█▊        | 4/22 [00:01<00:04,  3.84it/s]/usr/local/lib/python3.7/dist-packages/NERDA/preprocessing.py:80: UserWarning: Sentence #48 length 150 exceeds max_len 128 and has been truncated\n",
            "  warnings.warn(msg)\n",
            " 23%|██▎       | 5/22 [00:01<00:04,  3.98it/s]/usr/local/lib/python3.7/dist-packages/NERDA/preprocessing.py:80: UserWarning: Sentence #49 length 130 exceeds max_len 128 and has been truncated\n",
            "  warnings.warn(msg)\n",
            "/usr/local/lib/python3.7/dist-packages/NERDA/preprocessing.py:80: UserWarning: Sentence #50 length 174 exceeds max_len 128 and has been truncated\n",
            "  warnings.warn(msg)\n",
            "/usr/local/lib/python3.7/dist-packages/NERDA/preprocessing.py:80: UserWarning: Sentence #53 length 233 exceeds max_len 128 and has been truncated\n",
            "  warnings.warn(msg)\n",
            "/usr/local/lib/python3.7/dist-packages/NERDA/preprocessing.py:80: UserWarning: Sentence #54 length 149 exceeds max_len 128 and has been truncated\n",
            "  warnings.warn(msg)\n",
            " 32%|███▏      | 7/22 [00:01<00:03,  4.19it/s]/usr/local/lib/python3.7/dist-packages/NERDA/preprocessing.py:80: UserWarning: Sentence #68 length 132 exceeds max_len 128 and has been truncated\n",
            "  warnings.warn(msg)\n",
            " 41%|████      | 9/22 [00:02<00:03,  4.25it/s]/usr/local/lib/python3.7/dist-packages/NERDA/preprocessing.py:80: UserWarning: Sentence #77 length 171 exceeds max_len 128 and has been truncated\n",
            "  warnings.warn(msg)\n",
            " 45%|████▌     | 10/22 [00:02<00:02,  4.34it/s]/usr/local/lib/python3.7/dist-packages/NERDA/preprocessing.py:80: UserWarning: Sentence #90 length 127 exceeds max_len 128 and has been truncated\n",
            "  warnings.warn(msg)\n",
            "100%|██████████| 22/22 [00:05<00:00,  4.24it/s]\n",
            "  0%|          | 0/6 [00:00<?, ?it/s]/usr/local/lib/python3.7/dist-packages/NERDA/preprocessing.py:80: UserWarning: Sentence #6 length 327 exceeds max_len 128 and has been truncated\n",
            "  warnings.warn(msg)\n",
            "/usr/local/lib/python3.7/dist-packages/NERDA/preprocessing.py:80: UserWarning: Sentence #16 length 132 exceeds max_len 128 and has been truncated\n",
            "  warnings.warn(msg)\n",
            "100%|██████████| 6/6 [00:00<00:00, 10.64it/s]\n"
          ]
        },
        {
          "output_type": "stream",
          "name": "stdout",
          "text": [
            "Train Loss = 0.1521548009900884 Valid Loss = 0.9681276269257069\n",
            "\n",
            " Epoch 9 / 11\n"
          ]
        },
        {
          "output_type": "stream",
          "name": "stderr",
          "text": [
            "\r  0%|          | 0/22 [00:00<?, ?it/s]/usr/local/lib/python3.7/dist-packages/NERDA/preprocessing.py:80: UserWarning: Sentence #6 length 262 exceeds max_len 128 and has been truncated\n",
            "  warnings.warn(msg)\n",
            "/usr/local/lib/python3.7/dist-packages/NERDA/preprocessing.py:80: UserWarning: Sentence #14 length 152 exceeds max_len 128 and has been truncated\n",
            "  warnings.warn(msg)\n",
            " 18%|█▊        | 4/22 [00:01<00:04,  4.18it/s]/usr/local/lib/python3.7/dist-packages/NERDA/preprocessing.py:80: UserWarning: Sentence #48 length 150 exceeds max_len 128 and has been truncated\n",
            "  warnings.warn(msg)\n",
            " 23%|██▎       | 5/22 [00:01<00:03,  4.30it/s]/usr/local/lib/python3.7/dist-packages/NERDA/preprocessing.py:80: UserWarning: Sentence #49 length 130 exceeds max_len 128 and has been truncated\n",
            "  warnings.warn(msg)\n",
            "/usr/local/lib/python3.7/dist-packages/NERDA/preprocessing.py:80: UserWarning: Sentence #50 length 174 exceeds max_len 128 and has been truncated\n",
            "  warnings.warn(msg)\n",
            "/usr/local/lib/python3.7/dist-packages/NERDA/preprocessing.py:80: UserWarning: Sentence #53 length 233 exceeds max_len 128 and has been truncated\n",
            "  warnings.warn(msg)\n",
            "/usr/local/lib/python3.7/dist-packages/NERDA/preprocessing.py:80: UserWarning: Sentence #54 length 149 exceeds max_len 128 and has been truncated\n",
            "  warnings.warn(msg)\n",
            " 32%|███▏      | 7/22 [00:01<00:03,  4.45it/s]/usr/local/lib/python3.7/dist-packages/NERDA/preprocessing.py:80: UserWarning: Sentence #68 length 132 exceeds max_len 128 and has been truncated\n",
            "  warnings.warn(msg)\n",
            " 41%|████      | 9/22 [00:02<00:02,  4.48it/s]/usr/local/lib/python3.7/dist-packages/NERDA/preprocessing.py:80: UserWarning: Sentence #77 length 171 exceeds max_len 128 and has been truncated\n",
            "  warnings.warn(msg)\n",
            " 45%|████▌     | 10/22 [00:02<00:02,  4.51it/s]/usr/local/lib/python3.7/dist-packages/NERDA/preprocessing.py:80: UserWarning: Sentence #90 length 127 exceeds max_len 128 and has been truncated\n",
            "  warnings.warn(msg)\n",
            "100%|██████████| 22/22 [00:04<00:00,  4.40it/s]\n",
            "  0%|          | 0/6 [00:00<?, ?it/s]/usr/local/lib/python3.7/dist-packages/NERDA/preprocessing.py:80: UserWarning: Sentence #6 length 327 exceeds max_len 128 and has been truncated\n",
            "  warnings.warn(msg)\n",
            "/usr/local/lib/python3.7/dist-packages/NERDA/preprocessing.py:80: UserWarning: Sentence #16 length 132 exceeds max_len 128 and has been truncated\n",
            "  warnings.warn(msg)\n",
            "100%|██████████| 6/6 [00:00<00:00, 10.75it/s]\n"
          ]
        },
        {
          "output_type": "stream",
          "name": "stdout",
          "text": [
            "Train Loss = 0.11934995469213887 Valid Loss = 0.9599690859516462\n",
            "\n",
            " Epoch 10 / 11\n"
          ]
        },
        {
          "output_type": "stream",
          "name": "stderr",
          "text": [
            "\r  0%|          | 0/22 [00:00<?, ?it/s]/usr/local/lib/python3.7/dist-packages/NERDA/preprocessing.py:80: UserWarning: Sentence #6 length 262 exceeds max_len 128 and has been truncated\n",
            "  warnings.warn(msg)\n",
            "/usr/local/lib/python3.7/dist-packages/NERDA/preprocessing.py:80: UserWarning: Sentence #14 length 152 exceeds max_len 128 and has been truncated\n",
            "  warnings.warn(msg)\n",
            " 18%|█▊        | 4/22 [00:00<00:04,  4.29it/s]/usr/local/lib/python3.7/dist-packages/NERDA/preprocessing.py:80: UserWarning: Sentence #48 length 150 exceeds max_len 128 and has been truncated\n",
            "  warnings.warn(msg)\n",
            " 23%|██▎       | 5/22 [00:01<00:03,  4.30it/s]/usr/local/lib/python3.7/dist-packages/NERDA/preprocessing.py:80: UserWarning: Sentence #49 length 130 exceeds max_len 128 and has been truncated\n",
            "  warnings.warn(msg)\n",
            "/usr/local/lib/python3.7/dist-packages/NERDA/preprocessing.py:80: UserWarning: Sentence #50 length 174 exceeds max_len 128 and has been truncated\n",
            "  warnings.warn(msg)\n",
            "/usr/local/lib/python3.7/dist-packages/NERDA/preprocessing.py:80: UserWarning: Sentence #53 length 233 exceeds max_len 128 and has been truncated\n",
            "  warnings.warn(msg)\n",
            "/usr/local/lib/python3.7/dist-packages/NERDA/preprocessing.py:80: UserWarning: Sentence #54 length 149 exceeds max_len 128 and has been truncated\n",
            "  warnings.warn(msg)\n",
            " 32%|███▏      | 7/22 [00:01<00:03,  4.42it/s]/usr/local/lib/python3.7/dist-packages/NERDA/preprocessing.py:80: UserWarning: Sentence #68 length 132 exceeds max_len 128 and has been truncated\n",
            "  warnings.warn(msg)\n",
            " 41%|████      | 9/22 [00:02<00:02,  4.46it/s]/usr/local/lib/python3.7/dist-packages/NERDA/preprocessing.py:80: UserWarning: Sentence #77 length 171 exceeds max_len 128 and has been truncated\n",
            "  warnings.warn(msg)\n",
            " 45%|████▌     | 10/22 [00:02<00:02,  4.48it/s]/usr/local/lib/python3.7/dist-packages/NERDA/preprocessing.py:80: UserWarning: Sentence #90 length 127 exceeds max_len 128 and has been truncated\n",
            "  warnings.warn(msg)\n",
            "100%|██████████| 22/22 [00:04<00:00,  4.44it/s]\n",
            "  0%|          | 0/6 [00:00<?, ?it/s]/usr/local/lib/python3.7/dist-packages/NERDA/preprocessing.py:80: UserWarning: Sentence #6 length 327 exceeds max_len 128 and has been truncated\n",
            "  warnings.warn(msg)\n",
            "/usr/local/lib/python3.7/dist-packages/NERDA/preprocessing.py:80: UserWarning: Sentence #16 length 132 exceeds max_len 128 and has been truncated\n",
            "  warnings.warn(msg)\n",
            "100%|██████████| 6/6 [00:00<00:00, 10.51it/s]\n"
          ]
        },
        {
          "output_type": "stream",
          "name": "stdout",
          "text": [
            "Train Loss = 0.10392826651646332 Valid Loss = 1.010795456667741\n",
            "\n",
            " Epoch 11 / 11\n"
          ]
        },
        {
          "output_type": "stream",
          "name": "stderr",
          "text": [
            "\r  0%|          | 0/22 [00:00<?, ?it/s]/usr/local/lib/python3.7/dist-packages/NERDA/preprocessing.py:80: UserWarning: Sentence #6 length 262 exceeds max_len 128 and has been truncated\n",
            "  warnings.warn(msg)\n",
            "/usr/local/lib/python3.7/dist-packages/NERDA/preprocessing.py:80: UserWarning: Sentence #14 length 152 exceeds max_len 128 and has been truncated\n",
            "  warnings.warn(msg)\n",
            " 18%|█▊        | 4/22 [00:00<00:04,  4.28it/s]/usr/local/lib/python3.7/dist-packages/NERDA/preprocessing.py:80: UserWarning: Sentence #48 length 150 exceeds max_len 128 and has been truncated\n",
            "  warnings.warn(msg)\n",
            " 23%|██▎       | 5/22 [00:01<00:03,  4.26it/s]/usr/local/lib/python3.7/dist-packages/NERDA/preprocessing.py:80: UserWarning: Sentence #49 length 130 exceeds max_len 128 and has been truncated\n",
            "  warnings.warn(msg)\n",
            "/usr/local/lib/python3.7/dist-packages/NERDA/preprocessing.py:80: UserWarning: Sentence #50 length 174 exceeds max_len 128 and has been truncated\n",
            "  warnings.warn(msg)\n",
            "/usr/local/lib/python3.7/dist-packages/NERDA/preprocessing.py:80: UserWarning: Sentence #53 length 233 exceeds max_len 128 and has been truncated\n",
            "  warnings.warn(msg)\n",
            "/usr/local/lib/python3.7/dist-packages/NERDA/preprocessing.py:80: UserWarning: Sentence #54 length 149 exceeds max_len 128 and has been truncated\n",
            "  warnings.warn(msg)\n",
            " 32%|███▏      | 7/22 [00:01<00:03,  4.30it/s]/usr/local/lib/python3.7/dist-packages/NERDA/preprocessing.py:80: UserWarning: Sentence #68 length 132 exceeds max_len 128 and has been truncated\n",
            "  warnings.warn(msg)\n",
            " 41%|████      | 9/22 [00:02<00:02,  4.39it/s]/usr/local/lib/python3.7/dist-packages/NERDA/preprocessing.py:80: UserWarning: Sentence #77 length 171 exceeds max_len 128 and has been truncated\n",
            "  warnings.warn(msg)\n",
            " 45%|████▌     | 10/22 [00:02<00:02,  4.41it/s]/usr/local/lib/python3.7/dist-packages/NERDA/preprocessing.py:80: UserWarning: Sentence #90 length 127 exceeds max_len 128 and has been truncated\n",
            "  warnings.warn(msg)\n",
            "100%|██████████| 22/22 [00:05<00:00,  4.39it/s]\n",
            "  0%|          | 0/6 [00:00<?, ?it/s]/usr/local/lib/python3.7/dist-packages/NERDA/preprocessing.py:80: UserWarning: Sentence #6 length 327 exceeds max_len 128 and has been truncated\n",
            "  warnings.warn(msg)\n",
            "/usr/local/lib/python3.7/dist-packages/NERDA/preprocessing.py:80: UserWarning: Sentence #16 length 132 exceeds max_len 128 and has been truncated\n",
            "  warnings.warn(msg)\n",
            "100%|██████████| 6/6 [00:00<00:00, 10.88it/s]"
          ]
        },
        {
          "output_type": "stream",
          "name": "stdout",
          "text": [
            "Train Loss = 0.09113978658040817 Valid Loss = 1.025608517229557\n"
          ]
        },
        {
          "output_type": "stream",
          "name": "stderr",
          "text": [
            "\n",
            "/usr/local/lib/python3.7/dist-packages/NERDA/preprocessing.py:80: UserWarning: Sentence #2 length 128 exceeds max_len 128 and has been truncated\n",
            "  warnings.warn(msg)\n",
            "/usr/local/lib/python3.7/dist-packages/NERDA/performance.py:39: UserWarning: length of observed values exceeded lengths of predicted values in 1 cases and were truncated. _Consider_ increasing max_len parameter for your model.\n",
            "  warnings.warn(f'length of observed values exceeded lengths of predicted values in {n_exceeds} cases and were truncated. _Consider_ increasing max_len parameter for your model.')\n",
            "/usr/local/lib/python3.7/dist-packages/NERDA/performance.py:39: UserWarning: length of observed values exceeded lengths of predicted values in 1 cases and were truncated. _Consider_ increasing max_len parameter for your model.\n",
            "  warnings.warn(f'length of observed values exceeded lengths of predicted values in {n_exceeds} cases and were truncated. _Consider_ increasing max_len parameter for your model.')\n",
            "/usr/local/lib/python3.7/dist-packages/NERDA/performance.py:39: UserWarning: length of observed values exceeded lengths of predicted values in 1 cases and were truncated. _Consider_ increasing max_len parameter for your model.\n",
            "  warnings.warn(f'length of observed values exceeded lengths of predicted values in {n_exceeds} cases and were truncated. _Consider_ increasing max_len parameter for your model.')\n"
          ]
        },
        {
          "output_type": "stream",
          "name": "stdout",
          "text": [
            "Device automatically set to: cuda\n"
          ]
        },
        {
          "output_type": "stream",
          "name": "stderr",
          "text": [
            "Some weights of the model checkpoint at bert-base-multilingual-cased were not used when initializing BertModel: ['cls.predictions.bias', 'cls.predictions.transform.LayerNorm.bias', 'cls.predictions.transform.LayerNorm.weight', 'cls.seq_relationship.weight', 'cls.seq_relationship.bias', 'cls.predictions.decoder.weight', 'cls.predictions.transform.dense.bias', 'cls.predictions.transform.dense.weight']\n",
            "- This IS expected if you are initializing BertModel from the checkpoint of a model trained on another task or with another architecture (e.g. initializing a BertForSequenceClassification model from a BertForPreTraining model).\n",
            "- This IS NOT expected if you are initializing BertModel from the checkpoint of a model that you expect to be exactly identical (initializing a BertForSequenceClassification model from a BertForSequenceClassification model).\n",
            "/usr/local/lib/python3.7/dist-packages/transformers/optimization.py:309: FutureWarning: This implementation of AdamW is deprecated and will be removed in a future version. Use the PyTorch implementation torch.optim.AdamW instead, or set `no_deprecation_warning=True` to disable this warning\n",
            "  FutureWarning,\n"
          ]
        },
        {
          "output_type": "stream",
          "name": "stdout",
          "text": [
            "\n",
            " Epoch 1 / 11\n"
          ]
        },
        {
          "output_type": "stream",
          "name": "stderr",
          "text": [
            "\r  0%|          | 0/22 [00:00<?, ?it/s]/usr/local/lib/python3.7/dist-packages/NERDA/preprocessing.py:80: UserWarning: Sentence #6 length 262 exceeds max_len 128 and has been truncated\n",
            "  warnings.warn(msg)\n",
            "/usr/local/lib/python3.7/dist-packages/NERDA/preprocessing.py:80: UserWarning: Sentence #14 length 152 exceeds max_len 128 and has been truncated\n",
            "  warnings.warn(msg)\n",
            " 18%|█▊        | 4/22 [00:01<00:04,  3.95it/s]/usr/local/lib/python3.7/dist-packages/NERDA/preprocessing.py:80: UserWarning: Sentence #48 length 150 exceeds max_len 128 and has been truncated\n",
            "  warnings.warn(msg)\n",
            " 23%|██▎       | 5/22 [00:01<00:04,  4.15it/s]/usr/local/lib/python3.7/dist-packages/NERDA/preprocessing.py:80: UserWarning: Sentence #49 length 130 exceeds max_len 128 and has been truncated\n",
            "  warnings.warn(msg)\n",
            "/usr/local/lib/python3.7/dist-packages/NERDA/preprocessing.py:80: UserWarning: Sentence #50 length 174 exceeds max_len 128 and has been truncated\n",
            "  warnings.warn(msg)\n",
            "/usr/local/lib/python3.7/dist-packages/NERDA/preprocessing.py:80: UserWarning: Sentence #53 length 233 exceeds max_len 128 and has been truncated\n",
            "  warnings.warn(msg)\n",
            "/usr/local/lib/python3.7/dist-packages/NERDA/preprocessing.py:80: UserWarning: Sentence #54 length 149 exceeds max_len 128 and has been truncated\n",
            "  warnings.warn(msg)\n",
            " 32%|███▏      | 7/22 [00:01<00:03,  3.99it/s]/usr/local/lib/python3.7/dist-packages/NERDA/preprocessing.py:80: UserWarning: Sentence #68 length 132 exceeds max_len 128 and has been truncated\n",
            "  warnings.warn(msg)\n",
            " 41%|████      | 9/22 [00:02<00:03,  4.25it/s]/usr/local/lib/python3.7/dist-packages/NERDA/preprocessing.py:80: UserWarning: Sentence #77 length 171 exceeds max_len 128 and has been truncated\n",
            "  warnings.warn(msg)\n",
            " 45%|████▌     | 10/22 [00:02<00:02,  4.17it/s]/usr/local/lib/python3.7/dist-packages/NERDA/preprocessing.py:80: UserWarning: Sentence #87 length 128 exceeds max_len 128 and has been truncated\n",
            "  warnings.warn(msg)\n",
            "100%|██████████| 22/22 [00:05<00:00,  4.21it/s]\n",
            "  0%|          | 0/6 [00:00<?, ?it/s]/usr/local/lib/python3.7/dist-packages/NERDA/preprocessing.py:80: UserWarning: Sentence #6 length 327 exceeds max_len 128 and has been truncated\n",
            "  warnings.warn(msg)\n",
            "/usr/local/lib/python3.7/dist-packages/NERDA/preprocessing.py:80: UserWarning: Sentence #16 length 132 exceeds max_len 128 and has been truncated\n",
            "  warnings.warn(msg)\n",
            "100%|██████████| 6/6 [00:00<00:00, 10.89it/s]\n"
          ]
        },
        {
          "output_type": "stream",
          "name": "stdout",
          "text": [
            "Train Loss = 0.8403914516622369 Valid Loss = 1.096949299176534\n",
            "\n",
            " Epoch 2 / 11\n"
          ]
        },
        {
          "output_type": "stream",
          "name": "stderr",
          "text": [
            "\r  0%|          | 0/22 [00:00<?, ?it/s]/usr/local/lib/python3.7/dist-packages/NERDA/preprocessing.py:80: UserWarning: Sentence #6 length 262 exceeds max_len 128 and has been truncated\n",
            "  warnings.warn(msg)\n",
            "/usr/local/lib/python3.7/dist-packages/NERDA/preprocessing.py:80: UserWarning: Sentence #14 length 152 exceeds max_len 128 and has been truncated\n",
            "  warnings.warn(msg)\n",
            " 18%|█▊        | 4/22 [00:00<00:04,  4.33it/s]/usr/local/lib/python3.7/dist-packages/NERDA/preprocessing.py:80: UserWarning: Sentence #48 length 150 exceeds max_len 128 and has been truncated\n",
            "  warnings.warn(msg)\n",
            " 23%|██▎       | 5/22 [00:01<00:03,  4.34it/s]/usr/local/lib/python3.7/dist-packages/NERDA/preprocessing.py:80: UserWarning: Sentence #49 length 130 exceeds max_len 128 and has been truncated\n",
            "  warnings.warn(msg)\n",
            "/usr/local/lib/python3.7/dist-packages/NERDA/preprocessing.py:80: UserWarning: Sentence #50 length 174 exceeds max_len 128 and has been truncated\n",
            "  warnings.warn(msg)\n",
            "/usr/local/lib/python3.7/dist-packages/NERDA/preprocessing.py:80: UserWarning: Sentence #53 length 233 exceeds max_len 128 and has been truncated\n",
            "  warnings.warn(msg)\n",
            "/usr/local/lib/python3.7/dist-packages/NERDA/preprocessing.py:80: UserWarning: Sentence #54 length 149 exceeds max_len 128 and has been truncated\n",
            "  warnings.warn(msg)\n",
            " 32%|███▏      | 7/22 [00:01<00:03,  4.46it/s]/usr/local/lib/python3.7/dist-packages/NERDA/preprocessing.py:80: UserWarning: Sentence #68 length 132 exceeds max_len 128 and has been truncated\n",
            "  warnings.warn(msg)\n",
            " 41%|████      | 9/22 [00:02<00:02,  4.55it/s]/usr/local/lib/python3.7/dist-packages/NERDA/preprocessing.py:80: UserWarning: Sentence #77 length 171 exceeds max_len 128 and has been truncated\n",
            "  warnings.warn(msg)\n",
            " 45%|████▌     | 10/22 [00:02<00:02,  4.58it/s]/usr/local/lib/python3.7/dist-packages/NERDA/preprocessing.py:80: UserWarning: Sentence #87 length 128 exceeds max_len 128 and has been truncated\n",
            "  warnings.warn(msg)\n",
            "100%|██████████| 22/22 [00:04<00:00,  4.48it/s]\n",
            "  0%|          | 0/6 [00:00<?, ?it/s]/usr/local/lib/python3.7/dist-packages/NERDA/preprocessing.py:80: UserWarning: Sentence #6 length 327 exceeds max_len 128 and has been truncated\n",
            "  warnings.warn(msg)\n",
            "/usr/local/lib/python3.7/dist-packages/NERDA/preprocessing.py:80: UserWarning: Sentence #16 length 132 exceeds max_len 128 and has been truncated\n",
            "  warnings.warn(msg)\n",
            "100%|██████████| 6/6 [00:00<00:00, 10.63it/s]\n"
          ]
        },
        {
          "output_type": "stream",
          "name": "stdout",
          "text": [
            "Train Loss = 0.6737619401379065 Valid Loss = 0.7536286264657974\n",
            "\n",
            " Epoch 3 / 11\n"
          ]
        },
        {
          "output_type": "stream",
          "name": "stderr",
          "text": [
            "\r  0%|          | 0/22 [00:00<?, ?it/s]/usr/local/lib/python3.7/dist-packages/NERDA/preprocessing.py:80: UserWarning: Sentence #6 length 262 exceeds max_len 128 and has been truncated\n",
            "  warnings.warn(msg)\n",
            "/usr/local/lib/python3.7/dist-packages/NERDA/preprocessing.py:80: UserWarning: Sentence #14 length 152 exceeds max_len 128 and has been truncated\n",
            "  warnings.warn(msg)\n",
            " 18%|█▊        | 4/22 [00:00<00:04,  4.24it/s]/usr/local/lib/python3.7/dist-packages/NERDA/preprocessing.py:80: UserWarning: Sentence #48 length 150 exceeds max_len 128 and has been truncated\n",
            "  warnings.warn(msg)\n",
            " 23%|██▎       | 5/22 [00:01<00:03,  4.34it/s]/usr/local/lib/python3.7/dist-packages/NERDA/preprocessing.py:80: UserWarning: Sentence #49 length 130 exceeds max_len 128 and has been truncated\n",
            "  warnings.warn(msg)\n",
            "/usr/local/lib/python3.7/dist-packages/NERDA/preprocessing.py:80: UserWarning: Sentence #50 length 174 exceeds max_len 128 and has been truncated\n",
            "  warnings.warn(msg)\n",
            "/usr/local/lib/python3.7/dist-packages/NERDA/preprocessing.py:80: UserWarning: Sentence #53 length 233 exceeds max_len 128 and has been truncated\n",
            "  warnings.warn(msg)\n",
            "/usr/local/lib/python3.7/dist-packages/NERDA/preprocessing.py:80: UserWarning: Sentence #54 length 149 exceeds max_len 128 and has been truncated\n",
            "  warnings.warn(msg)\n",
            " 32%|███▏      | 7/22 [00:01<00:03,  4.45it/s]/usr/local/lib/python3.7/dist-packages/NERDA/preprocessing.py:80: UserWarning: Sentence #68 length 132 exceeds max_len 128 and has been truncated\n",
            "  warnings.warn(msg)\n",
            " 41%|████      | 9/22 [00:02<00:02,  4.56it/s]/usr/local/lib/python3.7/dist-packages/NERDA/preprocessing.py:80: UserWarning: Sentence #77 length 171 exceeds max_len 128 and has been truncated\n",
            "  warnings.warn(msg)\n",
            " 45%|████▌     | 10/22 [00:02<00:02,  4.53it/s]/usr/local/lib/python3.7/dist-packages/NERDA/preprocessing.py:80: UserWarning: Sentence #87 length 128 exceeds max_len 128 and has been truncated\n",
            "  warnings.warn(msg)\n",
            "100%|██████████| 22/22 [00:04<00:00,  4.44it/s]\n",
            "  0%|          | 0/6 [00:00<?, ?it/s]/usr/local/lib/python3.7/dist-packages/NERDA/preprocessing.py:80: UserWarning: Sentence #6 length 327 exceeds max_len 128 and has been truncated\n",
            "  warnings.warn(msg)\n",
            "/usr/local/lib/python3.7/dist-packages/NERDA/preprocessing.py:80: UserWarning: Sentence #16 length 132 exceeds max_len 128 and has been truncated\n",
            "  warnings.warn(msg)\n",
            "100%|██████████| 6/6 [00:00<00:00, 11.08it/s]\n"
          ]
        },
        {
          "output_type": "stream",
          "name": "stdout",
          "text": [
            "Train Loss = 0.4573934552344409 Valid Loss = 1.033031165599823\n",
            "\n",
            " Epoch 4 / 11\n"
          ]
        },
        {
          "output_type": "stream",
          "name": "stderr",
          "text": [
            "\r  0%|          | 0/22 [00:00<?, ?it/s]/usr/local/lib/python3.7/dist-packages/NERDA/preprocessing.py:80: UserWarning: Sentence #6 length 262 exceeds max_len 128 and has been truncated\n",
            "  warnings.warn(msg)\n",
            "/usr/local/lib/python3.7/dist-packages/NERDA/preprocessing.py:80: UserWarning: Sentence #14 length 152 exceeds max_len 128 and has been truncated\n",
            "  warnings.warn(msg)\n",
            " 18%|█▊        | 4/22 [00:00<00:04,  4.29it/s]/usr/local/lib/python3.7/dist-packages/NERDA/preprocessing.py:80: UserWarning: Sentence #48 length 150 exceeds max_len 128 and has been truncated\n",
            "  warnings.warn(msg)\n",
            " 23%|██▎       | 5/22 [00:01<00:03,  4.29it/s]/usr/local/lib/python3.7/dist-packages/NERDA/preprocessing.py:80: UserWarning: Sentence #49 length 130 exceeds max_len 128 and has been truncated\n",
            "  warnings.warn(msg)\n",
            "/usr/local/lib/python3.7/dist-packages/NERDA/preprocessing.py:80: UserWarning: Sentence #50 length 174 exceeds max_len 128 and has been truncated\n",
            "  warnings.warn(msg)\n",
            "/usr/local/lib/python3.7/dist-packages/NERDA/preprocessing.py:80: UserWarning: Sentence #53 length 233 exceeds max_len 128 and has been truncated\n",
            "  warnings.warn(msg)\n",
            "/usr/local/lib/python3.7/dist-packages/NERDA/preprocessing.py:80: UserWarning: Sentence #54 length 149 exceeds max_len 128 and has been truncated\n",
            "  warnings.warn(msg)\n",
            " 32%|███▏      | 7/22 [00:01<00:03,  4.38it/s]/usr/local/lib/python3.7/dist-packages/NERDA/preprocessing.py:80: UserWarning: Sentence #68 length 132 exceeds max_len 128 and has been truncated\n",
            "  warnings.warn(msg)\n",
            " 41%|████      | 9/22 [00:02<00:02,  4.46it/s]/usr/local/lib/python3.7/dist-packages/NERDA/preprocessing.py:80: UserWarning: Sentence #77 length 171 exceeds max_len 128 and has been truncated\n",
            "  warnings.warn(msg)\n",
            " 45%|████▌     | 10/22 [00:02<00:02,  4.51it/s]/usr/local/lib/python3.7/dist-packages/NERDA/preprocessing.py:80: UserWarning: Sentence #87 length 128 exceeds max_len 128 and has been truncated\n",
            "  warnings.warn(msg)\n",
            "100%|██████████| 22/22 [00:04<00:00,  4.41it/s]\n",
            "  0%|          | 0/6 [00:00<?, ?it/s]/usr/local/lib/python3.7/dist-packages/NERDA/preprocessing.py:80: UserWarning: Sentence #6 length 327 exceeds max_len 128 and has been truncated\n",
            "  warnings.warn(msg)\n",
            "/usr/local/lib/python3.7/dist-packages/NERDA/preprocessing.py:80: UserWarning: Sentence #16 length 132 exceeds max_len 128 and has been truncated\n",
            "  warnings.warn(msg)\n",
            "100%|██████████| 6/6 [00:00<00:00, 10.57it/s]\n"
          ]
        },
        {
          "output_type": "stream",
          "name": "stdout",
          "text": [
            "Train Loss = 0.4242658452554183 Valid Loss = 0.7882490207751592\n",
            "\n",
            " Epoch 5 / 11\n"
          ]
        },
        {
          "output_type": "stream",
          "name": "stderr",
          "text": [
            "\r  0%|          | 0/22 [00:00<?, ?it/s]/usr/local/lib/python3.7/dist-packages/NERDA/preprocessing.py:80: UserWarning: Sentence #6 length 262 exceeds max_len 128 and has been truncated\n",
            "  warnings.warn(msg)\n",
            "/usr/local/lib/python3.7/dist-packages/NERDA/preprocessing.py:80: UserWarning: Sentence #14 length 152 exceeds max_len 128 and has been truncated\n",
            "  warnings.warn(msg)\n",
            " 18%|█▊        | 4/22 [00:00<00:04,  4.28it/s]/usr/local/lib/python3.7/dist-packages/NERDA/preprocessing.py:80: UserWarning: Sentence #48 length 150 exceeds max_len 128 and has been truncated\n",
            "  warnings.warn(msg)\n",
            " 23%|██▎       | 5/22 [00:01<00:03,  4.32it/s]/usr/local/lib/python3.7/dist-packages/NERDA/preprocessing.py:80: UserWarning: Sentence #49 length 130 exceeds max_len 128 and has been truncated\n",
            "  warnings.warn(msg)\n",
            "/usr/local/lib/python3.7/dist-packages/NERDA/preprocessing.py:80: UserWarning: Sentence #50 length 174 exceeds max_len 128 and has been truncated\n",
            "  warnings.warn(msg)\n",
            "/usr/local/lib/python3.7/dist-packages/NERDA/preprocessing.py:80: UserWarning: Sentence #53 length 233 exceeds max_len 128 and has been truncated\n",
            "  warnings.warn(msg)\n",
            "/usr/local/lib/python3.7/dist-packages/NERDA/preprocessing.py:80: UserWarning: Sentence #54 length 149 exceeds max_len 128 and has been truncated\n",
            "  warnings.warn(msg)\n",
            " 32%|███▏      | 7/22 [00:01<00:03,  4.46it/s]/usr/local/lib/python3.7/dist-packages/NERDA/preprocessing.py:80: UserWarning: Sentence #68 length 132 exceeds max_len 128 and has been truncated\n",
            "  warnings.warn(msg)\n",
            " 41%|████      | 9/22 [00:02<00:02,  4.46it/s]/usr/local/lib/python3.7/dist-packages/NERDA/preprocessing.py:80: UserWarning: Sentence #77 length 171 exceeds max_len 128 and has been truncated\n",
            "  warnings.warn(msg)\n",
            " 45%|████▌     | 10/22 [00:02<00:02,  4.47it/s]/usr/local/lib/python3.7/dist-packages/NERDA/preprocessing.py:80: UserWarning: Sentence #87 length 128 exceeds max_len 128 and has been truncated\n",
            "  warnings.warn(msg)\n",
            "100%|██████████| 22/22 [00:04<00:00,  4.43it/s]\n",
            "  0%|          | 0/6 [00:00<?, ?it/s]/usr/local/lib/python3.7/dist-packages/NERDA/preprocessing.py:80: UserWarning: Sentence #6 length 327 exceeds max_len 128 and has been truncated\n",
            "  warnings.warn(msg)\n",
            "/usr/local/lib/python3.7/dist-packages/NERDA/preprocessing.py:80: UserWarning: Sentence #16 length 132 exceeds max_len 128 and has been truncated\n",
            "  warnings.warn(msg)\n",
            "100%|██████████| 6/6 [00:00<00:00, 10.61it/s]\n"
          ]
        },
        {
          "output_type": "stream",
          "name": "stdout",
          "text": [
            "Train Loss = 0.3461422141302716 Valid Loss = 0.9316013207038244\n",
            "\n",
            " Epoch 6 / 11\n"
          ]
        },
        {
          "output_type": "stream",
          "name": "stderr",
          "text": [
            "\r  0%|          | 0/22 [00:00<?, ?it/s]/usr/local/lib/python3.7/dist-packages/NERDA/preprocessing.py:80: UserWarning: Sentence #6 length 262 exceeds max_len 128 and has been truncated\n",
            "  warnings.warn(msg)\n",
            "/usr/local/lib/python3.7/dist-packages/NERDA/preprocessing.py:80: UserWarning: Sentence #14 length 152 exceeds max_len 128 and has been truncated\n",
            "  warnings.warn(msg)\n",
            " 18%|█▊        | 4/22 [00:01<00:04,  4.21it/s]/usr/local/lib/python3.7/dist-packages/NERDA/preprocessing.py:80: UserWarning: Sentence #48 length 150 exceeds max_len 128 and has been truncated\n",
            "  warnings.warn(msg)\n",
            " 23%|██▎       | 5/22 [00:01<00:03,  4.29it/s]/usr/local/lib/python3.7/dist-packages/NERDA/preprocessing.py:80: UserWarning: Sentence #49 length 130 exceeds max_len 128 and has been truncated\n",
            "  warnings.warn(msg)\n",
            "/usr/local/lib/python3.7/dist-packages/NERDA/preprocessing.py:80: UserWarning: Sentence #50 length 174 exceeds max_len 128 and has been truncated\n",
            "  warnings.warn(msg)\n",
            "/usr/local/lib/python3.7/dist-packages/NERDA/preprocessing.py:80: UserWarning: Sentence #53 length 233 exceeds max_len 128 and has been truncated\n",
            "  warnings.warn(msg)\n",
            "/usr/local/lib/python3.7/dist-packages/NERDA/preprocessing.py:80: UserWarning: Sentence #54 length 149 exceeds max_len 128 and has been truncated\n",
            "  warnings.warn(msg)\n",
            " 32%|███▏      | 7/22 [00:01<00:03,  4.39it/s]/usr/local/lib/python3.7/dist-packages/NERDA/preprocessing.py:80: UserWarning: Sentence #68 length 132 exceeds max_len 128 and has been truncated\n",
            "  warnings.warn(msg)\n",
            " 41%|████      | 9/22 [00:02<00:02,  4.42it/s]/usr/local/lib/python3.7/dist-packages/NERDA/preprocessing.py:80: UserWarning: Sentence #77 length 171 exceeds max_len 128 and has been truncated\n",
            "  warnings.warn(msg)\n",
            " 45%|████▌     | 10/22 [00:02<00:02,  4.45it/s]/usr/local/lib/python3.7/dist-packages/NERDA/preprocessing.py:80: UserWarning: Sentence #87 length 128 exceeds max_len 128 and has been truncated\n",
            "  warnings.warn(msg)\n",
            "100%|██████████| 22/22 [00:05<00:00,  4.25it/s]\n",
            "  0%|          | 0/6 [00:00<?, ?it/s]/usr/local/lib/python3.7/dist-packages/NERDA/preprocessing.py:80: UserWarning: Sentence #6 length 327 exceeds max_len 128 and has been truncated\n",
            "  warnings.warn(msg)\n",
            "/usr/local/lib/python3.7/dist-packages/NERDA/preprocessing.py:80: UserWarning: Sentence #16 length 132 exceeds max_len 128 and has been truncated\n",
            "  warnings.warn(msg)\n",
            "100%|██████████| 6/6 [00:00<00:00,  8.69it/s]\n"
          ]
        },
        {
          "output_type": "stream",
          "name": "stdout",
          "text": [
            "Train Loss = 0.3006694299930876 Valid Loss = 0.9172101418177286\n",
            "\n",
            " Epoch 7 / 11\n"
          ]
        },
        {
          "output_type": "stream",
          "name": "stderr",
          "text": [
            "\r  0%|          | 0/22 [00:00<?, ?it/s]/usr/local/lib/python3.7/dist-packages/NERDA/preprocessing.py:80: UserWarning: Sentence #6 length 262 exceeds max_len 128 and has been truncated\n",
            "  warnings.warn(msg)\n",
            "/usr/local/lib/python3.7/dist-packages/NERDA/preprocessing.py:80: UserWarning: Sentence #14 length 152 exceeds max_len 128 and has been truncated\n",
            "  warnings.warn(msg)\n",
            " 18%|█▊        | 4/22 [00:01<00:04,  4.06it/s]/usr/local/lib/python3.7/dist-packages/NERDA/preprocessing.py:80: UserWarning: Sentence #48 length 150 exceeds max_len 128 and has been truncated\n",
            "  warnings.warn(msg)\n",
            " 23%|██▎       | 5/22 [00:01<00:04,  4.23it/s]/usr/local/lib/python3.7/dist-packages/NERDA/preprocessing.py:80: UserWarning: Sentence #49 length 130 exceeds max_len 128 and has been truncated\n",
            "  warnings.warn(msg)\n",
            "/usr/local/lib/python3.7/dist-packages/NERDA/preprocessing.py:80: UserWarning: Sentence #50 length 174 exceeds max_len 128 and has been truncated\n",
            "  warnings.warn(msg)\n",
            "/usr/local/lib/python3.7/dist-packages/NERDA/preprocessing.py:80: UserWarning: Sentence #53 length 233 exceeds max_len 128 and has been truncated\n",
            "  warnings.warn(msg)\n",
            "/usr/local/lib/python3.7/dist-packages/NERDA/preprocessing.py:80: UserWarning: Sentence #54 length 149 exceeds max_len 128 and has been truncated\n",
            "  warnings.warn(msg)\n",
            " 32%|███▏      | 7/22 [00:01<00:03,  4.39it/s]/usr/local/lib/python3.7/dist-packages/NERDA/preprocessing.py:80: UserWarning: Sentence #68 length 132 exceeds max_len 128 and has been truncated\n",
            "  warnings.warn(msg)\n",
            " 41%|████      | 9/22 [00:02<00:02,  4.45it/s]/usr/local/lib/python3.7/dist-packages/NERDA/preprocessing.py:80: UserWarning: Sentence #77 length 171 exceeds max_len 128 and has been truncated\n",
            "  warnings.warn(msg)\n",
            " 45%|████▌     | 10/22 [00:02<00:02,  4.49it/s]/usr/local/lib/python3.7/dist-packages/NERDA/preprocessing.py:80: UserWarning: Sentence #87 length 128 exceeds max_len 128 and has been truncated\n",
            "  warnings.warn(msg)\n",
            "100%|██████████| 22/22 [00:05<00:00,  4.35it/s]\n",
            "  0%|          | 0/6 [00:00<?, ?it/s]/usr/local/lib/python3.7/dist-packages/NERDA/preprocessing.py:80: UserWarning: Sentence #6 length 327 exceeds max_len 128 and has been truncated\n",
            "  warnings.warn(msg)\n",
            "/usr/local/lib/python3.7/dist-packages/NERDA/preprocessing.py:80: UserWarning: Sentence #16 length 132 exceeds max_len 128 and has been truncated\n",
            "  warnings.warn(msg)\n",
            "100%|██████████| 6/6 [00:00<00:00, 10.77it/s]\n"
          ]
        },
        {
          "output_type": "stream",
          "name": "stdout",
          "text": [
            "Train Loss = 0.2380323941734704 Valid Loss = 0.8023415630062422\n",
            "\n",
            " Epoch 8 / 11\n"
          ]
        },
        {
          "output_type": "stream",
          "name": "stderr",
          "text": [
            "\r  0%|          | 0/22 [00:00<?, ?it/s]/usr/local/lib/python3.7/dist-packages/NERDA/preprocessing.py:80: UserWarning: Sentence #6 length 262 exceeds max_len 128 and has been truncated\n",
            "  warnings.warn(msg)\n",
            "/usr/local/lib/python3.7/dist-packages/NERDA/preprocessing.py:80: UserWarning: Sentence #14 length 152 exceeds max_len 128 and has been truncated\n",
            "  warnings.warn(msg)\n",
            " 18%|█▊        | 4/22 [00:00<00:04,  4.27it/s]/usr/local/lib/python3.7/dist-packages/NERDA/preprocessing.py:80: UserWarning: Sentence #48 length 150 exceeds max_len 128 and has been truncated\n",
            "  warnings.warn(msg)\n",
            " 23%|██▎       | 5/22 [00:01<00:03,  4.29it/s]/usr/local/lib/python3.7/dist-packages/NERDA/preprocessing.py:80: UserWarning: Sentence #49 length 130 exceeds max_len 128 and has been truncated\n",
            "  warnings.warn(msg)\n",
            "/usr/local/lib/python3.7/dist-packages/NERDA/preprocessing.py:80: UserWarning: Sentence #50 length 174 exceeds max_len 128 and has been truncated\n",
            "  warnings.warn(msg)\n",
            "/usr/local/lib/python3.7/dist-packages/NERDA/preprocessing.py:80: UserWarning: Sentence #53 length 233 exceeds max_len 128 and has been truncated\n",
            "  warnings.warn(msg)\n",
            "/usr/local/lib/python3.7/dist-packages/NERDA/preprocessing.py:80: UserWarning: Sentence #54 length 149 exceeds max_len 128 and has been truncated\n",
            "  warnings.warn(msg)\n",
            " 32%|███▏      | 7/22 [00:01<00:03,  4.36it/s]/usr/local/lib/python3.7/dist-packages/NERDA/preprocessing.py:80: UserWarning: Sentence #68 length 132 exceeds max_len 128 and has been truncated\n",
            "  warnings.warn(msg)\n",
            " 41%|████      | 9/22 [00:02<00:02,  4.46it/s]/usr/local/lib/python3.7/dist-packages/NERDA/preprocessing.py:80: UserWarning: Sentence #77 length 171 exceeds max_len 128 and has been truncated\n",
            "  warnings.warn(msg)\n",
            " 45%|████▌     | 10/22 [00:02<00:02,  4.46it/s]/usr/local/lib/python3.7/dist-packages/NERDA/preprocessing.py:80: UserWarning: Sentence #87 length 128 exceeds max_len 128 and has been truncated\n",
            "  warnings.warn(msg)\n",
            "100%|██████████| 22/22 [00:05<00:00,  4.40it/s]\n",
            "  0%|          | 0/6 [00:00<?, ?it/s]/usr/local/lib/python3.7/dist-packages/NERDA/preprocessing.py:80: UserWarning: Sentence #6 length 327 exceeds max_len 128 and has been truncated\n",
            "  warnings.warn(msg)\n",
            "/usr/local/lib/python3.7/dist-packages/NERDA/preprocessing.py:80: UserWarning: Sentence #16 length 132 exceeds max_len 128 and has been truncated\n",
            "  warnings.warn(msg)\n",
            "100%|██████████| 6/6 [00:00<00:00, 10.16it/s]\n"
          ]
        },
        {
          "output_type": "stream",
          "name": "stdout",
          "text": [
            "Train Loss = 0.21160909160971642 Valid Loss = 0.8156837386389574\n",
            "\n",
            " Epoch 9 / 11\n"
          ]
        },
        {
          "output_type": "stream",
          "name": "stderr",
          "text": [
            "\r  0%|          | 0/22 [00:00<?, ?it/s]/usr/local/lib/python3.7/dist-packages/NERDA/preprocessing.py:80: UserWarning: Sentence #6 length 262 exceeds max_len 128 and has been truncated\n",
            "  warnings.warn(msg)\n",
            "/usr/local/lib/python3.7/dist-packages/NERDA/preprocessing.py:80: UserWarning: Sentence #14 length 152 exceeds max_len 128 and has been truncated\n",
            "  warnings.warn(msg)\n",
            " 18%|█▊        | 4/22 [00:00<00:04,  4.26it/s]/usr/local/lib/python3.7/dist-packages/NERDA/preprocessing.py:80: UserWarning: Sentence #48 length 150 exceeds max_len 128 and has been truncated\n",
            "  warnings.warn(msg)\n",
            " 23%|██▎       | 5/22 [00:01<00:03,  4.33it/s]/usr/local/lib/python3.7/dist-packages/NERDA/preprocessing.py:80: UserWarning: Sentence #49 length 130 exceeds max_len 128 and has been truncated\n",
            "  warnings.warn(msg)\n",
            "/usr/local/lib/python3.7/dist-packages/NERDA/preprocessing.py:80: UserWarning: Sentence #50 length 174 exceeds max_len 128 and has been truncated\n",
            "  warnings.warn(msg)\n",
            "/usr/local/lib/python3.7/dist-packages/NERDA/preprocessing.py:80: UserWarning: Sentence #53 length 233 exceeds max_len 128 and has been truncated\n",
            "  warnings.warn(msg)\n",
            "/usr/local/lib/python3.7/dist-packages/NERDA/preprocessing.py:80: UserWarning: Sentence #54 length 149 exceeds max_len 128 and has been truncated\n",
            "  warnings.warn(msg)\n",
            " 32%|███▏      | 7/22 [00:01<00:03,  4.40it/s]/usr/local/lib/python3.7/dist-packages/NERDA/preprocessing.py:80: UserWarning: Sentence #68 length 132 exceeds max_len 128 and has been truncated\n",
            "  warnings.warn(msg)\n",
            " 41%|████      | 9/22 [00:02<00:02,  4.50it/s]/usr/local/lib/python3.7/dist-packages/NERDA/preprocessing.py:80: UserWarning: Sentence #77 length 171 exceeds max_len 128 and has been truncated\n",
            "  warnings.warn(msg)\n",
            " 45%|████▌     | 10/22 [00:02<00:02,  4.50it/s]/usr/local/lib/python3.7/dist-packages/NERDA/preprocessing.py:80: UserWarning: Sentence #87 length 128 exceeds max_len 128 and has been truncated\n",
            "  warnings.warn(msg)\n",
            "100%|██████████| 22/22 [00:04<00:00,  4.44it/s]\n",
            "  0%|          | 0/6 [00:00<?, ?it/s]/usr/local/lib/python3.7/dist-packages/NERDA/preprocessing.py:80: UserWarning: Sentence #6 length 327 exceeds max_len 128 and has been truncated\n",
            "  warnings.warn(msg)\n",
            "/usr/local/lib/python3.7/dist-packages/NERDA/preprocessing.py:80: UserWarning: Sentence #16 length 132 exceeds max_len 128 and has been truncated\n",
            "  warnings.warn(msg)\n",
            "100%|██████████| 6/6 [00:00<00:00, 10.83it/s]\n"
          ]
        },
        {
          "output_type": "stream",
          "name": "stdout",
          "text": [
            "Train Loss = 0.22802326895973898 Valid Loss = 0.7707684834798177\n",
            "\n",
            " Epoch 10 / 11\n"
          ]
        },
        {
          "output_type": "stream",
          "name": "stderr",
          "text": [
            "\r  0%|          | 0/22 [00:00<?, ?it/s]/usr/local/lib/python3.7/dist-packages/NERDA/preprocessing.py:80: UserWarning: Sentence #6 length 262 exceeds max_len 128 and has been truncated\n",
            "  warnings.warn(msg)\n",
            "/usr/local/lib/python3.7/dist-packages/NERDA/preprocessing.py:80: UserWarning: Sentence #14 length 152 exceeds max_len 128 and has been truncated\n",
            "  warnings.warn(msg)\n",
            " 18%|█▊        | 4/22 [00:00<00:04,  4.28it/s]/usr/local/lib/python3.7/dist-packages/NERDA/preprocessing.py:80: UserWarning: Sentence #48 length 150 exceeds max_len 128 and has been truncated\n",
            "  warnings.warn(msg)\n",
            " 23%|██▎       | 5/22 [00:01<00:03,  4.34it/s]/usr/local/lib/python3.7/dist-packages/NERDA/preprocessing.py:80: UserWarning: Sentence #49 length 130 exceeds max_len 128 and has been truncated\n",
            "  warnings.warn(msg)\n",
            "/usr/local/lib/python3.7/dist-packages/NERDA/preprocessing.py:80: UserWarning: Sentence #50 length 174 exceeds max_len 128 and has been truncated\n",
            "  warnings.warn(msg)\n",
            "/usr/local/lib/python3.7/dist-packages/NERDA/preprocessing.py:80: UserWarning: Sentence #53 length 233 exceeds max_len 128 and has been truncated\n",
            "  warnings.warn(msg)\n",
            "/usr/local/lib/python3.7/dist-packages/NERDA/preprocessing.py:80: UserWarning: Sentence #54 length 149 exceeds max_len 128 and has been truncated\n",
            "  warnings.warn(msg)\n",
            " 32%|███▏      | 7/22 [00:01<00:03,  4.45it/s]/usr/local/lib/python3.7/dist-packages/NERDA/preprocessing.py:80: UserWarning: Sentence #68 length 132 exceeds max_len 128 and has been truncated\n",
            "  warnings.warn(msg)\n",
            " 41%|████      | 9/22 [00:02<00:02,  4.50it/s]/usr/local/lib/python3.7/dist-packages/NERDA/preprocessing.py:80: UserWarning: Sentence #77 length 171 exceeds max_len 128 and has been truncated\n",
            "  warnings.warn(msg)\n",
            " 45%|████▌     | 10/22 [00:02<00:02,  4.39it/s]/usr/local/lib/python3.7/dist-packages/NERDA/preprocessing.py:80: UserWarning: Sentence #87 length 128 exceeds max_len 128 and has been truncated\n",
            "  warnings.warn(msg)\n",
            "100%|██████████| 22/22 [00:04<00:00,  4.42it/s]\n",
            "  0%|          | 0/6 [00:00<?, ?it/s]/usr/local/lib/python3.7/dist-packages/NERDA/preprocessing.py:80: UserWarning: Sentence #6 length 327 exceeds max_len 128 and has been truncated\n",
            "  warnings.warn(msg)\n",
            "/usr/local/lib/python3.7/dist-packages/NERDA/preprocessing.py:80: UserWarning: Sentence #16 length 132 exceeds max_len 128 and has been truncated\n",
            "  warnings.warn(msg)\n",
            "100%|██████████| 6/6 [00:00<00:00, 10.52it/s]\n"
          ]
        },
        {
          "output_type": "stream",
          "name": "stdout",
          "text": [
            "Train Loss = 0.19160338838330723 Valid Loss = 0.7649593204259872\n",
            "\n",
            " Epoch 11 / 11\n"
          ]
        },
        {
          "output_type": "stream",
          "name": "stderr",
          "text": [
            "\r  0%|          | 0/22 [00:00<?, ?it/s]/usr/local/lib/python3.7/dist-packages/NERDA/preprocessing.py:80: UserWarning: Sentence #6 length 262 exceeds max_len 128 and has been truncated\n",
            "  warnings.warn(msg)\n",
            "/usr/local/lib/python3.7/dist-packages/NERDA/preprocessing.py:80: UserWarning: Sentence #14 length 152 exceeds max_len 128 and has been truncated\n",
            "  warnings.warn(msg)\n",
            " 18%|█▊        | 4/22 [00:00<00:04,  4.27it/s]/usr/local/lib/python3.7/dist-packages/NERDA/preprocessing.py:80: UserWarning: Sentence #48 length 150 exceeds max_len 128 and has been truncated\n",
            "  warnings.warn(msg)\n",
            " 23%|██▎       | 5/22 [00:01<00:03,  4.34it/s]/usr/local/lib/python3.7/dist-packages/NERDA/preprocessing.py:80: UserWarning: Sentence #49 length 130 exceeds max_len 128 and has been truncated\n",
            "  warnings.warn(msg)\n",
            "/usr/local/lib/python3.7/dist-packages/NERDA/preprocessing.py:80: UserWarning: Sentence #50 length 174 exceeds max_len 128 and has been truncated\n",
            "  warnings.warn(msg)\n",
            "/usr/local/lib/python3.7/dist-packages/NERDA/preprocessing.py:80: UserWarning: Sentence #53 length 233 exceeds max_len 128 and has been truncated\n",
            "  warnings.warn(msg)\n",
            "/usr/local/lib/python3.7/dist-packages/NERDA/preprocessing.py:80: UserWarning: Sentence #54 length 149 exceeds max_len 128 and has been truncated\n",
            "  warnings.warn(msg)\n",
            " 32%|███▏      | 7/22 [00:01<00:03,  4.46it/s]/usr/local/lib/python3.7/dist-packages/NERDA/preprocessing.py:80: UserWarning: Sentence #68 length 132 exceeds max_len 128 and has been truncated\n",
            "  warnings.warn(msg)\n",
            " 41%|████      | 9/22 [00:02<00:02,  4.50it/s]/usr/local/lib/python3.7/dist-packages/NERDA/preprocessing.py:80: UserWarning: Sentence #77 length 171 exceeds max_len 128 and has been truncated\n",
            "  warnings.warn(msg)\n",
            " 45%|████▌     | 10/22 [00:02<00:02,  4.49it/s]/usr/local/lib/python3.7/dist-packages/NERDA/preprocessing.py:80: UserWarning: Sentence #87 length 128 exceeds max_len 128 and has been truncated\n",
            "  warnings.warn(msg)\n",
            "100%|██████████| 22/22 [00:04<00:00,  4.43it/s]\n",
            "  0%|          | 0/6 [00:00<?, ?it/s]/usr/local/lib/python3.7/dist-packages/NERDA/preprocessing.py:80: UserWarning: Sentence #6 length 327 exceeds max_len 128 and has been truncated\n",
            "  warnings.warn(msg)\n",
            "/usr/local/lib/python3.7/dist-packages/NERDA/preprocessing.py:80: UserWarning: Sentence #16 length 132 exceeds max_len 128 and has been truncated\n",
            "  warnings.warn(msg)\n",
            "100%|██████████| 6/6 [00:00<00:00, 10.34it/s]"
          ]
        },
        {
          "output_type": "stream",
          "name": "stdout",
          "text": [
            "Train Loss = 0.16508770530874078 Valid Loss = 0.7654846596221129\n"
          ]
        },
        {
          "output_type": "stream",
          "name": "stderr",
          "text": [
            "\n",
            "/usr/local/lib/python3.7/dist-packages/NERDA/preprocessing.py:80: UserWarning: Sentence #5 length 127 exceeds max_len 128 and has been truncated\n",
            "  warnings.warn(msg)\n",
            "/usr/local/lib/python3.7/dist-packages/NERDA/performance.py:39: UserWarning: length of observed values exceeded lengths of predicted values in 1 cases and were truncated. _Consider_ increasing max_len parameter for your model.\n",
            "  warnings.warn(f'length of observed values exceeded lengths of predicted values in {n_exceeds} cases and were truncated. _Consider_ increasing max_len parameter for your model.')\n",
            "/usr/local/lib/python3.7/dist-packages/NERDA/performance.py:39: UserWarning: length of observed values exceeded lengths of predicted values in 1 cases and were truncated. _Consider_ increasing max_len parameter for your model.\n",
            "  warnings.warn(f'length of observed values exceeded lengths of predicted values in {n_exceeds} cases and were truncated. _Consider_ increasing max_len parameter for your model.')\n",
            "/usr/local/lib/python3.7/dist-packages/NERDA/performance.py:39: UserWarning: length of observed values exceeded lengths of predicted values in 1 cases and were truncated. _Consider_ increasing max_len parameter for your model.\n",
            "  warnings.warn(f'length of observed values exceeded lengths of predicted values in {n_exceeds} cases and were truncated. _Consider_ increasing max_len parameter for your model.')\n"
          ]
        },
        {
          "output_type": "stream",
          "name": "stdout",
          "text": [
            "Device automatically set to: cuda\n"
          ]
        },
        {
          "output_type": "stream",
          "name": "stderr",
          "text": [
            "Some weights of the model checkpoint at bert-base-multilingual-cased were not used when initializing BertModel: ['cls.predictions.bias', 'cls.predictions.transform.LayerNorm.bias', 'cls.predictions.transform.LayerNorm.weight', 'cls.seq_relationship.weight', 'cls.seq_relationship.bias', 'cls.predictions.decoder.weight', 'cls.predictions.transform.dense.bias', 'cls.predictions.transform.dense.weight']\n",
            "- This IS expected if you are initializing BertModel from the checkpoint of a model trained on another task or with another architecture (e.g. initializing a BertForSequenceClassification model from a BertForPreTraining model).\n",
            "- This IS NOT expected if you are initializing BertModel from the checkpoint of a model that you expect to be exactly identical (initializing a BertForSequenceClassification model from a BertForSequenceClassification model).\n",
            "/usr/local/lib/python3.7/dist-packages/transformers/optimization.py:309: FutureWarning: This implementation of AdamW is deprecated and will be removed in a future version. Use the PyTorch implementation torch.optim.AdamW instead, or set `no_deprecation_warning=True` to disable this warning\n",
            "  FutureWarning,\n"
          ]
        },
        {
          "output_type": "stream",
          "name": "stdout",
          "text": [
            "\n",
            " Epoch 1 / 11\n"
          ]
        },
        {
          "output_type": "stream",
          "name": "stderr",
          "text": [
            "\r  0%|          | 0/22 [00:00<?, ?it/s]/usr/local/lib/python3.7/dist-packages/NERDA/preprocessing.py:80: UserWarning: Sentence #6 length 262 exceeds max_len 128 and has been truncated\n",
            "  warnings.warn(msg)\n",
            "/usr/local/lib/python3.7/dist-packages/NERDA/preprocessing.py:80: UserWarning: Sentence #14 length 152 exceeds max_len 128 and has been truncated\n",
            "  warnings.warn(msg)\n",
            " 18%|█▊        | 4/22 [00:01<00:04,  4.13it/s]/usr/local/lib/python3.7/dist-packages/NERDA/preprocessing.py:80: UserWarning: Sentence #48 length 150 exceeds max_len 128 and has been truncated\n",
            "  warnings.warn(msg)\n",
            " 23%|██▎       | 5/22 [00:01<00:04,  4.22it/s]/usr/local/lib/python3.7/dist-packages/NERDA/preprocessing.py:80: UserWarning: Sentence #49 length 130 exceeds max_len 128 and has been truncated\n",
            "  warnings.warn(msg)\n",
            "/usr/local/lib/python3.7/dist-packages/NERDA/preprocessing.py:80: UserWarning: Sentence #50 length 174 exceeds max_len 128 and has been truncated\n",
            "  warnings.warn(msg)\n",
            "/usr/local/lib/python3.7/dist-packages/NERDA/preprocessing.py:80: UserWarning: Sentence #53 length 233 exceeds max_len 128 and has been truncated\n",
            "  warnings.warn(msg)\n",
            "/usr/local/lib/python3.7/dist-packages/NERDA/preprocessing.py:80: UserWarning: Sentence #54 length 149 exceeds max_len 128 and has been truncated\n",
            "  warnings.warn(msg)\n",
            " 32%|███▏      | 7/22 [00:01<00:03,  4.37it/s]/usr/local/lib/python3.7/dist-packages/NERDA/preprocessing.py:80: UserWarning: Sentence #68 length 132 exceeds max_len 128 and has been truncated\n",
            "  warnings.warn(msg)\n",
            " 41%|████      | 9/22 [00:02<00:02,  4.51it/s]/usr/local/lib/python3.7/dist-packages/NERDA/preprocessing.py:80: UserWarning: Sentence #77 length 171 exceeds max_len 128 and has been truncated\n",
            "  warnings.warn(msg)\n",
            " 45%|████▌     | 10/22 [00:02<00:02,  4.48it/s]/usr/local/lib/python3.7/dist-packages/NERDA/preprocessing.py:80: UserWarning: Sentence #87 length 128 exceeds max_len 128 and has been truncated\n",
            "  warnings.warn(msg)\n",
            " 59%|█████▉    | 13/22 [00:03<00:01,  4.53it/s]/usr/local/lib/python3.7/dist-packages/NERDA/preprocessing.py:80: UserWarning: Sentence #107 length 127 exceeds max_len 128 and has been truncated\n",
            "  warnings.warn(msg)\n",
            "100%|██████████| 22/22 [00:05<00:00,  4.38it/s]\n",
            "  0%|          | 0/6 [00:00<?, ?it/s]/usr/local/lib/python3.7/dist-packages/NERDA/preprocessing.py:80: UserWarning: Sentence #6 length 327 exceeds max_len 128 and has been truncated\n",
            "  warnings.warn(msg)\n",
            "/usr/local/lib/python3.7/dist-packages/NERDA/preprocessing.py:80: UserWarning: Sentence #16 length 132 exceeds max_len 128 and has been truncated\n",
            "  warnings.warn(msg)\n",
            "100%|██████████| 6/6 [00:00<00:00, 10.59it/s]\n"
          ]
        },
        {
          "output_type": "stream",
          "name": "stdout",
          "text": [
            "Train Loss = 0.8728446797891096 Valid Loss = 0.9173864225546519\n",
            "\n",
            " Epoch 2 / 11\n"
          ]
        },
        {
          "output_type": "stream",
          "name": "stderr",
          "text": [
            "\r  0%|          | 0/22 [00:00<?, ?it/s]/usr/local/lib/python3.7/dist-packages/NERDA/preprocessing.py:80: UserWarning: Sentence #6 length 262 exceeds max_len 128 and has been truncated\n",
            "  warnings.warn(msg)\n",
            "/usr/local/lib/python3.7/dist-packages/NERDA/preprocessing.py:80: UserWarning: Sentence #14 length 152 exceeds max_len 128 and has been truncated\n",
            "  warnings.warn(msg)\n",
            " 18%|█▊        | 4/22 [00:00<00:04,  4.31it/s]/usr/local/lib/python3.7/dist-packages/NERDA/preprocessing.py:80: UserWarning: Sentence #48 length 150 exceeds max_len 128 and has been truncated\n",
            "  warnings.warn(msg)\n",
            " 23%|██▎       | 5/22 [00:01<00:03,  4.35it/s]/usr/local/lib/python3.7/dist-packages/NERDA/preprocessing.py:80: UserWarning: Sentence #49 length 130 exceeds max_len 128 and has been truncated\n",
            "  warnings.warn(msg)\n",
            "/usr/local/lib/python3.7/dist-packages/NERDA/preprocessing.py:80: UserWarning: Sentence #50 length 174 exceeds max_len 128 and has been truncated\n",
            "  warnings.warn(msg)\n",
            "/usr/local/lib/python3.7/dist-packages/NERDA/preprocessing.py:80: UserWarning: Sentence #53 length 233 exceeds max_len 128 and has been truncated\n",
            "  warnings.warn(msg)\n",
            "/usr/local/lib/python3.7/dist-packages/NERDA/preprocessing.py:80: UserWarning: Sentence #54 length 149 exceeds max_len 128 and has been truncated\n",
            "  warnings.warn(msg)\n",
            " 32%|███▏      | 7/22 [00:01<00:03,  4.52it/s]/usr/local/lib/python3.7/dist-packages/NERDA/preprocessing.py:80: UserWarning: Sentence #68 length 132 exceeds max_len 128 and has been truncated\n",
            "  warnings.warn(msg)\n",
            " 41%|████      | 9/22 [00:02<00:02,  4.60it/s]/usr/local/lib/python3.7/dist-packages/NERDA/preprocessing.py:80: UserWarning: Sentence #77 length 171 exceeds max_len 128 and has been truncated\n",
            "  warnings.warn(msg)\n",
            " 45%|████▌     | 10/22 [00:02<00:02,  4.61it/s]/usr/local/lib/python3.7/dist-packages/NERDA/preprocessing.py:80: UserWarning: Sentence #87 length 128 exceeds max_len 128 and has been truncated\n",
            "  warnings.warn(msg)\n",
            " 59%|█████▉    | 13/22 [00:02<00:01,  4.63it/s]/usr/local/lib/python3.7/dist-packages/NERDA/preprocessing.py:80: UserWarning: Sentence #107 length 127 exceeds max_len 128 and has been truncated\n",
            "  warnings.warn(msg)\n",
            "100%|██████████| 22/22 [00:04<00:00,  4.48it/s]\n",
            "  0%|          | 0/6 [00:00<?, ?it/s]/usr/local/lib/python3.7/dist-packages/NERDA/preprocessing.py:80: UserWarning: Sentence #6 length 327 exceeds max_len 128 and has been truncated\n",
            "  warnings.warn(msg)\n",
            "/usr/local/lib/python3.7/dist-packages/NERDA/preprocessing.py:80: UserWarning: Sentence #16 length 132 exceeds max_len 128 and has been truncated\n",
            "  warnings.warn(msg)\n",
            "100%|██████████| 6/6 [00:00<00:00, 10.75it/s]\n"
          ]
        },
        {
          "output_type": "stream",
          "name": "stdout",
          "text": [
            "Train Loss = 0.7486704723401503 Valid Loss = 0.8344959318637848\n",
            "\n",
            " Epoch 3 / 11\n"
          ]
        },
        {
          "output_type": "stream",
          "name": "stderr",
          "text": [
            "\r  0%|          | 0/22 [00:00<?, ?it/s]/usr/local/lib/python3.7/dist-packages/NERDA/preprocessing.py:80: UserWarning: Sentence #6 length 262 exceeds max_len 128 and has been truncated\n",
            "  warnings.warn(msg)\n",
            "/usr/local/lib/python3.7/dist-packages/NERDA/preprocessing.py:80: UserWarning: Sentence #14 length 152 exceeds max_len 128 and has been truncated\n",
            "  warnings.warn(msg)\n",
            " 18%|█▊        | 4/22 [00:00<00:04,  4.32it/s]/usr/local/lib/python3.7/dist-packages/NERDA/preprocessing.py:80: UserWarning: Sentence #48 length 150 exceeds max_len 128 and has been truncated\n",
            "  warnings.warn(msg)\n",
            " 23%|██▎       | 5/22 [00:01<00:03,  4.38it/s]/usr/local/lib/python3.7/dist-packages/NERDA/preprocessing.py:80: UserWarning: Sentence #49 length 130 exceeds max_len 128 and has been truncated\n",
            "  warnings.warn(msg)\n",
            "/usr/local/lib/python3.7/dist-packages/NERDA/preprocessing.py:80: UserWarning: Sentence #50 length 174 exceeds max_len 128 and has been truncated\n",
            "  warnings.warn(msg)\n",
            "/usr/local/lib/python3.7/dist-packages/NERDA/preprocessing.py:80: UserWarning: Sentence #53 length 233 exceeds max_len 128 and has been truncated\n",
            "  warnings.warn(msg)\n",
            "/usr/local/lib/python3.7/dist-packages/NERDA/preprocessing.py:80: UserWarning: Sentence #54 length 149 exceeds max_len 128 and has been truncated\n",
            "  warnings.warn(msg)\n",
            " 32%|███▏      | 7/22 [00:01<00:03,  4.51it/s]/usr/local/lib/python3.7/dist-packages/NERDA/preprocessing.py:80: UserWarning: Sentence #68 length 132 exceeds max_len 128 and has been truncated\n",
            "  warnings.warn(msg)\n",
            " 41%|████      | 9/22 [00:02<00:02,  4.48it/s]/usr/local/lib/python3.7/dist-packages/NERDA/preprocessing.py:80: UserWarning: Sentence #77 length 171 exceeds max_len 128 and has been truncated\n",
            "  warnings.warn(msg)\n",
            " 45%|████▌     | 10/22 [00:02<00:02,  4.45it/s]/usr/local/lib/python3.7/dist-packages/NERDA/preprocessing.py:80: UserWarning: Sentence #87 length 128 exceeds max_len 128 and has been truncated\n",
            "  warnings.warn(msg)\n",
            " 59%|█████▉    | 13/22 [00:02<00:02,  4.48it/s]/usr/local/lib/python3.7/dist-packages/NERDA/preprocessing.py:80: UserWarning: Sentence #107 length 127 exceeds max_len 128 and has been truncated\n",
            "  warnings.warn(msg)\n",
            "100%|██████████| 22/22 [00:04<00:00,  4.42it/s]\n",
            "  0%|          | 0/6 [00:00<?, ?it/s]/usr/local/lib/python3.7/dist-packages/NERDA/preprocessing.py:80: UserWarning: Sentence #6 length 327 exceeds max_len 128 and has been truncated\n",
            "  warnings.warn(msg)\n",
            "/usr/local/lib/python3.7/dist-packages/NERDA/preprocessing.py:80: UserWarning: Sentence #16 length 132 exceeds max_len 128 and has been truncated\n",
            "  warnings.warn(msg)\n",
            "100%|██████████| 6/6 [00:00<00:00, 10.57it/s]\n"
          ]
        },
        {
          "output_type": "stream",
          "name": "stdout",
          "text": [
            "Train Loss = 0.7167685980146582 Valid Loss = 0.8028581440448761\n",
            "\n",
            " Epoch 4 / 11\n"
          ]
        },
        {
          "output_type": "stream",
          "name": "stderr",
          "text": [
            "\r  0%|          | 0/22 [00:00<?, ?it/s]/usr/local/lib/python3.7/dist-packages/NERDA/preprocessing.py:80: UserWarning: Sentence #6 length 262 exceeds max_len 128 and has been truncated\n",
            "  warnings.warn(msg)\n",
            "/usr/local/lib/python3.7/dist-packages/NERDA/preprocessing.py:80: UserWarning: Sentence #14 length 152 exceeds max_len 128 and has been truncated\n",
            "  warnings.warn(msg)\n",
            " 18%|█▊        | 4/22 [00:00<00:04,  4.28it/s]/usr/local/lib/python3.7/dist-packages/NERDA/preprocessing.py:80: UserWarning: Sentence #48 length 150 exceeds max_len 128 and has been truncated\n",
            "  warnings.warn(msg)\n",
            " 23%|██▎       | 5/22 [00:01<00:03,  4.36it/s]/usr/local/lib/python3.7/dist-packages/NERDA/preprocessing.py:80: UserWarning: Sentence #49 length 130 exceeds max_len 128 and has been truncated\n",
            "  warnings.warn(msg)\n",
            "/usr/local/lib/python3.7/dist-packages/NERDA/preprocessing.py:80: UserWarning: Sentence #50 length 174 exceeds max_len 128 and has been truncated\n",
            "  warnings.warn(msg)\n",
            "/usr/local/lib/python3.7/dist-packages/NERDA/preprocessing.py:80: UserWarning: Sentence #53 length 233 exceeds max_len 128 and has been truncated\n",
            "  warnings.warn(msg)\n",
            "/usr/local/lib/python3.7/dist-packages/NERDA/preprocessing.py:80: UserWarning: Sentence #54 length 149 exceeds max_len 128 and has been truncated\n",
            "  warnings.warn(msg)\n",
            " 32%|███▏      | 7/22 [00:01<00:03,  4.52it/s]/usr/local/lib/python3.7/dist-packages/NERDA/preprocessing.py:80: UserWarning: Sentence #68 length 132 exceeds max_len 128 and has been truncated\n",
            "  warnings.warn(msg)\n",
            " 41%|████      | 9/22 [00:02<00:02,  4.55it/s]/usr/local/lib/python3.7/dist-packages/NERDA/preprocessing.py:80: UserWarning: Sentence #77 length 171 exceeds max_len 128 and has been truncated\n",
            "  warnings.warn(msg)\n",
            " 45%|████▌     | 10/22 [00:02<00:02,  4.49it/s]/usr/local/lib/python3.7/dist-packages/NERDA/preprocessing.py:80: UserWarning: Sentence #87 length 128 exceeds max_len 128 and has been truncated\n",
            "  warnings.warn(msg)\n",
            " 59%|█████▉    | 13/22 [00:02<00:02,  4.49it/s]/usr/local/lib/python3.7/dist-packages/NERDA/preprocessing.py:80: UserWarning: Sentence #107 length 127 exceeds max_len 128 and has been truncated\n",
            "  warnings.warn(msg)\n",
            "100%|██████████| 22/22 [00:04<00:00,  4.42it/s]\n",
            "  0%|          | 0/6 [00:00<?, ?it/s]/usr/local/lib/python3.7/dist-packages/NERDA/preprocessing.py:80: UserWarning: Sentence #6 length 327 exceeds max_len 128 and has been truncated\n",
            "  warnings.warn(msg)\n",
            "/usr/local/lib/python3.7/dist-packages/NERDA/preprocessing.py:80: UserWarning: Sentence #16 length 132 exceeds max_len 128 and has been truncated\n",
            "  warnings.warn(msg)\n",
            "100%|██████████| 6/6 [00:00<00:00, 10.89it/s]\n"
          ]
        },
        {
          "output_type": "stream",
          "name": "stdout",
          "text": [
            "Train Loss = 0.6139108308336951 Valid Loss = 0.7882206290960312\n",
            "\n",
            " Epoch 5 / 11\n"
          ]
        },
        {
          "output_type": "stream",
          "name": "stderr",
          "text": [
            "\r  0%|          | 0/22 [00:00<?, ?it/s]/usr/local/lib/python3.7/dist-packages/NERDA/preprocessing.py:80: UserWarning: Sentence #6 length 262 exceeds max_len 128 and has been truncated\n",
            "  warnings.warn(msg)\n",
            "/usr/local/lib/python3.7/dist-packages/NERDA/preprocessing.py:80: UserWarning: Sentence #14 length 152 exceeds max_len 128 and has been truncated\n",
            "  warnings.warn(msg)\n",
            " 18%|█▊        | 4/22 [00:01<00:04,  4.23it/s]/usr/local/lib/python3.7/dist-packages/NERDA/preprocessing.py:80: UserWarning: Sentence #48 length 150 exceeds max_len 128 and has been truncated\n",
            "  warnings.warn(msg)\n",
            " 23%|██▎       | 5/22 [00:01<00:04,  4.20it/s]/usr/local/lib/python3.7/dist-packages/NERDA/preprocessing.py:80: UserWarning: Sentence #49 length 130 exceeds max_len 128 and has been truncated\n",
            "  warnings.warn(msg)\n",
            "/usr/local/lib/python3.7/dist-packages/NERDA/preprocessing.py:80: UserWarning: Sentence #50 length 174 exceeds max_len 128 and has been truncated\n",
            "  warnings.warn(msg)\n",
            "/usr/local/lib/python3.7/dist-packages/NERDA/preprocessing.py:80: UserWarning: Sentence #53 length 233 exceeds max_len 128 and has been truncated\n",
            "  warnings.warn(msg)\n",
            "/usr/local/lib/python3.7/dist-packages/NERDA/preprocessing.py:80: UserWarning: Sentence #54 length 149 exceeds max_len 128 and has been truncated\n",
            "  warnings.warn(msg)\n",
            " 32%|███▏      | 7/22 [00:01<00:03,  3.77it/s]/usr/local/lib/python3.7/dist-packages/NERDA/preprocessing.py:80: UserWarning: Sentence #68 length 132 exceeds max_len 128 and has been truncated\n",
            "  warnings.warn(msg)\n",
            " 41%|████      | 9/22 [00:02<00:03,  4.09it/s]/usr/local/lib/python3.7/dist-packages/NERDA/preprocessing.py:80: UserWarning: Sentence #77 length 171 exceeds max_len 128 and has been truncated\n",
            "  warnings.warn(msg)\n",
            " 45%|████▌     | 10/22 [00:02<00:02,  4.16it/s]/usr/local/lib/python3.7/dist-packages/NERDA/preprocessing.py:80: UserWarning: Sentence #87 length 128 exceeds max_len 128 and has been truncated\n",
            "  warnings.warn(msg)\n",
            " 59%|█████▉    | 13/22 [00:03<00:02,  4.17it/s]/usr/local/lib/python3.7/dist-packages/NERDA/preprocessing.py:80: UserWarning: Sentence #107 length 127 exceeds max_len 128 and has been truncated\n",
            "  warnings.warn(msg)\n",
            "100%|██████████| 22/22 [00:05<00:00,  4.19it/s]\n",
            "  0%|          | 0/6 [00:00<?, ?it/s]/usr/local/lib/python3.7/dist-packages/NERDA/preprocessing.py:80: UserWarning: Sentence #6 length 327 exceeds max_len 128 and has been truncated\n",
            "  warnings.warn(msg)\n",
            "/usr/local/lib/python3.7/dist-packages/NERDA/preprocessing.py:80: UserWarning: Sentence #16 length 132 exceeds max_len 128 and has been truncated\n",
            "  warnings.warn(msg)\n",
            "100%|██████████| 6/6 [00:00<00:00, 10.71it/s]\n"
          ]
        },
        {
          "output_type": "stream",
          "name": "stdout",
          "text": [
            "Train Loss = 0.4776686037128622 Valid Loss = 0.7763328229387602\n",
            "\n",
            " Epoch 6 / 11\n"
          ]
        },
        {
          "output_type": "stream",
          "name": "stderr",
          "text": [
            "\r  0%|          | 0/22 [00:00<?, ?it/s]/usr/local/lib/python3.7/dist-packages/NERDA/preprocessing.py:80: UserWarning: Sentence #6 length 262 exceeds max_len 128 and has been truncated\n",
            "  warnings.warn(msg)\n",
            "/usr/local/lib/python3.7/dist-packages/NERDA/preprocessing.py:80: UserWarning: Sentence #14 length 152 exceeds max_len 128 and has been truncated\n",
            "  warnings.warn(msg)\n",
            " 18%|█▊        | 4/22 [00:01<00:04,  4.15it/s]/usr/local/lib/python3.7/dist-packages/NERDA/preprocessing.py:80: UserWarning: Sentence #48 length 150 exceeds max_len 128 and has been truncated\n",
            "  warnings.warn(msg)\n",
            " 23%|██▎       | 5/22 [00:01<00:03,  4.26it/s]/usr/local/lib/python3.7/dist-packages/NERDA/preprocessing.py:80: UserWarning: Sentence #49 length 130 exceeds max_len 128 and has been truncated\n",
            "  warnings.warn(msg)\n",
            "/usr/local/lib/python3.7/dist-packages/NERDA/preprocessing.py:80: UserWarning: Sentence #50 length 174 exceeds max_len 128 and has been truncated\n",
            "  warnings.warn(msg)\n",
            "/usr/local/lib/python3.7/dist-packages/NERDA/preprocessing.py:80: UserWarning: Sentence #53 length 233 exceeds max_len 128 and has been truncated\n",
            "  warnings.warn(msg)\n",
            "/usr/local/lib/python3.7/dist-packages/NERDA/preprocessing.py:80: UserWarning: Sentence #54 length 149 exceeds max_len 128 and has been truncated\n",
            "  warnings.warn(msg)\n",
            " 32%|███▏      | 7/22 [00:01<00:03,  4.42it/s]/usr/local/lib/python3.7/dist-packages/NERDA/preprocessing.py:80: UserWarning: Sentence #68 length 132 exceeds max_len 128 and has been truncated\n",
            "  warnings.warn(msg)\n",
            " 41%|████      | 9/22 [00:02<00:02,  4.46it/s]/usr/local/lib/python3.7/dist-packages/NERDA/preprocessing.py:80: UserWarning: Sentence #77 length 171 exceeds max_len 128 and has been truncated\n",
            "  warnings.warn(msg)\n",
            " 45%|████▌     | 10/22 [00:02<00:02,  4.42it/s]/usr/local/lib/python3.7/dist-packages/NERDA/preprocessing.py:80: UserWarning: Sentence #87 length 128 exceeds max_len 128 and has been truncated\n",
            "  warnings.warn(msg)\n",
            " 59%|█████▉    | 13/22 [00:03<00:02,  4.42it/s]/usr/local/lib/python3.7/dist-packages/NERDA/preprocessing.py:80: UserWarning: Sentence #107 length 127 exceeds max_len 128 and has been truncated\n",
            "  warnings.warn(msg)\n",
            "100%|██████████| 22/22 [00:05<00:00,  4.35it/s]\n",
            "  0%|          | 0/6 [00:00<?, ?it/s]/usr/local/lib/python3.7/dist-packages/NERDA/preprocessing.py:80: UserWarning: Sentence #6 length 327 exceeds max_len 128 and has been truncated\n",
            "  warnings.warn(msg)\n",
            "/usr/local/lib/python3.7/dist-packages/NERDA/preprocessing.py:80: UserWarning: Sentence #16 length 132 exceeds max_len 128 and has been truncated\n",
            "  warnings.warn(msg)\n",
            "100%|██████████| 6/6 [00:00<00:00, 10.54it/s]\n"
          ]
        },
        {
          "output_type": "stream",
          "name": "stdout",
          "text": [
            "Train Loss = 0.383034075525674 Valid Loss = 0.8691872507333755\n",
            "\n",
            " Epoch 7 / 11\n"
          ]
        },
        {
          "output_type": "stream",
          "name": "stderr",
          "text": [
            "\r  0%|          | 0/22 [00:00<?, ?it/s]/usr/local/lib/python3.7/dist-packages/NERDA/preprocessing.py:80: UserWarning: Sentence #6 length 262 exceeds max_len 128 and has been truncated\n",
            "  warnings.warn(msg)\n",
            "/usr/local/lib/python3.7/dist-packages/NERDA/preprocessing.py:80: UserWarning: Sentence #14 length 152 exceeds max_len 128 and has been truncated\n",
            "  warnings.warn(msg)\n",
            " 18%|█▊        | 4/22 [00:01<00:04,  4.20it/s]/usr/local/lib/python3.7/dist-packages/NERDA/preprocessing.py:80: UserWarning: Sentence #48 length 150 exceeds max_len 128 and has been truncated\n",
            "  warnings.warn(msg)\n",
            " 23%|██▎       | 5/22 [00:01<00:03,  4.27it/s]/usr/local/lib/python3.7/dist-packages/NERDA/preprocessing.py:80: UserWarning: Sentence #49 length 130 exceeds max_len 128 and has been truncated\n",
            "  warnings.warn(msg)\n",
            "/usr/local/lib/python3.7/dist-packages/NERDA/preprocessing.py:80: UserWarning: Sentence #50 length 174 exceeds max_len 128 and has been truncated\n",
            "  warnings.warn(msg)\n",
            "/usr/local/lib/python3.7/dist-packages/NERDA/preprocessing.py:80: UserWarning: Sentence #53 length 233 exceeds max_len 128 and has been truncated\n",
            "  warnings.warn(msg)\n",
            "/usr/local/lib/python3.7/dist-packages/NERDA/preprocessing.py:80: UserWarning: Sentence #54 length 149 exceeds max_len 128 and has been truncated\n",
            "  warnings.warn(msg)\n",
            " 32%|███▏      | 7/22 [00:01<00:03,  4.39it/s]/usr/local/lib/python3.7/dist-packages/NERDA/preprocessing.py:80: UserWarning: Sentence #68 length 132 exceeds max_len 128 and has been truncated\n",
            "  warnings.warn(msg)\n",
            " 41%|████      | 9/22 [00:02<00:02,  4.40it/s]/usr/local/lib/python3.7/dist-packages/NERDA/preprocessing.py:80: UserWarning: Sentence #77 length 171 exceeds max_len 128 and has been truncated\n",
            "  warnings.warn(msg)\n",
            " 45%|████▌     | 10/22 [00:02<00:02,  4.39it/s]/usr/local/lib/python3.7/dist-packages/NERDA/preprocessing.py:80: UserWarning: Sentence #87 length 128 exceeds max_len 128 and has been truncated\n",
            "  warnings.warn(msg)\n",
            " 59%|█████▉    | 13/22 [00:03<00:02,  4.50it/s]/usr/local/lib/python3.7/dist-packages/NERDA/preprocessing.py:80: UserWarning: Sentence #107 length 127 exceeds max_len 128 and has been truncated\n",
            "  warnings.warn(msg)\n",
            "100%|██████████| 22/22 [00:05<00:00,  4.36it/s]\n",
            "  0%|          | 0/6 [00:00<?, ?it/s]/usr/local/lib/python3.7/dist-packages/NERDA/preprocessing.py:80: UserWarning: Sentence #6 length 327 exceeds max_len 128 and has been truncated\n",
            "  warnings.warn(msg)\n",
            "/usr/local/lib/python3.7/dist-packages/NERDA/preprocessing.py:80: UserWarning: Sentence #16 length 132 exceeds max_len 128 and has been truncated\n",
            "  warnings.warn(msg)\n",
            "100%|██████████| 6/6 [00:00<00:00, 10.63it/s]\n"
          ]
        },
        {
          "output_type": "stream",
          "name": "stdout",
          "text": [
            "Train Loss = 0.4673049429600889 Valid Loss = 0.9175685991843542\n",
            "\n",
            " Epoch 8 / 11\n"
          ]
        },
        {
          "output_type": "stream",
          "name": "stderr",
          "text": [
            "\r  0%|          | 0/22 [00:00<?, ?it/s]/usr/local/lib/python3.7/dist-packages/NERDA/preprocessing.py:80: UserWarning: Sentence #6 length 262 exceeds max_len 128 and has been truncated\n",
            "  warnings.warn(msg)\n",
            "/usr/local/lib/python3.7/dist-packages/NERDA/preprocessing.py:80: UserWarning: Sentence #14 length 152 exceeds max_len 128 and has been truncated\n",
            "  warnings.warn(msg)\n",
            " 18%|█▊        | 4/22 [00:01<00:04,  4.20it/s]/usr/local/lib/python3.7/dist-packages/NERDA/preprocessing.py:80: UserWarning: Sentence #48 length 150 exceeds max_len 128 and has been truncated\n",
            "  warnings.warn(msg)\n",
            " 23%|██▎       | 5/22 [00:01<00:03,  4.32it/s]/usr/local/lib/python3.7/dist-packages/NERDA/preprocessing.py:80: UserWarning: Sentence #49 length 130 exceeds max_len 128 and has been truncated\n",
            "  warnings.warn(msg)\n",
            "/usr/local/lib/python3.7/dist-packages/NERDA/preprocessing.py:80: UserWarning: Sentence #50 length 174 exceeds max_len 128 and has been truncated\n",
            "  warnings.warn(msg)\n",
            "/usr/local/lib/python3.7/dist-packages/NERDA/preprocessing.py:80: UserWarning: Sentence #53 length 233 exceeds max_len 128 and has been truncated\n",
            "  warnings.warn(msg)\n",
            "/usr/local/lib/python3.7/dist-packages/NERDA/preprocessing.py:80: UserWarning: Sentence #54 length 149 exceeds max_len 128 and has been truncated\n",
            "  warnings.warn(msg)\n",
            " 32%|███▏      | 7/22 [00:01<00:03,  4.38it/s]/usr/local/lib/python3.7/dist-packages/NERDA/preprocessing.py:80: UserWarning: Sentence #68 length 132 exceeds max_len 128 and has been truncated\n",
            "  warnings.warn(msg)\n",
            " 41%|████      | 9/22 [00:02<00:02,  4.42it/s]/usr/local/lib/python3.7/dist-packages/NERDA/preprocessing.py:80: UserWarning: Sentence #77 length 171 exceeds max_len 128 and has been truncated\n",
            "  warnings.warn(msg)\n",
            " 45%|████▌     | 10/22 [00:02<00:02,  4.38it/s]/usr/local/lib/python3.7/dist-packages/NERDA/preprocessing.py:80: UserWarning: Sentence #87 length 128 exceeds max_len 128 and has been truncated\n",
            "  warnings.warn(msg)\n",
            " 59%|█████▉    | 13/22 [00:03<00:02,  4.45it/s]/usr/local/lib/python3.7/dist-packages/NERDA/preprocessing.py:80: UserWarning: Sentence #107 length 127 exceeds max_len 128 and has been truncated\n",
            "  warnings.warn(msg)\n",
            "100%|██████████| 22/22 [00:05<00:00,  4.33it/s]\n",
            "  0%|          | 0/6 [00:00<?, ?it/s]/usr/local/lib/python3.7/dist-packages/NERDA/preprocessing.py:80: UserWarning: Sentence #6 length 327 exceeds max_len 128 and has been truncated\n",
            "  warnings.warn(msg)\n",
            "/usr/local/lib/python3.7/dist-packages/NERDA/preprocessing.py:80: UserWarning: Sentence #16 length 132 exceeds max_len 128 and has been truncated\n",
            "  warnings.warn(msg)\n",
            "100%|██████████| 6/6 [00:00<00:00, 10.66it/s]\n"
          ]
        },
        {
          "output_type": "stream",
          "name": "stdout",
          "text": [
            "Train Loss = 0.42304266176440497 Valid Loss = 0.7840825716654459\n",
            "\n",
            " Epoch 9 / 11\n"
          ]
        },
        {
          "output_type": "stream",
          "name": "stderr",
          "text": [
            "\r  0%|          | 0/22 [00:00<?, ?it/s]/usr/local/lib/python3.7/dist-packages/NERDA/preprocessing.py:80: UserWarning: Sentence #6 length 262 exceeds max_len 128 and has been truncated\n",
            "  warnings.warn(msg)\n",
            "/usr/local/lib/python3.7/dist-packages/NERDA/preprocessing.py:80: UserWarning: Sentence #14 length 152 exceeds max_len 128 and has been truncated\n",
            "  warnings.warn(msg)\n",
            " 18%|█▊        | 4/22 [00:01<00:04,  4.23it/s]/usr/local/lib/python3.7/dist-packages/NERDA/preprocessing.py:80: UserWarning: Sentence #48 length 150 exceeds max_len 128 and has been truncated\n",
            "  warnings.warn(msg)\n",
            " 23%|██▎       | 5/22 [00:01<00:03,  4.31it/s]/usr/local/lib/python3.7/dist-packages/NERDA/preprocessing.py:80: UserWarning: Sentence #49 length 130 exceeds max_len 128 and has been truncated\n",
            "  warnings.warn(msg)\n",
            "/usr/local/lib/python3.7/dist-packages/NERDA/preprocessing.py:80: UserWarning: Sentence #50 length 174 exceeds max_len 128 and has been truncated\n",
            "  warnings.warn(msg)\n",
            "/usr/local/lib/python3.7/dist-packages/NERDA/preprocessing.py:80: UserWarning: Sentence #53 length 233 exceeds max_len 128 and has been truncated\n",
            "  warnings.warn(msg)\n",
            "/usr/local/lib/python3.7/dist-packages/NERDA/preprocessing.py:80: UserWarning: Sentence #54 length 149 exceeds max_len 128 and has been truncated\n",
            "  warnings.warn(msg)\n",
            " 32%|███▏      | 7/22 [00:01<00:03,  4.37it/s]/usr/local/lib/python3.7/dist-packages/NERDA/preprocessing.py:80: UserWarning: Sentence #68 length 132 exceeds max_len 128 and has been truncated\n",
            "  warnings.warn(msg)\n",
            " 41%|████      | 9/22 [00:02<00:02,  4.41it/s]/usr/local/lib/python3.7/dist-packages/NERDA/preprocessing.py:80: UserWarning: Sentence #77 length 171 exceeds max_len 128 and has been truncated\n",
            "  warnings.warn(msg)\n",
            " 45%|████▌     | 10/22 [00:02<00:02,  4.45it/s]/usr/local/lib/python3.7/dist-packages/NERDA/preprocessing.py:80: UserWarning: Sentence #87 length 128 exceeds max_len 128 and has been truncated\n",
            "  warnings.warn(msg)\n",
            " 59%|█████▉    | 13/22 [00:03<00:01,  4.51it/s]/usr/local/lib/python3.7/dist-packages/NERDA/preprocessing.py:80: UserWarning: Sentence #107 length 127 exceeds max_len 128 and has been truncated\n",
            "  warnings.warn(msg)\n",
            "100%|██████████| 22/22 [00:05<00:00,  4.39it/s]\n",
            "  0%|          | 0/6 [00:00<?, ?it/s]/usr/local/lib/python3.7/dist-packages/NERDA/preprocessing.py:80: UserWarning: Sentence #6 length 327 exceeds max_len 128 and has been truncated\n",
            "  warnings.warn(msg)\n",
            "/usr/local/lib/python3.7/dist-packages/NERDA/preprocessing.py:80: UserWarning: Sentence #16 length 132 exceeds max_len 128 and has been truncated\n",
            "  warnings.warn(msg)\n",
            "100%|██████████| 6/6 [00:00<00:00, 10.48it/s]\n"
          ]
        },
        {
          "output_type": "stream",
          "name": "stdout",
          "text": [
            "Train Loss = 0.34294006567109714 Valid Loss = 0.9376772294441859\n",
            "\n",
            " Epoch 10 / 11\n"
          ]
        },
        {
          "output_type": "stream",
          "name": "stderr",
          "text": [
            "\r  0%|          | 0/22 [00:00<?, ?it/s]/usr/local/lib/python3.7/dist-packages/NERDA/preprocessing.py:80: UserWarning: Sentence #6 length 262 exceeds max_len 128 and has been truncated\n",
            "  warnings.warn(msg)\n",
            "/usr/local/lib/python3.7/dist-packages/NERDA/preprocessing.py:80: UserWarning: Sentence #14 length 152 exceeds max_len 128 and has been truncated\n",
            "  warnings.warn(msg)\n",
            " 18%|█▊        | 4/22 [00:00<00:04,  4.29it/s]/usr/local/lib/python3.7/dist-packages/NERDA/preprocessing.py:80: UserWarning: Sentence #48 length 150 exceeds max_len 128 and has been truncated\n",
            "  warnings.warn(msg)\n",
            " 23%|██▎       | 5/22 [00:01<00:03,  4.34it/s]/usr/local/lib/python3.7/dist-packages/NERDA/preprocessing.py:80: UserWarning: Sentence #49 length 130 exceeds max_len 128 and has been truncated\n",
            "  warnings.warn(msg)\n",
            "/usr/local/lib/python3.7/dist-packages/NERDA/preprocessing.py:80: UserWarning: Sentence #50 length 174 exceeds max_len 128 and has been truncated\n",
            "  warnings.warn(msg)\n",
            "/usr/local/lib/python3.7/dist-packages/NERDA/preprocessing.py:80: UserWarning: Sentence #53 length 233 exceeds max_len 128 and has been truncated\n",
            "  warnings.warn(msg)\n",
            "/usr/local/lib/python3.7/dist-packages/NERDA/preprocessing.py:80: UserWarning: Sentence #54 length 149 exceeds max_len 128 and has been truncated\n",
            "  warnings.warn(msg)\n",
            " 32%|███▏      | 7/22 [00:01<00:03,  4.39it/s]/usr/local/lib/python3.7/dist-packages/NERDA/preprocessing.py:80: UserWarning: Sentence #68 length 132 exceeds max_len 128 and has been truncated\n",
            "  warnings.warn(msg)\n",
            " 41%|████      | 9/22 [00:02<00:02,  4.41it/s]/usr/local/lib/python3.7/dist-packages/NERDA/preprocessing.py:80: UserWarning: Sentence #77 length 171 exceeds max_len 128 and has been truncated\n",
            "  warnings.warn(msg)\n",
            " 45%|████▌     | 10/22 [00:02<00:02,  4.45it/s]/usr/local/lib/python3.7/dist-packages/NERDA/preprocessing.py:80: UserWarning: Sentence #87 length 128 exceeds max_len 128 and has been truncated\n",
            "  warnings.warn(msg)\n",
            " 59%|█████▉    | 13/22 [00:02<00:01,  4.52it/s]/usr/local/lib/python3.7/dist-packages/NERDA/preprocessing.py:80: UserWarning: Sentence #107 length 127 exceeds max_len 128 and has been truncated\n",
            "  warnings.warn(msg)\n",
            "100%|██████████| 22/22 [00:05<00:00,  4.23it/s]\n",
            "  0%|          | 0/6 [00:00<?, ?it/s]/usr/local/lib/python3.7/dist-packages/NERDA/preprocessing.py:80: UserWarning: Sentence #6 length 327 exceeds max_len 128 and has been truncated\n",
            "  warnings.warn(msg)\n",
            "/usr/local/lib/python3.7/dist-packages/NERDA/preprocessing.py:80: UserWarning: Sentence #16 length 132 exceeds max_len 128 and has been truncated\n",
            "  warnings.warn(msg)\n",
            "100%|██████████| 6/6 [00:00<00:00,  8.62it/s]\n"
          ]
        },
        {
          "output_type": "stream",
          "name": "stdout",
          "text": [
            "Train Loss = 0.33523210273547605 Valid Loss = 0.8582185804843903\n",
            "\n",
            " Epoch 11 / 11\n"
          ]
        },
        {
          "output_type": "stream",
          "name": "stderr",
          "text": [
            "\r  0%|          | 0/22 [00:00<?, ?it/s]/usr/local/lib/python3.7/dist-packages/NERDA/preprocessing.py:80: UserWarning: Sentence #6 length 262 exceeds max_len 128 and has been truncated\n",
            "  warnings.warn(msg)\n",
            "/usr/local/lib/python3.7/dist-packages/NERDA/preprocessing.py:80: UserWarning: Sentence #14 length 152 exceeds max_len 128 and has been truncated\n",
            "  warnings.warn(msg)\n",
            " 18%|█▊        | 4/22 [00:01<00:04,  4.23it/s]/usr/local/lib/python3.7/dist-packages/NERDA/preprocessing.py:80: UserWarning: Sentence #48 length 150 exceeds max_len 128 and has been truncated\n",
            "  warnings.warn(msg)\n",
            " 23%|██▎       | 5/22 [00:01<00:03,  4.33it/s]/usr/local/lib/python3.7/dist-packages/NERDA/preprocessing.py:80: UserWarning: Sentence #49 length 130 exceeds max_len 128 and has been truncated\n",
            "  warnings.warn(msg)\n",
            "/usr/local/lib/python3.7/dist-packages/NERDA/preprocessing.py:80: UserWarning: Sentence #50 length 174 exceeds max_len 128 and has been truncated\n",
            "  warnings.warn(msg)\n",
            "/usr/local/lib/python3.7/dist-packages/NERDA/preprocessing.py:80: UserWarning: Sentence #53 length 233 exceeds max_len 128 and has been truncated\n",
            "  warnings.warn(msg)\n",
            "/usr/local/lib/python3.7/dist-packages/NERDA/preprocessing.py:80: UserWarning: Sentence #54 length 149 exceeds max_len 128 and has been truncated\n",
            "  warnings.warn(msg)\n",
            " 32%|███▏      | 7/22 [00:01<00:03,  4.39it/s]/usr/local/lib/python3.7/dist-packages/NERDA/preprocessing.py:80: UserWarning: Sentence #68 length 132 exceeds max_len 128 and has been truncated\n",
            "  warnings.warn(msg)\n",
            " 41%|████      | 9/22 [00:02<00:02,  4.48it/s]/usr/local/lib/python3.7/dist-packages/NERDA/preprocessing.py:80: UserWarning: Sentence #77 length 171 exceeds max_len 128 and has been truncated\n",
            "  warnings.warn(msg)\n",
            " 45%|████▌     | 10/22 [00:02<00:02,  4.42it/s]/usr/local/lib/python3.7/dist-packages/NERDA/preprocessing.py:80: UserWarning: Sentence #87 length 128 exceeds max_len 128 and has been truncated\n",
            "  warnings.warn(msg)\n",
            " 59%|█████▉    | 13/22 [00:02<00:01,  4.55it/s]/usr/local/lib/python3.7/dist-packages/NERDA/preprocessing.py:80: UserWarning: Sentence #107 length 127 exceeds max_len 128 and has been truncated\n",
            "  warnings.warn(msg)\n",
            "100%|██████████| 22/22 [00:04<00:00,  4.40it/s]\n",
            "  0%|          | 0/6 [00:00<?, ?it/s]/usr/local/lib/python3.7/dist-packages/NERDA/preprocessing.py:80: UserWarning: Sentence #6 length 327 exceeds max_len 128 and has been truncated\n",
            "  warnings.warn(msg)\n",
            "/usr/local/lib/python3.7/dist-packages/NERDA/preprocessing.py:80: UserWarning: Sentence #16 length 132 exceeds max_len 128 and has been truncated\n",
            "  warnings.warn(msg)\n",
            "100%|██████████| 6/6 [00:00<00:00, 10.69it/s]"
          ]
        },
        {
          "output_type": "stream",
          "name": "stdout",
          "text": [
            "Train Loss = 0.34386194903742184 Valid Loss = 0.8634689102570215\n"
          ]
        },
        {
          "output_type": "stream",
          "name": "stderr",
          "text": [
            "\n",
            "/usr/local/lib/python3.7/dist-packages/sklearn/metrics/_classification.py:1318: UndefinedMetricWarning: Precision and F-score are ill-defined and being set to 0.0 in labels with no predicted samples. Use `zero_division` parameter to control this behavior.\n",
            "  _warn_prf(average, modifier, msg_start, len(result))\n",
            "/usr/local/lib/python3.7/dist-packages/sklearn/metrics/_classification.py:1318: UndefinedMetricWarning: Precision and F-score are ill-defined and being set to 0.0 in labels with no predicted samples. Use `zero_division` parameter to control this behavior.\n",
            "  _warn_prf(average, modifier, msg_start, len(result))\n"
          ]
        },
        {
          "output_type": "stream",
          "name": "stdout",
          "text": [
            "Device automatically set to: cuda\n"
          ]
        },
        {
          "output_type": "stream",
          "name": "stderr",
          "text": [
            "Some weights of the model checkpoint at bert-base-multilingual-cased were not used when initializing BertModel: ['cls.predictions.bias', 'cls.predictions.transform.LayerNorm.bias', 'cls.predictions.transform.LayerNorm.weight', 'cls.seq_relationship.weight', 'cls.seq_relationship.bias', 'cls.predictions.decoder.weight', 'cls.predictions.transform.dense.bias', 'cls.predictions.transform.dense.weight']\n",
            "- This IS expected if you are initializing BertModel from the checkpoint of a model trained on another task or with another architecture (e.g. initializing a BertForSequenceClassification model from a BertForPreTraining model).\n",
            "- This IS NOT expected if you are initializing BertModel from the checkpoint of a model that you expect to be exactly identical (initializing a BertForSequenceClassification model from a BertForSequenceClassification model).\n",
            "/usr/local/lib/python3.7/dist-packages/transformers/optimization.py:309: FutureWarning: This implementation of AdamW is deprecated and will be removed in a future version. Use the PyTorch implementation torch.optim.AdamW instead, or set `no_deprecation_warning=True` to disable this warning\n",
            "  FutureWarning,\n"
          ]
        },
        {
          "output_type": "stream",
          "name": "stdout",
          "text": [
            "\n",
            " Epoch 1 / 11\n"
          ]
        },
        {
          "output_type": "stream",
          "name": "stderr",
          "text": [
            "\r  0%|          | 0/22 [00:00<?, ?it/s]/usr/local/lib/python3.7/dist-packages/NERDA/preprocessing.py:80: UserWarning: Sentence #6 length 262 exceeds max_len 128 and has been truncated\n",
            "  warnings.warn(msg)\n",
            "/usr/local/lib/python3.7/dist-packages/NERDA/preprocessing.py:80: UserWarning: Sentence #14 length 152 exceeds max_len 128 and has been truncated\n",
            "  warnings.warn(msg)\n",
            " 18%|█▊        | 4/22 [00:01<00:04,  4.17it/s]/usr/local/lib/python3.7/dist-packages/NERDA/preprocessing.py:80: UserWarning: Sentence #48 length 150 exceeds max_len 128 and has been truncated\n",
            "  warnings.warn(msg)\n",
            " 23%|██▎       | 5/22 [00:01<00:03,  4.29it/s]/usr/local/lib/python3.7/dist-packages/NERDA/preprocessing.py:80: UserWarning: Sentence #49 length 130 exceeds max_len 128 and has been truncated\n",
            "  warnings.warn(msg)\n",
            "/usr/local/lib/python3.7/dist-packages/NERDA/preprocessing.py:80: UserWarning: Sentence #50 length 174 exceeds max_len 128 and has been truncated\n",
            "  warnings.warn(msg)\n",
            "/usr/local/lib/python3.7/dist-packages/NERDA/preprocessing.py:80: UserWarning: Sentence #53 length 233 exceeds max_len 128 and has been truncated\n",
            "  warnings.warn(msg)\n",
            "/usr/local/lib/python3.7/dist-packages/NERDA/preprocessing.py:80: UserWarning: Sentence #54 length 149 exceeds max_len 128 and has been truncated\n",
            "  warnings.warn(msg)\n",
            " 32%|███▏      | 7/22 [00:01<00:03,  4.42it/s]/usr/local/lib/python3.7/dist-packages/NERDA/preprocessing.py:80: UserWarning: Sentence #68 length 132 exceeds max_len 128 and has been truncated\n",
            "  warnings.warn(msg)\n",
            " 41%|████      | 9/22 [00:02<00:02,  4.49it/s]/usr/local/lib/python3.7/dist-packages/NERDA/preprocessing.py:80: UserWarning: Sentence #77 length 171 exceeds max_len 128 and has been truncated\n",
            "  warnings.warn(msg)\n",
            " 45%|████▌     | 10/22 [00:02<00:02,  4.50it/s]/usr/local/lib/python3.7/dist-packages/NERDA/preprocessing.py:80: UserWarning: Sentence #87 length 128 exceeds max_len 128 and has been truncated\n",
            "  warnings.warn(msg)\n",
            " 59%|█████▉    | 13/22 [00:03<00:02,  4.47it/s]/usr/local/lib/python3.7/dist-packages/NERDA/preprocessing.py:80: UserWarning: Sentence #107 length 127 exceeds max_len 128 and has been truncated\n",
            "  warnings.warn(msg)\n",
            "100%|██████████| 22/22 [00:05<00:00,  4.39it/s]\n",
            "  0%|          | 0/6 [00:00<?, ?it/s]/usr/local/lib/python3.7/dist-packages/NERDA/preprocessing.py:80: UserWarning: Sentence #6 length 327 exceeds max_len 128 and has been truncated\n",
            "  warnings.warn(msg)\n",
            "/usr/local/lib/python3.7/dist-packages/NERDA/preprocessing.py:80: UserWarning: Sentence #16 length 132 exceeds max_len 128 and has been truncated\n",
            "  warnings.warn(msg)\n",
            "100%|██████████| 6/6 [00:00<00:00, 10.61it/s]\n"
          ]
        },
        {
          "output_type": "stream",
          "name": "stdout",
          "text": [
            "Train Loss = 0.8873694213953885 Valid Loss = 0.8354399700959524\n",
            "\n",
            " Epoch 2 / 11\n"
          ]
        },
        {
          "output_type": "stream",
          "name": "stderr",
          "text": [
            "\r  0%|          | 0/22 [00:00<?, ?it/s]/usr/local/lib/python3.7/dist-packages/NERDA/preprocessing.py:80: UserWarning: Sentence #6 length 262 exceeds max_len 128 and has been truncated\n",
            "  warnings.warn(msg)\n",
            "/usr/local/lib/python3.7/dist-packages/NERDA/preprocessing.py:80: UserWarning: Sentence #14 length 152 exceeds max_len 128 and has been truncated\n",
            "  warnings.warn(msg)\n",
            " 18%|█▊        | 4/22 [00:00<00:04,  4.31it/s]/usr/local/lib/python3.7/dist-packages/NERDA/preprocessing.py:80: UserWarning: Sentence #48 length 150 exceeds max_len 128 and has been truncated\n",
            "  warnings.warn(msg)\n",
            " 23%|██▎       | 5/22 [00:01<00:03,  4.36it/s]/usr/local/lib/python3.7/dist-packages/NERDA/preprocessing.py:80: UserWarning: Sentence #49 length 130 exceeds max_len 128 and has been truncated\n",
            "  warnings.warn(msg)\n",
            "/usr/local/lib/python3.7/dist-packages/NERDA/preprocessing.py:80: UserWarning: Sentence #50 length 174 exceeds max_len 128 and has been truncated\n",
            "  warnings.warn(msg)\n",
            "/usr/local/lib/python3.7/dist-packages/NERDA/preprocessing.py:80: UserWarning: Sentence #53 length 233 exceeds max_len 128 and has been truncated\n",
            "  warnings.warn(msg)\n",
            "/usr/local/lib/python3.7/dist-packages/NERDA/preprocessing.py:80: UserWarning: Sentence #54 length 149 exceeds max_len 128 and has been truncated\n",
            "  warnings.warn(msg)\n",
            " 32%|███▏      | 7/22 [00:01<00:03,  4.52it/s]/usr/local/lib/python3.7/dist-packages/NERDA/preprocessing.py:80: UserWarning: Sentence #68 length 132 exceeds max_len 128 and has been truncated\n",
            "  warnings.warn(msg)\n",
            " 41%|████      | 9/22 [00:02<00:02,  4.50it/s]/usr/local/lib/python3.7/dist-packages/NERDA/preprocessing.py:80: UserWarning: Sentence #77 length 171 exceeds max_len 128 and has been truncated\n",
            "  warnings.warn(msg)\n",
            " 45%|████▌     | 10/22 [00:02<00:02,  4.48it/s]/usr/local/lib/python3.7/dist-packages/NERDA/preprocessing.py:80: UserWarning: Sentence #87 length 128 exceeds max_len 128 and has been truncated\n",
            "  warnings.warn(msg)\n",
            " 59%|█████▉    | 13/22 [00:02<00:01,  4.54it/s]/usr/local/lib/python3.7/dist-packages/NERDA/preprocessing.py:80: UserWarning: Sentence #107 length 127 exceeds max_len 128 and has been truncated\n",
            "  warnings.warn(msg)\n",
            "100%|██████████| 22/22 [00:04<00:00,  4.46it/s]\n",
            "  0%|          | 0/6 [00:00<?, ?it/s]/usr/local/lib/python3.7/dist-packages/NERDA/preprocessing.py:80: UserWarning: Sentence #6 length 327 exceeds max_len 128 and has been truncated\n",
            "  warnings.warn(msg)\n",
            "/usr/local/lib/python3.7/dist-packages/NERDA/preprocessing.py:80: UserWarning: Sentence #16 length 132 exceeds max_len 128 and has been truncated\n",
            "  warnings.warn(msg)\n",
            "100%|██████████| 6/6 [00:00<00:00, 10.46it/s]\n"
          ]
        },
        {
          "output_type": "stream",
          "name": "stdout",
          "text": [
            "Train Loss = 0.6983469142155214 Valid Loss = 0.7304823249578476\n",
            "\n",
            " Epoch 3 / 11\n"
          ]
        },
        {
          "output_type": "stream",
          "name": "stderr",
          "text": [
            "\r  0%|          | 0/22 [00:00<?, ?it/s]/usr/local/lib/python3.7/dist-packages/NERDA/preprocessing.py:80: UserWarning: Sentence #6 length 262 exceeds max_len 128 and has been truncated\n",
            "  warnings.warn(msg)\n",
            "/usr/local/lib/python3.7/dist-packages/NERDA/preprocessing.py:80: UserWarning: Sentence #14 length 152 exceeds max_len 128 and has been truncated\n",
            "  warnings.warn(msg)\n",
            " 18%|█▊        | 4/22 [00:01<00:04,  4.25it/s]/usr/local/lib/python3.7/dist-packages/NERDA/preprocessing.py:80: UserWarning: Sentence #48 length 150 exceeds max_len 128 and has been truncated\n",
            "  warnings.warn(msg)\n",
            " 23%|██▎       | 5/22 [00:01<00:03,  4.32it/s]/usr/local/lib/python3.7/dist-packages/NERDA/preprocessing.py:80: UserWarning: Sentence #49 length 130 exceeds max_len 128 and has been truncated\n",
            "  warnings.warn(msg)\n",
            "/usr/local/lib/python3.7/dist-packages/NERDA/preprocessing.py:80: UserWarning: Sentence #50 length 174 exceeds max_len 128 and has been truncated\n",
            "  warnings.warn(msg)\n",
            "/usr/local/lib/python3.7/dist-packages/NERDA/preprocessing.py:80: UserWarning: Sentence #53 length 233 exceeds max_len 128 and has been truncated\n",
            "  warnings.warn(msg)\n",
            "/usr/local/lib/python3.7/dist-packages/NERDA/preprocessing.py:80: UserWarning: Sentence #54 length 149 exceeds max_len 128 and has been truncated\n",
            "  warnings.warn(msg)\n",
            " 32%|███▏      | 7/22 [00:01<00:03,  4.44it/s]/usr/local/lib/python3.7/dist-packages/NERDA/preprocessing.py:80: UserWarning: Sentence #68 length 132 exceeds max_len 128 and has been truncated\n",
            "  warnings.warn(msg)\n",
            " 41%|████      | 9/22 [00:02<00:02,  4.46it/s]/usr/local/lib/python3.7/dist-packages/NERDA/preprocessing.py:80: UserWarning: Sentence #77 length 171 exceeds max_len 128 and has been truncated\n",
            "  warnings.warn(msg)\n",
            " 45%|████▌     | 10/22 [00:02<00:02,  4.48it/s]/usr/local/lib/python3.7/dist-packages/NERDA/preprocessing.py:80: UserWarning: Sentence #87 length 128 exceeds max_len 128 and has been truncated\n",
            "  warnings.warn(msg)\n",
            " 59%|█████▉    | 13/22 [00:02<00:01,  4.53it/s]/usr/local/lib/python3.7/dist-packages/NERDA/preprocessing.py:80: UserWarning: Sentence #107 length 127 exceeds max_len 128 and has been truncated\n",
            "  warnings.warn(msg)\n",
            "100%|██████████| 22/22 [00:05<00:00,  4.31it/s]\n",
            "  0%|          | 0/6 [00:00<?, ?it/s]/usr/local/lib/python3.7/dist-packages/NERDA/preprocessing.py:80: UserWarning: Sentence #6 length 327 exceeds max_len 128 and has been truncated\n",
            "  warnings.warn(msg)\n",
            "/usr/local/lib/python3.7/dist-packages/NERDA/preprocessing.py:80: UserWarning: Sentence #16 length 132 exceeds max_len 128 and has been truncated\n",
            "  warnings.warn(msg)\n",
            "100%|██████████| 6/6 [00:00<00:00,  8.11it/s]\n"
          ]
        },
        {
          "output_type": "stream",
          "name": "stdout",
          "text": [
            "Train Loss = 0.5258654559200461 Valid Loss = 0.8511936689416567\n",
            "\n",
            " Epoch 4 / 11\n"
          ]
        },
        {
          "output_type": "stream",
          "name": "stderr",
          "text": [
            "\r  0%|          | 0/22 [00:00<?, ?it/s]/usr/local/lib/python3.7/dist-packages/NERDA/preprocessing.py:80: UserWarning: Sentence #6 length 262 exceeds max_len 128 and has been truncated\n",
            "  warnings.warn(msg)\n",
            "/usr/local/lib/python3.7/dist-packages/NERDA/preprocessing.py:80: UserWarning: Sentence #14 length 152 exceeds max_len 128 and has been truncated\n",
            "  warnings.warn(msg)\n",
            " 18%|█▊        | 4/22 [00:01<00:04,  4.01it/s]/usr/local/lib/python3.7/dist-packages/NERDA/preprocessing.py:80: UserWarning: Sentence #48 length 150 exceeds max_len 128 and has been truncated\n",
            "  warnings.warn(msg)\n",
            " 23%|██▎       | 5/22 [00:01<00:04,  4.20it/s]/usr/local/lib/python3.7/dist-packages/NERDA/preprocessing.py:80: UserWarning: Sentence #49 length 130 exceeds max_len 128 and has been truncated\n",
            "  warnings.warn(msg)\n",
            "/usr/local/lib/python3.7/dist-packages/NERDA/preprocessing.py:80: UserWarning: Sentence #50 length 174 exceeds max_len 128 and has been truncated\n",
            "  warnings.warn(msg)\n",
            "/usr/local/lib/python3.7/dist-packages/NERDA/preprocessing.py:80: UserWarning: Sentence #53 length 233 exceeds max_len 128 and has been truncated\n",
            "  warnings.warn(msg)\n",
            "/usr/local/lib/python3.7/dist-packages/NERDA/preprocessing.py:80: UserWarning: Sentence #54 length 149 exceeds max_len 128 and has been truncated\n",
            "  warnings.warn(msg)\n",
            " 32%|███▏      | 7/22 [00:01<00:03,  4.37it/s]/usr/local/lib/python3.7/dist-packages/NERDA/preprocessing.py:80: UserWarning: Sentence #68 length 132 exceeds max_len 128 and has been truncated\n",
            "  warnings.warn(msg)\n",
            " 41%|████      | 9/22 [00:02<00:02,  4.47it/s]/usr/local/lib/python3.7/dist-packages/NERDA/preprocessing.py:80: UserWarning: Sentence #77 length 171 exceeds max_len 128 and has been truncated\n",
            "  warnings.warn(msg)\n",
            " 45%|████▌     | 10/22 [00:02<00:02,  4.43it/s]/usr/local/lib/python3.7/dist-packages/NERDA/preprocessing.py:80: UserWarning: Sentence #87 length 128 exceeds max_len 128 and has been truncated\n",
            "  warnings.warn(msg)\n",
            " 59%|█████▉    | 13/22 [00:03<00:02,  4.47it/s]/usr/local/lib/python3.7/dist-packages/NERDA/preprocessing.py:80: UserWarning: Sentence #107 length 127 exceeds max_len 128 and has been truncated\n",
            "  warnings.warn(msg)\n",
            "100%|██████████| 22/22 [00:05<00:00,  4.29it/s]\n",
            "  0%|          | 0/6 [00:00<?, ?it/s]/usr/local/lib/python3.7/dist-packages/NERDA/preprocessing.py:80: UserWarning: Sentence #6 length 327 exceeds max_len 128 and has been truncated\n",
            "  warnings.warn(msg)\n",
            "/usr/local/lib/python3.7/dist-packages/NERDA/preprocessing.py:80: UserWarning: Sentence #16 length 132 exceeds max_len 128 and has been truncated\n",
            "  warnings.warn(msg)\n",
            "100%|██████████| 6/6 [00:00<00:00, 10.81it/s]\n"
          ]
        },
        {
          "output_type": "stream",
          "name": "stdout",
          "text": [
            "Train Loss = 0.48885532400824805 Valid Loss = 0.7629616508881251\n",
            "\n",
            " Epoch 5 / 11\n"
          ]
        },
        {
          "output_type": "stream",
          "name": "stderr",
          "text": [
            "\r  0%|          | 0/22 [00:00<?, ?it/s]/usr/local/lib/python3.7/dist-packages/NERDA/preprocessing.py:80: UserWarning: Sentence #6 length 262 exceeds max_len 128 and has been truncated\n",
            "  warnings.warn(msg)\n",
            "/usr/local/lib/python3.7/dist-packages/NERDA/preprocessing.py:80: UserWarning: Sentence #14 length 152 exceeds max_len 128 and has been truncated\n",
            "  warnings.warn(msg)\n",
            " 18%|█▊        | 4/22 [00:00<00:04,  4.26it/s]/usr/local/lib/python3.7/dist-packages/NERDA/preprocessing.py:80: UserWarning: Sentence #48 length 150 exceeds max_len 128 and has been truncated\n",
            "  warnings.warn(msg)\n",
            " 23%|██▎       | 5/22 [00:01<00:03,  4.35it/s]/usr/local/lib/python3.7/dist-packages/NERDA/preprocessing.py:80: UserWarning: Sentence #49 length 130 exceeds max_len 128 and has been truncated\n",
            "  warnings.warn(msg)\n",
            "/usr/local/lib/python3.7/dist-packages/NERDA/preprocessing.py:80: UserWarning: Sentence #50 length 174 exceeds max_len 128 and has been truncated\n",
            "  warnings.warn(msg)\n",
            "/usr/local/lib/python3.7/dist-packages/NERDA/preprocessing.py:80: UserWarning: Sentence #53 length 233 exceeds max_len 128 and has been truncated\n",
            "  warnings.warn(msg)\n",
            "/usr/local/lib/python3.7/dist-packages/NERDA/preprocessing.py:80: UserWarning: Sentence #54 length 149 exceeds max_len 128 and has been truncated\n",
            "  warnings.warn(msg)\n",
            " 32%|███▏      | 7/22 [00:01<00:03,  4.39it/s]/usr/local/lib/python3.7/dist-packages/NERDA/preprocessing.py:80: UserWarning: Sentence #68 length 132 exceeds max_len 128 and has been truncated\n",
            "  warnings.warn(msg)\n",
            " 41%|████      | 9/22 [00:02<00:02,  4.43it/s]/usr/local/lib/python3.7/dist-packages/NERDA/preprocessing.py:80: UserWarning: Sentence #77 length 171 exceeds max_len 128 and has been truncated\n",
            "  warnings.warn(msg)\n",
            " 45%|████▌     | 10/22 [00:02<00:02,  4.37it/s]/usr/local/lib/python3.7/dist-packages/NERDA/preprocessing.py:80: UserWarning: Sentence #87 length 128 exceeds max_len 128 and has been truncated\n",
            "  warnings.warn(msg)\n",
            " 59%|█████▉    | 13/22 [00:03<00:02,  4.46it/s]/usr/local/lib/python3.7/dist-packages/NERDA/preprocessing.py:80: UserWarning: Sentence #107 length 127 exceeds max_len 128 and has been truncated\n",
            "  warnings.warn(msg)\n",
            "100%|██████████| 22/22 [00:05<00:00,  4.35it/s]\n",
            "  0%|          | 0/6 [00:00<?, ?it/s]/usr/local/lib/python3.7/dist-packages/NERDA/preprocessing.py:80: UserWarning: Sentence #6 length 327 exceeds max_len 128 and has been truncated\n",
            "  warnings.warn(msg)\n",
            "/usr/local/lib/python3.7/dist-packages/NERDA/preprocessing.py:80: UserWarning: Sentence #16 length 132 exceeds max_len 128 and has been truncated\n",
            "  warnings.warn(msg)\n",
            "100%|██████████| 6/6 [00:00<00:00, 10.38it/s]\n"
          ]
        },
        {
          "output_type": "stream",
          "name": "stdout",
          "text": [
            "Train Loss = 0.3773531270298091 Valid Loss = 0.8270259300867716\n",
            "\n",
            " Epoch 6 / 11\n"
          ]
        },
        {
          "output_type": "stream",
          "name": "stderr",
          "text": [
            "\r  0%|          | 0/22 [00:00<?, ?it/s]/usr/local/lib/python3.7/dist-packages/NERDA/preprocessing.py:80: UserWarning: Sentence #6 length 262 exceeds max_len 128 and has been truncated\n",
            "  warnings.warn(msg)\n",
            "/usr/local/lib/python3.7/dist-packages/NERDA/preprocessing.py:80: UserWarning: Sentence #14 length 152 exceeds max_len 128 and has been truncated\n",
            "  warnings.warn(msg)\n",
            " 18%|█▊        | 4/22 [00:01<00:04,  4.15it/s]/usr/local/lib/python3.7/dist-packages/NERDA/preprocessing.py:80: UserWarning: Sentence #48 length 150 exceeds max_len 128 and has been truncated\n",
            "  warnings.warn(msg)\n",
            " 23%|██▎       | 5/22 [00:01<00:03,  4.27it/s]/usr/local/lib/python3.7/dist-packages/NERDA/preprocessing.py:80: UserWarning: Sentence #49 length 130 exceeds max_len 128 and has been truncated\n",
            "  warnings.warn(msg)\n",
            "/usr/local/lib/python3.7/dist-packages/NERDA/preprocessing.py:80: UserWarning: Sentence #50 length 174 exceeds max_len 128 and has been truncated\n",
            "  warnings.warn(msg)\n",
            "/usr/local/lib/python3.7/dist-packages/NERDA/preprocessing.py:80: UserWarning: Sentence #53 length 233 exceeds max_len 128 and has been truncated\n",
            "  warnings.warn(msg)\n",
            "/usr/local/lib/python3.7/dist-packages/NERDA/preprocessing.py:80: UserWarning: Sentence #54 length 149 exceeds max_len 128 and has been truncated\n",
            "  warnings.warn(msg)\n",
            " 32%|███▏      | 7/22 [00:01<00:03,  4.43it/s]/usr/local/lib/python3.7/dist-packages/NERDA/preprocessing.py:80: UserWarning: Sentence #68 length 132 exceeds max_len 128 and has been truncated\n",
            "  warnings.warn(msg)\n",
            " 41%|████      | 9/22 [00:02<00:02,  4.49it/s]/usr/local/lib/python3.7/dist-packages/NERDA/preprocessing.py:80: UserWarning: Sentence #77 length 171 exceeds max_len 128 and has been truncated\n",
            "  warnings.warn(msg)\n",
            " 45%|████▌     | 10/22 [00:02<00:02,  4.52it/s]/usr/local/lib/python3.7/dist-packages/NERDA/preprocessing.py:80: UserWarning: Sentence #87 length 128 exceeds max_len 128 and has been truncated\n",
            "  warnings.warn(msg)\n",
            " 59%|█████▉    | 13/22 [00:03<00:01,  4.51it/s]/usr/local/lib/python3.7/dist-packages/NERDA/preprocessing.py:80: UserWarning: Sentence #107 length 127 exceeds max_len 128 and has been truncated\n",
            "  warnings.warn(msg)\n",
            "100%|██████████| 22/22 [00:05<00:00,  4.37it/s]\n",
            "  0%|          | 0/6 [00:00<?, ?it/s]/usr/local/lib/python3.7/dist-packages/NERDA/preprocessing.py:80: UserWarning: Sentence #6 length 327 exceeds max_len 128 and has been truncated\n",
            "  warnings.warn(msg)\n",
            "/usr/local/lib/python3.7/dist-packages/NERDA/preprocessing.py:80: UserWarning: Sentence #16 length 132 exceeds max_len 128 and has been truncated\n",
            "  warnings.warn(msg)\n",
            "100%|██████████| 6/6 [00:00<00:00, 10.64it/s]\n"
          ]
        },
        {
          "output_type": "stream",
          "name": "stdout",
          "text": [
            "Train Loss = 0.3050834975120696 Valid Loss = 0.8258005132277807\n",
            "\n",
            " Epoch 7 / 11\n"
          ]
        },
        {
          "output_type": "stream",
          "name": "stderr",
          "text": [
            "\r  0%|          | 0/22 [00:00<?, ?it/s]/usr/local/lib/python3.7/dist-packages/NERDA/preprocessing.py:80: UserWarning: Sentence #6 length 262 exceeds max_len 128 and has been truncated\n",
            "  warnings.warn(msg)\n",
            "/usr/local/lib/python3.7/dist-packages/NERDA/preprocessing.py:80: UserWarning: Sentence #14 length 152 exceeds max_len 128 and has been truncated\n",
            "  warnings.warn(msg)\n",
            " 18%|█▊        | 4/22 [00:01<00:04,  4.14it/s]/usr/local/lib/python3.7/dist-packages/NERDA/preprocessing.py:80: UserWarning: Sentence #48 length 150 exceeds max_len 128 and has been truncated\n",
            "  warnings.warn(msg)\n",
            " 23%|██▎       | 5/22 [00:01<00:03,  4.25it/s]/usr/local/lib/python3.7/dist-packages/NERDA/preprocessing.py:80: UserWarning: Sentence #49 length 130 exceeds max_len 128 and has been truncated\n",
            "  warnings.warn(msg)\n",
            "/usr/local/lib/python3.7/dist-packages/NERDA/preprocessing.py:80: UserWarning: Sentence #50 length 174 exceeds max_len 128 and has been truncated\n",
            "  warnings.warn(msg)\n",
            "/usr/local/lib/python3.7/dist-packages/NERDA/preprocessing.py:80: UserWarning: Sentence #53 length 233 exceeds max_len 128 and has been truncated\n",
            "  warnings.warn(msg)\n",
            "/usr/local/lib/python3.7/dist-packages/NERDA/preprocessing.py:80: UserWarning: Sentence #54 length 149 exceeds max_len 128 and has been truncated\n",
            "  warnings.warn(msg)\n",
            " 32%|███▏      | 7/22 [00:01<00:03,  4.40it/s]/usr/local/lib/python3.7/dist-packages/NERDA/preprocessing.py:80: UserWarning: Sentence #68 length 132 exceeds max_len 128 and has been truncated\n",
            "  warnings.warn(msg)\n",
            " 41%|████      | 9/22 [00:02<00:02,  4.43it/s]/usr/local/lib/python3.7/dist-packages/NERDA/preprocessing.py:80: UserWarning: Sentence #77 length 171 exceeds max_len 128 and has been truncated\n",
            "  warnings.warn(msg)\n",
            " 45%|████▌     | 10/22 [00:02<00:02,  4.43it/s]/usr/local/lib/python3.7/dist-packages/NERDA/preprocessing.py:80: UserWarning: Sentence #87 length 128 exceeds max_len 128 and has been truncated\n",
            "  warnings.warn(msg)\n",
            " 59%|█████▉    | 13/22 [00:03<00:01,  4.51it/s]/usr/local/lib/python3.7/dist-packages/NERDA/preprocessing.py:80: UserWarning: Sentence #107 length 127 exceeds max_len 128 and has been truncated\n",
            "  warnings.warn(msg)\n",
            "100%|██████████| 22/22 [00:05<00:00,  4.36it/s]\n",
            "  0%|          | 0/6 [00:00<?, ?it/s]/usr/local/lib/python3.7/dist-packages/NERDA/preprocessing.py:80: UserWarning: Sentence #6 length 327 exceeds max_len 128 and has been truncated\n",
            "  warnings.warn(msg)\n",
            "/usr/local/lib/python3.7/dist-packages/NERDA/preprocessing.py:80: UserWarning: Sentence #16 length 132 exceeds max_len 128 and has been truncated\n",
            "  warnings.warn(msg)\n",
            "100%|██████████| 6/6 [00:00<00:00, 10.50it/s]\n"
          ]
        },
        {
          "output_type": "stream",
          "name": "stdout",
          "text": [
            "Train Loss = 0.2861468107862906 Valid Loss = 0.7531632284323374\n",
            "\n",
            " Epoch 8 / 11\n"
          ]
        },
        {
          "output_type": "stream",
          "name": "stderr",
          "text": [
            "\r  0%|          | 0/22 [00:00<?, ?it/s]/usr/local/lib/python3.7/dist-packages/NERDA/preprocessing.py:80: UserWarning: Sentence #6 length 262 exceeds max_len 128 and has been truncated\n",
            "  warnings.warn(msg)\n",
            "/usr/local/lib/python3.7/dist-packages/NERDA/preprocessing.py:80: UserWarning: Sentence #14 length 152 exceeds max_len 128 and has been truncated\n",
            "  warnings.warn(msg)\n",
            " 18%|█▊        | 4/22 [00:00<00:04,  4.22it/s]/usr/local/lib/python3.7/dist-packages/NERDA/preprocessing.py:80: UserWarning: Sentence #48 length 150 exceeds max_len 128 and has been truncated\n",
            "  warnings.warn(msg)\n",
            " 23%|██▎       | 5/22 [00:01<00:03,  4.30it/s]/usr/local/lib/python3.7/dist-packages/NERDA/preprocessing.py:80: UserWarning: Sentence #49 length 130 exceeds max_len 128 and has been truncated\n",
            "  warnings.warn(msg)\n",
            "/usr/local/lib/python3.7/dist-packages/NERDA/preprocessing.py:80: UserWarning: Sentence #50 length 174 exceeds max_len 128 and has been truncated\n",
            "  warnings.warn(msg)\n",
            "/usr/local/lib/python3.7/dist-packages/NERDA/preprocessing.py:80: UserWarning: Sentence #53 length 233 exceeds max_len 128 and has been truncated\n",
            "  warnings.warn(msg)\n",
            "/usr/local/lib/python3.7/dist-packages/NERDA/preprocessing.py:80: UserWarning: Sentence #54 length 149 exceeds max_len 128 and has been truncated\n",
            "  warnings.warn(msg)\n",
            " 32%|███▏      | 7/22 [00:01<00:03,  4.39it/s]/usr/local/lib/python3.7/dist-packages/NERDA/preprocessing.py:80: UserWarning: Sentence #68 length 132 exceeds max_len 128 and has been truncated\n",
            "  warnings.warn(msg)\n",
            " 41%|████      | 9/22 [00:02<00:02,  4.39it/s]/usr/local/lib/python3.7/dist-packages/NERDA/preprocessing.py:80: UserWarning: Sentence #77 length 171 exceeds max_len 128 and has been truncated\n",
            "  warnings.warn(msg)\n",
            " 45%|████▌     | 10/22 [00:02<00:02,  4.33it/s]/usr/local/lib/python3.7/dist-packages/NERDA/preprocessing.py:80: UserWarning: Sentence #87 length 128 exceeds max_len 128 and has been truncated\n",
            "  warnings.warn(msg)\n",
            " 59%|█████▉    | 13/22 [00:03<00:02,  4.44it/s]/usr/local/lib/python3.7/dist-packages/NERDA/preprocessing.py:80: UserWarning: Sentence #107 length 127 exceeds max_len 128 and has been truncated\n",
            "  warnings.warn(msg)\n",
            "100%|██████████| 22/22 [00:05<00:00,  4.36it/s]\n",
            "  0%|          | 0/6 [00:00<?, ?it/s]/usr/local/lib/python3.7/dist-packages/NERDA/preprocessing.py:80: UserWarning: Sentence #6 length 327 exceeds max_len 128 and has been truncated\n",
            "  warnings.warn(msg)\n",
            "/usr/local/lib/python3.7/dist-packages/NERDA/preprocessing.py:80: UserWarning: Sentence #16 length 132 exceeds max_len 128 and has been truncated\n",
            "  warnings.warn(msg)\n",
            "100%|██████████| 6/6 [00:00<00:00, 10.45it/s]\n"
          ]
        },
        {
          "output_type": "stream",
          "name": "stdout",
          "text": [
            "Train Loss = 0.24970099922608247 Valid Loss = 0.8140367989738783\n",
            "\n",
            " Epoch 9 / 11\n"
          ]
        },
        {
          "output_type": "stream",
          "name": "stderr",
          "text": [
            "\r  0%|          | 0/22 [00:00<?, ?it/s]/usr/local/lib/python3.7/dist-packages/NERDA/preprocessing.py:80: UserWarning: Sentence #6 length 262 exceeds max_len 128 and has been truncated\n",
            "  warnings.warn(msg)\n",
            "/usr/local/lib/python3.7/dist-packages/NERDA/preprocessing.py:80: UserWarning: Sentence #14 length 152 exceeds max_len 128 and has been truncated\n",
            "  warnings.warn(msg)\n",
            " 18%|█▊        | 4/22 [00:01<00:04,  4.05it/s]/usr/local/lib/python3.7/dist-packages/NERDA/preprocessing.py:80: UserWarning: Sentence #48 length 150 exceeds max_len 128 and has been truncated\n",
            "  warnings.warn(msg)\n",
            " 23%|██▎       | 5/22 [00:01<00:04,  4.15it/s]/usr/local/lib/python3.7/dist-packages/NERDA/preprocessing.py:80: UserWarning: Sentence #49 length 130 exceeds max_len 128 and has been truncated\n",
            "  warnings.warn(msg)\n",
            "/usr/local/lib/python3.7/dist-packages/NERDA/preprocessing.py:80: UserWarning: Sentence #50 length 174 exceeds max_len 128 and has been truncated\n",
            "  warnings.warn(msg)\n",
            "/usr/local/lib/python3.7/dist-packages/NERDA/preprocessing.py:80: UserWarning: Sentence #53 length 233 exceeds max_len 128 and has been truncated\n",
            "  warnings.warn(msg)\n",
            "/usr/local/lib/python3.7/dist-packages/NERDA/preprocessing.py:80: UserWarning: Sentence #54 length 149 exceeds max_len 128 and has been truncated\n",
            "  warnings.warn(msg)\n",
            " 32%|███▏      | 7/22 [00:01<00:03,  3.77it/s]/usr/local/lib/python3.7/dist-packages/NERDA/preprocessing.py:80: UserWarning: Sentence #68 length 132 exceeds max_len 128 and has been truncated\n",
            "  warnings.warn(msg)\n",
            " 41%|████      | 9/22 [00:02<00:03,  4.00it/s]/usr/local/lib/python3.7/dist-packages/NERDA/preprocessing.py:80: UserWarning: Sentence #77 length 171 exceeds max_len 128 and has been truncated\n",
            "  warnings.warn(msg)\n",
            " 45%|████▌     | 10/22 [00:02<00:02,  4.09it/s]/usr/local/lib/python3.7/dist-packages/NERDA/preprocessing.py:80: UserWarning: Sentence #87 length 128 exceeds max_len 128 and has been truncated\n",
            "  warnings.warn(msg)\n",
            " 59%|█████▉    | 13/22 [00:03<00:02,  4.27it/s]/usr/local/lib/python3.7/dist-packages/NERDA/preprocessing.py:80: UserWarning: Sentence #107 length 127 exceeds max_len 128 and has been truncated\n",
            "  warnings.warn(msg)\n",
            "100%|██████████| 22/22 [00:05<00:00,  4.18it/s]\n",
            "  0%|          | 0/6 [00:00<?, ?it/s]/usr/local/lib/python3.7/dist-packages/NERDA/preprocessing.py:80: UserWarning: Sentence #6 length 327 exceeds max_len 128 and has been truncated\n",
            "  warnings.warn(msg)\n",
            "/usr/local/lib/python3.7/dist-packages/NERDA/preprocessing.py:80: UserWarning: Sentence #16 length 132 exceeds max_len 128 and has been truncated\n",
            "  warnings.warn(msg)\n",
            "100%|██████████| 6/6 [00:00<00:00, 10.82it/s]\n"
          ]
        },
        {
          "output_type": "stream",
          "name": "stdout",
          "text": [
            "Train Loss = 0.23469399389895526 Valid Loss = 0.7603286951780319\n",
            "\n",
            " Epoch 10 / 11\n"
          ]
        },
        {
          "output_type": "stream",
          "name": "stderr",
          "text": [
            "\r  0%|          | 0/22 [00:00<?, ?it/s]/usr/local/lib/python3.7/dist-packages/NERDA/preprocessing.py:80: UserWarning: Sentence #6 length 262 exceeds max_len 128 and has been truncated\n",
            "  warnings.warn(msg)\n",
            "/usr/local/lib/python3.7/dist-packages/NERDA/preprocessing.py:80: UserWarning: Sentence #14 length 152 exceeds max_len 128 and has been truncated\n",
            "  warnings.warn(msg)\n",
            " 18%|█▊        | 4/22 [00:00<00:04,  4.28it/s]/usr/local/lib/python3.7/dist-packages/NERDA/preprocessing.py:80: UserWarning: Sentence #48 length 150 exceeds max_len 128 and has been truncated\n",
            "  warnings.warn(msg)\n",
            " 23%|██▎       | 5/22 [00:01<00:03,  4.34it/s]/usr/local/lib/python3.7/dist-packages/NERDA/preprocessing.py:80: UserWarning: Sentence #49 length 130 exceeds max_len 128 and has been truncated\n",
            "  warnings.warn(msg)\n",
            "/usr/local/lib/python3.7/dist-packages/NERDA/preprocessing.py:80: UserWarning: Sentence #50 length 174 exceeds max_len 128 and has been truncated\n",
            "  warnings.warn(msg)\n",
            "/usr/local/lib/python3.7/dist-packages/NERDA/preprocessing.py:80: UserWarning: Sentence #53 length 233 exceeds max_len 128 and has been truncated\n",
            "  warnings.warn(msg)\n",
            "/usr/local/lib/python3.7/dist-packages/NERDA/preprocessing.py:80: UserWarning: Sentence #54 length 149 exceeds max_len 128 and has been truncated\n",
            "  warnings.warn(msg)\n",
            " 32%|███▏      | 7/22 [00:01<00:03,  4.37it/s]/usr/local/lib/python3.7/dist-packages/NERDA/preprocessing.py:80: UserWarning: Sentence #68 length 132 exceeds max_len 128 and has been truncated\n",
            "  warnings.warn(msg)\n",
            " 41%|████      | 9/22 [00:02<00:02,  4.45it/s]/usr/local/lib/python3.7/dist-packages/NERDA/preprocessing.py:80: UserWarning: Sentence #77 length 171 exceeds max_len 128 and has been truncated\n",
            "  warnings.warn(msg)\n",
            " 45%|████▌     | 10/22 [00:02<00:02,  4.46it/s]/usr/local/lib/python3.7/dist-packages/NERDA/preprocessing.py:80: UserWarning: Sentence #87 length 128 exceeds max_len 128 and has been truncated\n",
            "  warnings.warn(msg)\n",
            " 59%|█████▉    | 13/22 [00:02<00:01,  4.53it/s]/usr/local/lib/python3.7/dist-packages/NERDA/preprocessing.py:80: UserWarning: Sentence #107 length 127 exceeds max_len 128 and has been truncated\n",
            "  warnings.warn(msg)\n",
            "100%|██████████| 22/22 [00:04<00:00,  4.40it/s]\n",
            "  0%|          | 0/6 [00:00<?, ?it/s]/usr/local/lib/python3.7/dist-packages/NERDA/preprocessing.py:80: UserWarning: Sentence #6 length 327 exceeds max_len 128 and has been truncated\n",
            "  warnings.warn(msg)\n",
            "/usr/local/lib/python3.7/dist-packages/NERDA/preprocessing.py:80: UserWarning: Sentence #16 length 132 exceeds max_len 128 and has been truncated\n",
            "  warnings.warn(msg)\n",
            "100%|██████████| 6/6 [00:00<00:00, 10.63it/s]\n"
          ]
        },
        {
          "output_type": "stream",
          "name": "stdout",
          "text": [
            "Train Loss = 0.2177936394106258 Valid Loss = 0.7670001710454623\n",
            "\n",
            " Epoch 11 / 11\n"
          ]
        },
        {
          "output_type": "stream",
          "name": "stderr",
          "text": [
            "\r  0%|          | 0/22 [00:00<?, ?it/s]/usr/local/lib/python3.7/dist-packages/NERDA/preprocessing.py:80: UserWarning: Sentence #6 length 262 exceeds max_len 128 and has been truncated\n",
            "  warnings.warn(msg)\n",
            "/usr/local/lib/python3.7/dist-packages/NERDA/preprocessing.py:80: UserWarning: Sentence #14 length 152 exceeds max_len 128 and has been truncated\n",
            "  warnings.warn(msg)\n",
            " 18%|█▊        | 4/22 [00:00<00:04,  4.28it/s]/usr/local/lib/python3.7/dist-packages/NERDA/preprocessing.py:80: UserWarning: Sentence #48 length 150 exceeds max_len 128 and has been truncated\n",
            "  warnings.warn(msg)\n",
            " 23%|██▎       | 5/22 [00:01<00:03,  4.33it/s]/usr/local/lib/python3.7/dist-packages/NERDA/preprocessing.py:80: UserWarning: Sentence #49 length 130 exceeds max_len 128 and has been truncated\n",
            "  warnings.warn(msg)\n",
            "/usr/local/lib/python3.7/dist-packages/NERDA/preprocessing.py:80: UserWarning: Sentence #50 length 174 exceeds max_len 128 and has been truncated\n",
            "  warnings.warn(msg)\n",
            "/usr/local/lib/python3.7/dist-packages/NERDA/preprocessing.py:80: UserWarning: Sentence #53 length 233 exceeds max_len 128 and has been truncated\n",
            "  warnings.warn(msg)\n",
            "/usr/local/lib/python3.7/dist-packages/NERDA/preprocessing.py:80: UserWarning: Sentence #54 length 149 exceeds max_len 128 and has been truncated\n",
            "  warnings.warn(msg)\n",
            " 32%|███▏      | 7/22 [00:01<00:03,  4.40it/s]/usr/local/lib/python3.7/dist-packages/NERDA/preprocessing.py:80: UserWarning: Sentence #68 length 132 exceeds max_len 128 and has been truncated\n",
            "  warnings.warn(msg)\n",
            " 41%|████      | 9/22 [00:02<00:02,  4.51it/s]/usr/local/lib/python3.7/dist-packages/NERDA/preprocessing.py:80: UserWarning: Sentence #77 length 171 exceeds max_len 128 and has been truncated\n",
            "  warnings.warn(msg)\n",
            " 45%|████▌     | 10/22 [00:02<00:02,  4.54it/s]/usr/local/lib/python3.7/dist-packages/NERDA/preprocessing.py:80: UserWarning: Sentence #87 length 128 exceeds max_len 128 and has been truncated\n",
            "  warnings.warn(msg)\n",
            " 59%|█████▉    | 13/22 [00:02<00:01,  4.53it/s]/usr/local/lib/python3.7/dist-packages/NERDA/preprocessing.py:80: UserWarning: Sentence #107 length 127 exceeds max_len 128 and has been truncated\n",
            "  warnings.warn(msg)\n",
            "100%|██████████| 22/22 [00:04<00:00,  4.41it/s]\n",
            "  0%|          | 0/6 [00:00<?, ?it/s]/usr/local/lib/python3.7/dist-packages/NERDA/preprocessing.py:80: UserWarning: Sentence #6 length 327 exceeds max_len 128 and has been truncated\n",
            "  warnings.warn(msg)\n",
            "/usr/local/lib/python3.7/dist-packages/NERDA/preprocessing.py:80: UserWarning: Sentence #16 length 132 exceeds max_len 128 and has been truncated\n",
            "  warnings.warn(msg)\n",
            "100%|██████████| 6/6 [00:00<00:00, 10.57it/s]"
          ]
        },
        {
          "output_type": "stream",
          "name": "stdout",
          "text": [
            "Train Loss = 0.17493909648196262 Valid Loss = 0.7684172155956427\n"
          ]
        },
        {
          "output_type": "stream",
          "name": "stderr",
          "text": [
            "\n"
          ]
        },
        {
          "output_type": "stream",
          "name": "stdout",
          "text": [
            "Device automatically set to: cuda\n"
          ]
        },
        {
          "output_type": "stream",
          "name": "stderr",
          "text": [
            "Some weights of the model checkpoint at bert-base-multilingual-cased were not used when initializing BertModel: ['cls.predictions.bias', 'cls.predictions.transform.LayerNorm.bias', 'cls.predictions.transform.LayerNorm.weight', 'cls.seq_relationship.weight', 'cls.seq_relationship.bias', 'cls.predictions.decoder.weight', 'cls.predictions.transform.dense.bias', 'cls.predictions.transform.dense.weight']\n",
            "- This IS expected if you are initializing BertModel from the checkpoint of a model trained on another task or with another architecture (e.g. initializing a BertForSequenceClassification model from a BertForPreTraining model).\n",
            "- This IS NOT expected if you are initializing BertModel from the checkpoint of a model that you expect to be exactly identical (initializing a BertForSequenceClassification model from a BertForSequenceClassification model).\n",
            "/usr/local/lib/python3.7/dist-packages/transformers/optimization.py:309: FutureWarning: This implementation of AdamW is deprecated and will be removed in a future version. Use the PyTorch implementation torch.optim.AdamW instead, or set `no_deprecation_warning=True` to disable this warning\n",
            "  FutureWarning,\n"
          ]
        },
        {
          "output_type": "stream",
          "name": "stdout",
          "text": [
            "\n",
            " Epoch 1 / 11\n"
          ]
        },
        {
          "output_type": "stream",
          "name": "stderr",
          "text": [
            "\r  0%|          | 0/22 [00:00<?, ?it/s]/usr/local/lib/python3.7/dist-packages/NERDA/preprocessing.py:80: UserWarning: Sentence #6 length 262 exceeds max_len 128 and has been truncated\n",
            "  warnings.warn(msg)\n",
            "/usr/local/lib/python3.7/dist-packages/NERDA/preprocessing.py:80: UserWarning: Sentence #14 length 152 exceeds max_len 128 and has been truncated\n",
            "  warnings.warn(msg)\n",
            " 18%|█▊        | 4/22 [00:01<00:04,  4.12it/s]/usr/local/lib/python3.7/dist-packages/NERDA/preprocessing.py:80: UserWarning: Sentence #48 length 150 exceeds max_len 128 and has been truncated\n",
            "  warnings.warn(msg)\n",
            " 23%|██▎       | 5/22 [00:01<00:04,  4.23it/s]/usr/local/lib/python3.7/dist-packages/NERDA/preprocessing.py:80: UserWarning: Sentence #49 length 130 exceeds max_len 128 and has been truncated\n",
            "  warnings.warn(msg)\n",
            "/usr/local/lib/python3.7/dist-packages/NERDA/preprocessing.py:80: UserWarning: Sentence #50 length 174 exceeds max_len 128 and has been truncated\n",
            "  warnings.warn(msg)\n",
            "/usr/local/lib/python3.7/dist-packages/NERDA/preprocessing.py:80: UserWarning: Sentence #53 length 233 exceeds max_len 128 and has been truncated\n",
            "  warnings.warn(msg)\n",
            "/usr/local/lib/python3.7/dist-packages/NERDA/preprocessing.py:80: UserWarning: Sentence #54 length 149 exceeds max_len 128 and has been truncated\n",
            "  warnings.warn(msg)\n",
            " 32%|███▏      | 7/22 [00:01<00:03,  4.38it/s]/usr/local/lib/python3.7/dist-packages/NERDA/preprocessing.py:80: UserWarning: Sentence #68 length 132 exceeds max_len 128 and has been truncated\n",
            "  warnings.warn(msg)\n",
            " 41%|████      | 9/22 [00:02<00:02,  4.51it/s]/usr/local/lib/python3.7/dist-packages/NERDA/preprocessing.py:80: UserWarning: Sentence #77 length 171 exceeds max_len 128 and has been truncated\n",
            "  warnings.warn(msg)\n",
            " 45%|████▌     | 10/22 [00:02<00:02,  4.49it/s]/usr/local/lib/python3.7/dist-packages/NERDA/preprocessing.py:80: UserWarning: Sentence #87 length 128 exceeds max_len 128 and has been truncated\n",
            "  warnings.warn(msg)\n",
            " 59%|█████▉    | 13/22 [00:03<00:01,  4.54it/s]/usr/local/lib/python3.7/dist-packages/NERDA/preprocessing.py:80: UserWarning: Sentence #107 length 127 exceeds max_len 128 and has been truncated\n",
            "  warnings.warn(msg)\n",
            "100%|██████████| 22/22 [00:05<00:00,  4.37it/s]\n",
            "  0%|          | 0/6 [00:00<?, ?it/s]/usr/local/lib/python3.7/dist-packages/NERDA/preprocessing.py:80: UserWarning: Sentence #6 length 327 exceeds max_len 128 and has been truncated\n",
            "  warnings.warn(msg)\n",
            "/usr/local/lib/python3.7/dist-packages/NERDA/preprocessing.py:80: UserWarning: Sentence #16 length 132 exceeds max_len 128 and has been truncated\n",
            "  warnings.warn(msg)\n",
            "100%|██████████| 6/6 [00:00<00:00, 10.61it/s]\n"
          ]
        },
        {
          "output_type": "stream",
          "name": "stdout",
          "text": [
            "Train Loss = 0.8874735561284152 Valid Loss = 0.9159889022509257\n",
            "\n",
            " Epoch 2 / 11\n"
          ]
        },
        {
          "output_type": "stream",
          "name": "stderr",
          "text": [
            "\r  0%|          | 0/22 [00:00<?, ?it/s]/usr/local/lib/python3.7/dist-packages/NERDA/preprocessing.py:80: UserWarning: Sentence #6 length 262 exceeds max_len 128 and has been truncated\n",
            "  warnings.warn(msg)\n",
            "/usr/local/lib/python3.7/dist-packages/NERDA/preprocessing.py:80: UserWarning: Sentence #14 length 152 exceeds max_len 128 and has been truncated\n",
            "  warnings.warn(msg)\n",
            " 18%|█▊        | 4/22 [00:01<00:04,  4.14it/s]/usr/local/lib/python3.7/dist-packages/NERDA/preprocessing.py:80: UserWarning: Sentence #48 length 150 exceeds max_len 128 and has been truncated\n",
            "  warnings.warn(msg)\n",
            " 23%|██▎       | 5/22 [00:01<00:03,  4.28it/s]/usr/local/lib/python3.7/dist-packages/NERDA/preprocessing.py:80: UserWarning: Sentence #49 length 130 exceeds max_len 128 and has been truncated\n",
            "  warnings.warn(msg)\n",
            "/usr/local/lib/python3.7/dist-packages/NERDA/preprocessing.py:80: UserWarning: Sentence #50 length 174 exceeds max_len 128 and has been truncated\n",
            "  warnings.warn(msg)\n",
            "/usr/local/lib/python3.7/dist-packages/NERDA/preprocessing.py:80: UserWarning: Sentence #53 length 233 exceeds max_len 128 and has been truncated\n",
            "  warnings.warn(msg)\n",
            "/usr/local/lib/python3.7/dist-packages/NERDA/preprocessing.py:80: UserWarning: Sentence #54 length 149 exceeds max_len 128 and has been truncated\n",
            "  warnings.warn(msg)\n",
            " 32%|███▏      | 7/22 [00:01<00:03,  4.33it/s]/usr/local/lib/python3.7/dist-packages/NERDA/preprocessing.py:80: UserWarning: Sentence #68 length 132 exceeds max_len 128 and has been truncated\n",
            "  warnings.warn(msg)\n",
            " 41%|████      | 9/22 [00:02<00:02,  4.35it/s]/usr/local/lib/python3.7/dist-packages/NERDA/preprocessing.py:80: UserWarning: Sentence #77 length 171 exceeds max_len 128 and has been truncated\n",
            "  warnings.warn(msg)\n",
            " 45%|████▌     | 10/22 [00:02<00:02,  4.26it/s]/usr/local/lib/python3.7/dist-packages/NERDA/preprocessing.py:80: UserWarning: Sentence #87 length 128 exceeds max_len 128 and has been truncated\n",
            "  warnings.warn(msg)\n",
            " 59%|█████▉    | 13/22 [00:03<00:02,  4.35it/s]/usr/local/lib/python3.7/dist-packages/NERDA/preprocessing.py:80: UserWarning: Sentence #107 length 127 exceeds max_len 128 and has been truncated\n",
            "  warnings.warn(msg)\n",
            "100%|██████████| 22/22 [00:05<00:00,  4.29it/s]\n",
            "  0%|          | 0/6 [00:00<?, ?it/s]/usr/local/lib/python3.7/dist-packages/NERDA/preprocessing.py:80: UserWarning: Sentence #6 length 327 exceeds max_len 128 and has been truncated\n",
            "  warnings.warn(msg)\n",
            "/usr/local/lib/python3.7/dist-packages/NERDA/preprocessing.py:80: UserWarning: Sentence #16 length 132 exceeds max_len 128 and has been truncated\n",
            "  warnings.warn(msg)\n",
            "100%|██████████| 6/6 [00:00<00:00, 10.24it/s]\n"
          ]
        },
        {
          "output_type": "stream",
          "name": "stdout",
          "text": [
            "Train Loss = 0.7799248207699169 Valid Loss = 0.8069621821244558\n",
            "\n",
            " Epoch 3 / 11\n"
          ]
        },
        {
          "output_type": "stream",
          "name": "stderr",
          "text": [
            "\r  0%|          | 0/22 [00:00<?, ?it/s]/usr/local/lib/python3.7/dist-packages/NERDA/preprocessing.py:80: UserWarning: Sentence #6 length 262 exceeds max_len 128 and has been truncated\n",
            "  warnings.warn(msg)\n",
            "/usr/local/lib/python3.7/dist-packages/NERDA/preprocessing.py:80: UserWarning: Sentence #14 length 152 exceeds max_len 128 and has been truncated\n",
            "  warnings.warn(msg)\n",
            " 18%|█▊        | 4/22 [00:01<00:04,  4.22it/s]/usr/local/lib/python3.7/dist-packages/NERDA/preprocessing.py:80: UserWarning: Sentence #48 length 150 exceeds max_len 128 and has been truncated\n",
            "  warnings.warn(msg)\n",
            " 23%|██▎       | 5/22 [00:01<00:03,  4.29it/s]/usr/local/lib/python3.7/dist-packages/NERDA/preprocessing.py:80: UserWarning: Sentence #49 length 130 exceeds max_len 128 and has been truncated\n",
            "  warnings.warn(msg)\n",
            "/usr/local/lib/python3.7/dist-packages/NERDA/preprocessing.py:80: UserWarning: Sentence #50 length 174 exceeds max_len 128 and has been truncated\n",
            "  warnings.warn(msg)\n",
            "/usr/local/lib/python3.7/dist-packages/NERDA/preprocessing.py:80: UserWarning: Sentence #53 length 233 exceeds max_len 128 and has been truncated\n",
            "  warnings.warn(msg)\n",
            "/usr/local/lib/python3.7/dist-packages/NERDA/preprocessing.py:80: UserWarning: Sentence #54 length 149 exceeds max_len 128 and has been truncated\n",
            "  warnings.warn(msg)\n",
            " 32%|███▏      | 7/22 [00:01<00:03,  4.44it/s]/usr/local/lib/python3.7/dist-packages/NERDA/preprocessing.py:80: UserWarning: Sentence #68 length 132 exceeds max_len 128 and has been truncated\n",
            "  warnings.warn(msg)\n",
            " 41%|████      | 9/22 [00:02<00:02,  4.55it/s]/usr/local/lib/python3.7/dist-packages/NERDA/preprocessing.py:80: UserWarning: Sentence #77 length 171 exceeds max_len 128 and has been truncated\n",
            "  warnings.warn(msg)\n",
            " 45%|████▌     | 10/22 [00:02<00:02,  4.58it/s]/usr/local/lib/python3.7/dist-packages/NERDA/preprocessing.py:80: UserWarning: Sentence #87 length 128 exceeds max_len 128 and has been truncated\n",
            "  warnings.warn(msg)\n",
            " 59%|█████▉    | 13/22 [00:02<00:01,  4.53it/s]/usr/local/lib/python3.7/dist-packages/NERDA/preprocessing.py:80: UserWarning: Sentence #107 length 127 exceeds max_len 128 and has been truncated\n",
            "  warnings.warn(msg)\n",
            "100%|██████████| 22/22 [00:04<00:00,  4.42it/s]\n",
            "  0%|          | 0/6 [00:00<?, ?it/s]/usr/local/lib/python3.7/dist-packages/NERDA/preprocessing.py:80: UserWarning: Sentence #6 length 327 exceeds max_len 128 and has been truncated\n",
            "  warnings.warn(msg)\n",
            "/usr/local/lib/python3.7/dist-packages/NERDA/preprocessing.py:80: UserWarning: Sentence #16 length 132 exceeds max_len 128 and has been truncated\n",
            "  warnings.warn(msg)\n",
            "100%|██████████| 6/6 [00:00<00:00, 10.47it/s]\n"
          ]
        },
        {
          "output_type": "stream",
          "name": "stdout",
          "text": [
            "Train Loss = 0.5998584275895898 Valid Loss = 0.8027419596910477\n",
            "\n",
            " Epoch 4 / 11\n"
          ]
        },
        {
          "output_type": "stream",
          "name": "stderr",
          "text": [
            "\r  0%|          | 0/22 [00:00<?, ?it/s]/usr/local/lib/python3.7/dist-packages/NERDA/preprocessing.py:80: UserWarning: Sentence #6 length 262 exceeds max_len 128 and has been truncated\n",
            "  warnings.warn(msg)\n",
            "/usr/local/lib/python3.7/dist-packages/NERDA/preprocessing.py:80: UserWarning: Sentence #14 length 152 exceeds max_len 128 and has been truncated\n",
            "  warnings.warn(msg)\n",
            " 18%|█▊        | 4/22 [00:01<00:04,  4.23it/s]/usr/local/lib/python3.7/dist-packages/NERDA/preprocessing.py:80: UserWarning: Sentence #48 length 150 exceeds max_len 128 and has been truncated\n",
            "  warnings.warn(msg)\n",
            " 23%|██▎       | 5/22 [00:01<00:03,  4.35it/s]/usr/local/lib/python3.7/dist-packages/NERDA/preprocessing.py:80: UserWarning: Sentence #49 length 130 exceeds max_len 128 and has been truncated\n",
            "  warnings.warn(msg)\n",
            "/usr/local/lib/python3.7/dist-packages/NERDA/preprocessing.py:80: UserWarning: Sentence #50 length 174 exceeds max_len 128 and has been truncated\n",
            "  warnings.warn(msg)\n",
            "/usr/local/lib/python3.7/dist-packages/NERDA/preprocessing.py:80: UserWarning: Sentence #53 length 233 exceeds max_len 128 and has been truncated\n",
            "  warnings.warn(msg)\n",
            "/usr/local/lib/python3.7/dist-packages/NERDA/preprocessing.py:80: UserWarning: Sentence #54 length 149 exceeds max_len 128 and has been truncated\n",
            "  warnings.warn(msg)\n",
            " 32%|███▏      | 7/22 [00:01<00:03,  4.44it/s]/usr/local/lib/python3.7/dist-packages/NERDA/preprocessing.py:80: UserWarning: Sentence #68 length 132 exceeds max_len 128 and has been truncated\n",
            "  warnings.warn(msg)\n",
            " 41%|████      | 9/22 [00:02<00:02,  4.50it/s]/usr/local/lib/python3.7/dist-packages/NERDA/preprocessing.py:80: UserWarning: Sentence #77 length 171 exceeds max_len 128 and has been truncated\n",
            "  warnings.warn(msg)\n",
            " 45%|████▌     | 10/22 [00:02<00:02,  4.55it/s]/usr/local/lib/python3.7/dist-packages/NERDA/preprocessing.py:80: UserWarning: Sentence #87 length 128 exceeds max_len 128 and has been truncated\n",
            "  warnings.warn(msg)\n",
            " 59%|█████▉    | 13/22 [00:02<00:01,  4.55it/s]/usr/local/lib/python3.7/dist-packages/NERDA/preprocessing.py:80: UserWarning: Sentence #107 length 127 exceeds max_len 128 and has been truncated\n",
            "  warnings.warn(msg)\n",
            "100%|██████████| 22/22 [00:05<00:00,  4.39it/s]\n",
            "  0%|          | 0/6 [00:00<?, ?it/s]/usr/local/lib/python3.7/dist-packages/NERDA/preprocessing.py:80: UserWarning: Sentence #6 length 327 exceeds max_len 128 and has been truncated\n",
            "  warnings.warn(msg)\n",
            "/usr/local/lib/python3.7/dist-packages/NERDA/preprocessing.py:80: UserWarning: Sentence #16 length 132 exceeds max_len 128 and has been truncated\n",
            "  warnings.warn(msg)\n",
            "100%|██████████| 6/6 [00:00<00:00, 10.61it/s]\n"
          ]
        },
        {
          "output_type": "stream",
          "name": "stdout",
          "text": [
            "Train Loss = 0.4467486705292355 Valid Loss = 0.824087937672933\n",
            "\n",
            " Epoch 5 / 11\n"
          ]
        },
        {
          "output_type": "stream",
          "name": "stderr",
          "text": [
            "\r  0%|          | 0/22 [00:00<?, ?it/s]/usr/local/lib/python3.7/dist-packages/NERDA/preprocessing.py:80: UserWarning: Sentence #6 length 262 exceeds max_len 128 and has been truncated\n",
            "  warnings.warn(msg)\n",
            "/usr/local/lib/python3.7/dist-packages/NERDA/preprocessing.py:80: UserWarning: Sentence #14 length 152 exceeds max_len 128 and has been truncated\n",
            "  warnings.warn(msg)\n",
            " 18%|█▊        | 4/22 [00:01<00:04,  4.21it/s]/usr/local/lib/python3.7/dist-packages/NERDA/preprocessing.py:80: UserWarning: Sentence #48 length 150 exceeds max_len 128 and has been truncated\n",
            "  warnings.warn(msg)\n",
            " 23%|██▎       | 5/22 [00:01<00:04,  4.20it/s]/usr/local/lib/python3.7/dist-packages/NERDA/preprocessing.py:80: UserWarning: Sentence #49 length 130 exceeds max_len 128 and has been truncated\n",
            "  warnings.warn(msg)\n",
            "/usr/local/lib/python3.7/dist-packages/NERDA/preprocessing.py:80: UserWarning: Sentence #50 length 174 exceeds max_len 128 and has been truncated\n",
            "  warnings.warn(msg)\n",
            "/usr/local/lib/python3.7/dist-packages/NERDA/preprocessing.py:80: UserWarning: Sentence #53 length 233 exceeds max_len 128 and has been truncated\n",
            "  warnings.warn(msg)\n",
            "/usr/local/lib/python3.7/dist-packages/NERDA/preprocessing.py:80: UserWarning: Sentence #54 length 149 exceeds max_len 128 and has been truncated\n",
            "  warnings.warn(msg)\n",
            " 32%|███▏      | 7/22 [00:01<00:03,  4.40it/s]/usr/local/lib/python3.7/dist-packages/NERDA/preprocessing.py:80: UserWarning: Sentence #68 length 132 exceeds max_len 128 and has been truncated\n",
            "  warnings.warn(msg)\n",
            " 41%|████      | 9/22 [00:02<00:02,  4.41it/s]/usr/local/lib/python3.7/dist-packages/NERDA/preprocessing.py:80: UserWarning: Sentence #77 length 171 exceeds max_len 128 and has been truncated\n",
            "  warnings.warn(msg)\n",
            " 45%|████▌     | 10/22 [00:02<00:02,  4.39it/s]/usr/local/lib/python3.7/dist-packages/NERDA/preprocessing.py:80: UserWarning: Sentence #87 length 128 exceeds max_len 128 and has been truncated\n",
            "  warnings.warn(msg)\n",
            " 59%|█████▉    | 13/22 [00:03<00:02,  4.48it/s]/usr/local/lib/python3.7/dist-packages/NERDA/preprocessing.py:80: UserWarning: Sentence #107 length 127 exceeds max_len 128 and has been truncated\n",
            "  warnings.warn(msg)\n",
            "100%|██████████| 22/22 [00:05<00:00,  4.34it/s]\n",
            "  0%|          | 0/6 [00:00<?, ?it/s]/usr/local/lib/python3.7/dist-packages/NERDA/preprocessing.py:80: UserWarning: Sentence #6 length 327 exceeds max_len 128 and has been truncated\n",
            "  warnings.warn(msg)\n",
            "/usr/local/lib/python3.7/dist-packages/NERDA/preprocessing.py:80: UserWarning: Sentence #16 length 132 exceeds max_len 128 and has been truncated\n",
            "  warnings.warn(msg)\n",
            "100%|██████████| 6/6 [00:00<00:00, 10.71it/s]\n"
          ]
        },
        {
          "output_type": "stream",
          "name": "stdout",
          "text": [
            "Train Loss = 0.41126547584479506 Valid Loss = 0.8458070208628973\n",
            "\n",
            " Epoch 6 / 11\n"
          ]
        },
        {
          "output_type": "stream",
          "name": "stderr",
          "text": [
            "\r  0%|          | 0/22 [00:00<?, ?it/s]/usr/local/lib/python3.7/dist-packages/NERDA/preprocessing.py:80: UserWarning: Sentence #6 length 262 exceeds max_len 128 and has been truncated\n",
            "  warnings.warn(msg)\n",
            "/usr/local/lib/python3.7/dist-packages/NERDA/preprocessing.py:80: UserWarning: Sentence #14 length 152 exceeds max_len 128 and has been truncated\n",
            "  warnings.warn(msg)\n",
            " 18%|█▊        | 4/22 [00:01<00:04,  4.20it/s]/usr/local/lib/python3.7/dist-packages/NERDA/preprocessing.py:80: UserWarning: Sentence #48 length 150 exceeds max_len 128 and has been truncated\n",
            "  warnings.warn(msg)\n",
            " 23%|██▎       | 5/22 [00:01<00:03,  4.26it/s]/usr/local/lib/python3.7/dist-packages/NERDA/preprocessing.py:80: UserWarning: Sentence #49 length 130 exceeds max_len 128 and has been truncated\n",
            "  warnings.warn(msg)\n",
            "/usr/local/lib/python3.7/dist-packages/NERDA/preprocessing.py:80: UserWarning: Sentence #50 length 174 exceeds max_len 128 and has been truncated\n",
            "  warnings.warn(msg)\n",
            "/usr/local/lib/python3.7/dist-packages/NERDA/preprocessing.py:80: UserWarning: Sentence #53 length 233 exceeds max_len 128 and has been truncated\n",
            "  warnings.warn(msg)\n",
            "/usr/local/lib/python3.7/dist-packages/NERDA/preprocessing.py:80: UserWarning: Sentence #54 length 149 exceeds max_len 128 and has been truncated\n",
            "  warnings.warn(msg)\n",
            " 32%|███▏      | 7/22 [00:01<00:03,  4.33it/s]/usr/local/lib/python3.7/dist-packages/NERDA/preprocessing.py:80: UserWarning: Sentence #68 length 132 exceeds max_len 128 and has been truncated\n",
            "  warnings.warn(msg)\n",
            " 41%|████      | 9/22 [00:02<00:02,  4.45it/s]/usr/local/lib/python3.7/dist-packages/NERDA/preprocessing.py:80: UserWarning: Sentence #77 length 171 exceeds max_len 128 and has been truncated\n",
            "  warnings.warn(msg)\n",
            " 45%|████▌     | 10/22 [00:02<00:02,  4.48it/s]/usr/local/lib/python3.7/dist-packages/NERDA/preprocessing.py:80: UserWarning: Sentence #87 length 128 exceeds max_len 128 and has been truncated\n",
            "  warnings.warn(msg)\n",
            " 59%|█████▉    | 13/22 [00:03<00:02,  4.48it/s]/usr/local/lib/python3.7/dist-packages/NERDA/preprocessing.py:80: UserWarning: Sentence #107 length 127 exceeds max_len 128 and has been truncated\n",
            "  warnings.warn(msg)\n",
            "100%|██████████| 22/22 [00:05<00:00,  4.36it/s]\n",
            "  0%|          | 0/6 [00:00<?, ?it/s]/usr/local/lib/python3.7/dist-packages/NERDA/preprocessing.py:80: UserWarning: Sentence #6 length 327 exceeds max_len 128 and has been truncated\n",
            "  warnings.warn(msg)\n",
            "/usr/local/lib/python3.7/dist-packages/NERDA/preprocessing.py:80: UserWarning: Sentence #16 length 132 exceeds max_len 128 and has been truncated\n",
            "  warnings.warn(msg)\n",
            "100%|██████████| 6/6 [00:00<00:00, 10.33it/s]\n"
          ]
        },
        {
          "output_type": "stream",
          "name": "stdout",
          "text": [
            "Train Loss = 0.3622520767490972 Valid Loss = 0.9201238676905632\n",
            "\n",
            " Epoch 7 / 11\n"
          ]
        },
        {
          "output_type": "stream",
          "name": "stderr",
          "text": [
            "\r  0%|          | 0/22 [00:00<?, ?it/s]/usr/local/lib/python3.7/dist-packages/NERDA/preprocessing.py:80: UserWarning: Sentence #6 length 262 exceeds max_len 128 and has been truncated\n",
            "  warnings.warn(msg)\n",
            "/usr/local/lib/python3.7/dist-packages/NERDA/preprocessing.py:80: UserWarning: Sentence #14 length 152 exceeds max_len 128 and has been truncated\n",
            "  warnings.warn(msg)\n",
            " 18%|█▊        | 4/22 [00:01<00:04,  4.17it/s]/usr/local/lib/python3.7/dist-packages/NERDA/preprocessing.py:80: UserWarning: Sentence #48 length 150 exceeds max_len 128 and has been truncated\n",
            "  warnings.warn(msg)\n",
            " 23%|██▎       | 5/22 [00:01<00:03,  4.29it/s]/usr/local/lib/python3.7/dist-packages/NERDA/preprocessing.py:80: UserWarning: Sentence #49 length 130 exceeds max_len 128 and has been truncated\n",
            "  warnings.warn(msg)\n",
            "/usr/local/lib/python3.7/dist-packages/NERDA/preprocessing.py:80: UserWarning: Sentence #50 length 174 exceeds max_len 128 and has been truncated\n",
            "  warnings.warn(msg)\n",
            "/usr/local/lib/python3.7/dist-packages/NERDA/preprocessing.py:80: UserWarning: Sentence #53 length 233 exceeds max_len 128 and has been truncated\n",
            "  warnings.warn(msg)\n",
            "/usr/local/lib/python3.7/dist-packages/NERDA/preprocessing.py:80: UserWarning: Sentence #54 length 149 exceeds max_len 128 and has been truncated\n",
            "  warnings.warn(msg)\n",
            " 32%|███▏      | 7/22 [00:01<00:03,  4.40it/s]/usr/local/lib/python3.7/dist-packages/NERDA/preprocessing.py:80: UserWarning: Sentence #68 length 132 exceeds max_len 128 and has been truncated\n",
            "  warnings.warn(msg)\n",
            " 41%|████      | 9/22 [00:02<00:02,  4.42it/s]/usr/local/lib/python3.7/dist-packages/NERDA/preprocessing.py:80: UserWarning: Sentence #77 length 171 exceeds max_len 128 and has been truncated\n",
            "  warnings.warn(msg)\n",
            " 45%|████▌     | 10/22 [00:02<00:02,  4.45it/s]/usr/local/lib/python3.7/dist-packages/NERDA/preprocessing.py:80: UserWarning: Sentence #87 length 128 exceeds max_len 128 and has been truncated\n",
            "  warnings.warn(msg)\n",
            " 59%|█████▉    | 13/22 [00:03<00:02,  4.47it/s]/usr/local/lib/python3.7/dist-packages/NERDA/preprocessing.py:80: UserWarning: Sentence #107 length 127 exceeds max_len 128 and has been truncated\n",
            "  warnings.warn(msg)\n",
            "100%|██████████| 22/22 [00:05<00:00,  4.25it/s]\n",
            "  0%|          | 0/6 [00:00<?, ?it/s]/usr/local/lib/python3.7/dist-packages/NERDA/preprocessing.py:80: UserWarning: Sentence #6 length 327 exceeds max_len 128 and has been truncated\n",
            "  warnings.warn(msg)\n",
            "/usr/local/lib/python3.7/dist-packages/NERDA/preprocessing.py:80: UserWarning: Sentence #16 length 132 exceeds max_len 128 and has been truncated\n",
            "  warnings.warn(msg)\n",
            "100%|██████████| 6/6 [00:00<00:00,  7.91it/s]\n"
          ]
        },
        {
          "output_type": "stream",
          "name": "stdout",
          "text": [
            "Train Loss = 0.3542048257182945 Valid Loss = 0.783095528682073\n",
            "\n",
            " Epoch 8 / 11\n"
          ]
        },
        {
          "output_type": "stream",
          "name": "stderr",
          "text": [
            "\r  0%|          | 0/22 [00:00<?, ?it/s]/usr/local/lib/python3.7/dist-packages/NERDA/preprocessing.py:80: UserWarning: Sentence #6 length 262 exceeds max_len 128 and has been truncated\n",
            "  warnings.warn(msg)\n",
            "/usr/local/lib/python3.7/dist-packages/NERDA/preprocessing.py:80: UserWarning: Sentence #14 length 152 exceeds max_len 128 and has been truncated\n",
            "  warnings.warn(msg)\n",
            " 18%|█▊        | 4/22 [00:01<00:04,  3.94it/s]/usr/local/lib/python3.7/dist-packages/NERDA/preprocessing.py:80: UserWarning: Sentence #48 length 150 exceeds max_len 128 and has been truncated\n",
            "  warnings.warn(msg)\n",
            " 23%|██▎       | 5/22 [00:01<00:04,  4.12it/s]/usr/local/lib/python3.7/dist-packages/NERDA/preprocessing.py:80: UserWarning: Sentence #49 length 130 exceeds max_len 128 and has been truncated\n",
            "  warnings.warn(msg)\n",
            "/usr/local/lib/python3.7/dist-packages/NERDA/preprocessing.py:80: UserWarning: Sentence #50 length 174 exceeds max_len 128 and has been truncated\n",
            "  warnings.warn(msg)\n",
            "/usr/local/lib/python3.7/dist-packages/NERDA/preprocessing.py:80: UserWarning: Sentence #53 length 233 exceeds max_len 128 and has been truncated\n",
            "  warnings.warn(msg)\n",
            "/usr/local/lib/python3.7/dist-packages/NERDA/preprocessing.py:80: UserWarning: Sentence #54 length 149 exceeds max_len 128 and has been truncated\n",
            "  warnings.warn(msg)\n",
            " 32%|███▏      | 7/22 [00:01<00:03,  4.31it/s]/usr/local/lib/python3.7/dist-packages/NERDA/preprocessing.py:80: UserWarning: Sentence #68 length 132 exceeds max_len 128 and has been truncated\n",
            "  warnings.warn(msg)\n",
            " 41%|████      | 9/22 [00:02<00:02,  4.41it/s]/usr/local/lib/python3.7/dist-packages/NERDA/preprocessing.py:80: UserWarning: Sentence #77 length 171 exceeds max_len 128 and has been truncated\n",
            "  warnings.warn(msg)\n",
            " 45%|████▌     | 10/22 [00:02<00:02,  4.44it/s]/usr/local/lib/python3.7/dist-packages/NERDA/preprocessing.py:80: UserWarning: Sentence #87 length 128 exceeds max_len 128 and has been truncated\n",
            "  warnings.warn(msg)\n",
            " 59%|█████▉    | 13/22 [00:03<00:02,  4.48it/s]/usr/local/lib/python3.7/dist-packages/NERDA/preprocessing.py:80: UserWarning: Sentence #107 length 127 exceeds max_len 128 and has been truncated\n",
            "  warnings.warn(msg)\n",
            "100%|██████████| 22/22 [00:05<00:00,  4.28it/s]\n",
            "  0%|          | 0/6 [00:00<?, ?it/s]/usr/local/lib/python3.7/dist-packages/NERDA/preprocessing.py:80: UserWarning: Sentence #6 length 327 exceeds max_len 128 and has been truncated\n",
            "  warnings.warn(msg)\n",
            "/usr/local/lib/python3.7/dist-packages/NERDA/preprocessing.py:80: UserWarning: Sentence #16 length 132 exceeds max_len 128 and has been truncated\n",
            "  warnings.warn(msg)\n",
            "100%|██████████| 6/6 [00:00<00:00, 10.32it/s]\n"
          ]
        },
        {
          "output_type": "stream",
          "name": "stdout",
          "text": [
            "Train Loss = 0.27914545668119733 Valid Loss = 0.8997363100449244\n",
            "\n",
            " Epoch 9 / 11\n"
          ]
        },
        {
          "output_type": "stream",
          "name": "stderr",
          "text": [
            "\r  0%|          | 0/22 [00:00<?, ?it/s]/usr/local/lib/python3.7/dist-packages/NERDA/preprocessing.py:80: UserWarning: Sentence #6 length 262 exceeds max_len 128 and has been truncated\n",
            "  warnings.warn(msg)\n",
            "/usr/local/lib/python3.7/dist-packages/NERDA/preprocessing.py:80: UserWarning: Sentence #14 length 152 exceeds max_len 128 and has been truncated\n",
            "  warnings.warn(msg)\n",
            " 18%|█▊        | 4/22 [00:01<00:04,  4.23it/s]/usr/local/lib/python3.7/dist-packages/NERDA/preprocessing.py:80: UserWarning: Sentence #48 length 150 exceeds max_len 128 and has been truncated\n",
            "  warnings.warn(msg)\n",
            " 23%|██▎       | 5/22 [00:01<00:03,  4.33it/s]/usr/local/lib/python3.7/dist-packages/NERDA/preprocessing.py:80: UserWarning: Sentence #49 length 130 exceeds max_len 128 and has been truncated\n",
            "  warnings.warn(msg)\n",
            "/usr/local/lib/python3.7/dist-packages/NERDA/preprocessing.py:80: UserWarning: Sentence #50 length 174 exceeds max_len 128 and has been truncated\n",
            "  warnings.warn(msg)\n",
            "/usr/local/lib/python3.7/dist-packages/NERDA/preprocessing.py:80: UserWarning: Sentence #53 length 233 exceeds max_len 128 and has been truncated\n",
            "  warnings.warn(msg)\n",
            "/usr/local/lib/python3.7/dist-packages/NERDA/preprocessing.py:80: UserWarning: Sentence #54 length 149 exceeds max_len 128 and has been truncated\n",
            "  warnings.warn(msg)\n",
            " 32%|███▏      | 7/22 [00:01<00:03,  4.43it/s]/usr/local/lib/python3.7/dist-packages/NERDA/preprocessing.py:80: UserWarning: Sentence #68 length 132 exceeds max_len 128 and has been truncated\n",
            "  warnings.warn(msg)\n",
            " 41%|████      | 9/22 [00:02<00:02,  4.46it/s]/usr/local/lib/python3.7/dist-packages/NERDA/preprocessing.py:80: UserWarning: Sentence #77 length 171 exceeds max_len 128 and has been truncated\n",
            "  warnings.warn(msg)\n",
            " 45%|████▌     | 10/22 [00:02<00:02,  4.44it/s]/usr/local/lib/python3.7/dist-packages/NERDA/preprocessing.py:80: UserWarning: Sentence #87 length 128 exceeds max_len 128 and has been truncated\n",
            "  warnings.warn(msg)\n",
            " 59%|█████▉    | 13/22 [00:03<00:02,  4.48it/s]/usr/local/lib/python3.7/dist-packages/NERDA/preprocessing.py:80: UserWarning: Sentence #107 length 127 exceeds max_len 128 and has been truncated\n",
            "  warnings.warn(msg)\n",
            "100%|██████████| 22/22 [00:05<00:00,  4.39it/s]\n",
            "  0%|          | 0/6 [00:00<?, ?it/s]/usr/local/lib/python3.7/dist-packages/NERDA/preprocessing.py:80: UserWarning: Sentence #6 length 327 exceeds max_len 128 and has been truncated\n",
            "  warnings.warn(msg)\n",
            "/usr/local/lib/python3.7/dist-packages/NERDA/preprocessing.py:80: UserWarning: Sentence #16 length 132 exceeds max_len 128 and has been truncated\n",
            "  warnings.warn(msg)\n",
            "100%|██████████| 6/6 [00:00<00:00, 10.54it/s]\n"
          ]
        },
        {
          "output_type": "stream",
          "name": "stdout",
          "text": [
            "Train Loss = 0.2693489571525292 Valid Loss = 0.7757552737991015\n",
            "\n",
            " Epoch 10 / 11\n"
          ]
        },
        {
          "output_type": "stream",
          "name": "stderr",
          "text": [
            "\r  0%|          | 0/22 [00:00<?, ?it/s]/usr/local/lib/python3.7/dist-packages/NERDA/preprocessing.py:80: UserWarning: Sentence #6 length 262 exceeds max_len 128 and has been truncated\n",
            "  warnings.warn(msg)\n",
            "/usr/local/lib/python3.7/dist-packages/NERDA/preprocessing.py:80: UserWarning: Sentence #14 length 152 exceeds max_len 128 and has been truncated\n",
            "  warnings.warn(msg)\n",
            " 18%|█▊        | 4/22 [00:00<00:04,  4.28it/s]/usr/local/lib/python3.7/dist-packages/NERDA/preprocessing.py:80: UserWarning: Sentence #48 length 150 exceeds max_len 128 and has been truncated\n",
            "  warnings.warn(msg)\n",
            " 23%|██▎       | 5/22 [00:01<00:03,  4.34it/s]/usr/local/lib/python3.7/dist-packages/NERDA/preprocessing.py:80: UserWarning: Sentence #49 length 130 exceeds max_len 128 and has been truncated\n",
            "  warnings.warn(msg)\n",
            "/usr/local/lib/python3.7/dist-packages/NERDA/preprocessing.py:80: UserWarning: Sentence #50 length 174 exceeds max_len 128 and has been truncated\n",
            "  warnings.warn(msg)\n",
            "/usr/local/lib/python3.7/dist-packages/NERDA/preprocessing.py:80: UserWarning: Sentence #53 length 233 exceeds max_len 128 and has been truncated\n",
            "  warnings.warn(msg)\n",
            "/usr/local/lib/python3.7/dist-packages/NERDA/preprocessing.py:80: UserWarning: Sentence #54 length 149 exceeds max_len 128 and has been truncated\n",
            "  warnings.warn(msg)\n",
            " 32%|███▏      | 7/22 [00:01<00:03,  4.42it/s]/usr/local/lib/python3.7/dist-packages/NERDA/preprocessing.py:80: UserWarning: Sentence #68 length 132 exceeds max_len 128 and has been truncated\n",
            "  warnings.warn(msg)\n",
            " 41%|████      | 9/22 [00:02<00:02,  4.49it/s]/usr/local/lib/python3.7/dist-packages/NERDA/preprocessing.py:80: UserWarning: Sentence #77 length 171 exceeds max_len 128 and has been truncated\n",
            "  warnings.warn(msg)\n",
            " 45%|████▌     | 10/22 [00:02<00:02,  4.48it/s]/usr/local/lib/python3.7/dist-packages/NERDA/preprocessing.py:80: UserWarning: Sentence #87 length 128 exceeds max_len 128 and has been truncated\n",
            "  warnings.warn(msg)\n",
            " 59%|█████▉    | 13/22 [00:02<00:01,  4.56it/s]/usr/local/lib/python3.7/dist-packages/NERDA/preprocessing.py:80: UserWarning: Sentence #107 length 127 exceeds max_len 128 and has been truncated\n",
            "  warnings.warn(msg)\n",
            "100%|██████████| 22/22 [00:04<00:00,  4.43it/s]\n",
            "  0%|          | 0/6 [00:00<?, ?it/s]/usr/local/lib/python3.7/dist-packages/NERDA/preprocessing.py:80: UserWarning: Sentence #6 length 327 exceeds max_len 128 and has been truncated\n",
            "  warnings.warn(msg)\n",
            "/usr/local/lib/python3.7/dist-packages/NERDA/preprocessing.py:80: UserWarning: Sentence #16 length 132 exceeds max_len 128 and has been truncated\n",
            "  warnings.warn(msg)\n",
            "100%|██████████| 6/6 [00:00<00:00, 10.30it/s]\n"
          ]
        },
        {
          "output_type": "stream",
          "name": "stdout",
          "text": [
            "Train Loss = 0.23579998094249854 Valid Loss = 0.6818299094835917\n",
            "\n",
            " Epoch 11 / 11\n"
          ]
        },
        {
          "output_type": "stream",
          "name": "stderr",
          "text": [
            "\r  0%|          | 0/22 [00:00<?, ?it/s]/usr/local/lib/python3.7/dist-packages/NERDA/preprocessing.py:80: UserWarning: Sentence #6 length 262 exceeds max_len 128 and has been truncated\n",
            "  warnings.warn(msg)\n",
            "/usr/local/lib/python3.7/dist-packages/NERDA/preprocessing.py:80: UserWarning: Sentence #14 length 152 exceeds max_len 128 and has been truncated\n",
            "  warnings.warn(msg)\n",
            " 18%|█▊        | 4/22 [00:01<00:04,  4.26it/s]/usr/local/lib/python3.7/dist-packages/NERDA/preprocessing.py:80: UserWarning: Sentence #48 length 150 exceeds max_len 128 and has been truncated\n",
            "  warnings.warn(msg)\n",
            " 23%|██▎       | 5/22 [00:01<00:03,  4.33it/s]/usr/local/lib/python3.7/dist-packages/NERDA/preprocessing.py:80: UserWarning: Sentence #49 length 130 exceeds max_len 128 and has been truncated\n",
            "  warnings.warn(msg)\n",
            "/usr/local/lib/python3.7/dist-packages/NERDA/preprocessing.py:80: UserWarning: Sentence #50 length 174 exceeds max_len 128 and has been truncated\n",
            "  warnings.warn(msg)\n",
            "/usr/local/lib/python3.7/dist-packages/NERDA/preprocessing.py:80: UserWarning: Sentence #53 length 233 exceeds max_len 128 and has been truncated\n",
            "  warnings.warn(msg)\n",
            "/usr/local/lib/python3.7/dist-packages/NERDA/preprocessing.py:80: UserWarning: Sentence #54 length 149 exceeds max_len 128 and has been truncated\n",
            "  warnings.warn(msg)\n",
            " 32%|███▏      | 7/22 [00:01<00:03,  4.41it/s]/usr/local/lib/python3.7/dist-packages/NERDA/preprocessing.py:80: UserWarning: Sentence #68 length 132 exceeds max_len 128 and has been truncated\n",
            "  warnings.warn(msg)\n",
            " 41%|████      | 9/22 [00:02<00:02,  4.44it/s]/usr/local/lib/python3.7/dist-packages/NERDA/preprocessing.py:80: UserWarning: Sentence #77 length 171 exceeds max_len 128 and has been truncated\n",
            "  warnings.warn(msg)\n",
            " 45%|████▌     | 10/22 [00:02<00:02,  4.42it/s]/usr/local/lib/python3.7/dist-packages/NERDA/preprocessing.py:80: UserWarning: Sentence #87 length 128 exceeds max_len 128 and has been truncated\n",
            "  warnings.warn(msg)\n",
            " 59%|█████▉    | 13/22 [00:03<00:01,  4.52it/s]/usr/local/lib/python3.7/dist-packages/NERDA/preprocessing.py:80: UserWarning: Sentence #107 length 127 exceeds max_len 128 and has been truncated\n",
            "  warnings.warn(msg)\n",
            "100%|██████████| 22/22 [00:05<00:00,  4.38it/s]\n",
            "  0%|          | 0/6 [00:00<?, ?it/s]/usr/local/lib/python3.7/dist-packages/NERDA/preprocessing.py:80: UserWarning: Sentence #6 length 327 exceeds max_len 128 and has been truncated\n",
            "  warnings.warn(msg)\n",
            "/usr/local/lib/python3.7/dist-packages/NERDA/preprocessing.py:80: UserWarning: Sentence #16 length 132 exceeds max_len 128 and has been truncated\n",
            "  warnings.warn(msg)\n",
            "100%|██████████| 6/6 [00:00<00:00, 10.67it/s]"
          ]
        },
        {
          "output_type": "stream",
          "name": "stdout",
          "text": [
            "Train Loss = 0.19480633938854391 Valid Loss = 0.6954169571399689\n"
          ]
        },
        {
          "output_type": "stream",
          "name": "stderr",
          "text": [
            "\n"
          ]
        }
      ]
    },
    {
      "cell_type": "code",
      "source": [
        ""
      ],
      "metadata": {
        "id": "ri17QM7-cNJJ"
      },
      "execution_count": 42,
      "outputs": []
    },
    {
      "cell_type": "code",
      "source": [
        ""
      ],
      "metadata": {
        "colab": {
          "base_uri": "https://localhost:8080/"
        },
        "id": "9Zxp6gCZWUdV",
        "outputId": "939c4648-9658-4999-9b7e-c6b8f3b95f49"
      },
      "execution_count": 33,
      "outputs": [
        {
          "output_type": "stream",
          "name": "stdout",
          "text": [
            "Device automatically set to: cuda\n"
          ]
        },
        {
          "output_type": "stream",
          "name": "stderr",
          "text": [
            "Some weights of the model checkpoint at bert-base-multilingual-cased were not used when initializing BertModel: ['cls.predictions.bias', 'cls.predictions.transform.LayerNorm.bias', 'cls.predictions.transform.LayerNorm.weight', 'cls.seq_relationship.weight', 'cls.seq_relationship.bias', 'cls.predictions.decoder.weight', 'cls.predictions.transform.dense.bias', 'cls.predictions.transform.dense.weight']\n",
            "- This IS expected if you are initializing BertModel from the checkpoint of a model trained on another task or with another architecture (e.g. initializing a BertForSequenceClassification model from a BertForPreTraining model).\n",
            "- This IS NOT expected if you are initializing BertModel from the checkpoint of a model that you expect to be exactly identical (initializing a BertForSequenceClassification model from a BertForSequenceClassification model).\n",
            "/usr/local/lib/python3.7/dist-packages/transformers/optimization.py:309: FutureWarning: This implementation of AdamW is deprecated and will be removed in a future version. Use the PyTorch implementation torch.optim.AdamW instead, or set `no_deprecation_warning=True` to disable this warning\n",
            "  FutureWarning,\n"
          ]
        },
        {
          "output_type": "stream",
          "name": "stdout",
          "text": [
            "\n",
            " Epoch 1 / 11\n"
          ]
        },
        {
          "output_type": "stream",
          "name": "stderr",
          "text": [
            "\r  0%|          | 0/22 [00:00<?, ?it/s]/usr/local/lib/python3.7/dist-packages/NERDA/preprocessing.py:80: UserWarning: Sentence #6 length 262 exceeds max_len 128 and has been truncated\n",
            "  warnings.warn(msg)\n",
            "/usr/local/lib/python3.7/dist-packages/NERDA/preprocessing.py:80: UserWarning: Sentence #14 length 152 exceeds max_len 128 and has been truncated\n",
            "  warnings.warn(msg)\n",
            "  9%|▉         | 2/22 [00:00<00:05,  3.45it/s]/usr/local/lib/python3.7/dist-packages/NERDA/preprocessing.py:80: UserWarning: Sentence #31 length 150 exceeds max_len 128 and has been truncated\n",
            "  warnings.warn(msg)\n",
            "/usr/local/lib/python3.7/dist-packages/NERDA/preprocessing.py:80: UserWarning: Sentence #32 length 130 exceeds max_len 128 and has been truncated\n",
            "  warnings.warn(msg)\n",
            "/usr/local/lib/python3.7/dist-packages/NERDA/preprocessing.py:80: UserWarning: Sentence #33 length 174 exceeds max_len 128 and has been truncated\n",
            "  warnings.warn(msg)\n",
            " 14%|█▎        | 3/22 [00:00<00:04,  3.94it/s]/usr/local/lib/python3.7/dist-packages/NERDA/preprocessing.py:80: UserWarning: Sentence #36 length 233 exceeds max_len 128 and has been truncated\n",
            "  warnings.warn(msg)\n",
            "/usr/local/lib/python3.7/dist-packages/NERDA/preprocessing.py:80: UserWarning: Sentence #37 length 149 exceeds max_len 128 and has been truncated\n",
            "  warnings.warn(msg)\n",
            " 23%|██▎       | 5/22 [00:01<00:03,  4.37it/s]/usr/local/lib/python3.7/dist-packages/NERDA/preprocessing.py:80: UserWarning: Sentence #51 length 132 exceeds max_len 128 and has been truncated\n",
            "  warnings.warn(msg)\n",
            " 27%|██▋       | 6/22 [00:01<00:03,  4.39it/s]/usr/local/lib/python3.7/dist-packages/NERDA/preprocessing.py:80: UserWarning: Sentence #60 length 171 exceeds max_len 128 and has been truncated\n",
            "  warnings.warn(msg)\n",
            " 36%|███▋      | 8/22 [00:01<00:03,  4.26it/s]/usr/local/lib/python3.7/dist-packages/NERDA/preprocessing.py:80: UserWarning: Sentence #70 length 128 exceeds max_len 128 and has been truncated\n",
            "  warnings.warn(msg)\n",
            " 45%|████▌     | 10/22 [00:02<00:02,  4.43it/s]/usr/local/lib/python3.7/dist-packages/NERDA/preprocessing.py:80: UserWarning: Sentence #90 length 127 exceeds max_len 128 and has been truncated\n",
            "  warnings.warn(msg)\n",
            "100%|██████████| 22/22 [00:05<00:00,  4.32it/s]\n",
            "  0%|          | 0/6 [00:00<?, ?it/s]/usr/local/lib/python3.7/dist-packages/NERDA/preprocessing.py:80: UserWarning: Sentence #6 length 327 exceeds max_len 128 and has been truncated\n",
            "  warnings.warn(msg)\n",
            "/usr/local/lib/python3.7/dist-packages/NERDA/preprocessing.py:80: UserWarning: Sentence #16 length 132 exceeds max_len 128 and has been truncated\n",
            "  warnings.warn(msg)\n",
            "100%|██████████| 6/6 [00:00<00:00, 10.96it/s]\n"
          ]
        },
        {
          "output_type": "stream",
          "name": "stdout",
          "text": [
            "Train Loss = 0.8269074654037302 Valid Loss = 0.8953990439573923\n",
            "\n",
            " Epoch 2 / 11\n"
          ]
        },
        {
          "output_type": "stream",
          "name": "stderr",
          "text": [
            "\r  0%|          | 0/22 [00:00<?, ?it/s]/usr/local/lib/python3.7/dist-packages/NERDA/preprocessing.py:80: UserWarning: Sentence #6 length 262 exceeds max_len 128 and has been truncated\n",
            "  warnings.warn(msg)\n",
            "/usr/local/lib/python3.7/dist-packages/NERDA/preprocessing.py:80: UserWarning: Sentence #14 length 152 exceeds max_len 128 and has been truncated\n",
            "  warnings.warn(msg)\n",
            "  9%|▉         | 2/22 [00:00<00:05,  3.86it/s]/usr/local/lib/python3.7/dist-packages/NERDA/preprocessing.py:80: UserWarning: Sentence #31 length 150 exceeds max_len 128 and has been truncated\n",
            "  warnings.warn(msg)\n",
            "/usr/local/lib/python3.7/dist-packages/NERDA/preprocessing.py:80: UserWarning: Sentence #32 length 130 exceeds max_len 128 and has been truncated\n",
            "  warnings.warn(msg)\n",
            "/usr/local/lib/python3.7/dist-packages/NERDA/preprocessing.py:80: UserWarning: Sentence #33 length 174 exceeds max_len 128 and has been truncated\n",
            "  warnings.warn(msg)\n",
            " 14%|█▎        | 3/22 [00:00<00:04,  4.14it/s]/usr/local/lib/python3.7/dist-packages/NERDA/preprocessing.py:80: UserWarning: Sentence #36 length 233 exceeds max_len 128 and has been truncated\n",
            "  warnings.warn(msg)\n",
            "/usr/local/lib/python3.7/dist-packages/NERDA/preprocessing.py:80: UserWarning: Sentence #37 length 149 exceeds max_len 128 and has been truncated\n",
            "  warnings.warn(msg)\n",
            " 23%|██▎       | 5/22 [00:01<00:03,  4.37it/s]/usr/local/lib/python3.7/dist-packages/NERDA/preprocessing.py:80: UserWarning: Sentence #51 length 132 exceeds max_len 128 and has been truncated\n",
            "  warnings.warn(msg)\n",
            " 27%|██▋       | 6/22 [00:01<00:03,  4.45it/s]/usr/local/lib/python3.7/dist-packages/NERDA/preprocessing.py:80: UserWarning: Sentence #60 length 171 exceeds max_len 128 and has been truncated\n",
            "  warnings.warn(msg)\n",
            " 36%|███▋      | 8/22 [00:01<00:03,  4.48it/s]/usr/local/lib/python3.7/dist-packages/NERDA/preprocessing.py:80: UserWarning: Sentence #70 length 128 exceeds max_len 128 and has been truncated\n",
            "  warnings.warn(msg)\n",
            " 45%|████▌     | 10/22 [00:02<00:02,  4.43it/s]/usr/local/lib/python3.7/dist-packages/NERDA/preprocessing.py:80: UserWarning: Sentence #90 length 127 exceeds max_len 128 and has been truncated\n",
            "  warnings.warn(msg)\n",
            "100%|██████████| 22/22 [00:05<00:00,  4.11it/s]\n",
            "  0%|          | 0/6 [00:00<?, ?it/s]/usr/local/lib/python3.7/dist-packages/NERDA/preprocessing.py:80: UserWarning: Sentence #6 length 327 exceeds max_len 128 and has been truncated\n",
            "  warnings.warn(msg)\n",
            "/usr/local/lib/python3.7/dist-packages/NERDA/preprocessing.py:80: UserWarning: Sentence #16 length 132 exceeds max_len 128 and has been truncated\n",
            "  warnings.warn(msg)\n",
            "100%|██████████| 6/6 [00:00<00:00,  7.35it/s]\n"
          ]
        },
        {
          "output_type": "stream",
          "name": "stdout",
          "text": [
            "Train Loss = 0.5219889967279001 Valid Loss = 0.8182074849804243\n",
            "\n",
            " Epoch 3 / 11\n"
          ]
        },
        {
          "output_type": "stream",
          "name": "stderr",
          "text": [
            "\r  0%|          | 0/22 [00:00<?, ?it/s]/usr/local/lib/python3.7/dist-packages/NERDA/preprocessing.py:80: UserWarning: Sentence #6 length 262 exceeds max_len 128 and has been truncated\n",
            "  warnings.warn(msg)\n",
            "/usr/local/lib/python3.7/dist-packages/NERDA/preprocessing.py:80: UserWarning: Sentence #14 length 152 exceeds max_len 128 and has been truncated\n",
            "  warnings.warn(msg)\n",
            "  9%|▉         | 2/22 [00:00<00:07,  2.79it/s]/usr/local/lib/python3.7/dist-packages/NERDA/preprocessing.py:80: UserWarning: Sentence #31 length 150 exceeds max_len 128 and has been truncated\n",
            "  warnings.warn(msg)\n",
            "/usr/local/lib/python3.7/dist-packages/NERDA/preprocessing.py:80: UserWarning: Sentence #32 length 130 exceeds max_len 128 and has been truncated\n",
            "  warnings.warn(msg)\n",
            "/usr/local/lib/python3.7/dist-packages/NERDA/preprocessing.py:80: UserWarning: Sentence #33 length 174 exceeds max_len 128 and has been truncated\n",
            "  warnings.warn(msg)\n",
            " 14%|█▎        | 3/22 [00:01<00:06,  3.11it/s]/usr/local/lib/python3.7/dist-packages/NERDA/preprocessing.py:80: UserWarning: Sentence #36 length 233 exceeds max_len 128 and has been truncated\n",
            "  warnings.warn(msg)\n",
            "/usr/local/lib/python3.7/dist-packages/NERDA/preprocessing.py:80: UserWarning: Sentence #37 length 149 exceeds max_len 128 and has been truncated\n",
            "  warnings.warn(msg)\n",
            " 23%|██▎       | 5/22 [00:01<00:05,  3.26it/s]/usr/local/lib/python3.7/dist-packages/NERDA/preprocessing.py:80: UserWarning: Sentence #51 length 132 exceeds max_len 128 and has been truncated\n",
            "  warnings.warn(msg)\n",
            " 27%|██▋       | 6/22 [00:01<00:04,  3.62it/s]/usr/local/lib/python3.7/dist-packages/NERDA/preprocessing.py:80: UserWarning: Sentence #60 length 171 exceeds max_len 128 and has been truncated\n",
            "  warnings.warn(msg)\n",
            " 36%|███▋      | 8/22 [00:02<00:03,  4.09it/s]/usr/local/lib/python3.7/dist-packages/NERDA/preprocessing.py:80: UserWarning: Sentence #70 length 128 exceeds max_len 128 and has been truncated\n",
            "  warnings.warn(msg)\n",
            " 45%|████▌     | 10/22 [00:02<00:02,  4.30it/s]/usr/local/lib/python3.7/dist-packages/NERDA/preprocessing.py:80: UserWarning: Sentence #90 length 127 exceeds max_len 128 and has been truncated\n",
            "  warnings.warn(msg)\n",
            "100%|██████████| 22/22 [00:05<00:00,  4.09it/s]\n",
            "  0%|          | 0/6 [00:00<?, ?it/s]/usr/local/lib/python3.7/dist-packages/NERDA/preprocessing.py:80: UserWarning: Sentence #6 length 327 exceeds max_len 128 and has been truncated\n",
            "  warnings.warn(msg)\n",
            "/usr/local/lib/python3.7/dist-packages/NERDA/preprocessing.py:80: UserWarning: Sentence #16 length 132 exceeds max_len 128 and has been truncated\n",
            "  warnings.warn(msg)\n",
            "100%|██████████| 6/6 [00:00<00:00, 11.24it/s]\n"
          ]
        },
        {
          "output_type": "stream",
          "name": "stdout",
          "text": [
            "Train Loss = 0.3435313374820081 Valid Loss = 0.90151680012544\n",
            "\n",
            " Epoch 4 / 11\n"
          ]
        },
        {
          "output_type": "stream",
          "name": "stderr",
          "text": [
            "\r  0%|          | 0/22 [00:00<?, ?it/s]/usr/local/lib/python3.7/dist-packages/NERDA/preprocessing.py:80: UserWarning: Sentence #6 length 262 exceeds max_len 128 and has been truncated\n",
            "  warnings.warn(msg)\n",
            "/usr/local/lib/python3.7/dist-packages/NERDA/preprocessing.py:80: UserWarning: Sentence #14 length 152 exceeds max_len 128 and has been truncated\n",
            "  warnings.warn(msg)\n",
            "  9%|▉         | 2/22 [00:00<00:05,  3.82it/s]/usr/local/lib/python3.7/dist-packages/NERDA/preprocessing.py:80: UserWarning: Sentence #31 length 150 exceeds max_len 128 and has been truncated\n",
            "  warnings.warn(msg)\n",
            "/usr/local/lib/python3.7/dist-packages/NERDA/preprocessing.py:80: UserWarning: Sentence #32 length 130 exceeds max_len 128 and has been truncated\n",
            "  warnings.warn(msg)\n",
            "/usr/local/lib/python3.7/dist-packages/NERDA/preprocessing.py:80: UserWarning: Sentence #33 length 174 exceeds max_len 128 and has been truncated\n",
            "  warnings.warn(msg)\n",
            " 14%|█▎        | 3/22 [00:00<00:04,  4.12it/s]/usr/local/lib/python3.7/dist-packages/NERDA/preprocessing.py:80: UserWarning: Sentence #36 length 233 exceeds max_len 128 and has been truncated\n",
            "  warnings.warn(msg)\n",
            "/usr/local/lib/python3.7/dist-packages/NERDA/preprocessing.py:80: UserWarning: Sentence #37 length 149 exceeds max_len 128 and has been truncated\n",
            "  warnings.warn(msg)\n",
            " 23%|██▎       | 5/22 [00:01<00:03,  4.34it/s]/usr/local/lib/python3.7/dist-packages/NERDA/preprocessing.py:80: UserWarning: Sentence #51 length 132 exceeds max_len 128 and has been truncated\n",
            "  warnings.warn(msg)\n",
            " 27%|██▋       | 6/22 [00:01<00:03,  4.43it/s]/usr/local/lib/python3.7/dist-packages/NERDA/preprocessing.py:80: UserWarning: Sentence #60 length 171 exceeds max_len 128 and has been truncated\n",
            "  warnings.warn(msg)\n",
            " 36%|███▋      | 8/22 [00:01<00:03,  4.51it/s]/usr/local/lib/python3.7/dist-packages/NERDA/preprocessing.py:80: UserWarning: Sentence #70 length 128 exceeds max_len 128 and has been truncated\n",
            "  warnings.warn(msg)\n",
            " 45%|████▌     | 10/22 [00:02<00:02,  4.48it/s]/usr/local/lib/python3.7/dist-packages/NERDA/preprocessing.py:80: UserWarning: Sentence #90 length 127 exceeds max_len 128 and has been truncated\n",
            "  warnings.warn(msg)\n",
            "100%|██████████| 22/22 [00:04<00:00,  4.45it/s]\n",
            "  0%|          | 0/6 [00:00<?, ?it/s]/usr/local/lib/python3.7/dist-packages/NERDA/preprocessing.py:80: UserWarning: Sentence #6 length 327 exceeds max_len 128 and has been truncated\n",
            "  warnings.warn(msg)\n",
            "/usr/local/lib/python3.7/dist-packages/NERDA/preprocessing.py:80: UserWarning: Sentence #16 length 132 exceeds max_len 128 and has been truncated\n",
            "  warnings.warn(msg)\n",
            "100%|██████████| 6/6 [00:00<00:00, 11.03it/s]\n"
          ]
        },
        {
          "output_type": "stream",
          "name": "stdout",
          "text": [
            "Train Loss = 0.3162049585106698 Valid Loss = 0.8147676140069962\n",
            "\n",
            " Epoch 5 / 11\n"
          ]
        },
        {
          "output_type": "stream",
          "name": "stderr",
          "text": [
            "\r  0%|          | 0/22 [00:00<?, ?it/s]/usr/local/lib/python3.7/dist-packages/NERDA/preprocessing.py:80: UserWarning: Sentence #6 length 262 exceeds max_len 128 and has been truncated\n",
            "  warnings.warn(msg)\n",
            "/usr/local/lib/python3.7/dist-packages/NERDA/preprocessing.py:80: UserWarning: Sentence #14 length 152 exceeds max_len 128 and has been truncated\n",
            "  warnings.warn(msg)\n",
            "  9%|▉         | 2/22 [00:00<00:05,  3.80it/s]/usr/local/lib/python3.7/dist-packages/NERDA/preprocessing.py:80: UserWarning: Sentence #31 length 150 exceeds max_len 128 and has been truncated\n",
            "  warnings.warn(msg)\n",
            "/usr/local/lib/python3.7/dist-packages/NERDA/preprocessing.py:80: UserWarning: Sentence #32 length 130 exceeds max_len 128 and has been truncated\n",
            "  warnings.warn(msg)\n",
            "/usr/local/lib/python3.7/dist-packages/NERDA/preprocessing.py:80: UserWarning: Sentence #33 length 174 exceeds max_len 128 and has been truncated\n",
            "  warnings.warn(msg)\n",
            " 14%|█▎        | 3/22 [00:00<00:04,  4.13it/s]/usr/local/lib/python3.7/dist-packages/NERDA/preprocessing.py:80: UserWarning: Sentence #36 length 233 exceeds max_len 128 and has been truncated\n",
            "  warnings.warn(msg)\n",
            "/usr/local/lib/python3.7/dist-packages/NERDA/preprocessing.py:80: UserWarning: Sentence #37 length 149 exceeds max_len 128 and has been truncated\n",
            "  warnings.warn(msg)\n",
            " 23%|██▎       | 5/22 [00:01<00:03,  4.31it/s]/usr/local/lib/python3.7/dist-packages/NERDA/preprocessing.py:80: UserWarning: Sentence #51 length 132 exceeds max_len 128 and has been truncated\n",
            "  warnings.warn(msg)\n",
            " 27%|██▋       | 6/22 [00:01<00:04,  3.92it/s]/usr/local/lib/python3.7/dist-packages/NERDA/preprocessing.py:80: UserWarning: Sentence #60 length 171 exceeds max_len 128 and has been truncated\n",
            "  warnings.warn(msg)\n",
            " 36%|███▋      | 8/22 [00:01<00:03,  4.07it/s]/usr/local/lib/python3.7/dist-packages/NERDA/preprocessing.py:80: UserWarning: Sentence #70 length 128 exceeds max_len 128 and has been truncated\n",
            "  warnings.warn(msg)\n",
            " 45%|████▌     | 10/22 [00:02<00:03,  3.99it/s]/usr/local/lib/python3.7/dist-packages/NERDA/preprocessing.py:80: UserWarning: Sentence #90 length 127 exceeds max_len 128 and has been truncated\n",
            "  warnings.warn(msg)\n",
            "100%|██████████| 22/22 [00:05<00:00,  4.18it/s]\n",
            "  0%|          | 0/6 [00:00<?, ?it/s]/usr/local/lib/python3.7/dist-packages/NERDA/preprocessing.py:80: UserWarning: Sentence #6 length 327 exceeds max_len 128 and has been truncated\n",
            "  warnings.warn(msg)\n",
            "/usr/local/lib/python3.7/dist-packages/NERDA/preprocessing.py:80: UserWarning: Sentence #16 length 132 exceeds max_len 128 and has been truncated\n",
            "  warnings.warn(msg)\n",
            "100%|██████████| 6/6 [00:00<00:00, 11.04it/s]\n"
          ]
        },
        {
          "output_type": "stream",
          "name": "stdout",
          "text": [
            "Train Loss = 0.23893649588254365 Valid Loss = 0.8502894639968872\n",
            "\n",
            " Epoch 6 / 11\n"
          ]
        },
        {
          "output_type": "stream",
          "name": "stderr",
          "text": [
            "\r  0%|          | 0/22 [00:00<?, ?it/s]/usr/local/lib/python3.7/dist-packages/NERDA/preprocessing.py:80: UserWarning: Sentence #6 length 262 exceeds max_len 128 and has been truncated\n",
            "  warnings.warn(msg)\n",
            "/usr/local/lib/python3.7/dist-packages/NERDA/preprocessing.py:80: UserWarning: Sentence #14 length 152 exceeds max_len 128 and has been truncated\n",
            "  warnings.warn(msg)\n",
            "  9%|▉         | 2/22 [00:00<00:05,  3.76it/s]/usr/local/lib/python3.7/dist-packages/NERDA/preprocessing.py:80: UserWarning: Sentence #31 length 150 exceeds max_len 128 and has been truncated\n",
            "  warnings.warn(msg)\n",
            "/usr/local/lib/python3.7/dist-packages/NERDA/preprocessing.py:80: UserWarning: Sentence #32 length 130 exceeds max_len 128 and has been truncated\n",
            "  warnings.warn(msg)\n",
            "/usr/local/lib/python3.7/dist-packages/NERDA/preprocessing.py:80: UserWarning: Sentence #33 length 174 exceeds max_len 128 and has been truncated\n",
            "  warnings.warn(msg)\n",
            " 14%|█▎        | 3/22 [00:00<00:04,  4.06it/s]/usr/local/lib/python3.7/dist-packages/NERDA/preprocessing.py:80: UserWarning: Sentence #36 length 233 exceeds max_len 128 and has been truncated\n",
            "  warnings.warn(msg)\n",
            "/usr/local/lib/python3.7/dist-packages/NERDA/preprocessing.py:80: UserWarning: Sentence #37 length 149 exceeds max_len 128 and has been truncated\n",
            "  warnings.warn(msg)\n",
            " 23%|██▎       | 5/22 [00:01<00:03,  4.30it/s]/usr/local/lib/python3.7/dist-packages/NERDA/preprocessing.py:80: UserWarning: Sentence #51 length 132 exceeds max_len 128 and has been truncated\n",
            "  warnings.warn(msg)\n",
            " 27%|██▋       | 6/22 [00:01<00:03,  4.37it/s]/usr/local/lib/python3.7/dist-packages/NERDA/preprocessing.py:80: UserWarning: Sentence #60 length 171 exceeds max_len 128 and has been truncated\n",
            "  warnings.warn(msg)\n",
            " 36%|███▋      | 8/22 [00:01<00:03,  4.44it/s]/usr/local/lib/python3.7/dist-packages/NERDA/preprocessing.py:80: UserWarning: Sentence #70 length 128 exceeds max_len 128 and has been truncated\n",
            "  warnings.warn(msg)\n",
            " 45%|████▌     | 10/22 [00:02<00:02,  4.45it/s]/usr/local/lib/python3.7/dist-packages/NERDA/preprocessing.py:80: UserWarning: Sentence #90 length 127 exceeds max_len 128 and has been truncated\n",
            "  warnings.warn(msg)\n",
            "100%|██████████| 22/22 [00:05<00:00,  4.39it/s]\n",
            "  0%|          | 0/6 [00:00<?, ?it/s]/usr/local/lib/python3.7/dist-packages/NERDA/preprocessing.py:80: UserWarning: Sentence #6 length 327 exceeds max_len 128 and has been truncated\n",
            "  warnings.warn(msg)\n",
            "/usr/local/lib/python3.7/dist-packages/NERDA/preprocessing.py:80: UserWarning: Sentence #16 length 132 exceeds max_len 128 and has been truncated\n",
            "  warnings.warn(msg)\n",
            "100%|██████████| 6/6 [00:00<00:00, 10.66it/s]\n"
          ]
        },
        {
          "output_type": "stream",
          "name": "stdout",
          "text": [
            "Train Loss = 0.23145111176100644 Valid Loss = 0.786933476726214\n",
            "\n",
            " Epoch 7 / 11\n"
          ]
        },
        {
          "output_type": "stream",
          "name": "stderr",
          "text": [
            "\r  0%|          | 0/22 [00:00<?, ?it/s]/usr/local/lib/python3.7/dist-packages/NERDA/preprocessing.py:80: UserWarning: Sentence #6 length 262 exceeds max_len 128 and has been truncated\n",
            "  warnings.warn(msg)\n",
            "/usr/local/lib/python3.7/dist-packages/NERDA/preprocessing.py:80: UserWarning: Sentence #14 length 152 exceeds max_len 128 and has been truncated\n",
            "  warnings.warn(msg)\n",
            "  9%|▉         | 2/22 [00:00<00:05,  3.82it/s]/usr/local/lib/python3.7/dist-packages/NERDA/preprocessing.py:80: UserWarning: Sentence #31 length 150 exceeds max_len 128 and has been truncated\n",
            "  warnings.warn(msg)\n",
            "/usr/local/lib/python3.7/dist-packages/NERDA/preprocessing.py:80: UserWarning: Sentence #32 length 130 exceeds max_len 128 and has been truncated\n",
            "  warnings.warn(msg)\n",
            "/usr/local/lib/python3.7/dist-packages/NERDA/preprocessing.py:80: UserWarning: Sentence #33 length 174 exceeds max_len 128 and has been truncated\n",
            "  warnings.warn(msg)\n",
            " 14%|█▎        | 3/22 [00:00<00:04,  4.06it/s]/usr/local/lib/python3.7/dist-packages/NERDA/preprocessing.py:80: UserWarning: Sentence #36 length 233 exceeds max_len 128 and has been truncated\n",
            "  warnings.warn(msg)\n",
            "/usr/local/lib/python3.7/dist-packages/NERDA/preprocessing.py:80: UserWarning: Sentence #37 length 149 exceeds max_len 128 and has been truncated\n",
            "  warnings.warn(msg)\n",
            " 23%|██▎       | 5/22 [00:01<00:03,  4.27it/s]/usr/local/lib/python3.7/dist-packages/NERDA/preprocessing.py:80: UserWarning: Sentence #51 length 132 exceeds max_len 128 and has been truncated\n",
            "  warnings.warn(msg)\n",
            " 27%|██▋       | 6/22 [00:01<00:03,  4.34it/s]/usr/local/lib/python3.7/dist-packages/NERDA/preprocessing.py:80: UserWarning: Sentence #60 length 171 exceeds max_len 128 and has been truncated\n",
            "  warnings.warn(msg)\n",
            " 36%|███▋      | 8/22 [00:01<00:03,  4.47it/s]/usr/local/lib/python3.7/dist-packages/NERDA/preprocessing.py:80: UserWarning: Sentence #70 length 128 exceeds max_len 128 and has been truncated\n",
            "  warnings.warn(msg)\n",
            " 45%|████▌     | 10/22 [00:02<00:02,  4.42it/s]/usr/local/lib/python3.7/dist-packages/NERDA/preprocessing.py:80: UserWarning: Sentence #90 length 127 exceeds max_len 128 and has been truncated\n",
            "  warnings.warn(msg)\n",
            "100%|██████████| 22/22 [00:05<00:00,  4.20it/s]\n",
            "  0%|          | 0/6 [00:00<?, ?it/s]/usr/local/lib/python3.7/dist-packages/NERDA/preprocessing.py:80: UserWarning: Sentence #6 length 327 exceeds max_len 128 and has been truncated\n",
            "  warnings.warn(msg)\n",
            "/usr/local/lib/python3.7/dist-packages/NERDA/preprocessing.py:80: UserWarning: Sentence #16 length 132 exceeds max_len 128 and has been truncated\n",
            "  warnings.warn(msg)\n",
            "100%|██████████| 6/6 [00:01<00:00,  5.78it/s]\n"
          ]
        },
        {
          "output_type": "stream",
          "name": "stdout",
          "text": [
            "Train Loss = 0.134722870266573 Valid Loss = 0.8828317523002625\n",
            "\n",
            " Epoch 8 / 11\n"
          ]
        },
        {
          "output_type": "stream",
          "name": "stderr",
          "text": [
            "\r  0%|          | 0/22 [00:00<?, ?it/s]/usr/local/lib/python3.7/dist-packages/NERDA/preprocessing.py:80: UserWarning: Sentence #6 length 262 exceeds max_len 128 and has been truncated\n",
            "  warnings.warn(msg)\n",
            "/usr/local/lib/python3.7/dist-packages/NERDA/preprocessing.py:80: UserWarning: Sentence #14 length 152 exceeds max_len 128 and has been truncated\n",
            "  warnings.warn(msg)\n",
            "  9%|▉         | 2/22 [00:00<00:07,  2.80it/s]/usr/local/lib/python3.7/dist-packages/NERDA/preprocessing.py:80: UserWarning: Sentence #31 length 150 exceeds max_len 128 and has been truncated\n",
            "  warnings.warn(msg)\n",
            "/usr/local/lib/python3.7/dist-packages/NERDA/preprocessing.py:80: UserWarning: Sentence #32 length 130 exceeds max_len 128 and has been truncated\n",
            "  warnings.warn(msg)\n",
            "/usr/local/lib/python3.7/dist-packages/NERDA/preprocessing.py:80: UserWarning: Sentence #33 length 174 exceeds max_len 128 and has been truncated\n",
            "  warnings.warn(msg)\n",
            " 14%|█▎        | 3/22 [00:01<00:05,  3.29it/s]/usr/local/lib/python3.7/dist-packages/NERDA/preprocessing.py:80: UserWarning: Sentence #36 length 233 exceeds max_len 128 and has been truncated\n",
            "  warnings.warn(msg)\n",
            "/usr/local/lib/python3.7/dist-packages/NERDA/preprocessing.py:80: UserWarning: Sentence #37 length 149 exceeds max_len 128 and has been truncated\n",
            "  warnings.warn(msg)\n",
            " 23%|██▎       | 5/22 [00:01<00:04,  3.91it/s]/usr/local/lib/python3.7/dist-packages/NERDA/preprocessing.py:80: UserWarning: Sentence #51 length 132 exceeds max_len 128 and has been truncated\n",
            "  warnings.warn(msg)\n",
            " 27%|██▋       | 6/22 [00:01<00:03,  4.07it/s]/usr/local/lib/python3.7/dist-packages/NERDA/preprocessing.py:80: UserWarning: Sentence #60 length 171 exceeds max_len 128 and has been truncated\n",
            "  warnings.warn(msg)\n",
            " 36%|███▋      | 8/22 [00:02<00:03,  4.31it/s]/usr/local/lib/python3.7/dist-packages/NERDA/preprocessing.py:80: UserWarning: Sentence #70 length 128 exceeds max_len 128 and has been truncated\n",
            "  warnings.warn(msg)\n",
            " 45%|████▌     | 10/22 [00:02<00:02,  4.42it/s]/usr/local/lib/python3.7/dist-packages/NERDA/preprocessing.py:80: UserWarning: Sentence #90 length 127 exceeds max_len 128 and has been truncated\n",
            "  warnings.warn(msg)\n",
            "100%|██████████| 22/22 [00:05<00:00,  4.21it/s]\n",
            "  0%|          | 0/6 [00:00<?, ?it/s]/usr/local/lib/python3.7/dist-packages/NERDA/preprocessing.py:80: UserWarning: Sentence #6 length 327 exceeds max_len 128 and has been truncated\n",
            "  warnings.warn(msg)\n",
            "/usr/local/lib/python3.7/dist-packages/NERDA/preprocessing.py:80: UserWarning: Sentence #16 length 132 exceeds max_len 128 and has been truncated\n",
            "  warnings.warn(msg)\n",
            "100%|██████████| 6/6 [00:00<00:00, 10.95it/s]\n"
          ]
        },
        {
          "output_type": "stream",
          "name": "stdout",
          "text": [
            "Train Loss = 0.08475091623735022 Valid Loss = 0.9602770867447058\n",
            "\n",
            " Epoch 9 / 11\n"
          ]
        },
        {
          "output_type": "stream",
          "name": "stderr",
          "text": [
            "\r  0%|          | 0/22 [00:00<?, ?it/s]/usr/local/lib/python3.7/dist-packages/NERDA/preprocessing.py:80: UserWarning: Sentence #6 length 262 exceeds max_len 128 and has been truncated\n",
            "  warnings.warn(msg)\n",
            "/usr/local/lib/python3.7/dist-packages/NERDA/preprocessing.py:80: UserWarning: Sentence #14 length 152 exceeds max_len 128 and has been truncated\n",
            "  warnings.warn(msg)\n",
            "  9%|▉         | 2/22 [00:00<00:05,  3.75it/s]/usr/local/lib/python3.7/dist-packages/NERDA/preprocessing.py:80: UserWarning: Sentence #31 length 150 exceeds max_len 128 and has been truncated\n",
            "  warnings.warn(msg)\n",
            "/usr/local/lib/python3.7/dist-packages/NERDA/preprocessing.py:80: UserWarning: Sentence #32 length 130 exceeds max_len 128 and has been truncated\n",
            "  warnings.warn(msg)\n",
            "/usr/local/lib/python3.7/dist-packages/NERDA/preprocessing.py:80: UserWarning: Sentence #33 length 174 exceeds max_len 128 and has been truncated\n",
            "  warnings.warn(msg)\n",
            " 14%|█▎        | 3/22 [00:00<00:04,  4.06it/s]/usr/local/lib/python3.7/dist-packages/NERDA/preprocessing.py:80: UserWarning: Sentence #36 length 233 exceeds max_len 128 and has been truncated\n",
            "  warnings.warn(msg)\n",
            "/usr/local/lib/python3.7/dist-packages/NERDA/preprocessing.py:80: UserWarning: Sentence #37 length 149 exceeds max_len 128 and has been truncated\n",
            "  warnings.warn(msg)\n",
            " 23%|██▎       | 5/22 [00:01<00:03,  4.36it/s]/usr/local/lib/python3.7/dist-packages/NERDA/preprocessing.py:80: UserWarning: Sentence #51 length 132 exceeds max_len 128 and has been truncated\n",
            "  warnings.warn(msg)\n",
            " 27%|██▋       | 6/22 [00:01<00:03,  4.45it/s]/usr/local/lib/python3.7/dist-packages/NERDA/preprocessing.py:80: UserWarning: Sentence #60 length 171 exceeds max_len 128 and has been truncated\n",
            "  warnings.warn(msg)\n",
            " 36%|███▋      | 8/22 [00:01<00:03,  4.54it/s]/usr/local/lib/python3.7/dist-packages/NERDA/preprocessing.py:80: UserWarning: Sentence #70 length 128 exceeds max_len 128 and has been truncated\n",
            "  warnings.warn(msg)\n",
            " 45%|████▌     | 10/22 [00:02<00:02,  4.49it/s]/usr/local/lib/python3.7/dist-packages/NERDA/preprocessing.py:80: UserWarning: Sentence #90 length 127 exceeds max_len 128 and has been truncated\n",
            "  warnings.warn(msg)\n",
            "100%|██████████| 22/22 [00:04<00:00,  4.46it/s]\n",
            "  0%|          | 0/6 [00:00<?, ?it/s]/usr/local/lib/python3.7/dist-packages/NERDA/preprocessing.py:80: UserWarning: Sentence #6 length 327 exceeds max_len 128 and has been truncated\n",
            "  warnings.warn(msg)\n",
            "/usr/local/lib/python3.7/dist-packages/NERDA/preprocessing.py:80: UserWarning: Sentence #16 length 132 exceeds max_len 128 and has been truncated\n",
            "  warnings.warn(msg)\n",
            "100%|██████████| 6/6 [00:00<00:00, 11.01it/s]\n"
          ]
        },
        {
          "output_type": "stream",
          "name": "stdout",
          "text": [
            "Train Loss = 0.06907682205465707 Valid Loss = 1.0134043221672375\n",
            "\n",
            " Epoch 10 / 11\n"
          ]
        },
        {
          "output_type": "stream",
          "name": "stderr",
          "text": [
            "\r  0%|          | 0/22 [00:00<?, ?it/s]/usr/local/lib/python3.7/dist-packages/NERDA/preprocessing.py:80: UserWarning: Sentence #6 length 262 exceeds max_len 128 and has been truncated\n",
            "  warnings.warn(msg)\n",
            "/usr/local/lib/python3.7/dist-packages/NERDA/preprocessing.py:80: UserWarning: Sentence #14 length 152 exceeds max_len 128 and has been truncated\n",
            "  warnings.warn(msg)\n",
            "  9%|▉         | 2/22 [00:00<00:05,  3.69it/s]/usr/local/lib/python3.7/dist-packages/NERDA/preprocessing.py:80: UserWarning: Sentence #31 length 150 exceeds max_len 128 and has been truncated\n",
            "  warnings.warn(msg)\n",
            "/usr/local/lib/python3.7/dist-packages/NERDA/preprocessing.py:80: UserWarning: Sentence #32 length 130 exceeds max_len 128 and has been truncated\n",
            "  warnings.warn(msg)\n",
            "/usr/local/lib/python3.7/dist-packages/NERDA/preprocessing.py:80: UserWarning: Sentence #33 length 174 exceeds max_len 128 and has been truncated\n",
            "  warnings.warn(msg)\n",
            " 14%|█▎        | 3/22 [00:00<00:04,  4.06it/s]/usr/local/lib/python3.7/dist-packages/NERDA/preprocessing.py:80: UserWarning: Sentence #36 length 233 exceeds max_len 128 and has been truncated\n",
            "  warnings.warn(msg)\n",
            "/usr/local/lib/python3.7/dist-packages/NERDA/preprocessing.py:80: UserWarning: Sentence #37 length 149 exceeds max_len 128 and has been truncated\n",
            "  warnings.warn(msg)\n",
            " 23%|██▎       | 5/22 [00:01<00:03,  4.33it/s]/usr/local/lib/python3.7/dist-packages/NERDA/preprocessing.py:80: UserWarning: Sentence #51 length 132 exceeds max_len 128 and has been truncated\n",
            "  warnings.warn(msg)\n",
            " 27%|██▋       | 6/22 [00:01<00:03,  4.38it/s]/usr/local/lib/python3.7/dist-packages/NERDA/preprocessing.py:80: UserWarning: Sentence #60 length 171 exceeds max_len 128 and has been truncated\n",
            "  warnings.warn(msg)\n",
            " 36%|███▋      | 8/22 [00:01<00:03,  4.48it/s]/usr/local/lib/python3.7/dist-packages/NERDA/preprocessing.py:80: UserWarning: Sentence #70 length 128 exceeds max_len 128 and has been truncated\n",
            "  warnings.warn(msg)\n",
            " 45%|████▌     | 10/22 [00:02<00:02,  4.51it/s]/usr/local/lib/python3.7/dist-packages/NERDA/preprocessing.py:80: UserWarning: Sentence #90 length 127 exceeds max_len 128 and has been truncated\n",
            "  warnings.warn(msg)\n",
            "100%|██████████| 22/22 [00:04<00:00,  4.43it/s]\n",
            "  0%|          | 0/6 [00:00<?, ?it/s]/usr/local/lib/python3.7/dist-packages/NERDA/preprocessing.py:80: UserWarning: Sentence #6 length 327 exceeds max_len 128 and has been truncated\n",
            "  warnings.warn(msg)\n",
            "/usr/local/lib/python3.7/dist-packages/NERDA/preprocessing.py:80: UserWarning: Sentence #16 length 132 exceeds max_len 128 and has been truncated\n",
            "  warnings.warn(msg)\n",
            "100%|██████████| 6/6 [00:00<00:00, 11.21it/s]\n"
          ]
        },
        {
          "output_type": "stream",
          "name": "stdout",
          "text": [
            "Train Loss = 0.04560473461804742 Valid Loss = 1.0744890390584867\n",
            "\n",
            " Epoch 11 / 11\n"
          ]
        },
        {
          "output_type": "stream",
          "name": "stderr",
          "text": [
            "\r  0%|          | 0/22 [00:00<?, ?it/s]/usr/local/lib/python3.7/dist-packages/NERDA/preprocessing.py:80: UserWarning: Sentence #6 length 262 exceeds max_len 128 and has been truncated\n",
            "  warnings.warn(msg)\n",
            "/usr/local/lib/python3.7/dist-packages/NERDA/preprocessing.py:80: UserWarning: Sentence #14 length 152 exceeds max_len 128 and has been truncated\n",
            "  warnings.warn(msg)\n",
            "  9%|▉         | 2/22 [00:00<00:05,  3.82it/s]/usr/local/lib/python3.7/dist-packages/NERDA/preprocessing.py:80: UserWarning: Sentence #31 length 150 exceeds max_len 128 and has been truncated\n",
            "  warnings.warn(msg)\n",
            "/usr/local/lib/python3.7/dist-packages/NERDA/preprocessing.py:80: UserWarning: Sentence #32 length 130 exceeds max_len 128 and has been truncated\n",
            "  warnings.warn(msg)\n",
            "/usr/local/lib/python3.7/dist-packages/NERDA/preprocessing.py:80: UserWarning: Sentence #33 length 174 exceeds max_len 128 and has been truncated\n",
            "  warnings.warn(msg)\n",
            " 14%|█▎        | 3/22 [00:00<00:04,  4.10it/s]/usr/local/lib/python3.7/dist-packages/NERDA/preprocessing.py:80: UserWarning: Sentence #36 length 233 exceeds max_len 128 and has been truncated\n",
            "  warnings.warn(msg)\n",
            "/usr/local/lib/python3.7/dist-packages/NERDA/preprocessing.py:80: UserWarning: Sentence #37 length 149 exceeds max_len 128 and has been truncated\n",
            "  warnings.warn(msg)\n",
            " 23%|██▎       | 5/22 [00:01<00:03,  4.28it/s]/usr/local/lib/python3.7/dist-packages/NERDA/preprocessing.py:80: UserWarning: Sentence #51 length 132 exceeds max_len 128 and has been truncated\n",
            "  warnings.warn(msg)\n",
            " 27%|██▋       | 6/22 [00:01<00:03,  4.36it/s]/usr/local/lib/python3.7/dist-packages/NERDA/preprocessing.py:80: UserWarning: Sentence #60 length 171 exceeds max_len 128 and has been truncated\n",
            "  warnings.warn(msg)\n",
            " 36%|███▋      | 8/22 [00:01<00:03,  4.47it/s]/usr/local/lib/python3.7/dist-packages/NERDA/preprocessing.py:80: UserWarning: Sentence #70 length 128 exceeds max_len 128 and has been truncated\n",
            "  warnings.warn(msg)\n",
            " 45%|████▌     | 10/22 [00:02<00:02,  4.56it/s]/usr/local/lib/python3.7/dist-packages/NERDA/preprocessing.py:80: UserWarning: Sentence #90 length 127 exceeds max_len 128 and has been truncated\n",
            "  warnings.warn(msg)\n",
            "100%|██████████| 22/22 [00:04<00:00,  4.46it/s]\n",
            "  0%|          | 0/6 [00:00<?, ?it/s]/usr/local/lib/python3.7/dist-packages/NERDA/preprocessing.py:80: UserWarning: Sentence #6 length 327 exceeds max_len 128 and has been truncated\n",
            "  warnings.warn(msg)\n",
            "/usr/local/lib/python3.7/dist-packages/NERDA/preprocessing.py:80: UserWarning: Sentence #16 length 132 exceeds max_len 128 and has been truncated\n",
            "  warnings.warn(msg)\n",
            "100%|██████████| 6/6 [00:00<00:00, 10.96it/s]"
          ]
        },
        {
          "output_type": "stream",
          "name": "stdout",
          "text": [
            "Train Loss = 0.03945068291134455 Valid Loss = 1.0790673283239205\n"
          ]
        },
        {
          "output_type": "stream",
          "name": "stderr",
          "text": [
            "\n"
          ]
        },
        {
          "output_type": "stream",
          "name": "stdout",
          "text": [
            "       Level  F1-Score  Precision  Recall\n",
            "0          I  0.948454   0.901961  1.0000\n",
            "1          B  0.787879   0.764706  0.8125\n",
            "0  AVG_MICRO  0.935867        NaN     NaN\n",
            "0  AVG_MICRO  0.868166        NaN     NaN\n"
          ]
        }
      ]
    },
    {
      "cell_type": "code",
      "source": [
        "import os\n",
        "import glob\n",
        "import pandas as pd\n",
        "\n",
        "extension = 'csv'\n",
        "all_filenames = [i for i in glob.glob('*.{}'.format(extension))]\n",
        "combined_csv = pd.concat([pd.read_csv(f) for f in all_filenames ])\n",
        "\n",
        "combined_csv.to_csv( \"10folds.csv\", index=False, encoding='utf-8-sig')"
      ],
      "metadata": {
        "id": "9D453gj3XH64"
      },
      "execution_count": 46,
      "outputs": []
    }
  ]
}