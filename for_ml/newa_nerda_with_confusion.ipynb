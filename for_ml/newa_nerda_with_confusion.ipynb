{
  "nbformat": 4,
  "nbformat_minor": 0,
  "metadata": {
    "colab": {
      "name": "newa_nerda_with_confusion.ipynb",
      "provenance": [],
      "collapsed_sections": []
    },
    "kernelspec": {
      "name": "python3",
      "display_name": "Python 3"
    },
    "language_info": {
      "name": "python"
    },
    "accelerator": "GPU",
    "widgets": {
      "application/vnd.jupyter.widget-state+json": {
        "54202426417645da8f5adbdb3c4adb9e": {
          "model_module": "@jupyter-widgets/controls",
          "model_name": "HBoxModel",
          "model_module_version": "1.5.0",
          "state": {
            "_view_name": "HBoxView",
            "_dom_classes": [],
            "_model_name": "HBoxModel",
            "_view_module": "@jupyter-widgets/controls",
            "_model_module_version": "1.5.0",
            "_view_count": null,
            "_view_module_version": "1.5.0",
            "box_style": "",
            "layout": "IPY_MODEL_0484c1ff10674ab183a450336ce35863",
            "_model_module": "@jupyter-widgets/controls",
            "children": [
              "IPY_MODEL_25e275e44f1c40868301283a14644f45",
              "IPY_MODEL_afe4770350cc4e409484dd49002f988c",
              "IPY_MODEL_7b83752f3f6247f4b9a3e7d604bfcff3"
            ]
          }
        },
        "0484c1ff10674ab183a450336ce35863": {
          "model_module": "@jupyter-widgets/base",
          "model_name": "LayoutModel",
          "model_module_version": "1.2.0",
          "state": {
            "_view_name": "LayoutView",
            "grid_template_rows": null,
            "right": null,
            "justify_content": null,
            "_view_module": "@jupyter-widgets/base",
            "overflow": null,
            "_model_module_version": "1.2.0",
            "_view_count": null,
            "flex_flow": null,
            "width": null,
            "min_width": null,
            "border": null,
            "align_items": null,
            "bottom": null,
            "_model_module": "@jupyter-widgets/base",
            "top": null,
            "grid_column": null,
            "overflow_y": null,
            "overflow_x": null,
            "grid_auto_flow": null,
            "grid_area": null,
            "grid_template_columns": null,
            "flex": null,
            "_model_name": "LayoutModel",
            "justify_items": null,
            "grid_row": null,
            "max_height": null,
            "align_content": null,
            "visibility": null,
            "align_self": null,
            "height": null,
            "min_height": null,
            "padding": null,
            "grid_auto_rows": null,
            "grid_gap": null,
            "max_width": null,
            "order": null,
            "_view_module_version": "1.2.0",
            "grid_template_areas": null,
            "object_position": null,
            "object_fit": null,
            "grid_auto_columns": null,
            "margin": null,
            "display": null,
            "left": null
          }
        },
        "25e275e44f1c40868301283a14644f45": {
          "model_module": "@jupyter-widgets/controls",
          "model_name": "HTMLModel",
          "model_module_version": "1.5.0",
          "state": {
            "_view_name": "HTMLView",
            "style": "IPY_MODEL_edab9d44f288429a8e3dcb9f69b1a1b6",
            "_dom_classes": [],
            "description": "",
            "_model_name": "HTMLModel",
            "placeholder": "​",
            "_view_module": "@jupyter-widgets/controls",
            "_model_module_version": "1.5.0",
            "value": "Downloading: 100%",
            "_view_count": null,
            "_view_module_version": "1.5.0",
            "description_tooltip": null,
            "_model_module": "@jupyter-widgets/controls",
            "layout": "IPY_MODEL_a40aa80fcfbe4c9cbd052927f19f68e5"
          }
        },
        "afe4770350cc4e409484dd49002f988c": {
          "model_module": "@jupyter-widgets/controls",
          "model_name": "FloatProgressModel",
          "model_module_version": "1.5.0",
          "state": {
            "_view_name": "ProgressView",
            "style": "IPY_MODEL_c233929e50d3474dabe5df37076a7366",
            "_dom_classes": [],
            "description": "",
            "_model_name": "FloatProgressModel",
            "bar_style": "success",
            "max": 625,
            "_view_module": "@jupyter-widgets/controls",
            "_model_module_version": "1.5.0",
            "value": 625,
            "_view_count": null,
            "_view_module_version": "1.5.0",
            "orientation": "horizontal",
            "min": 0,
            "description_tooltip": null,
            "_model_module": "@jupyter-widgets/controls",
            "layout": "IPY_MODEL_6af0e3bea97941e39f90ee3d39f5e9d5"
          }
        },
        "7b83752f3f6247f4b9a3e7d604bfcff3": {
          "model_module": "@jupyter-widgets/controls",
          "model_name": "HTMLModel",
          "model_module_version": "1.5.0",
          "state": {
            "_view_name": "HTMLView",
            "style": "IPY_MODEL_7db0b79fb13642c6b06697de39d11530",
            "_dom_classes": [],
            "description": "",
            "_model_name": "HTMLModel",
            "placeholder": "​",
            "_view_module": "@jupyter-widgets/controls",
            "_model_module_version": "1.5.0",
            "value": " 625/625 [00:00&lt;00:00, 13.6kB/s]",
            "_view_count": null,
            "_view_module_version": "1.5.0",
            "description_tooltip": null,
            "_model_module": "@jupyter-widgets/controls",
            "layout": "IPY_MODEL_b921952497c2487399ac75013ce05d80"
          }
        },
        "edab9d44f288429a8e3dcb9f69b1a1b6": {
          "model_module": "@jupyter-widgets/controls",
          "model_name": "DescriptionStyleModel",
          "model_module_version": "1.5.0",
          "state": {
            "_view_name": "StyleView",
            "_model_name": "DescriptionStyleModel",
            "description_width": "",
            "_view_module": "@jupyter-widgets/base",
            "_model_module_version": "1.5.0",
            "_view_count": null,
            "_view_module_version": "1.2.0",
            "_model_module": "@jupyter-widgets/controls"
          }
        },
        "a40aa80fcfbe4c9cbd052927f19f68e5": {
          "model_module": "@jupyter-widgets/base",
          "model_name": "LayoutModel",
          "model_module_version": "1.2.0",
          "state": {
            "_view_name": "LayoutView",
            "grid_template_rows": null,
            "right": null,
            "justify_content": null,
            "_view_module": "@jupyter-widgets/base",
            "overflow": null,
            "_model_module_version": "1.2.0",
            "_view_count": null,
            "flex_flow": null,
            "width": null,
            "min_width": null,
            "border": null,
            "align_items": null,
            "bottom": null,
            "_model_module": "@jupyter-widgets/base",
            "top": null,
            "grid_column": null,
            "overflow_y": null,
            "overflow_x": null,
            "grid_auto_flow": null,
            "grid_area": null,
            "grid_template_columns": null,
            "flex": null,
            "_model_name": "LayoutModel",
            "justify_items": null,
            "grid_row": null,
            "max_height": null,
            "align_content": null,
            "visibility": null,
            "align_self": null,
            "height": null,
            "min_height": null,
            "padding": null,
            "grid_auto_rows": null,
            "grid_gap": null,
            "max_width": null,
            "order": null,
            "_view_module_version": "1.2.0",
            "grid_template_areas": null,
            "object_position": null,
            "object_fit": null,
            "grid_auto_columns": null,
            "margin": null,
            "display": null,
            "left": null
          }
        },
        "c233929e50d3474dabe5df37076a7366": {
          "model_module": "@jupyter-widgets/controls",
          "model_name": "ProgressStyleModel",
          "model_module_version": "1.5.0",
          "state": {
            "_view_name": "StyleView",
            "_model_name": "ProgressStyleModel",
            "description_width": "",
            "_view_module": "@jupyter-widgets/base",
            "_model_module_version": "1.5.0",
            "_view_count": null,
            "_view_module_version": "1.2.0",
            "bar_color": null,
            "_model_module": "@jupyter-widgets/controls"
          }
        },
        "6af0e3bea97941e39f90ee3d39f5e9d5": {
          "model_module": "@jupyter-widgets/base",
          "model_name": "LayoutModel",
          "model_module_version": "1.2.0",
          "state": {
            "_view_name": "LayoutView",
            "grid_template_rows": null,
            "right": null,
            "justify_content": null,
            "_view_module": "@jupyter-widgets/base",
            "overflow": null,
            "_model_module_version": "1.2.0",
            "_view_count": null,
            "flex_flow": null,
            "width": null,
            "min_width": null,
            "border": null,
            "align_items": null,
            "bottom": null,
            "_model_module": "@jupyter-widgets/base",
            "top": null,
            "grid_column": null,
            "overflow_y": null,
            "overflow_x": null,
            "grid_auto_flow": null,
            "grid_area": null,
            "grid_template_columns": null,
            "flex": null,
            "_model_name": "LayoutModel",
            "justify_items": null,
            "grid_row": null,
            "max_height": null,
            "align_content": null,
            "visibility": null,
            "align_self": null,
            "height": null,
            "min_height": null,
            "padding": null,
            "grid_auto_rows": null,
            "grid_gap": null,
            "max_width": null,
            "order": null,
            "_view_module_version": "1.2.0",
            "grid_template_areas": null,
            "object_position": null,
            "object_fit": null,
            "grid_auto_columns": null,
            "margin": null,
            "display": null,
            "left": null
          }
        },
        "7db0b79fb13642c6b06697de39d11530": {
          "model_module": "@jupyter-widgets/controls",
          "model_name": "DescriptionStyleModel",
          "model_module_version": "1.5.0",
          "state": {
            "_view_name": "StyleView",
            "_model_name": "DescriptionStyleModel",
            "description_width": "",
            "_view_module": "@jupyter-widgets/base",
            "_model_module_version": "1.5.0",
            "_view_count": null,
            "_view_module_version": "1.2.0",
            "_model_module": "@jupyter-widgets/controls"
          }
        },
        "b921952497c2487399ac75013ce05d80": {
          "model_module": "@jupyter-widgets/base",
          "model_name": "LayoutModel",
          "model_module_version": "1.2.0",
          "state": {
            "_view_name": "LayoutView",
            "grid_template_rows": null,
            "right": null,
            "justify_content": null,
            "_view_module": "@jupyter-widgets/base",
            "overflow": null,
            "_model_module_version": "1.2.0",
            "_view_count": null,
            "flex_flow": null,
            "width": null,
            "min_width": null,
            "border": null,
            "align_items": null,
            "bottom": null,
            "_model_module": "@jupyter-widgets/base",
            "top": null,
            "grid_column": null,
            "overflow_y": null,
            "overflow_x": null,
            "grid_auto_flow": null,
            "grid_area": null,
            "grid_template_columns": null,
            "flex": null,
            "_model_name": "LayoutModel",
            "justify_items": null,
            "grid_row": null,
            "max_height": null,
            "align_content": null,
            "visibility": null,
            "align_self": null,
            "height": null,
            "min_height": null,
            "padding": null,
            "grid_auto_rows": null,
            "grid_gap": null,
            "max_width": null,
            "order": null,
            "_view_module_version": "1.2.0",
            "grid_template_areas": null,
            "object_position": null,
            "object_fit": null,
            "grid_auto_columns": null,
            "margin": null,
            "display": null,
            "left": null
          }
        }
      }
    }
  },
  "cells": [
    {
      "cell_type": "code",
      "metadata": {
        "id": "q47fTE12Mdr4"
      },
      "source": [
        "pip install NERDA"
      ],
      "execution_count": null,
      "outputs": []
    },
    {
      "cell_type": "code",
      "metadata": {
        "id": "Ekchwg5vr-yI"
      },
      "source": [
        "from collections import defaultdict\n",
        "import itertools\n",
        "# import WhitespaceTokenizer() method from nltk\n",
        "from nltk.tokenize import WhitespaceTokenizer\n",
        "# Create a reference variable for Class WhitespaceTokenizer\n",
        "tk = WhitespaceTokenizer()\n",
        "\n",
        "d = defaultdict(list)\n",
        "d['sentences'] = []\n",
        "d['tags'] = []\n",
        "t = defaultdict(list)\n",
        "t['sentences'] = []\n",
        "t['tags'] = []\n",
        "test = defaultdict(list)\n",
        "test['sentences'] = []\n",
        "test['tags'] = []\n"
      ],
      "execution_count": 23,
      "outputs": []
    },
    {
      "cell_type": "code",
      "metadata": {
        "id": "YwxBPJELsEQ4"
      },
      "source": [
        "def nerda_format(data):\n",
        "  ner = defaultdict(list)\n",
        "  for line1,line2 in itertools.zip_longest(*[data]*2):\n",
        "    sents = []\n",
        "    tags = []\n",
        "    tokens = iter(tk.tokenize(line1))\n",
        "    current_tag = \"O\"\n",
        "    for token in tokens:\n",
        "      suffix = \"\"\n",
        "      if token in line2:\n",
        "        suffix = \"-V\" \n",
        "                # Good: even if the verb is complex (aka spaced out),suffix can still apply to the entire phrase\n",
        "                # Bad: false positive -V may occur, if one word that has multiple meanings occurring more than one time in the same sentence \n",
        "      try:\n",
        "        if token == \"[\":\n",
        "          current_tag = \"I\"\n",
        "          tags.append(\"B\" + suffix)\n",
        "          sents.append(next(tokens))\n",
        "        elif token == \"]\":\n",
        "          current_tag = \"O\"\n",
        "            #   tags.append(current_tag+suffix)\n",
        "            #   sents.append(next(tokens))\n",
        "        else:\n",
        "          tags.append(current_tag+suffix)\n",
        "          sents.append(token)\n",
        "      except StopIteration:\n",
        "        pass\n",
        "    ner['sentences'].append(sents)\n",
        "    ner['tags'].append(tags)\n",
        "  return ner"
      ],
      "execution_count": 24,
      "outputs": []
    },
    {
      "cell_type": "code",
      "metadata": {
        "id": "w1z5K5x7sGu8"
      },
      "source": [
        "with open('dev.txt') as data:\n",
        "    d = nerda_format(data)\n",
        "    #d['sentences'] = ner['sentences']\n",
        "    #d['tags'] = ner['tags']\n",
        "\n",
        "with open('train.txt') as data:\n",
        "    t = nerda_format(data)\n",
        "  #  t['sentences'] = ner['sentences']\n",
        "  #  t['tags'] = ner['tags']\n",
        "\n",
        "with open('test.txt') as data:\n",
        "    test = nerda_format(data)\n",
        "  #  test['sentences'] = ner['sentences']\n",
        "  #  test['tags'] = ner['tags']\n",
        "\n",
        "#print(len(d['sentences']))\n",
        "#print (d['sentences'][1])\n",
        "#print (d['tags'][1])"
      ],
      "execution_count": 25,
      "outputs": []
    },
    {
      "cell_type": "code",
      "metadata": {
        "id": "hP37OlC_1aPA"
      },
      "source": [
        "d_total_O = 0\n",
        "t_total_O = 0\n",
        "test_total_O = 0\n",
        "\n",
        "d_total_I = 0\n",
        "t_total_I = 0\n",
        "test_total_I = 0\n",
        "\n",
        "d_total_B = 0\n",
        "t_total_B = 0\n",
        "test_total_B = 0\n",
        "\n",
        "d_total_BV = 0\n",
        "t_total_BV = 0\n",
        "test_total_BV = 0\n",
        "\n",
        "d_total_OV = 0\n",
        "t_total_OV = 0\n",
        "test_total_OV = 0\n",
        "\n",
        "d_total_IV = 0\n",
        "t_total_IV = 0\n",
        "test_total_IV = 0\n",
        "\n",
        "\n",
        "for elem in d['tags']:\n",
        "  d_total_O += elem.count('O')\n",
        "  d_total_I += elem.count('I')\n",
        "  d_total_B += elem.count('B')\n",
        "  d_total_IV += elem.count('I-V')\n",
        "  d_total_BV += elem.count('B-V')\n",
        "  d_total_OV += elem.count('O-V')\n",
        "\n",
        "for elem in t['tags']:\n",
        "  t_total_O += elem.count('O')\n",
        "  t_total_I += elem.count('I')\n",
        "  t_total_B += elem.count('B')\n",
        "  t_total_IV += elem.count('I-V')\n",
        "  t_total_BV += elem.count('B-V')\n",
        "  t_total_OV += elem.count('O-V')\n",
        "\n",
        "for elem in test['tags']:\n",
        "  test_total_O += elem.count('O')\n",
        "  test_total_I += elem.count('I')\n",
        "  test_total_B += elem.count('B')\n",
        "  test_total_IV += elem.count('I-V')\n",
        "  test_total_BV += elem.count('B-V')\n",
        "  test_total_OV += elem.count('O-V')\n",
        "\n"
      ],
      "execution_count": 26,
      "outputs": []
    },
    {
      "cell_type": "code",
      "metadata": {
        "colab": {
          "base_uri": "https://localhost:8080/"
        },
        "id": "Jv75QRWz4Fjy",
        "outputId": "37f0232d-fe67-4b11-e7b3-ae26562690de"
      },
      "source": [
        "print ('I' + '=' + str(d_total_I + t_total_I + test_total_I))\n",
        "print ('O' + '=' + str(d_total_O + t_total_O + test_total_O))\n",
        "print ('B' + '=' + str(d_total_B + t_total_B + test_total_B))\n",
        "print ('IV' + '=' + str(d_total_IV + t_total_IV + test_total_IV))\n",
        "print ('OV' + '=' + str(d_total_OV + t_total_OV + test_total_OV))\n",
        "print ('BV' + '=' + str(d_total_BV + t_total_BV + test_total_BV))"
      ],
      "execution_count": 27,
      "outputs": [
        {
          "output_type": "stream",
          "name": "stdout",
          "text": [
            "I=2133\n",
            "O=1618\n",
            "B=207\n",
            "IV=199\n",
            "OV=315\n",
            "BV=1\n"
          ]
        }
      ]
    },
    {
      "cell_type": "code",
      "metadata": {
        "id": "D-t5Vpc9MmsB"
      },
      "source": [
        "import NERDA\n",
        "training = d\n",
        "validation = t"
      ],
      "execution_count": 28,
      "outputs": []
    },
    {
      "cell_type": "code",
      "metadata": {
        "colab": {
          "base_uri": "https://localhost:8080/"
        },
        "id": "v8sAUm7342HY",
        "outputId": "3f4977f2-9b26-4f67-f417-c064c41b5431"
      },
      "source": [
        "print(training.get('sentences')[0])"
      ],
      "execution_count": 29,
      "outputs": [
        {
          "output_type": "stream",
          "name": "stdout",
          "text": [
            "['अले', 'ग्वल', 'लागाय्', 'नं', 'उगु', 'हे', 'कथं', 'दुःख', 'बिउ', 'वइ', 'धकाः', 'तायेका', 'ग्वलया', 'मनूतय्सं', 'जिमिथाय्', 'मस्त', 'काः', 'वलकि', 'थथे', 'याये', 'धकाः', 'ख्यायेगु', 'नितिं', 'उगु', 'कथं', 'मचायात', 'खड्गय्', 'तिया', 'जात्रा', 'यायेगु', 'यानातःगु', 'खः', 'धाइ']\n"
          ]
        }
      ]
    },
    {
      "cell_type": "code",
      "metadata": {
        "id": "a8LjV-nhODpY"
      },
      "source": [
        "tag_scheme = [\n",
        "'B',\n",
        "'B-V',\n",
        "'I',\n",
        "'I-V',\n",
        "'O-V'\n",
        "]"
      ],
      "execution_count": 30,
      "outputs": []
    },
    {
      "cell_type": "code",
      "metadata": {
        "colab": {
          "base_uri": "https://localhost:8080/",
          "height": 266,
          "referenced_widgets": [
            "54202426417645da8f5adbdb3c4adb9e",
            "0484c1ff10674ab183a450336ce35863",
            "25e275e44f1c40868301283a14644f45",
            "afe4770350cc4e409484dd49002f988c",
            "7b83752f3f6247f4b9a3e7d604bfcff3",
            "edab9d44f288429a8e3dcb9f69b1a1b6",
            "a40aa80fcfbe4c9cbd052927f19f68e5",
            "c233929e50d3474dabe5df37076a7366",
            "6af0e3bea97941e39f90ee3d39f5e9d5",
            "7db0b79fb13642c6b06697de39d11530",
            "b921952497c2487399ac75013ce05d80"
          ]
        },
        "id": "buEv3oyKOtNO",
        "outputId": "28fd1ba6-b936-44e7-c750-51a6c3129700"
      },
      "source": [
        "from NERDA.models import NERDA\n",
        "model = NERDA(\n",
        "dataset_training = training,\n",
        "dataset_validation = validation,\n",
        "tag_scheme = tag_scheme, \n",
        "tag_outside = 'O',\n",
        "transformer = 'bert-base-multilingual-cased',\n",
        "hyperparameters = {'epochs' : 11,\n",
        "                  'warmup_steps' : 10,\n",
        "                  'train_batch_size': 5,\n",
        "                  'learning_rate': 0.0001})"
      ],
      "execution_count": 31,
      "outputs": [
        {
          "output_type": "stream",
          "name": "stdout",
          "text": [
            "Device automatically set to: cuda\n"
          ]
        },
        {
          "output_type": "display_data",
          "data": {
            "application/vnd.jupyter.widget-view+json": {
              "model_id": "54202426417645da8f5adbdb3c4adb9e",
              "version_minor": 0,
              "version_major": 2
            },
            "text/plain": [
              "Downloading:   0%|          | 0.00/625 [00:00<?, ?B/s]"
            ]
          },
          "metadata": {}
        },
        {
          "output_type": "display_data",
          "data": {
            "application/vnd.jupyter.widget-view+json": {
              "model_id": "399cfe6c52224b72b5ccf49103cc1042",
              "version_minor": 0,
              "version_major": 2
            },
            "text/plain": [
              "Downloading:   0%|          | 0.00/681M [00:00<?, ?B/s]"
            ]
          },
          "metadata": {}
        },
        {
          "output_type": "stream",
          "name": "stderr",
          "text": [
            "Some weights of the model checkpoint at bert-base-multilingual-cased were not used when initializing BertModel: ['cls.predictions.transform.dense.weight', 'cls.predictions.decoder.weight', 'cls.predictions.transform.dense.bias', 'cls.predictions.bias', 'cls.seq_relationship.bias', 'cls.predictions.transform.LayerNorm.weight', 'cls.seq_relationship.weight', 'cls.predictions.transform.LayerNorm.bias']\n",
            "- This IS expected if you are initializing BertModel from the checkpoint of a model trained on another task or with another architecture (e.g. initializing a BertForSequenceClassification model from a BertForPreTraining model).\n",
            "- This IS NOT expected if you are initializing BertModel from the checkpoint of a model that you expect to be exactly identical (initializing a BertForSequenceClassification model from a BertForSequenceClassification model).\n"
          ]
        },
        {
          "output_type": "display_data",
          "data": {
            "application/vnd.jupyter.widget-view+json": {
              "model_id": "dce35364226c4c05b78e2870bf338bd1",
              "version_minor": 0,
              "version_major": 2
            },
            "text/plain": [
              "Downloading:   0%|          | 0.00/29.0 [00:00<?, ?B/s]"
            ]
          },
          "metadata": {}
        },
        {
          "output_type": "display_data",
          "data": {
            "application/vnd.jupyter.widget-view+json": {
              "model_id": "8d433bf7da9d4655ba39acf99e022803",
              "version_minor": 0,
              "version_major": 2
            },
            "text/plain": [
              "Downloading:   0%|          | 0.00/972k [00:00<?, ?B/s]"
            ]
          },
          "metadata": {}
        },
        {
          "output_type": "display_data",
          "data": {
            "application/vnd.jupyter.widget-view+json": {
              "model_id": "27e7ebcb4abb4466b7fa80e773e03b14",
              "version_minor": 0,
              "version_major": 2
            },
            "text/plain": [
              "Downloading:   0%|          | 0.00/1.87M [00:00<?, ?B/s]"
            ]
          },
          "metadata": {}
        }
      ]
    },
    {
      "cell_type": "code",
      "metadata": {
        "colab": {
          "base_uri": "https://localhost:8080/",
          "height": 1000
        },
        "id": "pEIuVpRPbBeZ",
        "outputId": "d874bf48-aa65-453e-f720-f92bcf8e0f57"
      },
      "source": [
        "model.train()"
      ],
      "execution_count": 32,
      "outputs": [
        {
          "output_type": "stream",
          "name": "stdout",
          "text": [
            "\n",
            " Epoch 1 / 11\n"
          ]
        },
        {
          "output_type": "stream",
          "name": "stderr",
          "text": [
            "\r  0%|          | 0/9 [00:00<?, ?it/s]/usr/local/lib/python3.7/dist-packages/NERDA/preprocessing.py:80: UserWarning: Sentence #6 length 327 exceeds max_len 128 and has been truncated\n",
            "  warnings.warn(msg)\n",
            " 11%|█         | 1/9 [00:00<00:05,  1.41it/s]/usr/local/lib/python3.7/dist-packages/NERDA/preprocessing.py:80: UserWarning: Sentence #16 length 132 exceeds max_len 128 and has been truncated\n",
            "  warnings.warn(msg)\n",
            "100%|██████████| 9/9 [00:03<00:00,  2.82it/s]\n",
            "  0%|          | 0/20 [00:00<?, ?it/s]/usr/local/lib/python3.7/dist-packages/NERDA/preprocessing.py:80: UserWarning: Sentence #6 length 261 exceeds max_len 128 and has been truncated\n",
            "  warnings.warn(msg)\n",
            "/usr/local/lib/python3.7/dist-packages/NERDA/preprocessing.py:80: UserWarning: Sentence #14 length 152 exceeds max_len 128 and has been truncated\n",
            "  warnings.warn(msg)\n",
            " 20%|██        | 4/20 [00:00<00:02,  7.92it/s]/usr/local/lib/python3.7/dist-packages/NERDA/preprocessing.py:80: UserWarning: Sentence #48 length 150 exceeds max_len 128 and has been truncated\n",
            "  warnings.warn(msg)\n",
            "/usr/local/lib/python3.7/dist-packages/NERDA/preprocessing.py:80: UserWarning: Sentence #49 length 130 exceeds max_len 128 and has been truncated\n",
            "  warnings.warn(msg)\n",
            "/usr/local/lib/python3.7/dist-packages/NERDA/preprocessing.py:80: UserWarning: Sentence #50 length 174 exceeds max_len 128 and has been truncated\n",
            "  warnings.warn(msg)\n",
            "/usr/local/lib/python3.7/dist-packages/NERDA/preprocessing.py:80: UserWarning: Sentence #53 length 233 exceeds max_len 128 and has been truncated\n",
            "  warnings.warn(msg)\n",
            "/usr/local/lib/python3.7/dist-packages/NERDA/preprocessing.py:80: UserWarning: Sentence #54 length 149 exceeds max_len 128 and has been truncated\n",
            "  warnings.warn(msg)\n",
            " 30%|███       | 6/20 [00:00<00:01,  8.31it/s]/usr/local/lib/python3.7/dist-packages/NERDA/preprocessing.py:80: UserWarning: Sentence #68 length 132 exceeds max_len 128 and has been truncated\n",
            "  warnings.warn(msg)\n",
            " 35%|███▌      | 7/20 [00:00<00:01,  8.28it/s]/usr/local/lib/python3.7/dist-packages/NERDA/preprocessing.py:80: UserWarning: Sentence #77 length 171 exceeds max_len 128 and has been truncated\n",
            "  warnings.warn(msg)\n",
            " 40%|████      | 8/20 [00:01<00:01,  8.36it/s]/usr/local/lib/python3.7/dist-packages/NERDA/preprocessing.py:80: UserWarning: Sentence #87 length 128 exceeds max_len 128 and has been truncated\n",
            "  warnings.warn(msg)\n",
            " 55%|█████▌    | 11/20 [00:01<00:01,  8.38it/s]/usr/local/lib/python3.7/dist-packages/NERDA/preprocessing.py:80: UserWarning: Sentence #107 length 127 exceeds max_len 128 and has been truncated\n",
            "  warnings.warn(msg)\n",
            "100%|██████████| 20/20 [00:02<00:00,  8.26it/s]\n"
          ]
        },
        {
          "output_type": "stream",
          "name": "stdout",
          "text": [
            "Train Loss = 1.4340456459257338 Valid Loss = 1.1502516746520997\n",
            "\n",
            " Epoch 2 / 11\n"
          ]
        },
        {
          "output_type": "stream",
          "name": "stderr",
          "text": [
            "\r  0%|          | 0/9 [00:00<?, ?it/s]/usr/local/lib/python3.7/dist-packages/NERDA/preprocessing.py:80: UserWarning: Sentence #6 length 327 exceeds max_len 128 and has been truncated\n",
            "  warnings.warn(msg)\n",
            " 11%|█         | 1/9 [00:00<00:03,  2.50it/s]/usr/local/lib/python3.7/dist-packages/NERDA/preprocessing.py:80: UserWarning: Sentence #16 length 132 exceeds max_len 128 and has been truncated\n",
            "  warnings.warn(msg)\n",
            "100%|██████████| 9/9 [00:02<00:00,  3.18it/s]\n",
            "  0%|          | 0/20 [00:00<?, ?it/s]/usr/local/lib/python3.7/dist-packages/NERDA/preprocessing.py:80: UserWarning: Sentence #6 length 261 exceeds max_len 128 and has been truncated\n",
            "  warnings.warn(msg)\n",
            "/usr/local/lib/python3.7/dist-packages/NERDA/preprocessing.py:80: UserWarning: Sentence #14 length 152 exceeds max_len 128 and has been truncated\n",
            "  warnings.warn(msg)\n",
            " 20%|██        | 4/20 [00:00<00:02,  7.76it/s]/usr/local/lib/python3.7/dist-packages/NERDA/preprocessing.py:80: UserWarning: Sentence #48 length 150 exceeds max_len 128 and has been truncated\n",
            "  warnings.warn(msg)\n",
            "/usr/local/lib/python3.7/dist-packages/NERDA/preprocessing.py:80: UserWarning: Sentence #49 length 130 exceeds max_len 128 and has been truncated\n",
            "  warnings.warn(msg)\n",
            "/usr/local/lib/python3.7/dist-packages/NERDA/preprocessing.py:80: UserWarning: Sentence #50 length 174 exceeds max_len 128 and has been truncated\n",
            "  warnings.warn(msg)\n",
            "/usr/local/lib/python3.7/dist-packages/NERDA/preprocessing.py:80: UserWarning: Sentence #53 length 233 exceeds max_len 128 and has been truncated\n",
            "  warnings.warn(msg)\n",
            "/usr/local/lib/python3.7/dist-packages/NERDA/preprocessing.py:80: UserWarning: Sentence #54 length 149 exceeds max_len 128 and has been truncated\n",
            "  warnings.warn(msg)\n",
            " 30%|███       | 6/20 [00:00<00:01,  8.10it/s]/usr/local/lib/python3.7/dist-packages/NERDA/preprocessing.py:80: UserWarning: Sentence #68 length 132 exceeds max_len 128 and has been truncated\n",
            "  warnings.warn(msg)\n",
            " 35%|███▌      | 7/20 [00:00<00:01,  8.25it/s]/usr/local/lib/python3.7/dist-packages/NERDA/preprocessing.py:80: UserWarning: Sentence #77 length 171 exceeds max_len 128 and has been truncated\n",
            "  warnings.warn(msg)\n",
            " 40%|████      | 8/20 [00:01<00:01,  8.35it/s]/usr/local/lib/python3.7/dist-packages/NERDA/preprocessing.py:80: UserWarning: Sentence #87 length 128 exceeds max_len 128 and has been truncated\n",
            "  warnings.warn(msg)\n",
            " 55%|█████▌    | 11/20 [00:01<00:01,  8.45it/s]/usr/local/lib/python3.7/dist-packages/NERDA/preprocessing.py:80: UserWarning: Sentence #107 length 127 exceeds max_len 128 and has been truncated\n",
            "  warnings.warn(msg)\n",
            "100%|██████████| 20/20 [00:02<00:00,  8.28it/s]\n"
          ]
        },
        {
          "output_type": "stream",
          "name": "stdout",
          "text": [
            "Train Loss = 1.1503707965215046 Valid Loss = 1.1852732360363007\n",
            "\n",
            " Epoch 3 / 11\n"
          ]
        },
        {
          "output_type": "stream",
          "name": "stderr",
          "text": [
            "\r  0%|          | 0/9 [00:00<?, ?it/s]/usr/local/lib/python3.7/dist-packages/NERDA/preprocessing.py:80: UserWarning: Sentence #6 length 327 exceeds max_len 128 and has been truncated\n",
            "  warnings.warn(msg)\n",
            " 11%|█         | 1/9 [00:00<00:03,  2.49it/s]/usr/local/lib/python3.7/dist-packages/NERDA/preprocessing.py:80: UserWarning: Sentence #16 length 132 exceeds max_len 128 and has been truncated\n",
            "  warnings.warn(msg)\n",
            "100%|██████████| 9/9 [00:02<00:00,  3.18it/s]\n",
            "  0%|          | 0/20 [00:00<?, ?it/s]/usr/local/lib/python3.7/dist-packages/NERDA/preprocessing.py:80: UserWarning: Sentence #6 length 261 exceeds max_len 128 and has been truncated\n",
            "  warnings.warn(msg)\n",
            "/usr/local/lib/python3.7/dist-packages/NERDA/preprocessing.py:80: UserWarning: Sentence #14 length 152 exceeds max_len 128 and has been truncated\n",
            "  warnings.warn(msg)\n",
            " 20%|██        | 4/20 [00:00<00:02,  7.72it/s]/usr/local/lib/python3.7/dist-packages/NERDA/preprocessing.py:80: UserWarning: Sentence #48 length 150 exceeds max_len 128 and has been truncated\n",
            "  warnings.warn(msg)\n",
            "/usr/local/lib/python3.7/dist-packages/NERDA/preprocessing.py:80: UserWarning: Sentence #49 length 130 exceeds max_len 128 and has been truncated\n",
            "  warnings.warn(msg)\n",
            "/usr/local/lib/python3.7/dist-packages/NERDA/preprocessing.py:80: UserWarning: Sentence #50 length 174 exceeds max_len 128 and has been truncated\n",
            "  warnings.warn(msg)\n",
            "/usr/local/lib/python3.7/dist-packages/NERDA/preprocessing.py:80: UserWarning: Sentence #53 length 233 exceeds max_len 128 and has been truncated\n",
            "  warnings.warn(msg)\n",
            "/usr/local/lib/python3.7/dist-packages/NERDA/preprocessing.py:80: UserWarning: Sentence #54 length 149 exceeds max_len 128 and has been truncated\n",
            "  warnings.warn(msg)\n",
            " 30%|███       | 6/20 [00:00<00:01,  8.13it/s]/usr/local/lib/python3.7/dist-packages/NERDA/preprocessing.py:80: UserWarning: Sentence #68 length 132 exceeds max_len 128 and has been truncated\n",
            "  warnings.warn(msg)\n",
            " 35%|███▌      | 7/20 [00:00<00:01,  8.20it/s]/usr/local/lib/python3.7/dist-packages/NERDA/preprocessing.py:80: UserWarning: Sentence #77 length 171 exceeds max_len 128 and has been truncated\n",
            "  warnings.warn(msg)\n",
            " 40%|████      | 8/20 [00:01<00:01,  8.25it/s]/usr/local/lib/python3.7/dist-packages/NERDA/preprocessing.py:80: UserWarning: Sentence #87 length 128 exceeds max_len 128 and has been truncated\n",
            "  warnings.warn(msg)\n",
            " 55%|█████▌    | 11/20 [00:01<00:01,  8.49it/s]/usr/local/lib/python3.7/dist-packages/NERDA/preprocessing.py:80: UserWarning: Sentence #107 length 127 exceeds max_len 128 and has been truncated\n",
            "  warnings.warn(msg)\n",
            "100%|██████████| 20/20 [00:02<00:00,  8.25it/s]\n"
          ]
        },
        {
          "output_type": "stream",
          "name": "stdout",
          "text": [
            "Train Loss = 1.0123369495073955 Valid Loss = 1.0580810606479645\n",
            "\n",
            " Epoch 4 / 11\n"
          ]
        },
        {
          "output_type": "stream",
          "name": "stderr",
          "text": [
            "\r  0%|          | 0/9 [00:00<?, ?it/s]/usr/local/lib/python3.7/dist-packages/NERDA/preprocessing.py:80: UserWarning: Sentence #6 length 327 exceeds max_len 128 and has been truncated\n",
            "  warnings.warn(msg)\n",
            " 11%|█         | 1/9 [00:00<00:03,  2.56it/s]/usr/local/lib/python3.7/dist-packages/NERDA/preprocessing.py:80: UserWarning: Sentence #16 length 132 exceeds max_len 128 and has been truncated\n",
            "  warnings.warn(msg)\n",
            "100%|██████████| 9/9 [00:02<00:00,  3.19it/s]\n",
            "  0%|          | 0/20 [00:00<?, ?it/s]/usr/local/lib/python3.7/dist-packages/NERDA/preprocessing.py:80: UserWarning: Sentence #6 length 261 exceeds max_len 128 and has been truncated\n",
            "  warnings.warn(msg)\n",
            "/usr/local/lib/python3.7/dist-packages/NERDA/preprocessing.py:80: UserWarning: Sentence #14 length 152 exceeds max_len 128 and has been truncated\n",
            "  warnings.warn(msg)\n",
            " 20%|██        | 4/20 [00:00<00:02,  7.70it/s]/usr/local/lib/python3.7/dist-packages/NERDA/preprocessing.py:80: UserWarning: Sentence #48 length 150 exceeds max_len 128 and has been truncated\n",
            "  warnings.warn(msg)\n",
            "/usr/local/lib/python3.7/dist-packages/NERDA/preprocessing.py:80: UserWarning: Sentence #49 length 130 exceeds max_len 128 and has been truncated\n",
            "  warnings.warn(msg)\n",
            "/usr/local/lib/python3.7/dist-packages/NERDA/preprocessing.py:80: UserWarning: Sentence #50 length 174 exceeds max_len 128 and has been truncated\n",
            "  warnings.warn(msg)\n",
            "/usr/local/lib/python3.7/dist-packages/NERDA/preprocessing.py:80: UserWarning: Sentence #53 length 233 exceeds max_len 128 and has been truncated\n",
            "  warnings.warn(msg)\n",
            "/usr/local/lib/python3.7/dist-packages/NERDA/preprocessing.py:80: UserWarning: Sentence #54 length 149 exceeds max_len 128 and has been truncated\n",
            "  warnings.warn(msg)\n",
            " 30%|███       | 6/20 [00:00<00:01,  8.12it/s]/usr/local/lib/python3.7/dist-packages/NERDA/preprocessing.py:80: UserWarning: Sentence #68 length 132 exceeds max_len 128 and has been truncated\n",
            "  warnings.warn(msg)\n",
            " 35%|███▌      | 7/20 [00:00<00:01,  8.18it/s]/usr/local/lib/python3.7/dist-packages/NERDA/preprocessing.py:80: UserWarning: Sentence #77 length 171 exceeds max_len 128 and has been truncated\n",
            "  warnings.warn(msg)\n",
            " 40%|████      | 8/20 [00:01<00:01,  8.25it/s]/usr/local/lib/python3.7/dist-packages/NERDA/preprocessing.py:80: UserWarning: Sentence #87 length 128 exceeds max_len 128 and has been truncated\n",
            "  warnings.warn(msg)\n",
            " 55%|█████▌    | 11/20 [00:01<00:01,  8.34it/s]/usr/local/lib/python3.7/dist-packages/NERDA/preprocessing.py:80: UserWarning: Sentence #107 length 127 exceeds max_len 128 and has been truncated\n",
            "  warnings.warn(msg)\n",
            "100%|██████████| 20/20 [00:02<00:00,  8.20it/s]\n"
          ]
        },
        {
          "output_type": "stream",
          "name": "stdout",
          "text": [
            "Train Loss = 0.9743757512834337 Valid Loss = 0.9440107822418213\n",
            "\n",
            " Epoch 5 / 11\n"
          ]
        },
        {
          "output_type": "stream",
          "name": "stderr",
          "text": [
            "\r  0%|          | 0/9 [00:00<?, ?it/s]/usr/local/lib/python3.7/dist-packages/NERDA/preprocessing.py:80: UserWarning: Sentence #6 length 327 exceeds max_len 128 and has been truncated\n",
            "  warnings.warn(msg)\n",
            " 11%|█         | 1/9 [00:00<00:03,  2.52it/s]/usr/local/lib/python3.7/dist-packages/NERDA/preprocessing.py:80: UserWarning: Sentence #16 length 132 exceeds max_len 128 and has been truncated\n",
            "  warnings.warn(msg)\n",
            "100%|██████████| 9/9 [00:02<00:00,  3.18it/s]\n",
            "  0%|          | 0/20 [00:00<?, ?it/s]/usr/local/lib/python3.7/dist-packages/NERDA/preprocessing.py:80: UserWarning: Sentence #6 length 261 exceeds max_len 128 and has been truncated\n",
            "  warnings.warn(msg)\n",
            "/usr/local/lib/python3.7/dist-packages/NERDA/preprocessing.py:80: UserWarning: Sentence #14 length 152 exceeds max_len 128 and has been truncated\n",
            "  warnings.warn(msg)\n",
            " 20%|██        | 4/20 [00:00<00:02,  7.65it/s]/usr/local/lib/python3.7/dist-packages/NERDA/preprocessing.py:80: UserWarning: Sentence #48 length 150 exceeds max_len 128 and has been truncated\n",
            "  warnings.warn(msg)\n",
            "/usr/local/lib/python3.7/dist-packages/NERDA/preprocessing.py:80: UserWarning: Sentence #49 length 130 exceeds max_len 128 and has been truncated\n",
            "  warnings.warn(msg)\n",
            "/usr/local/lib/python3.7/dist-packages/NERDA/preprocessing.py:80: UserWarning: Sentence #50 length 174 exceeds max_len 128 and has been truncated\n",
            "  warnings.warn(msg)\n",
            "/usr/local/lib/python3.7/dist-packages/NERDA/preprocessing.py:80: UserWarning: Sentence #53 length 233 exceeds max_len 128 and has been truncated\n",
            "  warnings.warn(msg)\n",
            "/usr/local/lib/python3.7/dist-packages/NERDA/preprocessing.py:80: UserWarning: Sentence #54 length 149 exceeds max_len 128 and has been truncated\n",
            "  warnings.warn(msg)\n",
            " 30%|███       | 6/20 [00:00<00:01,  8.07it/s]/usr/local/lib/python3.7/dist-packages/NERDA/preprocessing.py:80: UserWarning: Sentence #68 length 132 exceeds max_len 128 and has been truncated\n",
            "  warnings.warn(msg)\n",
            " 35%|███▌      | 7/20 [00:00<00:01,  8.19it/s]/usr/local/lib/python3.7/dist-packages/NERDA/preprocessing.py:80: UserWarning: Sentence #77 length 171 exceeds max_len 128 and has been truncated\n",
            "  warnings.warn(msg)\n",
            " 40%|████      | 8/20 [00:01<00:01,  8.30it/s]/usr/local/lib/python3.7/dist-packages/NERDA/preprocessing.py:80: UserWarning: Sentence #87 length 128 exceeds max_len 128 and has been truncated\n",
            "  warnings.warn(msg)\n",
            " 55%|█████▌    | 11/20 [00:01<00:01,  8.33it/s]/usr/local/lib/python3.7/dist-packages/NERDA/preprocessing.py:80: UserWarning: Sentence #107 length 127 exceeds max_len 128 and has been truncated\n",
            "  warnings.warn(msg)\n",
            "100%|██████████| 20/20 [00:02<00:00,  8.18it/s]\n"
          ]
        },
        {
          "output_type": "stream",
          "name": "stdout",
          "text": [
            "Train Loss = 0.8173357513215807 Valid Loss = 0.9679392009973526\n",
            "\n",
            " Epoch 6 / 11\n"
          ]
        },
        {
          "output_type": "stream",
          "name": "stderr",
          "text": [
            "\r  0%|          | 0/9 [00:00<?, ?it/s]/usr/local/lib/python3.7/dist-packages/NERDA/preprocessing.py:80: UserWarning: Sentence #6 length 327 exceeds max_len 128 and has been truncated\n",
            "  warnings.warn(msg)\n",
            " 11%|█         | 1/9 [00:00<00:03,  2.54it/s]/usr/local/lib/python3.7/dist-packages/NERDA/preprocessing.py:80: UserWarning: Sentence #16 length 132 exceeds max_len 128 and has been truncated\n",
            "  warnings.warn(msg)\n",
            "100%|██████████| 9/9 [00:02<00:00,  3.18it/s]\n",
            "  0%|          | 0/20 [00:00<?, ?it/s]/usr/local/lib/python3.7/dist-packages/NERDA/preprocessing.py:80: UserWarning: Sentence #6 length 261 exceeds max_len 128 and has been truncated\n",
            "  warnings.warn(msg)\n",
            "/usr/local/lib/python3.7/dist-packages/NERDA/preprocessing.py:80: UserWarning: Sentence #14 length 152 exceeds max_len 128 and has been truncated\n",
            "  warnings.warn(msg)\n",
            " 20%|██        | 4/20 [00:00<00:02,  7.97it/s]/usr/local/lib/python3.7/dist-packages/NERDA/preprocessing.py:80: UserWarning: Sentence #48 length 150 exceeds max_len 128 and has been truncated\n",
            "  warnings.warn(msg)\n",
            "/usr/local/lib/python3.7/dist-packages/NERDA/preprocessing.py:80: UserWarning: Sentence #49 length 130 exceeds max_len 128 and has been truncated\n",
            "  warnings.warn(msg)\n",
            "/usr/local/lib/python3.7/dist-packages/NERDA/preprocessing.py:80: UserWarning: Sentence #50 length 174 exceeds max_len 128 and has been truncated\n",
            "  warnings.warn(msg)\n",
            "/usr/local/lib/python3.7/dist-packages/NERDA/preprocessing.py:80: UserWarning: Sentence #53 length 233 exceeds max_len 128 and has been truncated\n",
            "  warnings.warn(msg)\n",
            "/usr/local/lib/python3.7/dist-packages/NERDA/preprocessing.py:80: UserWarning: Sentence #54 length 149 exceeds max_len 128 and has been truncated\n",
            "  warnings.warn(msg)\n",
            " 30%|███       | 6/20 [00:00<00:01,  8.17it/s]/usr/local/lib/python3.7/dist-packages/NERDA/preprocessing.py:80: UserWarning: Sentence #68 length 132 exceeds max_len 128 and has been truncated\n",
            "  warnings.warn(msg)\n",
            " 35%|███▌      | 7/20 [00:00<00:01,  8.19it/s]/usr/local/lib/python3.7/dist-packages/NERDA/preprocessing.py:80: UserWarning: Sentence #77 length 171 exceeds max_len 128 and has been truncated\n",
            "  warnings.warn(msg)\n",
            " 40%|████      | 8/20 [00:01<00:01,  8.12it/s]/usr/local/lib/python3.7/dist-packages/NERDA/preprocessing.py:80: UserWarning: Sentence #87 length 128 exceeds max_len 128 and has been truncated\n",
            "  warnings.warn(msg)\n",
            " 55%|█████▌    | 11/20 [00:01<00:01,  8.35it/s]/usr/local/lib/python3.7/dist-packages/NERDA/preprocessing.py:80: UserWarning: Sentence #107 length 127 exceeds max_len 128 and has been truncated\n",
            "  warnings.warn(msg)\n",
            "100%|██████████| 20/20 [00:02<00:00,  8.19it/s]\n"
          ]
        },
        {
          "output_type": "stream",
          "name": "stdout",
          "text": [
            "Train Loss = 0.768608076704873 Valid Loss = 0.8497288778424263\n",
            "\n",
            " Epoch 7 / 11\n"
          ]
        },
        {
          "output_type": "stream",
          "name": "stderr",
          "text": [
            "\r  0%|          | 0/9 [00:00<?, ?it/s]/usr/local/lib/python3.7/dist-packages/NERDA/preprocessing.py:80: UserWarning: Sentence #6 length 327 exceeds max_len 128 and has been truncated\n",
            "  warnings.warn(msg)\n",
            " 11%|█         | 1/9 [00:00<00:03,  2.47it/s]/usr/local/lib/python3.7/dist-packages/NERDA/preprocessing.py:80: UserWarning: Sentence #16 length 132 exceeds max_len 128 and has been truncated\n",
            "  warnings.warn(msg)\n",
            "100%|██████████| 9/9 [00:02<00:00,  3.16it/s]\n",
            "  0%|          | 0/20 [00:00<?, ?it/s]/usr/local/lib/python3.7/dist-packages/NERDA/preprocessing.py:80: UserWarning: Sentence #6 length 261 exceeds max_len 128 and has been truncated\n",
            "  warnings.warn(msg)\n",
            "/usr/local/lib/python3.7/dist-packages/NERDA/preprocessing.py:80: UserWarning: Sentence #14 length 152 exceeds max_len 128 and has been truncated\n",
            "  warnings.warn(msg)\n",
            " 20%|██        | 4/20 [00:00<00:02,  7.55it/s]/usr/local/lib/python3.7/dist-packages/NERDA/preprocessing.py:80: UserWarning: Sentence #48 length 150 exceeds max_len 128 and has been truncated\n",
            "  warnings.warn(msg)\n",
            "/usr/local/lib/python3.7/dist-packages/NERDA/preprocessing.py:80: UserWarning: Sentence #49 length 130 exceeds max_len 128 and has been truncated\n",
            "  warnings.warn(msg)\n",
            "/usr/local/lib/python3.7/dist-packages/NERDA/preprocessing.py:80: UserWarning: Sentence #50 length 174 exceeds max_len 128 and has been truncated\n",
            "  warnings.warn(msg)\n",
            "/usr/local/lib/python3.7/dist-packages/NERDA/preprocessing.py:80: UserWarning: Sentence #53 length 233 exceeds max_len 128 and has been truncated\n",
            "  warnings.warn(msg)\n",
            "/usr/local/lib/python3.7/dist-packages/NERDA/preprocessing.py:80: UserWarning: Sentence #54 length 149 exceeds max_len 128 and has been truncated\n",
            "  warnings.warn(msg)\n",
            " 30%|███       | 6/20 [00:00<00:01,  7.89it/s]/usr/local/lib/python3.7/dist-packages/NERDA/preprocessing.py:80: UserWarning: Sentence #68 length 132 exceeds max_len 128 and has been truncated\n",
            "  warnings.warn(msg)\n",
            " 35%|███▌      | 7/20 [00:00<00:01,  8.16it/s]/usr/local/lib/python3.7/dist-packages/NERDA/preprocessing.py:80: UserWarning: Sentence #77 length 171 exceeds max_len 128 and has been truncated\n",
            "  warnings.warn(msg)\n",
            " 40%|████      | 8/20 [00:01<00:01,  8.18it/s]/usr/local/lib/python3.7/dist-packages/NERDA/preprocessing.py:80: UserWarning: Sentence #87 length 128 exceeds max_len 128 and has been truncated\n",
            "  warnings.warn(msg)\n",
            " 55%|█████▌    | 11/20 [00:01<00:01,  8.27it/s]/usr/local/lib/python3.7/dist-packages/NERDA/preprocessing.py:80: UserWarning: Sentence #107 length 127 exceeds max_len 128 and has been truncated\n",
            "  warnings.warn(msg)\n",
            "100%|██████████| 20/20 [00:02<00:00,  8.08it/s]\n"
          ]
        },
        {
          "output_type": "stream",
          "name": "stdout",
          "text": [
            "Train Loss = 0.5663477546638913 Valid Loss = 1.1033900320529937\n",
            "\n",
            " Epoch 8 / 11\n"
          ]
        },
        {
          "output_type": "stream",
          "name": "stderr",
          "text": [
            "\r  0%|          | 0/9 [00:00<?, ?it/s]/usr/local/lib/python3.7/dist-packages/NERDA/preprocessing.py:80: UserWarning: Sentence #6 length 327 exceeds max_len 128 and has been truncated\n",
            "  warnings.warn(msg)\n",
            " 11%|█         | 1/9 [00:00<00:03,  2.41it/s]/usr/local/lib/python3.7/dist-packages/NERDA/preprocessing.py:80: UserWarning: Sentence #16 length 132 exceeds max_len 128 and has been truncated\n",
            "  warnings.warn(msg)\n",
            "100%|██████████| 9/9 [00:02<00:00,  3.14it/s]\n",
            "  0%|          | 0/20 [00:00<?, ?it/s]/usr/local/lib/python3.7/dist-packages/NERDA/preprocessing.py:80: UserWarning: Sentence #6 length 261 exceeds max_len 128 and has been truncated\n",
            "  warnings.warn(msg)\n",
            "/usr/local/lib/python3.7/dist-packages/NERDA/preprocessing.py:80: UserWarning: Sentence #14 length 152 exceeds max_len 128 and has been truncated\n",
            "  warnings.warn(msg)\n",
            " 20%|██        | 4/20 [00:00<00:02,  7.75it/s]/usr/local/lib/python3.7/dist-packages/NERDA/preprocessing.py:80: UserWarning: Sentence #48 length 150 exceeds max_len 128 and has been truncated\n",
            "  warnings.warn(msg)\n",
            "/usr/local/lib/python3.7/dist-packages/NERDA/preprocessing.py:80: UserWarning: Sentence #49 length 130 exceeds max_len 128 and has been truncated\n",
            "  warnings.warn(msg)\n",
            "/usr/local/lib/python3.7/dist-packages/NERDA/preprocessing.py:80: UserWarning: Sentence #50 length 174 exceeds max_len 128 and has been truncated\n",
            "  warnings.warn(msg)\n",
            "/usr/local/lib/python3.7/dist-packages/NERDA/preprocessing.py:80: UserWarning: Sentence #53 length 233 exceeds max_len 128 and has been truncated\n",
            "  warnings.warn(msg)\n",
            "/usr/local/lib/python3.7/dist-packages/NERDA/preprocessing.py:80: UserWarning: Sentence #54 length 149 exceeds max_len 128 and has been truncated\n",
            "  warnings.warn(msg)\n",
            " 30%|███       | 6/20 [00:00<00:01,  8.09it/s]/usr/local/lib/python3.7/dist-packages/NERDA/preprocessing.py:80: UserWarning: Sentence #68 length 132 exceeds max_len 128 and has been truncated\n",
            "  warnings.warn(msg)\n",
            " 35%|███▌      | 7/20 [00:00<00:01,  8.14it/s]/usr/local/lib/python3.7/dist-packages/NERDA/preprocessing.py:80: UserWarning: Sentence #77 length 171 exceeds max_len 128 and has been truncated\n",
            "  warnings.warn(msg)\n",
            " 40%|████      | 8/20 [00:01<00:01,  8.22it/s]/usr/local/lib/python3.7/dist-packages/NERDA/preprocessing.py:80: UserWarning: Sentence #87 length 128 exceeds max_len 128 and has been truncated\n",
            "  warnings.warn(msg)\n",
            " 55%|█████▌    | 11/20 [00:01<00:01,  8.25it/s]/usr/local/lib/python3.7/dist-packages/NERDA/preprocessing.py:80: UserWarning: Sentence #107 length 127 exceeds max_len 128 and has been truncated\n",
            "  warnings.warn(msg)\n",
            "100%|██████████| 20/20 [00:02<00:00,  8.13it/s]\n"
          ]
        },
        {
          "output_type": "stream",
          "name": "stdout",
          "text": [
            "Train Loss = 0.4499351812733544 Valid Loss = 0.9258340150117874\n",
            "\n",
            " Epoch 9 / 11\n"
          ]
        },
        {
          "output_type": "stream",
          "name": "stderr",
          "text": [
            "\r  0%|          | 0/9 [00:00<?, ?it/s]/usr/local/lib/python3.7/dist-packages/NERDA/preprocessing.py:80: UserWarning: Sentence #6 length 327 exceeds max_len 128 and has been truncated\n",
            "  warnings.warn(msg)\n",
            " 11%|█         | 1/9 [00:00<00:03,  2.46it/s]/usr/local/lib/python3.7/dist-packages/NERDA/preprocessing.py:80: UserWarning: Sentence #16 length 132 exceeds max_len 128 and has been truncated\n",
            "  warnings.warn(msg)\n",
            "100%|██████████| 9/9 [00:02<00:00,  3.15it/s]\n",
            "  0%|          | 0/20 [00:00<?, ?it/s]/usr/local/lib/python3.7/dist-packages/NERDA/preprocessing.py:80: UserWarning: Sentence #6 length 261 exceeds max_len 128 and has been truncated\n",
            "  warnings.warn(msg)\n",
            "/usr/local/lib/python3.7/dist-packages/NERDA/preprocessing.py:80: UserWarning: Sentence #14 length 152 exceeds max_len 128 and has been truncated\n",
            "  warnings.warn(msg)\n",
            " 20%|██        | 4/20 [00:00<00:02,  7.76it/s]/usr/local/lib/python3.7/dist-packages/NERDA/preprocessing.py:80: UserWarning: Sentence #48 length 150 exceeds max_len 128 and has been truncated\n",
            "  warnings.warn(msg)\n",
            "/usr/local/lib/python3.7/dist-packages/NERDA/preprocessing.py:80: UserWarning: Sentence #49 length 130 exceeds max_len 128 and has been truncated\n",
            "  warnings.warn(msg)\n",
            "/usr/local/lib/python3.7/dist-packages/NERDA/preprocessing.py:80: UserWarning: Sentence #50 length 174 exceeds max_len 128 and has been truncated\n",
            "  warnings.warn(msg)\n",
            "/usr/local/lib/python3.7/dist-packages/NERDA/preprocessing.py:80: UserWarning: Sentence #53 length 233 exceeds max_len 128 and has been truncated\n",
            "  warnings.warn(msg)\n",
            "/usr/local/lib/python3.7/dist-packages/NERDA/preprocessing.py:80: UserWarning: Sentence #54 length 149 exceeds max_len 128 and has been truncated\n",
            "  warnings.warn(msg)\n",
            " 30%|███       | 6/20 [00:00<00:01,  7.98it/s]/usr/local/lib/python3.7/dist-packages/NERDA/preprocessing.py:80: UserWarning: Sentence #68 length 132 exceeds max_len 128 and has been truncated\n",
            "  warnings.warn(msg)\n",
            " 35%|███▌      | 7/20 [00:00<00:01,  8.11it/s]/usr/local/lib/python3.7/dist-packages/NERDA/preprocessing.py:80: UserWarning: Sentence #77 length 171 exceeds max_len 128 and has been truncated\n",
            "  warnings.warn(msg)\n",
            " 40%|████      | 8/20 [00:01<00:01,  8.22it/s]/usr/local/lib/python3.7/dist-packages/NERDA/preprocessing.py:80: UserWarning: Sentence #87 length 128 exceeds max_len 128 and has been truncated\n",
            "  warnings.warn(msg)\n",
            " 55%|█████▌    | 11/20 [00:01<00:01,  8.35it/s]/usr/local/lib/python3.7/dist-packages/NERDA/preprocessing.py:80: UserWarning: Sentence #107 length 127 exceeds max_len 128 and has been truncated\n",
            "  warnings.warn(msg)\n",
            "100%|██████████| 20/20 [00:02<00:00,  8.12it/s]\n"
          ]
        },
        {
          "output_type": "stream",
          "name": "stdout",
          "text": [
            "Train Loss = 0.34523247016800773 Valid Loss = 0.9776784479618073\n",
            "\n",
            " Epoch 10 / 11\n"
          ]
        },
        {
          "output_type": "stream",
          "name": "stderr",
          "text": [
            "\r  0%|          | 0/9 [00:00<?, ?it/s]/usr/local/lib/python3.7/dist-packages/NERDA/preprocessing.py:80: UserWarning: Sentence #6 length 327 exceeds max_len 128 and has been truncated\n",
            "  warnings.warn(msg)\n",
            " 11%|█         | 1/9 [00:00<00:03,  2.45it/s]/usr/local/lib/python3.7/dist-packages/NERDA/preprocessing.py:80: UserWarning: Sentence #16 length 132 exceeds max_len 128 and has been truncated\n",
            "  warnings.warn(msg)\n",
            "100%|██████████| 9/9 [00:02<00:00,  3.12it/s]\n",
            "  0%|          | 0/20 [00:00<?, ?it/s]/usr/local/lib/python3.7/dist-packages/NERDA/preprocessing.py:80: UserWarning: Sentence #6 length 261 exceeds max_len 128 and has been truncated\n",
            "  warnings.warn(msg)\n",
            "/usr/local/lib/python3.7/dist-packages/NERDA/preprocessing.py:80: UserWarning: Sentence #14 length 152 exceeds max_len 128 and has been truncated\n",
            "  warnings.warn(msg)\n",
            " 20%|██        | 4/20 [00:00<00:02,  7.66it/s]/usr/local/lib/python3.7/dist-packages/NERDA/preprocessing.py:80: UserWarning: Sentence #48 length 150 exceeds max_len 128 and has been truncated\n",
            "  warnings.warn(msg)\n",
            "/usr/local/lib/python3.7/dist-packages/NERDA/preprocessing.py:80: UserWarning: Sentence #49 length 130 exceeds max_len 128 and has been truncated\n",
            "  warnings.warn(msg)\n",
            "/usr/local/lib/python3.7/dist-packages/NERDA/preprocessing.py:80: UserWarning: Sentence #50 length 174 exceeds max_len 128 and has been truncated\n",
            "  warnings.warn(msg)\n",
            "/usr/local/lib/python3.7/dist-packages/NERDA/preprocessing.py:80: UserWarning: Sentence #53 length 233 exceeds max_len 128 and has been truncated\n",
            "  warnings.warn(msg)\n",
            "/usr/local/lib/python3.7/dist-packages/NERDA/preprocessing.py:80: UserWarning: Sentence #54 length 149 exceeds max_len 128 and has been truncated\n",
            "  warnings.warn(msg)\n",
            " 30%|███       | 6/20 [00:00<00:01,  8.10it/s]/usr/local/lib/python3.7/dist-packages/NERDA/preprocessing.py:80: UserWarning: Sentence #68 length 132 exceeds max_len 128 and has been truncated\n",
            "  warnings.warn(msg)\n",
            " 35%|███▌      | 7/20 [00:00<00:01,  8.14it/s]/usr/local/lib/python3.7/dist-packages/NERDA/preprocessing.py:80: UserWarning: Sentence #77 length 171 exceeds max_len 128 and has been truncated\n",
            "  warnings.warn(msg)\n",
            " 40%|████      | 8/20 [00:01<00:01,  8.20it/s]/usr/local/lib/python3.7/dist-packages/NERDA/preprocessing.py:80: UserWarning: Sentence #87 length 128 exceeds max_len 128 and has been truncated\n",
            "  warnings.warn(msg)\n",
            " 55%|█████▌    | 11/20 [00:01<00:01,  8.20it/s]/usr/local/lib/python3.7/dist-packages/NERDA/preprocessing.py:80: UserWarning: Sentence #107 length 127 exceeds max_len 128 and has been truncated\n",
            "  warnings.warn(msg)\n",
            "100%|██████████| 20/20 [00:02<00:00,  8.09it/s]\n"
          ]
        },
        {
          "output_type": "stream",
          "name": "stdout",
          "text": [
            "Train Loss = 0.2719167371590932 Valid Loss = 0.9550425037741661\n",
            "\n",
            " Epoch 11 / 11\n"
          ]
        },
        {
          "output_type": "stream",
          "name": "stderr",
          "text": [
            "\r  0%|          | 0/9 [00:00<?, ?it/s]/usr/local/lib/python3.7/dist-packages/NERDA/preprocessing.py:80: UserWarning: Sentence #6 length 327 exceeds max_len 128 and has been truncated\n",
            "  warnings.warn(msg)\n",
            " 11%|█         | 1/9 [00:00<00:03,  2.47it/s]/usr/local/lib/python3.7/dist-packages/NERDA/preprocessing.py:80: UserWarning: Sentence #16 length 132 exceeds max_len 128 and has been truncated\n",
            "  warnings.warn(msg)\n",
            "100%|██████████| 9/9 [00:02<00:00,  3.15it/s]\n",
            "  0%|          | 0/20 [00:00<?, ?it/s]/usr/local/lib/python3.7/dist-packages/NERDA/preprocessing.py:80: UserWarning: Sentence #6 length 261 exceeds max_len 128 and has been truncated\n",
            "  warnings.warn(msg)\n",
            "/usr/local/lib/python3.7/dist-packages/NERDA/preprocessing.py:80: UserWarning: Sentence #14 length 152 exceeds max_len 128 and has been truncated\n",
            "  warnings.warn(msg)\n",
            " 20%|██        | 4/20 [00:00<00:02,  7.71it/s]/usr/local/lib/python3.7/dist-packages/NERDA/preprocessing.py:80: UserWarning: Sentence #48 length 150 exceeds max_len 128 and has been truncated\n",
            "  warnings.warn(msg)\n",
            "/usr/local/lib/python3.7/dist-packages/NERDA/preprocessing.py:80: UserWarning: Sentence #49 length 130 exceeds max_len 128 and has been truncated\n",
            "  warnings.warn(msg)\n",
            "/usr/local/lib/python3.7/dist-packages/NERDA/preprocessing.py:80: UserWarning: Sentence #50 length 174 exceeds max_len 128 and has been truncated\n",
            "  warnings.warn(msg)\n",
            "/usr/local/lib/python3.7/dist-packages/NERDA/preprocessing.py:80: UserWarning: Sentence #53 length 233 exceeds max_len 128 and has been truncated\n",
            "  warnings.warn(msg)\n",
            "/usr/local/lib/python3.7/dist-packages/NERDA/preprocessing.py:80: UserWarning: Sentence #54 length 149 exceeds max_len 128 and has been truncated\n",
            "  warnings.warn(msg)\n",
            " 30%|███       | 6/20 [00:00<00:01,  7.94it/s]/usr/local/lib/python3.7/dist-packages/NERDA/preprocessing.py:80: UserWarning: Sentence #68 length 132 exceeds max_len 128 and has been truncated\n",
            "  warnings.warn(msg)\n",
            " 35%|███▌      | 7/20 [00:00<00:01,  8.07it/s]/usr/local/lib/python3.7/dist-packages/NERDA/preprocessing.py:80: UserWarning: Sentence #77 length 171 exceeds max_len 128 and has been truncated\n",
            "  warnings.warn(msg)\n",
            " 40%|████      | 8/20 [00:01<00:01,  8.20it/s]/usr/local/lib/python3.7/dist-packages/NERDA/preprocessing.py:80: UserWarning: Sentence #87 length 128 exceeds max_len 128 and has been truncated\n",
            "  warnings.warn(msg)\n",
            " 55%|█████▌    | 11/20 [00:01<00:01,  8.36it/s]/usr/local/lib/python3.7/dist-packages/NERDA/preprocessing.py:80: UserWarning: Sentence #107 length 127 exceeds max_len 128 and has been truncated\n",
            "  warnings.warn(msg)\n",
            "100%|██████████| 20/20 [00:02<00:00,  8.17it/s]"
          ]
        },
        {
          "output_type": "stream",
          "name": "stdout",
          "text": [
            "Train Loss = 0.24595262441370222 Valid Loss = 0.9581746384501457\n"
          ]
        },
        {
          "output_type": "stream",
          "name": "stderr",
          "text": [
            "\n"
          ]
        },
        {
          "output_type": "execute_result",
          "data": {
            "application/vnd.google.colaboratory.intrinsic+json": {
              "type": "string"
            },
            "text/plain": [
              "'Model trained successfully'"
            ]
          },
          "metadata": {},
          "execution_count": 32
        }
      ]
    },
    {
      "cell_type": "code",
      "metadata": {
        "colab": {
          "base_uri": "https://localhost:8080/",
          "height": 358
        },
        "id": "AH93eHbCcda6",
        "outputId": "a3624022-500e-471a-e282-680d0c6ad4fc"
      },
      "source": [
        "model.evaluate_performance(test)"
      ],
      "execution_count": 33,
      "outputs": [
        {
          "output_type": "stream",
          "name": "stderr",
          "text": [
            "/usr/local/lib/python3.7/dist-packages/sklearn/metrics/_classification.py:1272: UndefinedMetricWarning: Precision and F-score are ill-defined and being set to 0.0 in labels with no predicted samples. Use `zero_division` parameter to control this behavior.\n",
            "  _warn_prf(average, modifier, msg_start, len(result))\n",
            "/usr/local/lib/python3.7/dist-packages/sklearn/metrics/_classification.py:1272: UndefinedMetricWarning: Recall and F-score are ill-defined and being set to 0.0 in labels with no true samples. Use `zero_division` parameter to control this behavior.\n",
            "  _warn_prf(average, modifier, msg_start, len(result))\n"
          ]
        },
        {
          "output_type": "execute_result",
          "data": {
            "text/html": [
              "<div>\n",
              "<style scoped>\n",
              "    .dataframe tbody tr th:only-of-type {\n",
              "        vertical-align: middle;\n",
              "    }\n",
              "\n",
              "    .dataframe tbody tr th {\n",
              "        vertical-align: top;\n",
              "    }\n",
              "\n",
              "    .dataframe thead th {\n",
              "        text-align: right;\n",
              "    }\n",
              "</style>\n",
              "<table border=\"1\" class=\"dataframe\">\n",
              "  <thead>\n",
              "    <tr style=\"text-align: right;\">\n",
              "      <th></th>\n",
              "      <th>Level</th>\n",
              "      <th>F1-Score</th>\n",
              "      <th>Precision</th>\n",
              "      <th>Recall</th>\n",
              "    </tr>\n",
              "  </thead>\n",
              "  <tbody>\n",
              "    <tr>\n",
              "      <th>0</th>\n",
              "      <td>B</td>\n",
              "      <td>0.857143</td>\n",
              "      <td>0.800000</td>\n",
              "      <td>0.923077</td>\n",
              "    </tr>\n",
              "    <tr>\n",
              "      <th>1</th>\n",
              "      <td>B-V</td>\n",
              "      <td>0.000000</td>\n",
              "      <td>0.000000</td>\n",
              "      <td>0.000000</td>\n",
              "    </tr>\n",
              "    <tr>\n",
              "      <th>2</th>\n",
              "      <td>I</td>\n",
              "      <td>0.848249</td>\n",
              "      <td>0.801471</td>\n",
              "      <td>0.900826</td>\n",
              "    </tr>\n",
              "    <tr>\n",
              "      <th>3</th>\n",
              "      <td>I-V</td>\n",
              "      <td>0.173913</td>\n",
              "      <td>0.285714</td>\n",
              "      <td>0.125000</td>\n",
              "    </tr>\n",
              "    <tr>\n",
              "      <th>4</th>\n",
              "      <td>O-V</td>\n",
              "      <td>0.384615</td>\n",
              "      <td>0.500000</td>\n",
              "      <td>0.312500</td>\n",
              "    </tr>\n",
              "    <tr>\n",
              "      <th>0</th>\n",
              "      <td>AVG_MICRO</td>\n",
              "      <td>0.766467</td>\n",
              "      <td>NaN</td>\n",
              "      <td>NaN</td>\n",
              "    </tr>\n",
              "    <tr>\n",
              "      <th>0</th>\n",
              "      <td>AVG_MICRO</td>\n",
              "      <td>0.452784</td>\n",
              "      <td>NaN</td>\n",
              "      <td>NaN</td>\n",
              "    </tr>\n",
              "  </tbody>\n",
              "</table>\n",
              "</div>"
            ],
            "text/plain": [
              "       Level  F1-Score  Precision    Recall\n",
              "0          B  0.857143   0.800000  0.923077\n",
              "1        B-V  0.000000   0.000000  0.000000\n",
              "2          I  0.848249   0.801471  0.900826\n",
              "3        I-V  0.173913   0.285714  0.125000\n",
              "4        O-V  0.384615   0.500000  0.312500\n",
              "0  AVG_MICRO  0.766467        NaN       NaN\n",
              "0  AVG_MICRO  0.452784        NaN       NaN"
            ]
          },
          "metadata": {},
          "execution_count": 33
        }
      ]
    },
    {
      "cell_type": "code",
      "metadata": {
        "colab": {
          "base_uri": "https://localhost:8080/"
        },
        "id": "07SWyztJOYmb",
        "outputId": "a136de8a-98e8-4797-9795-d872e957aa92"
      },
      "source": [
        "#text= [['अझ', 'वृहद', 'कथं', 'धायेगु', 'खःसा', 'थ्व', 'विज्ञान', 'ब्रह्माण्ड', 'गथे', 'सनाच्वंगु', 'दु', 'धका', 'स्वयेत','याइगु', 'प्रकृतिया', 'साधारण', 'एनालाइसिस', 'ख']]\n",
        "print(model.predict([test['sentences'][1]]))\n",
        "print(test['tags'][1])"
      ],
      "execution_count": 37,
      "outputs": [
        {
          "output_type": "stream",
          "name": "stdout",
          "text": [
            "[['B', 'B', 'I', 'I', 'I', 'I', 'I', 'I', 'I', 'I', 'I', 'I', 'O', 'O', 'O', 'O', 'O', 'O', 'O', 'O', 'O', 'O', 'O']]\n",
            "['B', 'I', 'I', 'I', 'I', 'I-V', 'I', 'I', 'I-V', 'I-V', 'I', 'I', 'O-V', 'O', 'O', 'O', 'O', 'O', 'O', 'O', 'O-V', 'O-V', 'O']\n"
          ]
        }
      ]
    },
    {
      "cell_type": "code",
      "metadata": {
        "colab": {
          "base_uri": "https://localhost:8080/"
        },
        "id": "YFMw-ow35a7i",
        "outputId": "9eb3d373-02a9-4d5e-cb94-2e28e1e9ea9e"
      },
      "source": [
        "## Getting the confusion matrices for every test sentence\n",
        "\n",
        "from sklearn.metrics import confusion_matrix\n",
        "y_true = test['tags']\n",
        "for n in range (len(test['tags'])):\n",
        "  y_pred = []\n",
        "  y_pred = model.predict([test['sentences'][n]])[0]\n",
        "  #print(y_true[n])\n",
        "  #print(y_pred)\n",
        "  print(confusion_matrix(y_true[n], y_pred, labels=[\"I\", \"B\", \"O\",\"I-V\",\"B-V\",\"O-V\"]))"
      ],
      "execution_count": 35,
      "outputs": [
        {
          "output_type": "stream",
          "name": "stdout",
          "text": [
            "[[ 3  0  0  0  0  0]\n",
            " [ 0  1  0  0  0  0]\n",
            " [10  0  9  1  0  0]\n",
            " [ 1  0  0  0  0  0]\n",
            " [ 0  0  0  0  0  0]\n",
            " [ 0  0  0  1  0  0]]\n",
            "[[7 1 0 0 0 0]\n",
            " [0 1 0 0 0 0]\n",
            " [0 0 8 0 0 0]\n",
            " [3 0 0 0 0 0]\n",
            " [0 0 0 0 0 0]\n",
            " [0 0 3 0 0 0]]\n",
            "[[4 0 2 0 0 0]\n",
            " [0 1 0 0 0 0]\n",
            " [0 0 1 0 0 0]\n",
            " [1 0 1 0 0 0]\n",
            " [0 0 0 0 0 0]\n",
            " [0 0 0 0 0 1]]\n",
            "[[6 0 1 1 0 0]\n",
            " [0 1 0 0 0 0]\n",
            " [0 0 9 0 0 1]\n",
            " [1 0 0 1 0 0]\n",
            " [0 0 0 0 0 0]\n",
            " [0 0 1 0 0 0]]\n",
            "[[10  0  3  0  0  0]\n",
            " [ 0  1  0  0  0  0]\n",
            " [ 0  0 14  0  0  0]\n",
            " [ 1  0  0  0  0  0]\n",
            " [ 0  0  0  0  0  0]\n",
            " [ 1  0  1  0  0  0]]\n",
            "[[4 0 0 0 0 0]\n",
            " [1 0 0 0 0 0]\n",
            " [1 2 0 0 0 1]\n",
            " [1 0 0 0 0 0]\n",
            " [0 0 0 0 0 0]\n",
            " [0 0 0 0 0 1]]\n",
            "[[4 0 0 1 0 0]\n",
            " [0 1 0 0 0 0]\n",
            " [0 0 7 0 0 0]\n",
            " [1 0 0 0 0 0]\n",
            " [0 0 0 0 0 0]\n",
            " [0 0 1 0 0 1]]\n",
            "[[9 0 0 0 0 0]\n",
            " [0 1 0 0 0 0]\n",
            " [0 0 1 0 0 0]\n",
            " [1 0 0 0 0 0]\n",
            " [0 0 0 0 0 0]\n",
            " [0 0 1 0 0 0]]\n",
            "[[13  0  0  0  0  0]\n",
            " [ 0  1  0  0  0  0]\n",
            " [ 0  0  3  0  0  1]\n",
            " [ 1  0  0  0  0  0]\n",
            " [ 0  0  0  0  0  0]\n",
            " [ 0  0  1  0  0  1]]\n",
            "[[9 0 0 0 0 0]\n",
            " [0 1 0 0 0 0]\n",
            " [0 0 1 0 0 0]\n",
            " [0 0 0 0 0 0]\n",
            " [0 0 0 0 0 0]\n",
            " [0 0 0 0 0 1]]\n",
            "[[15  0  0  0  0  0]\n",
            " [ 0  1  0  0  0  0]\n",
            " [ 0  0  0  0  0  1]\n",
            " [ 0  0  0  0  0  0]\n",
            " [ 0  0  0  0  0  0]\n",
            " [ 1  0  0  0  0  0]]\n",
            "[[17  0  1  1  0  1]\n",
            " [ 0  1  0  0  0  0]\n",
            " [ 0  0  0  0  0  0]\n",
            " [ 2  0  0  0  0  0]\n",
            " [ 0  0  0  0  0  0]\n",
            " [ 0  0  0  0  0  0]]\n",
            "[[8 0 0 0 0 0]\n",
            " [0 1 0 0 0 0]\n",
            " [0 0 5 0 0 0]\n",
            " [0 0 0 1 0 0]\n",
            " [0 0 0 0 0 0]\n",
            " [0 0 0 0 0 0]]\n"
          ]
        }
      ]
    },
    {
      "cell_type": "code",
      "metadata": {
        "colab": {
          "base_uri": "https://localhost:8080/"
        },
        "id": "-eBbvVucJ8Dv",
        "outputId": "3886e1be-7196-4489-eb67-5ec326c6a619"
      },
      "source": [
        "# Sum up the 6by6 confusion matrix result in every test sentence\n",
        "import numpy as np\n",
        "from sklearn.metrics import confusion_matrix\n",
        "y_true = test['tags']\n",
        "d = np.zeros((6,6))\n",
        "for n in range (len(test['tags'])):\n",
        "  y_pred = []\n",
        "  y_pred = model.predict([test['sentences'][n]])[0]\n",
        "  #print(y_true[n])\n",
        "  #print(y_pred)\n",
        "  d += confusion_matrix(y_true[n], y_pred, labels=[\"I\", \"B\", \"O\",\"I-V\",\"B-V\",\"O-V\"])\n",
        "print(d)"
      ],
      "execution_count": 38,
      "outputs": [
        {
          "output_type": "stream",
          "name": "stdout",
          "text": [
            "[[109.   1.   7.   3.   0.   1.]\n",
            " [  1.  12.   0.   0.   0.   0.]\n",
            " [ 11.   2.  58.   1.   0.   4.]\n",
            " [ 13.   0.   1.   2.   0.   0.]\n",
            " [  0.   0.   0.   0.   0.   0.]\n",
            " [  2.   0.   8.   1.   0.   5.]]\n"
          ]
        }
      ]
    }
  ]
}