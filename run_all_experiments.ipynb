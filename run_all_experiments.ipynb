{
 "cells": [
  {
   "cell_type": "code",
   "execution_count": 1,
   "id": "fcd82aa0",
   "metadata": {},
   "outputs": [],
   "source": [
    "from collections import defaultdict\n",
    "import inspect\n",
    "import itertools\n",
    "import os\n",
    "import re\n",
    "import subprocess\n",
    "import sys\n",
    "\n",
    "import nltk\n",
    "from nltk.tokenize import WhitespaceTokenizer\n",
    "import NERDA\n",
    "import pandas as pd\n",
    "import seaborn\n",
    "import sqlite3"
   ]
  },
  {
   "cell_type": "code",
   "execution_count": 2,
   "id": "7bb9e850",
   "metadata": {},
   "outputs": [
    {
     "name": "stdout",
     "output_type": "stream",
     "text": [
      "/Users/kaze7539/proj/bri/newa\n",
      "README.md\r\n",
      "__init__.py\r\n",
      "\u001b[34m__pycache__\u001b[m\u001b[m/\r\n",
      "abe_bigram_naive_bayes_and_maxent.ipynb\r\n",
      "abe_simple_naive_bayes.ipynb\r\n",
      "\u001b[31mconlleval.pl\u001b[m\u001b[m*\r\n",
      "exploreNewa.ipynb\r\n",
      "\u001b[34mfor_ml\u001b[m\u001b[m/\r\n",
      "good_length.txt\r\n",
      "just_ec.conll\r\n",
      "ki.txt\r\n",
      "ki_true.txt\r\n",
      "lined_up.txt\r\n",
      "new_dedup.txt\r\n",
      "newfile.txt\r\n",
      "results.db\r\n",
      "run_all_experiments.ipynb\r\n",
      "tmp.txt\r\n",
      "tmp.txt~\r\n",
      "tmp1.txt\r\n",
      "tmp1.txt~\r\n",
      "util.py\r\n",
      "util.py~\r\n"
     ]
    }
   ],
   "source": [
    "print(os.getcwd())\n",
    "os.getcwd()\n",
    "%ls"
   ]
  },
  {
   "cell_type": "code",
   "execution_count": null,
   "id": "ad6f2c72",
   "metadata": {},
   "outputs": [],
   "source": []
  },
  {
   "cell_type": "code",
   "execution_count": 3,
   "id": "36913b1e",
   "metadata": {},
   "outputs": [
    {
     "name": "stdout",
     "output_type": "stream",
     "text": [
      "['/Users/kaze7539/proj/bri/newa', '/usr/local/opt/python@3.8/Frameworks/Python.framework/Versions/3.8/lib/python38.zip', '/usr/local/opt/python@3.8/Frameworks/Python.framework/Versions/3.8/lib/python3.8', '/usr/local/opt/python@3.8/Frameworks/Python.framework/Versions/3.8/lib/python3.8/lib-dynload', '', '/Users/kaze7539/.virtualenvs/bri/lib/python3.8/site-packages', '/Users/kaze7539/.virtualenvs/bri/lib/python3.8/site-packages/IPython/extensions', '/Users/kaze7539/.ipython', '.']\n"
     ]
    }
   ],
   "source": [
    "sys.path.append(\".\")\n",
    "print(sys.path)\n",
    "import util # library/module with recorded experiments and helper functions"
   ]
  },
  {
   "cell_type": "code",
   "execution_count": 4,
   "id": "b2fde9a3",
   "metadata": {},
   "outputs": [
    {
     "name": "stdout",
     "output_type": "stream",
     "text": [
      "['experiment_001_naive_bayes_unigram', 'experiment_002_naive_bayes_pseudo_bigram_dishonest', 'experiment_002_naive_bayes_pseudo_bigram_honest', 'experiment_003_maxent_pseudo_bigram', 'experiment_004_maxent_bigram', 'experiment_005_bri_nerda']\n"
     ]
    }
   ],
   "source": [
    "# here are all the experiments that have been saved in util.py\n",
    "experiments = sorted([item for item in dir(util) if item.startswith(\"experiment\")])\n",
    "print(experiments)\n"
   ]
  },
  {
   "cell_type": "code",
   "execution_count": 5,
   "id": "e76b718c",
   "metadata": {},
   "outputs": [
    {
     "data": {
      "text/plain": [
       "<sqlite3.Cursor at 0x12a300e30>"
      ]
     },
     "execution_count": 5,
     "metadata": {},
     "output_type": "execute_result"
    }
   ],
   "source": [
    "# create a database to store the results\n",
    "connection = sqlite3.connect(\"results.db\")\n",
    "cursor = connection.cursor()\n",
    "cursor.execute('''\n",
    "    create table if not exists conlleval\n",
    "    (\n",
    "      experiment_name text not null,\n",
    "      num_tokens integer not null,\n",
    "      num_phrases integer not null,\n",
    "      num_found integer not null,\n",
    "      num_correct integer not null,\n",
    "      accuracy real not null,\n",
    "      precision real not null,\n",
    "      recall real not null,\n",
    "      fb1 real not null,\n",
    "      constraint conlleval_pk primary key (experiment_name)\n",
    "    );\n",
    "    ''')"
   ]
  },
  {
   "cell_type": "code",
   "execution_count": 6,
   "id": "0080247c",
   "metadata": {},
   "outputs": [
    {
     "name": "stdout",
     "output_type": "stream",
     "text": [
      "experiment_001_naive_bayes_unigram\n",
      "results cached ('experiment_001_naive_bayes_unigram', 711, 33, 126, 0, 52.88, 0.0, 0.0, 0.0)\n",
      "experiment_002_naive_bayes_pseudo_bigram_dishonest\n",
      "results cached ('experiment_002_naive_bayes_pseudo_bigram_dishonest', 711, 33, 40, 21, 97.33, 52.5, 63.64, 57.53)\n",
      "experiment_002_naive_bayes_pseudo_bigram_honest\n",
      "results cached ('experiment_002_naive_bayes_pseudo_bigram_honest', 711, 33, 33, 19, 84.39, 57.58, 57.58, 57.58)\n",
      "experiment_003_maxent_pseudo_bigram\n",
      "results cached ('experiment_003_maxent_pseudo_bigram', 711, 33, 41, 26, 83.12, 63.41, 78.79, 70.27)\n",
      "experiment_004_maxent_bigram\n",
      "results cached ('experiment_004_maxent_bigram', 711, 33, 37, 27, 89.73, 72.97, 81.82, 77.14)\n",
      "experiment_005_bri_nerda\n",
      "results cached ('experiment_005_bri_nerda', 242, 13, 16, 10, 96.28, 62.5, 76.92, 68.97)\n"
     ]
    }
   ],
   "source": [
    "for experiment in experiments:\n",
    "    print(experiment)\n",
    "    cursor.execute(\"select * from conlleval where experiment_name = ?\", (experiment, ))\n",
    "    results = cursor.fetchone()\n",
    "    if results: # if you want to rerun all the experiments delete the database file\n",
    "        print(\"results cached\", results)\n",
    "    else:\n",
    "        results = globals()[experiment]()\n",
    "        cursor.execute(\"\"\"\n",
    "            insert into conlleval\n",
    "            (experiment_name,  num_tokens, num_phrases, num_found, num_correct, accuracy, precision, recall, fb1)\n",
    "            values (\n",
    "            :experiment_name,\n",
    "            :num_tokens,\n",
    "            :num_phrases,\n",
    "            :num_found,\n",
    "            :num_correct,\n",
    "            :accuracy,\n",
    "            :precision,\n",
    "            :recall,\n",
    "            :fb1\n",
    "            );\n",
    "        \"\"\", results)\n",
    "        print(results)\n",
    "        connection.commit()"
   ]
  },
  {
   "cell_type": "code",
   "execution_count": 12,
   "id": "a1b2cc08",
   "metadata": {
    "scrolled": false
   },
   "outputs": [],
   "source": [
    "# read experiment data into pandas dataframe\n",
    "df = pd.read_sql_query(\"SELECT * from conlleval\", connection)\n",
    "#print(df.melt.__doc__)"
   ]
  },
  {
   "cell_type": "code",
   "execution_count": 8,
   "id": "24e81602",
   "metadata": {
    "scrolled": false
   },
   "outputs": [
    {
     "data": {
      "text/html": [
       "<div>\n",
       "<style scoped>\n",
       "    .dataframe tbody tr th:only-of-type {\n",
       "        vertical-align: middle;\n",
       "    }\n",
       "\n",
       "    .dataframe tbody tr th {\n",
       "        vertical-align: top;\n",
       "    }\n",
       "\n",
       "    .dataframe thead th {\n",
       "        text-align: right;\n",
       "    }\n",
       "</style>\n",
       "<table border=\"1\" class=\"dataframe\">\n",
       "  <thead>\n",
       "    <tr style=\"text-align: right;\">\n",
       "      <th></th>\n",
       "      <th>experiment_name</th>\n",
       "      <th>num_tokens</th>\n",
       "      <th>num_phrases</th>\n",
       "      <th>num_found</th>\n",
       "      <th>num_correct</th>\n",
       "      <th>accuracy</th>\n",
       "      <th>precision</th>\n",
       "      <th>recall</th>\n",
       "      <th>fb1</th>\n",
       "    </tr>\n",
       "  </thead>\n",
       "  <tbody>\n",
       "    <tr>\n",
       "      <th>0</th>\n",
       "      <td>experiment_001_naive_bayes_unigram</td>\n",
       "      <td>711</td>\n",
       "      <td>33</td>\n",
       "      <td>126</td>\n",
       "      <td>0</td>\n",
       "      <td>52.88</td>\n",
       "      <td>0.00</td>\n",
       "      <td>0.00</td>\n",
       "      <td>0.00</td>\n",
       "    </tr>\n",
       "    <tr>\n",
       "      <th>1</th>\n",
       "      <td>experiment_002_naive_bayes_pseudo_bigram_disho...</td>\n",
       "      <td>711</td>\n",
       "      <td>33</td>\n",
       "      <td>40</td>\n",
       "      <td>21</td>\n",
       "      <td>97.33</td>\n",
       "      <td>52.50</td>\n",
       "      <td>63.64</td>\n",
       "      <td>57.53</td>\n",
       "    </tr>\n",
       "    <tr>\n",
       "      <th>2</th>\n",
       "      <td>experiment_002_naive_bayes_pseudo_bigram_honest</td>\n",
       "      <td>711</td>\n",
       "      <td>33</td>\n",
       "      <td>33</td>\n",
       "      <td>19</td>\n",
       "      <td>84.39</td>\n",
       "      <td>57.58</td>\n",
       "      <td>57.58</td>\n",
       "      <td>57.58</td>\n",
       "    </tr>\n",
       "    <tr>\n",
       "      <th>3</th>\n",
       "      <td>experiment_003_maxent_pseudo_bigram</td>\n",
       "      <td>711</td>\n",
       "      <td>33</td>\n",
       "      <td>41</td>\n",
       "      <td>26</td>\n",
       "      <td>83.12</td>\n",
       "      <td>63.41</td>\n",
       "      <td>78.79</td>\n",
       "      <td>70.27</td>\n",
       "    </tr>\n",
       "    <tr>\n",
       "      <th>4</th>\n",
       "      <td>experiment_004_maxent_bigram</td>\n",
       "      <td>711</td>\n",
       "      <td>33</td>\n",
       "      <td>37</td>\n",
       "      <td>27</td>\n",
       "      <td>89.73</td>\n",
       "      <td>72.97</td>\n",
       "      <td>81.82</td>\n",
       "      <td>77.14</td>\n",
       "    </tr>\n",
       "    <tr>\n",
       "      <th>5</th>\n",
       "      <td>experiment_005_bri_nerda</td>\n",
       "      <td>242</td>\n",
       "      <td>13</td>\n",
       "      <td>16</td>\n",
       "      <td>10</td>\n",
       "      <td>96.28</td>\n",
       "      <td>62.50</td>\n",
       "      <td>76.92</td>\n",
       "      <td>68.97</td>\n",
       "    </tr>\n",
       "  </tbody>\n",
       "</table>\n",
       "</div>"
      ],
      "text/plain": [
       "                                     experiment_name  num_tokens  num_phrases  \\\n",
       "0                 experiment_001_naive_bayes_unigram         711           33   \n",
       "1  experiment_002_naive_bayes_pseudo_bigram_disho...         711           33   \n",
       "2    experiment_002_naive_bayes_pseudo_bigram_honest         711           33   \n",
       "3                experiment_003_maxent_pseudo_bigram         711           33   \n",
       "4                       experiment_004_maxent_bigram         711           33   \n",
       "5                           experiment_005_bri_nerda         242           13   \n",
       "\n",
       "   num_found  num_correct  accuracy  precision  recall    fb1  \n",
       "0        126            0     52.88       0.00    0.00   0.00  \n",
       "1         40           21     97.33      52.50   63.64  57.53  \n",
       "2         33           19     84.39      57.58   57.58  57.58  \n",
       "3         41           26     83.12      63.41   78.79  70.27  \n",
       "4         37           27     89.73      72.97   81.82  77.14  \n",
       "5         16           10     96.28      62.50   76.92  68.97  "
      ]
     },
     "execution_count": 8,
     "metadata": {},
     "output_type": "execute_result"
    }
   ],
   "source": [
    "df"
   ]
  },
  {
   "cell_type": "code",
   "execution_count": 9,
   "id": "cbf4e92c",
   "metadata": {},
   "outputs": [
    {
     "data": {
      "text/html": [
       "<div>\n",
       "<style scoped>\n",
       "    .dataframe tbody tr th:only-of-type {\n",
       "        vertical-align: middle;\n",
       "    }\n",
       "\n",
       "    .dataframe tbody tr th {\n",
       "        vertical-align: top;\n",
       "    }\n",
       "\n",
       "    .dataframe thead th {\n",
       "        text-align: right;\n",
       "    }\n",
       "</style>\n",
       "<table border=\"1\" class=\"dataframe\">\n",
       "  <thead>\n",
       "    <tr style=\"text-align: right;\">\n",
       "      <th></th>\n",
       "      <th>experiment_name</th>\n",
       "      <th>variable</th>\n",
       "      <th>value</th>\n",
       "    </tr>\n",
       "  </thead>\n",
       "  <tbody>\n",
       "    <tr>\n",
       "      <th>0</th>\n",
       "      <td>experiment_001_naive_bayes_unigram</td>\n",
       "      <td>precision</td>\n",
       "      <td>0.00</td>\n",
       "    </tr>\n",
       "    <tr>\n",
       "      <th>1</th>\n",
       "      <td>experiment_002_naive_bayes_pseudo_bigram_disho...</td>\n",
       "      <td>precision</td>\n",
       "      <td>52.50</td>\n",
       "    </tr>\n",
       "    <tr>\n",
       "      <th>2</th>\n",
       "      <td>experiment_002_naive_bayes_pseudo_bigram_honest</td>\n",
       "      <td>precision</td>\n",
       "      <td>57.58</td>\n",
       "    </tr>\n",
       "    <tr>\n",
       "      <th>3</th>\n",
       "      <td>experiment_003_maxent_pseudo_bigram</td>\n",
       "      <td>precision</td>\n",
       "      <td>63.41</td>\n",
       "    </tr>\n",
       "    <tr>\n",
       "      <th>4</th>\n",
       "      <td>experiment_004_maxent_bigram</td>\n",
       "      <td>precision</td>\n",
       "      <td>72.97</td>\n",
       "    </tr>\n",
       "    <tr>\n",
       "      <th>5</th>\n",
       "      <td>experiment_005_bri_nerda</td>\n",
       "      <td>precision</td>\n",
       "      <td>62.50</td>\n",
       "    </tr>\n",
       "    <tr>\n",
       "      <th>6</th>\n",
       "      <td>experiment_001_naive_bayes_unigram</td>\n",
       "      <td>recall</td>\n",
       "      <td>0.00</td>\n",
       "    </tr>\n",
       "    <tr>\n",
       "      <th>7</th>\n",
       "      <td>experiment_002_naive_bayes_pseudo_bigram_disho...</td>\n",
       "      <td>recall</td>\n",
       "      <td>63.64</td>\n",
       "    </tr>\n",
       "    <tr>\n",
       "      <th>8</th>\n",
       "      <td>experiment_002_naive_bayes_pseudo_bigram_honest</td>\n",
       "      <td>recall</td>\n",
       "      <td>57.58</td>\n",
       "    </tr>\n",
       "    <tr>\n",
       "      <th>9</th>\n",
       "      <td>experiment_003_maxent_pseudo_bigram</td>\n",
       "      <td>recall</td>\n",
       "      <td>78.79</td>\n",
       "    </tr>\n",
       "    <tr>\n",
       "      <th>10</th>\n",
       "      <td>experiment_004_maxent_bigram</td>\n",
       "      <td>recall</td>\n",
       "      <td>81.82</td>\n",
       "    </tr>\n",
       "    <tr>\n",
       "      <th>11</th>\n",
       "      <td>experiment_005_bri_nerda</td>\n",
       "      <td>recall</td>\n",
       "      <td>76.92</td>\n",
       "    </tr>\n",
       "    <tr>\n",
       "      <th>12</th>\n",
       "      <td>experiment_001_naive_bayes_unigram</td>\n",
       "      <td>fb1</td>\n",
       "      <td>0.00</td>\n",
       "    </tr>\n",
       "    <tr>\n",
       "      <th>13</th>\n",
       "      <td>experiment_002_naive_bayes_pseudo_bigram_disho...</td>\n",
       "      <td>fb1</td>\n",
       "      <td>57.53</td>\n",
       "    </tr>\n",
       "    <tr>\n",
       "      <th>14</th>\n",
       "      <td>experiment_002_naive_bayes_pseudo_bigram_honest</td>\n",
       "      <td>fb1</td>\n",
       "      <td>57.58</td>\n",
       "    </tr>\n",
       "    <tr>\n",
       "      <th>15</th>\n",
       "      <td>experiment_003_maxent_pseudo_bigram</td>\n",
       "      <td>fb1</td>\n",
       "      <td>70.27</td>\n",
       "    </tr>\n",
       "    <tr>\n",
       "      <th>16</th>\n",
       "      <td>experiment_004_maxent_bigram</td>\n",
       "      <td>fb1</td>\n",
       "      <td>77.14</td>\n",
       "    </tr>\n",
       "    <tr>\n",
       "      <th>17</th>\n",
       "      <td>experiment_005_bri_nerda</td>\n",
       "      <td>fb1</td>\n",
       "      <td>68.97</td>\n",
       "    </tr>\n",
       "  </tbody>\n",
       "</table>\n",
       "</div>"
      ],
      "text/plain": [
       "                                      experiment_name   variable  value\n",
       "0                  experiment_001_naive_bayes_unigram  precision   0.00\n",
       "1   experiment_002_naive_bayes_pseudo_bigram_disho...  precision  52.50\n",
       "2     experiment_002_naive_bayes_pseudo_bigram_honest  precision  57.58\n",
       "3                 experiment_003_maxent_pseudo_bigram  precision  63.41\n",
       "4                        experiment_004_maxent_bigram  precision  72.97\n",
       "5                            experiment_005_bri_nerda  precision  62.50\n",
       "6                  experiment_001_naive_bayes_unigram     recall   0.00\n",
       "7   experiment_002_naive_bayes_pseudo_bigram_disho...     recall  63.64\n",
       "8     experiment_002_naive_bayes_pseudo_bigram_honest     recall  57.58\n",
       "9                 experiment_003_maxent_pseudo_bigram     recall  78.79\n",
       "10                       experiment_004_maxent_bigram     recall  81.82\n",
       "11                           experiment_005_bri_nerda     recall  76.92\n",
       "12                 experiment_001_naive_bayes_unigram        fb1   0.00\n",
       "13  experiment_002_naive_bayes_pseudo_bigram_disho...        fb1  57.53\n",
       "14    experiment_002_naive_bayes_pseudo_bigram_honest        fb1  57.58\n",
       "15                experiment_003_maxent_pseudo_bigram        fb1  70.27\n",
       "16                       experiment_004_maxent_bigram        fb1  77.14\n",
       "17                           experiment_005_bri_nerda        fb1  68.97"
      ]
     },
     "execution_count": 9,
     "metadata": {},
     "output_type": "execute_result"
    }
   ],
   "source": [
    "df.melt(id_vars=['experiment_name'], value_vars=[\"precision\", \"recall\", \"fb1\"])"
   ]
  },
  {
   "cell_type": "code",
   "execution_count": 10,
   "id": "f0389c94",
   "metadata": {},
   "outputs": [],
   "source": [
    "import seaborn as sbn"
   ]
  },
  {
   "cell_type": "code",
   "execution_count": 11,
   "id": "b387a4d1",
   "metadata": {},
   "outputs": [
    {
     "data": {
      "text/plain": [
       "<AxesSubplot:xlabel='value', ylabel='experiment_name'>"
      ]
     },
     "execution_count": 11,
     "metadata": {},
     "output_type": "execute_result"
    },
    {
     "data": {
      "image/png": "[encoded data removed]",
      "text/plain": [
       "<Figure size 432x288 with 1 Axes>"
      ]
     },
     "metadata": {
      "needs_background": "light"
     },
     "output_type": "display_data"
    }
   ],
   "source": [
    "sbn.barplot(\n",
    "    data=df.melt(id_vars=['experiment_name'], value_vars=[\"accuracy\",\"precision\", \"recall\", \"fb1\"]), \n",
    "    y=\"experiment_name\", \n",
    "    x=\"value\", \n",
    "    hue=\"variable\"\n",
    ")"
   ]
  }
 ],
 "metadata": {
  "kernelspec": {
   "display_name": "Python 3 (ipykernel)",
   "language": "python",
   "name": "python3"
  },
  "language_info": {
   "codemirror_mode": {
    "name": "ipython",
    "version": 3
   },
   "file_extension": ".py",
   "mimetype": "text/x-python",
   "name": "python",
   "nbconvert_exporter": "python",
   "pygments_lexer": "ipython3",
   "version": "3.8.11"
  }
 },
 "nbformat": 4,
 "nbformat_minor": 5
}
